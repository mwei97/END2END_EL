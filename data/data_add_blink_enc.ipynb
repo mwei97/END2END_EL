{
 "cells": [
  {
   "cell_type": "code",
   "execution_count": 11,
   "id": "romantic-screening",
   "metadata": {},
   "outputs": [],
   "source": [
    "import torch\n",
    "import numpy as np\n",
    "import json"
   ]
  },
  {
   "cell_type": "code",
   "execution_count": 12,
   "id": "breeding-wisdom",
   "metadata": {},
   "outputs": [],
   "source": [
    "from tqdm import tqdm"
   ]
  },
  {
   "cell_type": "code",
   "execution_count": 13,
   "id": "trained-ballot",
   "metadata": {},
   "outputs": [],
   "source": [
    "all_entity_encs = torch.load('../models/all_entities_large.t7')"
   ]
  },
  {
   "cell_type": "code",
   "execution_count": 14,
   "id": "identical-aruba",
   "metadata": {},
   "outputs": [],
   "source": [
    "def get_blink_enc(fpath, split):\n",
    "    fname = fpath+split+'.jsonl'\n",
    "    samples = []\n",
    "    with open(fname) as f:\n",
    "        for line in f.readlines():\n",
    "            samples.append(json.loads(line))\n",
    "    \n",
    "    samples_encs = {}\n",
    "    for sample in tqdm(samples):\n",
    "        sample_id = sample['id']\n",
    "        label_ids = sample['label_id']\n",
    "        cand_encs = []\n",
    "        for label_id in label_ids:\n",
    "            cand_encs.append(all_entity_encs[label_id].tolist())\n",
    "        samples_encs[sample_id] = cand_encs\n",
    "        assert len(cand_encs)==len(label_ids)\n",
    "    \n",
    "    return samples_encs"
   ]
  },
  {
   "cell_type": "markdown",
   "id": "emotional-better",
   "metadata": {},
   "source": [
    "## Cand enc based on BERT tokenizer"
   ]
  },
  {
   "cell_type": "code",
   "execution_count": 29,
   "id": "exempt-wyoming",
   "metadata": {},
   "outputs": [
    {
     "name": "stderr",
     "output_type": "stream",
     "text": [
      "100%|██████████| 946/946 [00:00<00:00, 966.04it/s] \n",
      "100%|██████████| 216/216 [00:00<00:00, 1003.12it/s]\n",
      "100%|██████████| 231/231 [00:00<00:00, 1074.61it/s]\n"
     ]
    }
   ],
   "source": [
    "fpath = 'AIDA-YAGO2-wiki_content-NEW/tokenized/'\n",
    "splits = ['train', 'dev', 'test']\n",
    "\n",
    "for split in splits:\n",
    "    samples_encs = get_blink_enc(fpath, split)\n",
    "    enc_fname = f'{split}_enc.json'\n",
    "    with open(fpath+enc_fname, 'w') as f:\n",
    "        json.dump(samples_encs, f)"
   ]
  },
  {
   "cell_type": "code",
   "execution_count": 2,
   "id": "signal-semiconductor",
   "metadata": {},
   "outputs": [],
   "source": [
    "with open('AIDA-YAGO2-wiki_content-NEW/tokenized/dev_enc.json') as f:\n",
    "    golden_cand_enc = json.load(f)"
   ]
  },
  {
   "cell_type": "code",
   "execution_count": 3,
   "id": "aware-wellington",
   "metadata": {},
   "outputs": [
    {
     "data": {
      "text/plain": [
       "216"
      ]
     },
     "execution_count": 3,
     "metadata": {},
     "output_type": "execute_result"
    }
   ],
   "source": [
    "len(golden_cand_enc)"
   ]
  },
  {
   "cell_type": "code",
   "execution_count": 4,
   "id": "gorgeous-myrtle",
   "metadata": {},
   "outputs": [],
   "source": [
    "sample_id = '1127testa NATO'"
   ]
  },
  {
   "cell_type": "code",
   "execution_count": 6,
   "id": "indoor-polymer",
   "metadata": {},
   "outputs": [
    {
     "data": {
      "text/plain": [
       "21"
      ]
     },
     "execution_count": 6,
     "metadata": {},
     "output_type": "execute_result"
    }
   ],
   "source": [
    "len(golden_cand_enc[sample_id])"
   ]
  },
  {
   "cell_type": "code",
   "execution_count": 7,
   "id": "visible-blogger",
   "metadata": {},
   "outputs": [],
   "source": [
    "fname = 'AIDA-YAGO2-wiki_content-NEW/tokenized/dev.jsonl'\n",
    "samples = []\n",
    "with open(fname) as f:\n",
    "    for line in f.readlines():\n",
    "        samples.append(json.loads(line))"
   ]
  },
  {
   "cell_type": "code",
   "execution_count": 9,
   "id": "mechanical-algorithm",
   "metadata": {},
   "outputs": [
    {
     "data": {
      "text/plain": [
       "{'id': '1127testa NATO',\n",
       " 'text': 'NATO monitors Moslem move towards tense village . MAHALA , Bosnia 1996-08-31 NATO said it was closely monitoring the movement of about 75 Moslem men towards the village of Mahala in Bosnia \\'s Serb republic on Saturday , two days after a violent confrontation with Serbs . \" I have to report this morning that we have in fact received reports ... that up to 75 Moslem men are believed to be approaching Mahala , \" NATO spokesman Lieutenant-Colonel Max Marriner said in Sarajevo . Marriner said that NATO troops had set up a checkpoint on the road between Tuzla and Mahala to establish the identities and intentions of the men headed towards the village . Mahala is a Moslem village on Bosnian Serb republic territory . Moslems were driven from the village during the 43- month Bosnian war and most of their houses were destroyed . Some Moslems began returning to rebuild their properties earlier in the week . Fights and shooting broke out between the Moslems and Serb police on Thursday and NATO troops finally brought restored order . A Reuters reporter who entered Mahala on Saturday morning found it tranquil but NATO troops and U.N. police were seen on the ground and NATO helicopters flew overhead .',\n",
       " 'mentions': [[0, 4],\n",
       "  [14, 20],\n",
       "  [77, 81],\n",
       "  [138, 144],\n",
       "  [192, 196],\n",
       "  [264, 269],\n",
       "  [360, 366],\n",
       "  [413, 417],\n",
       "  [468, 476],\n",
       "  [498, 502],\n",
       "  [554, 559],\n",
       "  [666, 672],\n",
       "  [718, 725],\n",
       "  [835, 842],\n",
       "  [951, 958],\n",
       "  [963, 967],\n",
       "  [991, 995],\n",
       "  [1038, 1045],\n",
       "  [1116, 1120],\n",
       "  [1132, 1136],\n",
       "  [1172, 1176]],\n",
       " 'tokenized_text_ids': [10079,\n",
       "  15410,\n",
       "  9587,\n",
       "  25016,\n",
       "  2213,\n",
       "  2693,\n",
       "  2875,\n",
       "  9049,\n",
       "  2352,\n",
       "  1012,\n",
       "  27913,\n",
       "  2050,\n",
       "  1010,\n",
       "  9562,\n",
       "  2727,\n",
       "  1011,\n",
       "  5511,\n",
       "  1011,\n",
       "  2861,\n",
       "  10079,\n",
       "  2056,\n",
       "  2009,\n",
       "  2001,\n",
       "  4876,\n",
       "  8822,\n",
       "  1996,\n",
       "  2929,\n",
       "  1997,\n",
       "  2055,\n",
       "  4293,\n",
       "  9587,\n",
       "  25016,\n",
       "  2213,\n",
       "  2273,\n",
       "  2875,\n",
       "  1996,\n",
       "  2352,\n",
       "  1997,\n",
       "  27913,\n",
       "  2050,\n",
       "  1999,\n",
       "  9562,\n",
       "  1005,\n",
       "  1055,\n",
       "  20180,\n",
       "  3072,\n",
       "  2006,\n",
       "  5095,\n",
       "  1010,\n",
       "  2048,\n",
       "  2420,\n",
       "  2044,\n",
       "  1037,\n",
       "  6355,\n",
       "  13111,\n",
       "  2007,\n",
       "  16757,\n",
       "  1012,\n",
       "  1000,\n",
       "  1045,\n",
       "  2031,\n",
       "  2000,\n",
       "  3189,\n",
       "  2023,\n",
       "  2851,\n",
       "  2008,\n",
       "  2057,\n",
       "  2031,\n",
       "  1999,\n",
       "  2755,\n",
       "  2363,\n",
       "  4311,\n",
       "  1012,\n",
       "  1012,\n",
       "  1012,\n",
       "  2008,\n",
       "  2039,\n",
       "  2000,\n",
       "  4293,\n",
       "  9587,\n",
       "  25016,\n",
       "  2213,\n",
       "  2273,\n",
       "  2024,\n",
       "  3373,\n",
       "  2000,\n",
       "  2022,\n",
       "  8455,\n",
       "  27913,\n",
       "  2050,\n",
       "  1010,\n",
       "  1000,\n",
       "  10079,\n",
       "  14056,\n",
       "  3812,\n",
       "  1011,\n",
       "  4327,\n",
       "  4098,\n",
       "  9388,\n",
       "  11467,\n",
       "  2099,\n",
       "  2056,\n",
       "  1999,\n",
       "  18354,\n",
       "  1012,\n",
       "  9388,\n",
       "  11467,\n",
       "  2099,\n",
       "  2056,\n",
       "  2008,\n",
       "  10079,\n",
       "  3629,\n",
       "  2018,\n",
       "  2275,\n",
       "  2039,\n",
       "  1037,\n",
       "  26520,\n",
       "  2006,\n",
       "  1996,\n",
       "  2346,\n",
       "  2090,\n",
       "  10722,\n",
       "  2480,\n",
       "  2721,\n",
       "  1998,\n",
       "  27913,\n",
       "  2050,\n",
       "  2000,\n",
       "  5323,\n",
       "  1996,\n",
       "  15702,\n",
       "  1998,\n",
       "  11174,\n",
       "  1997,\n",
       "  1996,\n",
       "  2273,\n",
       "  3753,\n",
       "  2875,\n",
       "  1996,\n",
       "  2352,\n",
       "  1012,\n",
       "  27913,\n",
       "  2050,\n",
       "  2003,\n",
       "  1037,\n",
       "  9587,\n",
       "  25016,\n",
       "  2213,\n",
       "  2352,\n",
       "  2006,\n",
       "  16163,\n",
       "  20180,\n",
       "  3072,\n",
       "  3700,\n",
       "  1012,\n",
       "  9587,\n",
       "  25016,\n",
       "  5244,\n",
       "  2020,\n",
       "  5533,\n",
       "  2013,\n",
       "  1996,\n",
       "  2352,\n",
       "  2076,\n",
       "  1996,\n",
       "  4724,\n",
       "  1011,\n",
       "  3204,\n",
       "  16163,\n",
       "  2162,\n",
       "  1998,\n",
       "  2087,\n",
       "  1997,\n",
       "  2037,\n",
       "  3506,\n",
       "  2020,\n",
       "  3908,\n",
       "  1012,\n",
       "  2070,\n",
       "  9587,\n",
       "  25016,\n",
       "  5244,\n",
       "  2211,\n",
       "  4192,\n",
       "  2000,\n",
       "  14591,\n",
       "  2037,\n",
       "  5144,\n",
       "  3041,\n",
       "  1999,\n",
       "  1996,\n",
       "  2733,\n",
       "  1012,\n",
       "  9590,\n",
       "  1998,\n",
       "  5008,\n",
       "  3631,\n",
       "  2041,\n",
       "  2090,\n",
       "  1996,\n",
       "  9587,\n",
       "  25016,\n",
       "  5244,\n",
       "  1998,\n",
       "  20180,\n",
       "  2610,\n",
       "  2006,\n",
       "  9432,\n",
       "  1998,\n",
       "  10079,\n",
       "  3629,\n",
       "  2633,\n",
       "  2716,\n",
       "  5854,\n",
       "  2344,\n",
       "  1012,\n",
       "  1037,\n",
       "  26665,\n",
       "  6398,\n",
       "  2040,\n",
       "  3133,\n",
       "  27913,\n",
       "  2050,\n",
       "  2006,\n",
       "  5095,\n",
       "  2851,\n",
       "  2179,\n",
       "  2009,\n",
       "  25283,\n",
       "  26147,\n",
       "  2021,\n",
       "  10079,\n",
       "  3629,\n",
       "  1998,\n",
       "  1057,\n",
       "  1012,\n",
       "  1050,\n",
       "  1012,\n",
       "  2610,\n",
       "  2020,\n",
       "  2464,\n",
       "  2006,\n",
       "  1996,\n",
       "  2598,\n",
       "  1998,\n",
       "  10079,\n",
       "  12400,\n",
       "  5520,\n",
       "  8964,\n",
       "  1012],\n",
       " 'tokenized_mention_idxs': [[0, 1],\n",
       "  [2, 5],\n",
       "  [19, 20],\n",
       "  [30, 33],\n",
       "  [44, 45],\n",
       "  [56, 57],\n",
       "  [79, 82],\n",
       "  [92, 93],\n",
       "  [103, 104],\n",
       "  [110, 111],\n",
       "  [121, 124],\n",
       "  [145, 148],\n",
       "  [155, 158],\n",
       "  [179, 182],\n",
       "  [200, 203],\n",
       "  [204, 205],\n",
       "  [209, 210],\n",
       "  [217, 218],\n",
       "  [231, 232],\n",
       "  [234, 238],\n",
       "  [245, 246]],\n",
       " 'label_id': [10340,\n",
       "  1128140,\n",
       "  10340,\n",
       "  1128140,\n",
       "  14584,\n",
       "  29964,\n",
       "  1128140,\n",
       "  10340,\n",
       "  13238,\n",
       "  10340,\n",
       "  210184,\n",
       "  1128140,\n",
       "  1128140,\n",
       "  1128140,\n",
       "  1128140,\n",
       "  14584,\n",
       "  10340,\n",
       "  2350980,\n",
       "  10340,\n",
       "  15763,\n",
       "  10340],\n",
       " 'entity': ['NATO',\n",
       "  'Islam',\n",
       "  'NATO',\n",
       "  'Islam',\n",
       "  'Serbia',\n",
       "  'Serbs',\n",
       "  'Islam',\n",
       "  'NATO',\n",
       "  'Sarajevo',\n",
       "  'NATO',\n",
       "  'Tuzla',\n",
       "  'Islam',\n",
       "  'Islam',\n",
       "  'Islam',\n",
       "  'Islam',\n",
       "  'Serbia',\n",
       "  'NATO',\n",
       "  'Reuters',\n",
       "  'NATO',\n",
       "  'United Nations',\n",
       "  'NATO'],\n",
       " 'label': [\"the north atlantic treaty organization ( nato , french organisation du traité de l ' atlantique nord , otan ) , also called the north atlantic alliance , is an intergovernmental military alliance between 30 european and north american countries . the organization implements the north atlantic treaty that was signed on 4 april 1949 . nato constitutes a system of collective defence whereby its independent member states agree to mutual defence in response to an attack by any external party . nato ' s headquarters are located in evere , brussels , belgium , while the headquarters of allied command operations is near mons , belgium . since its founding , the admission of new member states has increased the alliance from the original 12 countries to\",\n",
       "  \"islam ( arabic اَلْإِسْلَامُ\\u200e , romanized al-’islām , [ɪsˈlaːm] ( listen ) submission [to god] ) is an abrahamic monotheistic religion teaching that muhammad is a messenger of god . it is the world ' s second-largest religion with 1 . 8 billion followers or 24 . 1% of the world ' s population , known as muslims . muslims make up a majority of the population in 49 countries . islam teaches that god ( allah ) is one , merciful , all-powerful , and unique , and has guided humanity through prophets , revealed scriptures , and natural signs . the primary scriptures of islam are the quran , believed to be the verbatim word of god , as well as the teachings and actions (\",\n",
       "  \"the north atlantic treaty organization ( nato , french organisation du traité de l ' atlantique nord , otan ) , also called the north atlantic alliance , is an intergovernmental military alliance between 30 european and north american countries . the organization implements the north atlantic treaty that was signed on 4 april 1949 . nato constitutes a system of collective defence whereby its independent member states agree to mutual defence in response to an attack by any external party . nato ' s headquarters are located in evere , brussels , belgium , while the headquarters of allied command operations is near mons , belgium . since its founding , the admission of new member states has increased the alliance from the original 12 countries to\",\n",
       "  \"islam ( arabic اَلْإِسْلَامُ\\u200e , romanized al-’islām , [ɪsˈlaːm] ( listen ) submission [to god] ) is an abrahamic monotheistic religion teaching that muhammad is a messenger of god . it is the world ' s second-largest religion with 1 . 8 billion followers or 24 . 1% of the world ' s population , known as muslims . muslims make up a majority of the population in 49 countries . islam teaches that god ( allah ) is one , merciful , all-powerful , and unique , and has guided humanity through prophets , revealed scriptures , and natural signs . the primary scriptures of islam are the quran , believed to be the verbatim word of god , as well as the teachings and actions (\",\n",
       "  \"serbia ( serbian србија , romanized srbija , pronounced [sř̩bija] ) , officially the republic of serbia ( serbian република србија , romanized republika srbija , pronounced [repǔblika sř̩bija] ) , is a landlocked country situated at the crossroads of central and southeast europe in the southern pannonian plain and the central balkans . it borders hungary to the north , romania to the northeast , bulgaria to the southeast , north macedonia to the south , croatia and bosnia and herzegovina to the west , and montenegro to the southwest . the country claims a border with albania through the disputed territory of kosovo . serbia ' s population numbers approximately seven million . its capital , belgrade , ranks among the largest and oldest citiеs in\",\n",
       "  'the serbs ( serbian срби , srbi , pronounced [sr̩̂bi] ) are a nation and south slavic ethnic group native to southeastern europe . the majority of serbs live in their nation state of serbia , as well as in bosnia and herzegovina , croatia , montenegro and kosovo . they also form significant minorities in north macedonia and slovenia . there is a large serb diaspora in western europe , and outside europe and there are significant communities in north america and australia . the serbs share many cultural traits with the rest of the peoples of southeast europe . they are predominantly eastern orthodox christians by religion . the serbian language is official in serbia , co-official in kosovo and bosnia and herzegovina , and is',\n",
       "  \"islam ( arabic اَلْإِسْلَامُ\\u200e , romanized al-’islām , [ɪsˈlaːm] ( listen ) submission [to god] ) is an abrahamic monotheistic religion teaching that muhammad is a messenger of god . it is the world ' s second-largest religion with 1 . 8 billion followers or 24 . 1% of the world ' s population , known as muslims . muslims make up a majority of the population in 49 countries . islam teaches that god ( allah ) is one , merciful , all-powerful , and unique , and has guided humanity through prophets , revealed scriptures , and natural signs . the primary scriptures of islam are the quran , believed to be the verbatim word of god , as well as the teachings and actions (\",\n",
       "  \"the north atlantic treaty organization ( nato , french organisation du traité de l ' atlantique nord , otan ) , also called the north atlantic alliance , is an intergovernmental military alliance between 30 european and north american countries . the organization implements the north atlantic treaty that was signed on 4 april 1949 . nato constitutes a system of collective defence whereby its independent member states agree to mutual defence in response to an attack by any external party . nato ' s headquarters are located in evere , brussels , belgium , while the headquarters of allied command operations is near mons , belgium . since its founding , the admission of new member states has increased the alliance from the original 12 countries to\",\n",
       "  'sarajevo ( sarr-ə-yay-voh serbo-croatian cyrillic сарајево , bosnian pronunciation [sǎrajeʋo] ( listen ) see names in other languages ) is the capital and largest city of bosnia and herzegovina , with a population of 275 , 569 in its administrative limits . the sarajevo metropolitan area including sarajevo canton , east sarajevo and nearby municipalities is home to 555 , 210 inhabitants . located within the greater sarajevo valley of bosnia , it is surrounded by the dinaric alps and situated along the miljacka river in the heart of the balkans . sarajevo is the political , financial , social and cultural center of bosnia and herzegovina and a prominent center of culture in the balkans , with region-wide influence in entertainment , media , fashion and the',\n",
       "  \"the north atlantic treaty organization ( nato , french organisation du traité de l ' atlantique nord , otan ) , also called the north atlantic alliance , is an intergovernmental military alliance between 30 european and north american countries . the organization implements the north atlantic treaty that was signed on 4 april 1949 . nato constitutes a system of collective defence whereby its independent member states agree to mutual defence in response to an attack by any external party . nato ' s headquarters are located in evere , brussels , belgium , while the headquarters of allied command operations is near mons , belgium . since its founding , the admission of new member states has increased the alliance from the original 12 countries to\",\n",
       "  \"tuzla ( serbo-croatian pronunciation [tûzla] ( listen ) ) is the third-largest city of bosnia and herzegovina and the administrative center of tuzla canton of the federation of bosnia and herzegovina . as of 2013 , it has a population of 110 , 979 inhabitants . tuzla is the economic , cultural , educational , health and tourist centre of northeast bosnia . it is an educational center and is home to two universities . it is also the main industrial machine and one of the leading economic strongholds of bosnia with a wide and varied industrial sector including an expanding service sector thanks to its salt lake tourism . the city of tuzla is home to europe ' s only salt lake as part of its central\",\n",
       "  \"islam ( arabic اَلْإِسْلَامُ\\u200e , romanized al-’islām , [ɪsˈlaːm] ( listen ) submission [to god] ) is an abrahamic monotheistic religion teaching that muhammad is a messenger of god . it is the world ' s second-largest religion with 1 . 8 billion followers or 24 . 1% of the world ' s population , known as muslims . muslims make up a majority of the population in 49 countries . islam teaches that god ( allah ) is one , merciful , all-powerful , and unique , and has guided humanity through prophets , revealed scriptures , and natural signs . the primary scriptures of islam are the quran , believed to be the verbatim word of god , as well as the teachings and actions (\",\n",
       "  \"islam ( arabic اَلْإِسْلَامُ\\u200e , romanized al-’islām , [ɪsˈlaːm] ( listen ) submission [to god] ) is an abrahamic monotheistic religion teaching that muhammad is a messenger of god . it is the world ' s second-largest religion with 1 . 8 billion followers or 24 . 1% of the world ' s population , known as muslims . muslims make up a majority of the population in 49 countries . islam teaches that god ( allah ) is one , merciful , all-powerful , and unique , and has guided humanity through prophets , revealed scriptures , and natural signs . the primary scriptures of islam are the quran , believed to be the verbatim word of god , as well as the teachings and actions (\",\n",
       "  \"islam ( arabic اَلْإِسْلَامُ\\u200e , romanized al-’islām , [ɪsˈlaːm] ( listen ) submission [to god] ) is an abrahamic monotheistic religion teaching that muhammad is a messenger of god . it is the world ' s second-largest religion with 1 . 8 billion followers or 24 . 1% of the world ' s population , known as muslims . muslims make up a majority of the population in 49 countries . islam teaches that god ( allah ) is one , merciful , all-powerful , and unique , and has guided humanity through prophets , revealed scriptures , and natural signs . the primary scriptures of islam are the quran , believed to be the verbatim word of god , as well as the teachings and actions (\",\n",
       "  \"islam ( arabic اَلْإِسْلَامُ\\u200e , romanized al-’islām , [ɪsˈlaːm] ( listen ) submission [to god] ) is an abrahamic monotheistic religion teaching that muhammad is a messenger of god . it is the world ' s second-largest religion with 1 . 8 billion followers or 24 . 1% of the world ' s population , known as muslims . muslims make up a majority of the population in 49 countries . islam teaches that god ( allah ) is one , merciful , all-powerful , and unique , and has guided humanity through prophets , revealed scriptures , and natural signs . the primary scriptures of islam are the quran , believed to be the verbatim word of god , as well as the teachings and actions (\",\n",
       "  \"serbia ( serbian србија , romanized srbija , pronounced [sř̩bija] ) , officially the republic of serbia ( serbian република србија , romanized republika srbija , pronounced [repǔblika sř̩bija] ) , is a landlocked country situated at the crossroads of central and southeast europe in the southern pannonian plain and the central balkans . it borders hungary to the north , romania to the northeast , bulgaria to the southeast , north macedonia to the south , croatia and bosnia and herzegovina to the west , and montenegro to the southwest . the country claims a border with albania through the disputed territory of kosovo . serbia ' s population numbers approximately seven million . its capital , belgrade , ranks among the largest and oldest citiеs in\",\n",
       "  \"the north atlantic treaty organization ( nato , french organisation du traité de l ' atlantique nord , otan ) , also called the north atlantic alliance , is an intergovernmental military alliance between 30 european and north american countries . the organization implements the north atlantic treaty that was signed on 4 april 1949 . nato constitutes a system of collective defence whereby its independent member states agree to mutual defence in response to an attack by any external party . nato ' s headquarters are located in evere , brussels , belgium , while the headquarters of allied command operations is near mons , belgium . since its founding , the admission of new member states has increased the alliance from the original 12 countries to\",\n",
       "  'reuters ( ( listen ) ) is an international news organization owned by thomson reuters . it employs some 2 , 500 journalists and 600 photojournalists in about 200 locations worldwide . reuters is one of the largest news agencies in the world . the agency was established in london in 1851 by the german-born paul reuter . it was acquired by the thomson corporation in 2008 and now makes up the media division of thomson reuters . == history == === 19th century === paul reuter worked at a book-publishing firm in berlin and was involved in distributing radical pamphlets at the beginning of the revolutions in 1848 . these publications brought much attention to reuter , who in 1850 developed a prototype news service in aachen',\n",
       "  \"the north atlantic treaty organization ( nato , french organisation du traité de l ' atlantique nord , otan ) , also called the north atlantic alliance , is an intergovernmental military alliance between 30 european and north american countries . the organization implements the north atlantic treaty that was signed on 4 april 1949 . nato constitutes a system of collective defence whereby its independent member states agree to mutual defence in response to an attack by any external party . nato ' s headquarters are located in evere , brussels , belgium , while the headquarters of allied command operations is near mons , belgium . since its founding , the admission of new member states has increased the alliance from the original 12 countries to\",\n",
       "  'the united nations ( un ) is an intergovernmental organization that aims to maintain international peace and security , develop friendly relations among nations , achieve international cooperation , and be a centre for harmonizing the actions of nations . it is the largest , most familiar , most internationally represented and most powerful intergovernmental organization in the world . the un is headquartered on international territory in new york city , with its other main offices in geneva , nairobi , vienna , and the hague . the un was established after world war ii with the aim of preventing future wars , succeeding the ineffective league of nations . on 25 april 1945 , 50 governments met in san francisco for a conference and started drafting',\n",
       "  \"the north atlantic treaty organization ( nato , french organisation du traité de l ' atlantique nord , otan ) , also called the north atlantic alliance , is an intergovernmental military alliance between 30 european and north american countries . the organization implements the north atlantic treaty that was signed on 4 april 1949 . nato constitutes a system of collective defence whereby its independent member states agree to mutual defence in response to an attack by any external party . nato ' s headquarters are located in evere , brussels , belgium , while the headquarters of allied command operations is near mons , belgium . since its founding , the admission of new member states has increased the alliance from the original 12 countries to\"]}"
      ]
     },
     "execution_count": 9,
     "metadata": {},
     "output_type": "execute_result"
    }
   ],
   "source": [
    "sample = samples[-44:][8]\n",
    "sample"
   ]
  },
  {
   "cell_type": "code",
   "execution_count": 10,
   "id": "dominican-riverside",
   "metadata": {},
   "outputs": [
    {
     "data": {
      "text/plain": [
       "21"
      ]
     },
     "execution_count": 10,
     "metadata": {},
     "output_type": "execute_result"
    }
   ],
   "source": [
    "len(sample['mentions'])"
   ]
  },
  {
   "cell_type": "markdown",
   "id": "accomplished-parker",
   "metadata": {},
   "source": [
    "## Cand enc based on longformer enc"
   ]
  },
  {
   "cell_type": "code",
   "execution_count": 15,
   "id": "buried-validation",
   "metadata": {},
   "outputs": [
    {
     "name": "stderr",
     "output_type": "stream",
     "text": [
      "100%|██████████| 946/946 [00:01<00:00, 933.53it/s]\n",
      "100%|██████████| 216/216 [00:00<00:00, 1013.14it/s]\n",
      "100%|██████████| 231/231 [00:00<00:00, 1185.32it/s]\n"
     ]
    }
   ],
   "source": [
    "fpath = 'AIDA-YAGO2_longformer/tokenized/'\n",
    "splits = ['train', 'dev', 'test']\n",
    "\n",
    "for split in splits:\n",
    "    samples_encs = get_blink_enc(fpath, split)\n",
    "    enc_fname = f'{split}_enc.json'\n",
    "    with open(fpath+enc_fname, 'w') as f:\n",
    "        json.dump(samples_encs, f)"
   ]
  },
  {
   "cell_type": "code",
   "execution_count": 16,
   "id": "color-share",
   "metadata": {},
   "outputs": [],
   "source": [
    "with open('AIDA-YAGO2_longformer/tokenized/dev_enc.json') as f:\n",
    "    golden_cand_enc = json.load(f)"
   ]
  },
  {
   "cell_type": "code",
   "execution_count": 17,
   "id": "copyrighted-disclaimer",
   "metadata": {},
   "outputs": [
    {
     "data": {
      "text/plain": [
       "216"
      ]
     },
     "execution_count": 17,
     "metadata": {},
     "output_type": "execute_result"
    }
   ],
   "source": [
    "len(golden_cand_enc)"
   ]
  },
  {
   "cell_type": "code",
   "execution_count": 18,
   "id": "multiple-suicide",
   "metadata": {},
   "outputs": [
    {
     "data": {
      "text/plain": [
       "27"
      ]
     },
     "execution_count": 18,
     "metadata": {},
     "output_type": "execute_result"
    }
   ],
   "source": [
    "len(golden_cand_enc[sample_id])"
   ]
  },
  {
   "cell_type": "code",
   "execution_count": null,
   "id": "bridal-going",
   "metadata": {},
   "outputs": [],
   "source": []
  }
 ],
 "metadata": {
  "kernelspec": {
   "display_name": "Python 3",
   "language": "python",
   "name": "python3"
  },
  "language_info": {
   "codemirror_mode": {
    "name": "ipython",
    "version": 3
   },
   "file_extension": ".py",
   "mimetype": "text/x-python",
   "name": "python",
   "nbconvert_exporter": "python",
   "pygments_lexer": "ipython3",
   "version": "3.7.10"
  }
 },
 "nbformat": 4,
 "nbformat_minor": 5
}
