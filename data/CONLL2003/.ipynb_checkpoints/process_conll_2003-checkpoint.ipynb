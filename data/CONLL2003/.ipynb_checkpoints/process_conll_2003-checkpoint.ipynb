{
 "cells": [
  {
   "cell_type": "code",
   "execution_count": 44,
   "metadata": {},
   "outputs": [],
   "source": [
    "from tqdm import tqdm\n",
    "import numpy as np\n",
    "import json"
   ]
  },
  {
   "cell_type": "code",
   "execution_count": 39,
   "metadata": {},
   "outputs": [],
   "source": [
    "def process_conll(fname):\n",
    "    with open(fname) as f:\n",
    "        lines = f.readlines()\n",
    "    \n",
    "    processed_samples = {}\n",
    "    i = -1\n",
    "    \n",
    "    for line in tqdm(lines):\n",
    "        if '-DOCSTART-' in line:\n",
    "            i += 1\n",
    "            processed_samples[i] = {'text':[], 'tags':[], 'global_attn_mask':[]}\n",
    "        else:\n",
    "            line = line.split(' ')\n",
    "            if line[0]=='\\n':\n",
    "                continue\n",
    "            else:\n",
    "                processed_samples[i]['text'].append(line[0])\n",
    "                ner_tag = line[-1][:-1] # end with \\n\n",
    "                processed_samples[i]['tags'].append(ner_tag)\n",
    "                mask = 0 if ner_tag=='O' else 1\n",
    "                processed_samples[i]['global_attn_mask'].append(mask)\n",
    "    \n",
    "    # sanity check\n",
    "    for k in processed_samples:\n",
    "        sample = processed_samples[k]\n",
    "        assert len(sample['text']) == len(sample['tags']) == len(sample['global_attn_mask'])\n",
    "        assert sum(np.array(sample['global_attn_mask'])) == (sum(np.array(sample['tags'])!='O'))\n",
    "    \n",
    "    return processed_samples        "
   ]
  },
  {
   "cell_type": "code",
   "execution_count": 46,
   "metadata": {},
   "outputs": [
    {
     "name": "stderr",
     "output_type": "stream",
     "text": [
      "100%|██████████| 219553/219553 [00:00<00:00, 476117.42it/s]\n",
      "100%|██████████| 50349/50349 [00:00<00:00, 364879.95it/s]\n",
      "100%|██████████| 55043/55043 [00:00<00:00, 496904.02it/s]\n"
     ]
    }
   ],
   "source": [
    "splits = ['train', 'test', 'valid']\n",
    "\n",
    "for split in splits:\n",
    "    fname = split+'.txt'\n",
    "    processed_samples = process_conll(fname)\n",
    "    \n",
    "    with open(split+'.jsonl', 'w+') as fout:\n",
    "        for k in processed_samples:\n",
    "            json.dump(processed_samples[k], fout)\n",
    "            fout.write(\"\\n\")    "
   ]
  },
  {
   "cell_type": "code",
   "execution_count": null,
   "metadata": {},
   "outputs": [],
   "source": []
  }
 ],
 "metadata": {
  "kernelspec": {
   "display_name": "Python 3",
   "language": "python",
   "name": "python3"
  },
  "language_info": {
   "codemirror_mode": {
    "name": "ipython",
    "version": 3
   },
   "file_extension": ".py",
   "mimetype": "text/x-python",
   "name": "python",
   "nbconvert_exporter": "python",
   "pygments_lexer": "ipython3",
   "version": "3.7.4"
  }
 },
 "nbformat": 4,
 "nbformat_minor": 2
}
