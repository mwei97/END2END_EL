{
 "cells": [
  {
   "cell_type": "code",
   "execution_count": 1,
   "metadata": {},
   "outputs": [],
   "source": [
    "import json\n",
    "from tqdm import tqdm\n",
    "import numpy as np\n",
    "\n",
    "import os\n",
    "import string\n",
    "\n",
    "from pytorch_transformers.tokenization_bert import BertTokenizer"
   ]
  },
  {
   "cell_type": "code",
   "execution_count": 2,
   "metadata": {},
   "outputs": [],
   "source": [
    "file_lines = open('sample_elq_dev.jsonl').readlines()\n",
    "sample_elq = {}\n",
    "for line in file_lines:\n",
    "    line_json = json.loads(line)\n",
    "    sample_elq[line_json['id']] = line_json"
   ]
  },
  {
   "cell_type": "code",
   "execution_count": 11,
   "metadata": {},
   "outputs": [
    {
     "data": {
      "text/plain": [
       "dict_keys(['947testa CRICKET', '948testa CRICKET', '949testa CRICKET', '950testa SOCCER', '951testa BASKETBALL', '952testa SOCCER', '953testa SOCCER', '954testa BOXING', '955testa SQUASH', '956testa SOCCER', '957testa BASEBALL', '958testa TENNIS', '959testa BASEBALL', '960testa BASEBALL', '961testa TENNIS', '962testa NFL', '963testa GOLF', '964testa GOLF', '965testa SOCCER', '966testa ATHLETICS', '967testa ATHLETICS', '968testa SOCCER', '969testa ATHLETICS', '970testa SOCCER', '971testa SOCCER', '972testa CRICKET', '973testa CRICKET', '974testa CRICKET', '975testa CRICKET', '976testa ROMANIA', '977testa POLISH', '978testa Canada', '979testa Jones', '980testa NYMEX', '981testa U.S.', '982testa Douglas', '983testa UK', '984testa Iraqi', '985testa Late', '986testa Boxing-Bruno', '987testa Soccer', '988testa Nigerian', '989testa East', '990testa Chad', '991testa Yeltsin', '992testa Lebed', '993testa Ruling', '994testa Belgrade', '995testa Top', '996testa Tajik', '997testa Polish', '998testa Yeltsin', '999testa Lebed', '1000testa Russian', '1001testa Cofinec', '1002testa Romania', '1003testa Potent', '1004testa Assault', '1005testa Cambodian', '1006testa Far', '1007testa Tripoli', '1008testa Twilight', '1009testa Brisk', '1010testa Mexican', '1011testa U.S.', '1012testa Boatmen', '1013testa U.S.', '1014testa U.S.', '1015testa Dole', '1016testa Titanic', '1017testa Bonn', '1018testa France', '1019testa German', '1020testa Missing', '1021testa Indian', '1022testa MARTELA', '1023testa Canadian', '1024testa Aw', '1025testa IPO', '1026testa Syria', '1027testa Egypt', '1028testa Israel', '1029testa PRESALE', '1030testa Consumer', '1031testa World', '1032testa Pirelli', '1033testa Dutch', '1034testa OSCE', '1035testa Dutch', '1036testa Armenians', '1037testa Sombre', '1038testa Ericsson', '1039testa HK', '1040testa PRESS', '1041testa Jeans', '1042testa Apic', '1043testa Bootleg', '1044testa Singapore', '1045testa Arafat', '1046testa U.N.', '1047testa SOCCER', '1048testa RUGBY', '1049testa SOCCER', '1050testa SOCCER', '1051testa SOCCER', '1052testa GOLF', '1053testa SOCCER', '1054testa CRICKET', '1055testa CYCLING', '1056testa CRICKET', '1057testa CYCLING', '1058testa CRICKET', '1059testa BASEBALL', '1060testa CRICKET', '1061testa GOLF', '1062testa RUGBY', '1063testa SOCCER', '1064testa SOCCER', '1065testa RUGBY', '1066testa SOCCER', '1067testa SOCCER', '1068testa SOCCER', '1069testa SOCCER', '1070testa CRICKET', '1071testa MOTOR', '1072testa SOCCER', '1073testa RUGBY', '1074testa RUGBY', '1075testa SOCCER', '1076testa SOCCER', '1077testa SOCCER', '1078testa SOCCER', '1079testa BASKETBALL', '1080testa BASKETBALLSOCCER', '1081testa SOCCER', '1082testa SOCCER', '1083testa SOCCER', '1084testa BASKETBALL', '1085testa SOCCER', '1086testa SOCCER', '1087testa SOCCER', '1088testa SQUASH', '1089testa SQUASH', '1090testa GOLF', '1091testa TENNIS', '1092testa TENNIS', '1093testa TENNIS', '1094testa SOCCER', '1095testa BASEBALL', '1096testa BASEBALL', '1097testa BASEBALL', '1098testa TENNIS', '1099testa BOXING', '1100testa SOCCER', '1101testa BOXING', '1102testa SOCCER', '1103testa SOCCER', '1104testa SOCCER', '1105testa SOCCER', '1106testa SOCCER', '1107testa SOCCER', '1108testa SOCCER', '1109testa BOXING', '1110testa SOCCER', '1111testa BOXING', '1112testa HORSE', '1113testa SOCCER', '1114testa SOCCER', '1115testa SOCCER', '1116testa Paper', '1117testa Reuters', '1118testa Escaped', '1119testa Scottish', '1120testa Britain', '1121testa Seven', '1122testa Opposition', '1123testa Two', '1124testa Baseball-Results', '1125testa S.', '1126testa Rwandan', '1127testa NATO', '1128testa Chechens', '1129testa Polish', '1130testa Three', '1131testa Cuban', '1132testa U.N.', '1133testa Mexican', '1134testa China', '1135testa Manila', '1136testa Burma', '1137testa Dow', '1138testa N.', '1139testa Chinese', '1140testa China', '1141testa Hong', '1142testa China', '1143testa Iraqi', '1144testa Ceasefire', '1145testa KPD', '1146testa Fire', '1147testa Iraq', '1148testa U.N.', '1149testa PRESS', '1150testa Automakers', '1151testa Two', '1152testa Car', '1153testa U.S.', '1154testa Two', '1155testa Algeria', '1156testa Iran', '1157testa Italy', '1158testa Nato', '1159testa More', '1160testa No', '1161testa Controversial', '1162testa Dhaka'])"
      ]
     },
     "execution_count": 11,
     "metadata": {},
     "output_type": "execute_result"
    }
   ],
   "source": [
    "sample_elq.keys()"
   ]
  },
  {
   "cell_type": "code",
   "execution_count": 12,
   "metadata": {},
   "outputs": [
    {
     "data": {
      "text/plain": [
       "{'id': '947testa CRICKET',\n",
       " 'text': \"CRICKET - LEICESTERSHIRE TAKE OVER AT TOP AFTER INNINGS VICTORY . LONDON 1996-08-30 West Indian all-rounder Phil Simmons took four for 38 on Friday as Leicestershire beat Somerset by an innings and 39 runs in two days to take over at the head of the county championship . Their stay on top , though , may be short-lived as title rivals Essex , Derbyshire and Surrey all closed in on victory while Kent made up for lost time in their rain-affected match against Nottinghamshire . After bowling Somerset out for 83 on the opening morning at Grace Road , Leicestershire extended their first innings by 94 runs before being bowled out for 296 with England discard Andy Caddick taking three for 83 . Trailing by 213 , Somerset got a solid start to their second innings before Simmons stepped in to bundle them out for 174 . Essex , however , look certain to regain their top spot after Nasser Hussain and Peter Such gave them a firm grip on their match against Yorkshire at Headingley . Hussain , considered surplus to England 's one-day requirements , struck 158 , his first championship century of the season , as Essex reached 372 and took a first innings lead of 82 . By the close Yorkshire had turned that into a 37-run advantage but off-spinner Such had scuttled their hopes , taking four for 24 in 48 balls and leaving them hanging on 119 for five and praying for rain . At the Oval , Surrey captain Chris Lewis , another man dumped by England , continued to silence his critics as he followed his four for 45 on Thursday with 80 not out on Friday in the match against Warwickshire . He was well backed by England hopeful Mark Butcher who made 70 as Surrey closed on 429 for seven , a lead of 234 . Derbyshire kept up the hunt for their first championship title since 1936 by reducing Worcestershire to 133 for five in their second innings , still 100 runs away from avoiding an innings defeat . Australian Tom Moody took six for 82 but Chris Adams , 123 , and Tim O'Gorman , 109 , took Derbyshire to 471 and a first innings lead of 233 . After the frustration of seeing the opening day of their match badly affected by the weather , Kent stepped up a gear to dismiss Nottinghamshire for 214 . They were held up by a gritty 84 from Paul Johnson but ex-England fast bowler Martin McCague took four for 55 . By stumps Kent had reached 108 for three .\",\n",
       " 'mentions': [[10, 24],\n",
       "  [66, 72],\n",
       "  [84, 95],\n",
       "  [108, 120],\n",
       "  [151, 165],\n",
       "  [171, 179],\n",
       "  [336, 341],\n",
       "  [344, 354],\n",
       "  [359, 365],\n",
       "  [397, 401],\n",
       "  [461, 476],\n",
       "  [493, 501],\n",
       "  [539, 549],\n",
       "  [552, 566],\n",
       "  [644, 651],\n",
       "  [660, 672],\n",
       "  [713, 721],\n",
       "  [771, 778],\n",
       "  [819, 824],\n",
       "  [881, 895],\n",
       "  [900, 910],\n",
       "  [956, 965],\n",
       "  [969, 979],\n",
       "  [982, 989],\n",
       "  [1014, 1021],\n",
       "  [1111, 1116],\n",
       "  [1180, 1189],\n",
       "  [1246, 1250],\n",
       "  [1380, 1384],\n",
       "  [1387, 1393],\n",
       "  [1402, 1413],\n",
       "  [1438, 1445],\n",
       "  [1571, 1583],\n",
       "  [1608, 1615],\n",
       "  [1624, 1636],\n",
       "  [1652, 1658],\n",
       "  [1701, 1711],\n",
       "  [1787, 1801],\n",
       "  [1898, 1908],\n",
       "  [1909, 1918],\n",
       "  [1939, 1950],\n",
       "  [1989, 1999],\n",
       "  [2136, 2140],\n",
       "  [2170, 2185],\n",
       "  [2234, 2246],\n",
       "  [2274, 2288],\n",
       "  [2318, 2322]],\n",
       " 'label_id': [461053,\n",
       "  8672,\n",
       "  776698,\n",
       "  634737,\n",
       "  461053,\n",
       "  461023,\n",
       "  461036,\n",
       "  503021,\n",
       "  273341,\n",
       "  368096,\n",
       "  250313,\n",
       "  461023,\n",
       "  656078,\n",
       "  461053,\n",
       "  271290,\n",
       "  300214,\n",
       "  461023,\n",
       "  634737,\n",
       "  461036,\n",
       "  254124,\n",
       "  682735,\n",
       "  293297,\n",
       "  183452,\n",
       "  254124,\n",
       "  271290,\n",
       "  461036,\n",
       "  293297,\n",
       "  682735,\n",
       "  166858,\n",
       "  273341,\n",
       "  483493,\n",
       "  271290,\n",
       "  250291,\n",
       "  271290,\n",
       "  300210,\n",
       "  273341,\n",
       "  503021,\n",
       "  363285,\n",
       "  959820,\n",
       "  324228,\n",
       "  523829,\n",
       "  503021,\n",
       "  368096,\n",
       "  250313,\n",
       "  1174958,\n",
       "  831548,\n",
       "  368096],\n",
       " 'wikidata_id': ['Q3229147',\n",
       "  'Q84',\n",
       "  'Q912881',\n",
       "  'Q6827914',\n",
       "  'Q3229147',\n",
       "  'Q3489807',\n",
       "  'Q3058749',\n",
       "  'Q1788018',\n",
       "  'Q2725632',\n",
       "  'Q3195284',\n",
       "  'Q3344790',\n",
       "  'Q3489807',\n",
       "  'Q5591359',\n",
       "  'Q3229147',\n",
       "  'Q1321565',\n",
       "  'Q4756511',\n",
       "  'Q3489807',\n",
       "  'Q6827914',\n",
       "  'Q3058749',\n",
       "  'Q3520174',\n",
       "  'Q6836032',\n",
       "  'Q3177444',\n",
       "  'Q1592322',\n",
       "  'Q3520174',\n",
       "  'Q1321565',\n",
       "  'Q3058749',\n",
       "  'Q3177444',\n",
       "  'Q6836032',\n",
       "  'Q1155836',\n",
       "  'Q2725632',\n",
       "  'Q5107238',\n",
       "  'Q1321565',\n",
       "  'Q2725705',\n",
       "  'Q1321565',\n",
       "  'Q6766945',\n",
       "  'Q2725632',\n",
       "  'Q1788018',\n",
       "  'Q2725667',\n",
       "  'Q408',\n",
       "  'Q3537597',\n",
       "  'Q5105685',\n",
       "  'Q1788018',\n",
       "  'Q3195284',\n",
       "  'Q3344790',\n",
       "  'Q7151607',\n",
       "  'Q6584108',\n",
       "  'Q3195284'],\n",
       " 'entity': ['Leicestershire County Cricket Club',\n",
       "  'London',\n",
       "  'West Indies cricket team',\n",
       "  'Phil Simmons',\n",
       "  'Leicestershire County Cricket Club',\n",
       "  'Somerset County Cricket Club',\n",
       "  'Essex County Cricket Club',\n",
       "  'Derbyshire County Cricket Club',\n",
       "  'Surrey County Cricket Club',\n",
       "  'Kent County Cricket Club',\n",
       "  'Nottinghamshire County Cricket Club',\n",
       "  'Somerset County Cricket Club',\n",
       "  'Grace Road',\n",
       "  'Leicestershire County Cricket Club',\n",
       "  'England cricket team',\n",
       "  'Andrew Caddick',\n",
       "  'Somerset County Cricket Club',\n",
       "  'Phil Simmons',\n",
       "  'Essex County Cricket Club',\n",
       "  'Nasser Hussain',\n",
       "  'Peter Such',\n",
       "  'Yorkshire County Cricket Club',\n",
       "  'Headingley',\n",
       "  'Nasser Hussain',\n",
       "  'England cricket team',\n",
       "  'Essex County Cricket Club',\n",
       "  'Yorkshire County Cricket Club',\n",
       "  'Peter Such',\n",
       "  'The Oval',\n",
       "  'Surrey County Cricket Club',\n",
       "  'Chris Lewis (cricketer)',\n",
       "  'England cricket team',\n",
       "  'Warwickshire County Cricket Club',\n",
       "  'England cricket team',\n",
       "  'Mark Butcher',\n",
       "  'Surrey County Cricket Club',\n",
       "  'Derbyshire County Cricket Club',\n",
       "  'Worcestershire County Cricket Club',\n",
       "  'Australia',\n",
       "  'Tom Moody',\n",
       "  'Chris Adams (cricketer)',\n",
       "  'Derbyshire County Cricket Club',\n",
       "  'Kent County Cricket Club',\n",
       "  'Nottinghamshire County Cricket Club',\n",
       "  'Paul Johnson (cricketer)',\n",
       "  'Martin McCague',\n",
       "  'Kent County Cricket Club'],\n",
       " 'label': [\" Leicestershire County Cricket Club is one of eighteen first-class county clubs within the domestic cricket structure of England and Wales. It represents the historic county of Leicestershire. It has also been representative of the county of Rutland. The club's limited overs team is called the Leicestershire Foxes. Founded in 1879, the club had minor county status until 1894 when it was promoted to first-class status pending its entry into the County Championship in 1895. Since then, Leicestershire have played in every top-level domestic cricket competition in England.  The club is based at Grace Road, Leicester and have also played home games at Aylestone Road in Leicester, at Hinckley, Loughborough, Melton Mowbray, Ashby-de-la-Zouch and in Coalville inside the traditional county boundaries; and at Uppingham and Oakham over the border in Rutland.  In limited overs cricket, the kit colours are red with black trim in the Clydesdale Bank 40 and black with red trim in the T20. The shirt sponsors are Oval Insurance Broking with Highcross Leicester (shopping centre) on the top reverse side of the shirt.  Leicestershire are in the second division of the County Championship and in Group C of the Pro40 one day league. They recently finished bottom of the County Championship for the sixth time since the introduction of two divisions. Their best showing in recent years has been in the Twenty20 Cup with the Foxes winning the trophy three times in eight years.   + 1 Bain Hogg Trophy – 2nd 11 one day competition – 1996 \",\n",
       "  ' London is the capital of and largest city in England and the United Kingdom, with the largest municipal population in the European Union. Standing on the River Thames in the south-east of England, at the head of its estuary leading to the North Sea, London has been a major settlement for two millennia. \"Londinium\" was founded by the Romans. The City of London, London\\'s ancient core − an area of just and colloquially known as the Square Mile − retains boundaries that follow closely its medieval limits. The City of Westminster is also an Inner London borough holding city status. Greater London is governed by the Mayor of London and the London Assembly.  London is considered to be one of the world\\'s most important global cities and has been termed the world\\'s most powerful, most desirable, most influential, most visited, most expensive, innovative, sustainable, most investment friendly, most popular for work, and the most vegetarian-friendly city in the world. London exerts a considerable impact upon the arts, commerce, education, entertainment, fashion, finance, healthcare, media, professional services, research and development, tourism and transportation. London ranks 26 out of 300 major cities for economic performance. It is one of the largest financial centres and has either the fifth or sixth largest metropolitan area GDP. It is the most-visited city as measured by international arrivals and has the busiest city airport system as measured by passenger traffic. It is the leading investment destination, hosting more international retailers and ultra high-net-worth individuals than any other city. London\\'s universities',\n",
       "  \" The West Indies cricket team is a multi-national men's cricket team representing the Anglophone Caribbean region and administered by Cricket West Indies. The players on this composite team are selected from a chain of fifteen Caribbean territories, which are parts of several different countries and dependencies. , the West Indies cricket team is ranked ninth in the world in Tests, ninth in One-Day Internationals (ODIs) and seventh in Twenty20 Internationals (T20Is) in the official International Cricket Council (ICC) rankings.  From the mid-late 1970s to the early 1990s, the West Indies team was the strongest in the world in both Test and One Day International cricket. A number of cricketers who were considered among the best in the world have hailed from the West Indies: Sir Garfield Sobers, Lance Gibbs, George Headley, Brian Lara, Clive Lloyd, Malcolm Marshall, Sir Andy Roberts, Rohan Kanhai, Sir Frank Worrell, Sir Clyde Walcott, Sir Everton Weekes, Sir Curtly Ambrose, Michael Holding, Courtney Walsh, Joel Garner, Sir Viv Richards and Sir Wes Hall have all been inducted into the ICC Hall of Fame.  The West Indies have won the ICC Cricket World Cup twice (1975 and 1979), the ICC World Twenty20 twice (2012 and 2016), the ICC Champions Trophy once (2004), the ICC Under 19 Cricket World Cup once (2016), and have also finished as runners-up in the Cricket World Cup (1983), the Under 19 Cricket World Cup (2004), and the ICC Champions Trophy (2006). The West Indies appeared in three consecutive World Cup finals (1975, 1979 and 1983),\",\n",
       "  ' Philip Verant Simmons (born 18 April 1963) is a Trinidadian cricket coach and former cricketer who was an all-rounder played as an opening batsman, a medium-fast bowler and a slip fielder. He also served as the coach of the West Indies cricket team. ',\n",
       "  \" Leicestershire County Cricket Club is one of eighteen first-class county clubs within the domestic cricket structure of England and Wales. It represents the historic county of Leicestershire. It has also been representative of the county of Rutland. The club's limited overs team is called the Leicestershire Foxes. Founded in 1879, the club had minor county status until 1894 when it was promoted to first-class status pending its entry into the County Championship in 1895. Since then, Leicestershire have played in every top-level domestic cricket competition in England.  The club is based at Grace Road, Leicester and have also played home games at Aylestone Road in Leicester, at Hinckley, Loughborough, Melton Mowbray, Ashby-de-la-Zouch and in Coalville inside the traditional county boundaries; and at Uppingham and Oakham over the border in Rutland.  In limited overs cricket, the kit colours are red with black trim in the Clydesdale Bank 40 and black with red trim in the T20. The shirt sponsors are Oval Insurance Broking with Highcross Leicester (shopping centre) on the top reverse side of the shirt.  Leicestershire are in the second division of the County Championship and in Group C of the Pro40 one day league. They recently finished bottom of the County Championship for the sixth time since the introduction of two divisions. Their best showing in recent years has been in the Twenty20 Cup with the Foxes winning the trophy three times in eight years.   + 1 Bain Hogg Trophy – 2nd 11 one day competition – 1996 \",\n",
       "  ' Somerset County Cricket Club is one of eighteen first-class county clubs within the domestic cricket structure of England and Wales. It represents the historic county of Somerset. Founded in 1875, Somerset was initially regarded as a minor county until official first-class status was gained in 1895. Somerset has competed in the County Championship since 1891 and has subsequently played in every top-level domestic cricket competition in England. The club\\'s limited overs team was formerly named the Somerset Sabres, but is now known only as Somerset.  Somerset\\'s early history is complicated by arguments about its status. It is generally regarded as a minor county from its foundation in 1875 until 1890, apart from the 1882 to 1885 seasons when it is considered by substantial sources to have been an \"unofficial\" first-class team, holding important match status. There are, however, two matches involving W. G. Grace in 1879 and 1881 which are considered first-class by some authorities. In 1891, Somerset joined the County Championship, which had just become an officially recognised competition, and has important match status from 1891 to 1894. The county is classified as an \"official\" first-class team from 1895 by Marylebone Cricket Club (MCC) and the County Championship clubs; classified as a List A team since the beginning of limited overs cricket in 1963; and classified as a senior Twenty20 team since 2003.  Somerset have never won the County Championship, their highest finish being second, which they achieved in 2001, 2010, 2012, 2016 and 2018. The club won their first silverware in',\n",
       "  ' Essex County Cricket Club is one of eighteen first-class county clubs within the domestic cricket structure of England and Wales. It represents the historic county of Essex. Founded in 1876, the club had minor county status until 1894 when it was promoted to first-class status pending its entry into the County Championship in 1895, since when the team has played in every top-level domestic cricket competition in England. Essex play most of their home games at the County Cricket Ground, Chelmsford and some at Lower Castle Park in Colchester. The club has formerly used other venues throughout the county including Valentines Park in Ilford, Leyton Cricket Ground, the Gidea Park Sports Ground in Romford, and Garon Park and Southchurch Park, both in Southend. Its limited overs team is called the Essex Eagles, whose team colours are all-blue.   ',\n",
       "  \" Derbyshire County Cricket Club is one of eighteen first-class county clubs within the domestic cricket structure of England and Wales. It represents the historic county of Derbyshire. Its limited overs team is called the Derbyshire Falcons in reference to the famous peregrine falcon which nests on the Derby Cathedral (it was previously called the Derbyshire Scorpions until 2005 and the Phantoms until 2010). Founded in 1870, the club held first-class status from its first match in 1871 until 1887. Because of poor performances and lack of fixtures in some seasons, Derbyshire then lost its status for seven seasons until it was invited into the County Championship in 1895. Derbyshire is also classified as a List A team since the beginning of limited overs cricket in 1963; and classified as a senior Twenty20 team since 2003. In recent years the club has enjoyed record attendances with over 24,000 people watching their home Twenty20 fixtures in 2017 – a record for a single campaign. The local derby versus Yorkshire at Chesterfield now regularly sells out in advance.  The club is based at the County Cricket Ground, previously known as the Racecourse Ground, in the city of Derby. In 2006, for the first time in eight years, county cricket returned to Queen's Park, Chesterfield with a County Championship game against Worcestershire and a one-day league game against Surrey. Other first-class cricket grounds used in the past have included Buxton, Saltergate in Chesterfield, Heanor, Ilkeston, Blackwell, Abbeydale Park in Sheffield, Wirksworth and Burton upon Trent (3 grounds), which\",\n",
       "  ' Surrey County Cricket Club is one of eighteen first-class county clubs within the domestic cricket structure of England and Wales. It represents the historic county of Surrey and also South London. The club was founded in 1845 but teams representing the county have played top-class cricket since the early 18th century and the club has always held first-class status. Surrey have competed in the County Championship since the official start of the competition in 1890 and have played in every top-level domestic cricket competition in England.  Home of the club since its foundation in 1845 has been The Oval (currently known officially as the \\'Kia Oval\\' following a sponsorship deal with the Kia Motors company), in the Kennington area of Lambeth in South London. The club also has an \\'out ground\\' at Woodbridge Road, Guildford, where some home games are played each season.  Surrey have had three notable periods of great success in their history. The club was unofficially proclaimed as \"Champion County\" seven times during the 1850s; it won the title eight times from 1887 to 1895 (including the first ever officially constituted County Championship in 1890); and seven consecutive outright titles from 1952 to 1958 inclusive following a shared title (with Lancashire) in 1950. In 1955, Surrey won 23 of its 28 county matches, a record that still stands and can no longer be bettered as counties have played fewer than 23 matches each season since 1993. To date, Surrey has won the official County Championship 19 times outright (and shared',\n",
       "  \" Kent County Cricket Club is one of the eighteen first-class county clubs within the domestic cricket structure of England and Wales. It represents the historic county of Kent. The club was first founded in 1842 but teams representing the county have played top-class cricket since the early 18th century and the club has always held first-class status. Kent have competed in the County Championship since the official start of the competition in 1890 and have played in every top-level domestic cricket competition in England. The club's limited overs team is called the Kent Spitfires after the Supermarine Spitfire.  The county has won the County Championship seven times, including one shared victory. Four wins came in the period between 1906 and 1913 with the other three coming during the 1970s when Kent also dominated one-day cricket cup competitions. A total of eleven one-day cricket cup victories include eight between 1967 and 1978, with the last trophy won by the club coming in the 2007 Twenty20 Cup.  The club plays most of its home matches at the St Lawrence Ground in Canterbury, which hosts Canterbury Cricket Week, the oldest cricket festival in England. It also plays some home matches at the County Cricket Ground, Beckenham and the Nevill Ground, Royal Tunbridge Wells which hosts Tunbridge Wells Cricket Week.  Kent also field a women's team in the Women's County Championship. The team has won the Championship a record seven times, most recently in 2016, and the Women's T20 title three times, most recently also in\",\n",
       "  \" Nottinghamshire County Cricket Club is one of eighteen first-class county clubs within the domestic cricket structure of England and Wales. It represents the historic county of Nottinghamshire. The club's limited overs team is called the Notts Outlaws. The county club was founded in 1841 but Nottinghamshire teams formed by earlier organisations, essentially the old Nottingham Cricket Club, had played top-class cricket since 1771 and the county club has always held first-class status. Nottinghamshire have competed in the County Championship since the official start of the competition in 1890 and have played in every top-level domestic cricket competition in England.  The club plays most of its home games at the Trent Bridge cricket ground in West Bridgford, Nottingham, which is also a venue for Test matches. The club has played matches at numerous other venues in the county. Their kit colours are dark green with a gold/yellow trim for the Natwest T20 Blast and more yellow dominant for the Royal London One Day Cup.   \",\n",
       "  ' Somerset County Cricket Club is one of eighteen first-class county clubs within the domestic cricket structure of England and Wales. It represents the historic county of Somerset. Founded in 1875, Somerset was initially regarded as a minor county until official first-class status was gained in 1895. Somerset has competed in the County Championship since 1891 and has subsequently played in every top-level domestic cricket competition in England. The club\\'s limited overs team was formerly named the Somerset Sabres, but is now known only as Somerset.  Somerset\\'s early history is complicated by arguments about its status. It is generally regarded as a minor county from its foundation in 1875 until 1890, apart from the 1882 to 1885 seasons when it is considered by substantial sources to have been an \"unofficial\" first-class team, holding important match status. There are, however, two matches involving W. G. Grace in 1879 and 1881 which are considered first-class by some authorities. In 1891, Somerset joined the County Championship, which had just become an officially recognised competition, and has important match status from 1891 to 1894. The county is classified as an \"official\" first-class team from 1895 by Marylebone Cricket Club (MCC) and the County Championship clubs; classified as a List A team since the beginning of limited overs cricket in 1963; and classified as a senior Twenty20 team since 2003.  Somerset have never won the County Championship, their highest finish being second, which they achieved in 2001, 2010, 2012, 2016 and 2018. The club won their first silverware in',\n",
       "  ' Grace Road, known for sponsorship reasons as the Fischer County Ground, Grace Road, is a cricket ground in Leicester, England. It is the home ground and administrative base of Leicestershire County Cricket Club. ',\n",
       "  \" Leicestershire County Cricket Club is one of eighteen first-class county clubs within the domestic cricket structure of England and Wales. It represents the historic county of Leicestershire. It has also been representative of the county of Rutland. The club's limited overs team is called the Leicestershire Foxes. Founded in 1879, the club had minor county status until 1894 when it was promoted to first-class status pending its entry into the County Championship in 1895. Since then, Leicestershire have played in every top-level domestic cricket competition in England.  The club is based at Grace Road, Leicester and have also played home games at Aylestone Road in Leicester, at Hinckley, Loughborough, Melton Mowbray, Ashby-de-la-Zouch and in Coalville inside the traditional county boundaries; and at Uppingham and Oakham over the border in Rutland.  In limited overs cricket, the kit colours are red with black trim in the Clydesdale Bank 40 and black with red trim in the T20. The shirt sponsors are Oval Insurance Broking with Highcross Leicester (shopping centre) on the top reverse side of the shirt.  Leicestershire are in the second division of the County Championship and in Group C of the Pro40 one day league. They recently finished bottom of the County Championship for the sixth time since the introduction of two divisions. Their best showing in recent years has been in the Twenty20 Cup with the Foxes winning the trophy three times in eight years.   + 1 Bain Hogg Trophy – 2nd 11 one day competition – 1996 \",\n",
       "  \" The England cricket team represents England and Wales in international cricket. Since 1997, it has been governed by the England and Wales Cricket Board (ECB), having been previously governed by Marylebone Cricket Club (the MCC) since 1903. England, as a founding nation, is a Full Member of the International Cricket Council (ICC) with Test, One Day International (ODI) and Twenty20 International (T20I) status. Until the 1990s, Scottish and Irish players also played for England as those countries were not yet ICC members in their own right.  England and Australia were the first teams to play a Test match (15–19 March 1877), and along with South Africa, these nations formed the Imperial Cricket Conference (the predecessor to today's International Cricket Council) on 15 June 1909. England and Australia also played the first ODI on 5 January 1971. England's first T20I was played on 13 June 2005, once more against Australia.  , England have played 1,011 Test matches, winning 366 and losing 300 (with 345 draws). In Test series against Australia, England play for The Ashes, one of the most famous trophies in all of sport, and they have won the urn on 32 occasions. England have also played 743 ODIs, winning 374. They have appeared in the final of the Cricket World Cup four times, winning once in 2019; they have also finished as runners-up in two ICC Champions Trophies (2004 and 2013). England have played 109 T20Is, winning 54. They won the ICC T20 World Cup in 2010, and were runners-up in 2016.\",\n",
       "  ' Andrew Richard Caddick (born 21 November 1968) is a former cricketer who played for England as a fast bowler in Tests and ODIs. At 6\\xa0ft 5in, Caddick was a successful bowler for England for a decade, taking 13 five-wicket hauls in Test matches. He spent his entire English domestic first-class cricket career at Somerset County Cricket Club, and then played one Minor Counties match for Wiltshire in 2009. ',\n",
       "  ' Somerset County Cricket Club is one of eighteen first-class county clubs within the domestic cricket structure of England and Wales. It represents the historic county of Somerset. Founded in 1875, Somerset was initially regarded as a minor county until official first-class status was gained in 1895. Somerset has competed in the County Championship since 1891 and has subsequently played in every top-level domestic cricket competition in England. The club\\'s limited overs team was formerly named the Somerset Sabres, but is now known only as Somerset.  Somerset\\'s early history is complicated by arguments about its status. It is generally regarded as a minor county from its foundation in 1875 until 1890, apart from the 1882 to 1885 seasons when it is considered by substantial sources to have been an \"unofficial\" first-class team, holding important match status. There are, however, two matches involving W. G. Grace in 1879 and 1881 which are considered first-class by some authorities. In 1891, Somerset joined the County Championship, which had just become an officially recognised competition, and has important match status from 1891 to 1894. The county is classified as an \"official\" first-class team from 1895 by Marylebone Cricket Club (MCC) and the County Championship clubs; classified as a List A team since the beginning of limited overs cricket in 1963; and classified as a senior Twenty20 team since 2003.  Somerset have never won the County Championship, their highest finish being second, which they achieved in 2001, 2010, 2012, 2016 and 2018. The club won their first silverware in',\n",
       "  ' Philip Verant Simmons (born 18 April 1963) is a Trinidadian cricket coach and former cricketer who was an all-rounder played as an opening batsman, a medium-fast bowler and a slip fielder. He also served as the coach of the West Indies cricket team. ',\n",
       "  ' Essex County Cricket Club is one of eighteen first-class county clubs within the domestic cricket structure of England and Wales. It represents the historic county of Essex. Founded in 1876, the club had minor county status until 1894 when it was promoted to first-class status pending its entry into the County Championship in 1895, since when the team has played in every top-level domestic cricket competition in England. Essex play most of their home games at the County Cricket Ground, Chelmsford and some at Lower Castle Park in Colchester. The club has formerly used other venues throughout the county including Valentines Park in Ilford, Leyton Cricket Ground, the Gidea Park Sports Ground in Romford, and Garon Park and Southchurch Park, both in Southend. Its limited overs team is called the Essex Eagles, whose team colours are all-blue.   ',\n",
       "  ' Nasser Hussain (born 28 March 1968) is a British cricket commentator and former cricketer who captained the England cricket team between 1999 and 2003, with his overall international career extending from 1990 to 2004. A pugnacious right-handed batsman, Hussain scored over 30,000 runs from more than 650 matches across all first-class and List-A cricket, including 62 centuries. His highest Test score of 207, scored in the first Test of the 1997 Ashes at Edgbaston, was described by \"Wisden\" as \"touched by genius\". He played 96 Test matches and 88 One Day International games in total. In Tests he scored 5764 runs, and he took 67 catches, fielding predominantly in the second slip and gully.  Born in Madras in India, Hussain was led into cricket by his father, and his family moved to England when Hussain was a young child. He joined Essex in 1987 after developing from a spin bowler to batsman while at school and playing for the various Essex youth teams, as the leg-spin of his youth deserted him. He was selected for England initially on the back of 990 runs scored for Essex in the County Championship of 1989, though injury and poor form would limit his international caps during the early 1990s to three Tests of a 1990 West Indies tour, and four further matches in 1993. Only in 1996 did he become a regular England Test cricketer.  Although regarded as somewhat of a firebrand in his youth, Hussain succeeded Alec Stewart as captain in 1999 and led England',\n",
       "  ' Peter Mark Such (born 12 June 1964 in Helensburgh, Dunbartonshire, Scotland) is an English cricketer. A hard-working county off-spinner, Such was brought into the Test arena in 1993 as a replacement for John Emburey but, despite taking 6 for 67 on debut and being the highest wicket taker for England in the series only played an initial four Tests before having to wait 5 years before his next appearance.  Such enjoyed a 19-year first-class career including stints at Nottinghamshire and Leicestershire before joining Essex in 1990. It was at Essex where he gained most success although he is perhaps best remembered for hitting the winning boundary in the second day of a Natwest Trophy semi final against Glamorgan in 1997 when play had been suspended the day before due to bad light with Mark Ilott and Robert Croft having an on field confrontation seen on BBC television. Although not noted for his batting, in 1999, playing in his final Test at Old Trafford, he made the second-longest duck in Test history, from 52 balls, against New Zealand, and earned a standing ovation.  He is currently playing for the first team of Totteridge Millhillians in the Hertfordshire Division 1 and is also a coach for the younger players.   ',\n",
       "  \" Yorkshire County Cricket Club is one of eighteen first-class county clubs within the domestic cricket structure of England and Wales. It represents the historic county of Yorkshire. The club's limited overs team is called the Yorkshire Vikings. Yorkshire teams formed by earlier organisations, essentially the old Sheffield Cricket Club, played top-class cricket from the 18th century and the county club has always held first-class status. Yorkshire have competed in the County Championship since the official start of the competition in 1890 and have played in every top-level domestic cricket competition in England.  Yorkshire are the most successful team in English cricketing history with 33 County Championship titles, including one shared. The team's most recent Championship title was in 2015, following on from that achieved in 2014. The club's limited-overs kit colours are Cambridge blue, Oxford blue, and yellow with Mazars as the main sponsor. Yorkshire play most of their home games at the Headingley Cricket Ground in Leeds. Another significant venue is at North Marine Road Ground, Scarborough, which houses the annual Scarborough Festival. Yorkshire has historically used other locations including Bramall Lane, Sheffield, which was the club's original home; Horton Park Avenue, Bradford; St George's Road Cricket Ground, Harrogate; The Circle, Kingston upon Hull; and Acklam Park, Middlesbrough. The team drew an average attendance of 8,417 to seven home games in 2015.    \",\n",
       "  ' Headingley is a suburb of Leeds, West Yorkshire, England, approximately two miles out of the city centre, to the north west along the A660 road. Headingley is the location of the Beckett Park campus of Leeds Beckett University and Headingley Stadium.  The vast majority of the area sits in the Headingley and Hyde Park ward of Leeds City Council and Leeds North West parliamentary constituency. ',\n",
       "  ' Nasser Hussain (born 28 March 1968) is a British cricket commentator and former cricketer who captained the England cricket team between 1999 and 2003, with his overall international career extending from 1990 to 2004. A pugnacious right-handed batsman, Hussain scored over 30,000 runs from more than 650 matches across all first-class and List-A cricket, including 62 centuries. His highest Test score of 207, scored in the first Test of the 1997 Ashes at Edgbaston, was described by \"Wisden\" as \"touched by genius\". He played 96 Test matches and 88 One Day International games in total. In Tests he scored 5764 runs, and he took 67 catches, fielding predominantly in the second slip and gully.  Born in Madras in India, Hussain was led into cricket by his father, and his family moved to England when Hussain was a young child. He joined Essex in 1987 after developing from a spin bowler to batsman while at school and playing for the various Essex youth teams, as the leg-spin of his youth deserted him. He was selected for England initially on the back of 990 runs scored for Essex in the County Championship of 1989, though injury and poor form would limit his international caps during the early 1990s to three Tests of a 1990 West Indies tour, and four further matches in 1993. Only in 1996 did he become a regular England Test cricketer.  Although regarded as somewhat of a firebrand in his youth, Hussain succeeded Alec Stewart as captain in 1999 and led England',\n",
       "  \" The England cricket team represents England and Wales in international cricket. Since 1997, it has been governed by the England and Wales Cricket Board (ECB), having been previously governed by Marylebone Cricket Club (the MCC) since 1903. England, as a founding nation, is a Full Member of the International Cricket Council (ICC) with Test, One Day International (ODI) and Twenty20 International (T20I) status. Until the 1990s, Scottish and Irish players also played for England as those countries were not yet ICC members in their own right.  England and Australia were the first teams to play a Test match (15–19 March 1877), and along with South Africa, these nations formed the Imperial Cricket Conference (the predecessor to today's International Cricket Council) on 15 June 1909. England and Australia also played the first ODI on 5 January 1971. England's first T20I was played on 13 June 2005, once more against Australia.  , England have played 1,011 Test matches, winning 366 and losing 300 (with 345 draws). In Test series against Australia, England play for The Ashes, one of the most famous trophies in all of sport, and they have won the urn on 32 occasions. England have also played 743 ODIs, winning 374. They have appeared in the final of the Cricket World Cup four times, winning once in 2019; they have also finished as runners-up in two ICC Champions Trophies (2004 and 2013). England have played 109 T20Is, winning 54. They won the ICC T20 World Cup in 2010, and were runners-up in 2016.\",\n",
       "  ' Essex County Cricket Club is one of eighteen first-class county clubs within the domestic cricket structure of England and Wales. It represents the historic county of Essex. Founded in 1876, the club had minor county status until 1894 when it was promoted to first-class status pending its entry into the County Championship in 1895, since when the team has played in every top-level domestic cricket competition in England. Essex play most of their home games at the County Cricket Ground, Chelmsford and some at Lower Castle Park in Colchester. The club has formerly used other venues throughout the county including Valentines Park in Ilford, Leyton Cricket Ground, the Gidea Park Sports Ground in Romford, and Garon Park and Southchurch Park, both in Southend. Its limited overs team is called the Essex Eagles, whose team colours are all-blue.   ',\n",
       "  \" Yorkshire County Cricket Club is one of eighteen first-class county clubs within the domestic cricket structure of England and Wales. It represents the historic county of Yorkshire. The club's limited overs team is called the Yorkshire Vikings. Yorkshire teams formed by earlier organisations, essentially the old Sheffield Cricket Club, played top-class cricket from the 18th century and the county club has always held first-class status. Yorkshire have competed in the County Championship since the official start of the competition in 1890 and have played in every top-level domestic cricket competition in England.  Yorkshire are the most successful team in English cricketing history with 33 County Championship titles, including one shared. The team's most recent Championship title was in 2015, following on from that achieved in 2014. The club's limited-overs kit colours are Cambridge blue, Oxford blue, and yellow with Mazars as the main sponsor. Yorkshire play most of their home games at the Headingley Cricket Ground in Leeds. Another significant venue is at North Marine Road Ground, Scarborough, which houses the annual Scarborough Festival. Yorkshire has historically used other locations including Bramall Lane, Sheffield, which was the club's original home; Horton Park Avenue, Bradford; St George's Road Cricket Ground, Harrogate; The Circle, Kingston upon Hull; and Acklam Park, Middlesbrough. The team drew an average attendance of 8,417 to seven home games in 2015.    \",\n",
       "  ' Peter Mark Such (born 12 June 1964 in Helensburgh, Dunbartonshire, Scotland) is an English cricketer. A hard-working county off-spinner, Such was brought into the Test arena in 1993 as a replacement for John Emburey but, despite taking 6 for 67 on debut and being the highest wicket taker for England in the series only played an initial four Tests before having to wait 5 years before his next appearance.  Such enjoyed a 19-year first-class career including stints at Nottinghamshire and Leicestershire before joining Essex in 1990. It was at Essex where he gained most success although he is perhaps best remembered for hitting the winning boundary in the second day of a Natwest Trophy semi final against Glamorgan in 1997 when play had been suspended the day before due to bad light with Mark Ilott and Robert Croft having an on field confrontation seen on BBC television. Although not noted for his batting, in 1999, playing in his final Test at Old Trafford, he made the second-longest duck in Test history, from 52 balls, against New Zealand, and earned a standing ovation.  He is currently playing for the first team of Totteridge Millhillians in the Hertfordshire Division 1 and is also a coach for the younger players.   ',\n",
       "  \" The Oval, known for sponsorship reasons as the Kia Oval, is an international cricket ground in Kennington, in the London Borough of Lambeth, in south London. The Oval has been the home ground of Surrey County Cricket Club since it was opened in 1845. It was the first ground in England to host international Test cricket in September 1880. The final Test match of the English season is traditionally played there.  In addition to cricket, The Oval has hosted a number of other historically significant sporting events. In 1870, it staged England's first international football match, versus Scotland. It hosted the first FA Cup final in 1872, as well as those between 1874 and 1892. In 1876, it held both the England v. Wales and England v. Scotland rugby international matches and, in 1877, rugby's first varsity match. It also hosted the final of the 2017 ICC Champions Trophy. \",\n",
       "  ' Surrey County Cricket Club is one of eighteen first-class county clubs within the domestic cricket structure of England and Wales. It represents the historic county of Surrey and also South London. The club was founded in 1845 but teams representing the county have played top-class cricket since the early 18th century and the club has always held first-class status. Surrey have competed in the County Championship since the official start of the competition in 1890 and have played in every top-level domestic cricket competition in England.  Home of the club since its foundation in 1845 has been The Oval (currently known officially as the \\'Kia Oval\\' following a sponsorship deal with the Kia Motors company), in the Kennington area of Lambeth in South London. The club also has an \\'out ground\\' at Woodbridge Road, Guildford, where some home games are played each season.  Surrey have had three notable periods of great success in their history. The club was unofficially proclaimed as \"Champion County\" seven times during the 1850s; it won the title eight times from 1887 to 1895 (including the first ever officially constituted County Championship in 1890); and seven consecutive outright titles from 1952 to 1958 inclusive following a shared title (with Lancashire) in 1950. In 1955, Surrey won 23 of its 28 county matches, a record that still stands and can no longer be bettered as counties have played fewer than 23 matches each season since 1993. To date, Surrey has won the official County Championship 19 times outright (and shared',\n",
       "  ' Clairmonte Christopher Lewis (born 14 February 1968) is an English former cricketer, who played for Nottinghamshire, Surrey and Leicestershire in the 1990s. He played in 32 Test matches and 53 One Day Internationals (ODIs) for England between 1990 and 1998.  Lewis was regarded as an aggressive lower-order batsman, fine fast-medium bowler and an able all-round fielder. He was regarded as a colourful player of the game, who never quite lived up to his early potential. He was later convicted of drug smuggling. ',\n",
       "  \" The England cricket team represents England and Wales in international cricket. Since 1997, it has been governed by the England and Wales Cricket Board (ECB), having been previously governed by Marylebone Cricket Club (the MCC) since 1903. England, as a founding nation, is a Full Member of the International Cricket Council (ICC) with Test, One Day International (ODI) and Twenty20 International (T20I) status. Until the 1990s, Scottish and Irish players also played for England as those countries were not yet ICC members in their own right.  England and Australia were the first teams to play a Test match (15–19 March 1877), and along with South Africa, these nations formed the Imperial Cricket Conference (the predecessor to today's International Cricket Council) on 15 June 1909. England and Australia also played the first ODI on 5 January 1971. England's first T20I was played on 13 June 2005, once more against Australia.  , England have played 1,011 Test matches, winning 366 and losing 300 (with 345 draws). In Test series against Australia, England play for The Ashes, one of the most famous trophies in all of sport, and they have won the urn on 32 occasions. England have also played 743 ODIs, winning 374. They have appeared in the final of the Cricket World Cup four times, winning once in 2019; they have also finished as runners-up in two ICC Champions Trophies (2004 and 2013). England have played 109 T20Is, winning 54. They won the ICC T20 World Cup in 2010, and were runners-up in 2016.\",\n",
       "  \" Warwickshire County Cricket Club is one of eighteen first-class county clubs within the domestic cricket structure of England and Wales. It represents the historic county of Warwickshire. Its 50 overs team is called the Warwickshire Bears and its T20 team the Birmingham Bears. Founded in 1882, the club held minor status until it was elevated to first-class in 1894 pending its entry into the County Championship in 1895. Since then, Warwickshire have played in every top-level domestic cricket competition in England. Warwickshire's kit colours are black and gold and the shirt sponsor is Gullivers Sports Travel. The club's home is Edgbaston Cricket Ground in south Birmingham, which regularly hosts Test and One Day International matches.   \",\n",
       "  \" The England cricket team represents England and Wales in international cricket. Since 1997, it has been governed by the England and Wales Cricket Board (ECB), having been previously governed by Marylebone Cricket Club (the MCC) since 1903. England, as a founding nation, is a Full Member of the International Cricket Council (ICC) with Test, One Day International (ODI) and Twenty20 International (T20I) status. Until the 1990s, Scottish and Irish players also played for England as those countries were not yet ICC members in their own right.  England and Australia were the first teams to play a Test match (15–19 March 1877), and along with South Africa, these nations formed the Imperial Cricket Conference (the predecessor to today's International Cricket Council) on 15 June 1909. England and Australia also played the first ODI on 5 January 1971. England's first T20I was played on 13 June 2005, once more against Australia.  , England have played 1,011 Test matches, winning 366 and losing 300 (with 345 draws). In Test series against Australia, England play for The Ashes, one of the most famous trophies in all of sport, and they have won the urn on 32 occasions. England have also played 743 ODIs, winning 374. They have appeared in the final of the Cricket World Cup four times, winning once in 2019; they have also finished as runners-up in two ICC Champions Trophies (2004 and 2013). England have played 109 T20Is, winning 54. They won the ICC T20 World Cup in 2010, and were runners-up in 2016.\",\n",
       "  ' Mark Alan Butcher (born 23 August 1972) is a retired English Test cricketer, who played county cricket for Surrey from 1992 until his retirement from the sport in 2009. He was a left-handed batsman, and occasional right-arm medium-pace bowler. ',\n",
       "  ' Surrey County Cricket Club is one of eighteen first-class county clubs within the domestic cricket structure of England and Wales. It represents the historic county of Surrey and also South London. The club was founded in 1845 but teams representing the county have played top-class cricket since the early 18th century and the club has always held first-class status. Surrey have competed in the County Championship since the official start of the competition in 1890 and have played in every top-level domestic cricket competition in England.  Home of the club since its foundation in 1845 has been The Oval (currently known officially as the \\'Kia Oval\\' following a sponsorship deal with the Kia Motors company), in the Kennington area of Lambeth in South London. The club also has an \\'out ground\\' at Woodbridge Road, Guildford, where some home games are played each season.  Surrey have had three notable periods of great success in their history. The club was unofficially proclaimed as \"Champion County\" seven times during the 1850s; it won the title eight times from 1887 to 1895 (including the first ever officially constituted County Championship in 1890); and seven consecutive outright titles from 1952 to 1958 inclusive following a shared title (with Lancashire) in 1950. In 1955, Surrey won 23 of its 28 county matches, a record that still stands and can no longer be bettered as counties have played fewer than 23 matches each season since 1993. To date, Surrey has won the official County Championship 19 times outright (and shared',\n",
       "  \" Derbyshire County Cricket Club is one of eighteen first-class county clubs within the domestic cricket structure of England and Wales. It represents the historic county of Derbyshire. Its limited overs team is called the Derbyshire Falcons in reference to the famous peregrine falcon which nests on the Derby Cathedral (it was previously called the Derbyshire Scorpions until 2005 and the Phantoms until 2010). Founded in 1870, the club held first-class status from its first match in 1871 until 1887. Because of poor performances and lack of fixtures in some seasons, Derbyshire then lost its status for seven seasons until it was invited into the County Championship in 1895. Derbyshire is also classified as a List A team since the beginning of limited overs cricket in 1963; and classified as a senior Twenty20 team since 2003. In recent years the club has enjoyed record attendances with over 24,000 people watching their home Twenty20 fixtures in 2017 – a record for a single campaign. The local derby versus Yorkshire at Chesterfield now regularly sells out in advance.  The club is based at the County Cricket Ground, previously known as the Racecourse Ground, in the city of Derby. In 2006, for the first time in eight years, county cricket returned to Queen's Park, Chesterfield with a County Championship game against Worcestershire and a one-day league game against Surrey. Other first-class cricket grounds used in the past have included Buxton, Saltergate in Chesterfield, Heanor, Ilkeston, Blackwell, Abbeydale Park in Sheffield, Wirksworth and Burton upon Trent (3 grounds), which\",\n",
       "  ' Worcestershire County Cricket Club is one of eighteen first-class county clubs within the domestic cricket structure of England and Wales. It represents the historic county of Worcestershire. Its Vitality Blast T20 team - who are the defending champions after claiming their first title in 2018 - has been rebranded the Worcestershire Rapids, but the county is known by most fans as \"the Pears\". The club is based at New Road, Worcester. Founded in 1865, Worcestershire held minor status at first and was a prominent member of the early Minor Counties Championship in the 1890s, winning the competition three times. In 1899, the club joined the County Championship and the team was elevated to first-class status. Since then, Worcestershire have played in every top-level domestic cricket competition in England.   ',\n",
       "  \" Australia, officially the Commonwealth of Australia, is a sovereign country comprising the mainland of the Australian continent, the island of Tasmania, and numerous smaller islands. It is the largest country in Oceania and the world's sixth-largest country by total area. The neighbouring countries are Papua New Guinea, Indonesia, and East Timor to the north; the Solomon Islands and Vanuatu to the north-east; and New Zealand to the south-east. The population of / 1000000 round 0 million is highly urbanised and heavily concentrated on the eastern seaboard. Australia's capital is Canberra, and its largest city is Sydney. The country's other major metropolitan areas are Melbourne, Brisbane, Perth, and Adelaide.  Indigenous Australians inhabited the continent for about 65,000 years prior to European discovery with the arrival of Dutch explorers in the early 17th century, who named it New Holland. In 1770, Australia's eastern half was claimed by Great Britain and initially settled through penal transportation to the colony of New South Wales from 26 January 1788, a date which became Australia's national day. The population grew steadily in subsequent decades, and by the time of an 1850s gold rush, most of the continent had been explored and an additional five self-governing crown colonies established. On 1 January 1901, the six colonies federated, forming the Commonwealth of Australia. Australia has since maintained a stable liberal democratic political system that functions as a federal parliamentary constitutional monarchy, comprising six states and ten territories.  Being the oldest, flattest and driest inhabited continent, with the least fertile soils, Australia\",\n",
       "  ' Thomas Masson Moody (born 2 October 1965), known as Tom Moody, is an Australian cricket coach, commentator and former international cricketer. He is currently the coach for the IPL team Sunrisers Hyderabad. He has been appointed head coach of the Bangladesh Premier League franchise Rangpur Riders for the next three seasons of the tournament from 2017 as well as the head coach of the Multan Sultans in the PSL starting from 2018. In 2017, he applied for the Head coach of Indian Cricket Team. ',\n",
       "  ' Christopher John Adams (born 6 May 1970) is a former English first-class cricketer who briefly represented his nation at Test and One Day International level. He is the current interim head coach of the Dutch national team. ',\n",
       "  \" Derbyshire County Cricket Club is one of eighteen first-class county clubs within the domestic cricket structure of England and Wales. It represents the historic county of Derbyshire. Its limited overs team is called the Derbyshire Falcons in reference to the famous peregrine falcon which nests on the Derby Cathedral (it was previously called the Derbyshire Scorpions until 2005 and the Phantoms until 2010). Founded in 1870, the club held first-class status from its first match in 1871 until 1887. Because of poor performances and lack of fixtures in some seasons, Derbyshire then lost its status for seven seasons until it was invited into the County Championship in 1895. Derbyshire is also classified as a List A team since the beginning of limited overs cricket in 1963; and classified as a senior Twenty20 team since 2003. In recent years the club has enjoyed record attendances with over 24,000 people watching their home Twenty20 fixtures in 2017 – a record for a single campaign. The local derby versus Yorkshire at Chesterfield now regularly sells out in advance.  The club is based at the County Cricket Ground, previously known as the Racecourse Ground, in the city of Derby. In 2006, for the first time in eight years, county cricket returned to Queen's Park, Chesterfield with a County Championship game against Worcestershire and a one-day league game against Surrey. Other first-class cricket grounds used in the past have included Buxton, Saltergate in Chesterfield, Heanor, Ilkeston, Blackwell, Abbeydale Park in Sheffield, Wirksworth and Burton upon Trent (3 grounds), which\",\n",
       "  \" Kent County Cricket Club is one of the eighteen first-class county clubs within the domestic cricket structure of England and Wales. It represents the historic county of Kent. The club was first founded in 1842 but teams representing the county have played top-class cricket since the early 18th century and the club has always held first-class status. Kent have competed in the County Championship since the official start of the competition in 1890 and have played in every top-level domestic cricket competition in England. The club's limited overs team is called the Kent Spitfires after the Supermarine Spitfire.  The county has won the County Championship seven times, including one shared victory. Four wins came in the period between 1906 and 1913 with the other three coming during the 1970s when Kent also dominated one-day cricket cup competitions. A total of eleven one-day cricket cup victories include eight between 1967 and 1978, with the last trophy won by the club coming in the 2007 Twenty20 Cup.  The club plays most of its home matches at the St Lawrence Ground in Canterbury, which hosts Canterbury Cricket Week, the oldest cricket festival in England. It also plays some home matches at the County Cricket Ground, Beckenham and the Nevill Ground, Royal Tunbridge Wells which hosts Tunbridge Wells Cricket Week.  Kent also field a women's team in the Women's County Championship. The team has won the Championship a record seven times, most recently in 2016, and the Women's T20 title three times, most recently also in\",\n",
       "  \" Nottinghamshire County Cricket Club is one of eighteen first-class county clubs within the domestic cricket structure of England and Wales. It represents the historic county of Nottinghamshire. The club's limited overs team is called the Notts Outlaws. The county club was founded in 1841 but Nottinghamshire teams formed by earlier organisations, essentially the old Nottingham Cricket Club, had played top-class cricket since 1771 and the county club has always held first-class status. Nottinghamshire have competed in the County Championship since the official start of the competition in 1890 and have played in every top-level domestic cricket competition in England.  The club plays most of its home games at the Trent Bridge cricket ground in West Bridgford, Nottingham, which is also a venue for Test matches. The club has played matches at numerous other venues in the county. Their kit colours are dark green with a gold/yellow trim for the Natwest T20 Blast and more yellow dominant for the Royal London One Day Cup.   \",\n",
       "  \" Paul Johnson (born 24 April 1965) is a former English cricketer. He was a right-handed batsman and a right-arm medium-pace bowler. He is most well known for a 21-year career with Nottinghamshire. He was also the club's captain between 1996 and 1998. \",\n",
       "  ' Martin John McCague (born 24 May 1969) is a former professional cricketer who played for the England cricket team in three Tests from 1993 to 1994. McCague was born in Northern Ireland and grew up in Australia where he began his professional career. ',\n",
       "  \" Kent County Cricket Club is one of the eighteen first-class county clubs within the domestic cricket structure of England and Wales. It represents the historic county of Kent. The club was first founded in 1842 but teams representing the county have played top-class cricket since the early 18th century and the club has always held first-class status. Kent have competed in the County Championship since the official start of the competition in 1890 and have played in every top-level domestic cricket competition in England. The club's limited overs team is called the Kent Spitfires after the Supermarine Spitfire.  The county has won the County Championship seven times, including one shared victory. Four wins came in the period between 1906 and 1913 with the other three coming during the 1970s when Kent also dominated one-day cricket cup competitions. A total of eleven one-day cricket cup victories include eight between 1967 and 1978, with the last trophy won by the club coming in the 2007 Twenty20 Cup.  The club plays most of its home matches at the St Lawrence Ground in Canterbury, which hosts Canterbury Cricket Week, the oldest cricket festival in England. It also plays some home matches at the County Cricket Ground, Beckenham and the Nevill Ground, Royal Tunbridge Wells which hosts Tunbridge Wells Cricket Week.  Kent also field a women's team in the Women's County Championship. The team has won the Championship a record seven times, most recently in 2016, and the Women's T20 title three times, most recently also in\"]}"
      ]
     },
     "execution_count": 12,
     "metadata": {},
     "output_type": "execute_result"
    }
   ],
   "source": [
    "elq_sample = sample_elq['947testa CRICKET']\n",
    "elq_sample"
   ]
  },
  {
   "cell_type": "code",
   "execution_count": 3,
   "metadata": {},
   "outputs": [],
   "source": [
    "fpath = 'AIDA-YAGO2-en_desc'\n",
    "\n",
    "fname = os.path.join(fpath, 'train.json')\n",
    "\n",
    "with open(fname) as fin:\n",
    "    train = json.load(fin)"
   ]
  },
  {
   "cell_type": "code",
   "execution_count": 7,
   "metadata": {},
   "outputs": [
    {
     "data": {
      "text/plain": [
       "dict_keys(['doc_id', 'text', 'mentions', 'start_idxs', 'end_idxs', 'wiki_ids', 'wiki_titles', 'wiki_contexts', 'start_position', 'end_position', 'span_position'])"
      ]
     },
     "execution_count": 7,
     "metadata": {},
     "output_type": "execute_result"
    }
   ],
   "source": [
    "example = train[0]\n",
    "example.keys()"
   ]
  },
  {
   "cell_type": "code",
   "execution_count": 22,
   "metadata": {},
   "outputs": [
    {
     "data": {
      "text/plain": [
       "[[2, 2],\n",
       " [6, 6],\n",
       " [11, 11],\n",
       " [14, 15],\n",
       " [22, 22],\n",
       " [28, 28],\n",
       " [43, 43],\n",
       " [48, 49],\n",
       " [66, 66],\n",
       " [94, 94],\n",
       " [129, 130],\n",
       " [142, 143],\n",
       " [179, 179],\n",
       " [181, 181],\n",
       " [193, 193],\n",
       " [237, 237],\n",
       " [240, 242],\n",
       " [266, 266],\n",
       " [268, 268],\n",
       " [314, 314],\n",
       " [330, 330],\n",
       " [350, 350],\n",
       " [357, 357],\n",
       " [363, 363],\n",
       " [382, 382],\n",
       " [404, 404],\n",
       " [420, 420],\n",
       " [438, 438],\n",
       " [443, 443],\n",
       " [459, 459]]"
      ]
     },
     "execution_count": 22,
     "metadata": {},
     "output_type": "execute_result"
    }
   ],
   "source": [
    "example['span_position']"
   ]
  },
  {
   "cell_type": "code",
   "execution_count": 14,
   "metadata": {},
   "outputs": [],
   "source": [
    "full_example = example['text']"
   ]
  },
  {
   "cell_type": "code",
   "execution_count": 23,
   "metadata": {},
   "outputs": [
    {
     "data": {
      "text/plain": [
       "['EU', 'rejects', 'German']"
      ]
     },
     "execution_count": 23,
     "metadata": {},
     "output_type": "execute_result"
    }
   ],
   "source": [
    "example['text'][:3]"
   ]
  },
  {
   "cell_type": "code",
   "execution_count": 24,
   "metadata": {},
   "outputs": [
    {
     "data": {
      "text/plain": [
       "'EU rejects German'"
      ]
     },
     "execution_count": 24,
     "metadata": {},
     "output_type": "execute_result"
    }
   ],
   "source": [
    "sent = 'EU rejects German'\n",
    "sent"
   ]
  },
  {
   "cell_type": "code",
   "execution_count": 28,
   "metadata": {},
   "outputs": [
    {
     "data": {
      "text/plain": [
       "'German'"
      ]
     },
     "execution_count": 28,
     "metadata": {},
     "output_type": "execute_result"
    }
   ],
   "source": [
    "sent[11:18]"
   ]
  },
  {
   "cell_type": "markdown",
   "metadata": {},
   "source": [
    "## Tokenized elq format\n",
    "\n",
    "- 'id': 'doc_id'\n",
    "- 'text': 'text'.join\n",
    "- 'mentions': index span (char) of mentions, list of lists (end idx + 1)\n",
    "- 'tokenized_text_ids': tokenized text id\n",
    "- 'tokenized_mention_idxs': similar to span_position, list of lists (end idx + 1)\n",
    "- 'label_id': 'wiki_ids' (ELQ uses new id)\n",
    "- 'wikidata_id': not include, plan to remove in code\n",
    "- 'entity': 'wiki_titles'\n",
    "- 'label': 'wiki_contexts'"
   ]
  },
  {
   "cell_type": "code",
   "execution_count": 3,
   "metadata": {},
   "outputs": [],
   "source": [
    "tokenizer = BertTokenizer.from_pretrained(\n",
    "    \"bert-base-uncased\", do_lower_case=True,\n",
    ")"
   ]
  },
  {
   "cell_type": "code",
   "execution_count": 4,
   "metadata": {},
   "outputs": [],
   "source": [
    "def get_tokenized_bounds(mentions, full_example, tokenizer):\n",
    "    example_ranges = mentions\n",
    "    \n",
    "    char_in_mention_idx_map = [[] for _ in range(len(full_example))]\n",
    "    all_mention_bounds = []\n",
    "    for m, ment in enumerate(example_ranges):\n",
    "        for c in range(ment[0], ment[1]):\n",
    "            char_in_mention_idx_map[c].append(m)\n",
    "        all_mention_bounds.append(ment[0])\n",
    "        all_mention_bounds.append(ment[1])\n",
    "    all_mention_bounds = [0] + all_mention_bounds + [len(full_example)]\n",
    "    all_mention_bounds = list(set(all_mention_bounds))\n",
    "    all_mention_bounds.sort()\n",
    "    \n",
    "    example_chunks = [full_example[all_mention_bounds[b]:(all_mention_bounds[b+1])] for b in range(len(all_mention_bounds) - 1)]\n",
    "    chunk_idx_to_mention_idx_map = []\n",
    "    bound_idx = 0\n",
    "    for c, chunk in enumerate(example_chunks):\n",
    "        assert bound_idx == all_mention_bounds[c]\n",
    "        try:\n",
    "            chunk_idx_to_mention_idx_map.append(char_in_mention_idx_map[all_mention_bounds[c]])\n",
    "        except:\n",
    "            print(\"error checkpoint\")\n",
    "            import pdb\n",
    "            pdb.set_trace()\n",
    "        bound_idx += len(chunk)\n",
    "    mention_idx_to_chunk_idx_map = {}\n",
    "    chunk_idx_to_tokenized_bounds = {}\n",
    "    mention_idxs = []\n",
    "    all_token_ids = []\n",
    "    cum_len = 0\n",
    "    for c, chunk in enumerate(example_chunks):\n",
    "        chunk_tokens = tokenizer.encode(chunk)\n",
    "        all_token_ids += chunk_tokens\n",
    "        chunk_bounds = [cum_len, cum_len+len(chunk_tokens)]\n",
    "        for m in chunk_idx_to_mention_idx_map[c]:\n",
    "            if m not in mention_idx_to_chunk_idx_map:\n",
    "                mention_idx_to_chunk_idx_map[m] = chunk_bounds\n",
    "            else:\n",
    "                existing_chunk_bounds = mention_idx_to_chunk_idx_map[m]\n",
    "                mention_idx_to_chunk_idx_map[m] = [\n",
    "                    min(existing_chunk_bounds[0], chunk_bounds[0]),\n",
    "                    max(existing_chunk_bounds[1], chunk_bounds[1]),\n",
    "                ]\n",
    "        cum_len += len(chunk_tokens)\n",
    "    for mention_idx in range(len(mention_idx_to_chunk_idx_map)):\n",
    "        assert mention_idx in mention_idx_to_chunk_idx_map\n",
    "        mention_tokenized_bound = mention_idx_to_chunk_idx_map[mention_idx]\n",
    "        mention_idxs.append(mention_tokenized_bound)\n",
    "    for m in range(len(mention_idxs)):\n",
    "        mention_bounds = mentions[m]\n",
    "        mention_tok_bounds = mention_idxs[m]\n",
    "        tokenized_mention = tokenizer.decode(all_token_ids[\n",
    "            mention_tok_bounds[0]:mention_tok_bounds[1]\n",
    "        ])\n",
    "        target_mention = full_example[mention_bounds[0]:mention_bounds[1]].lower()\n",
    "        try:\n",
    "            assert tokenized_mention == target_mention\n",
    "        except:\n",
    "            # only keep letters and whitespace\n",
    "            only_letter_tokenized_mention = \"\"\n",
    "            only_letter_target_mention = \"\"\n",
    "            for char in tokenized_mention:\n",
    "                if char in string.ascii_letters:\n",
    "                    only_letter_tokenized_mention += char\n",
    "            for char in target_mention:\n",
    "                if char in string.ascii_letters:\n",
    "                    only_letter_target_mention += char\n",
    "            print(\"{} {}\".format(tokenized_mention, target_mention))\n",
    "            try:\n",
    "                assert only_letter_tokenized_mention == only_letter_target_mention\n",
    "            except:\n",
    "                import pdb\n",
    "                pdb.set_trace()\n",
    "    return all_token_ids, mention_idxs"
   ]
  },
  {
   "cell_type": "code",
   "execution_count": 5,
   "metadata": {},
   "outputs": [],
   "source": [
    "def to_elq_tokenized(sample):\n",
    "#     if tokenizer is None:\n",
    "#         tokenizer = BertTokenizer.from_pretrained(\n",
    "#             \"bert-base-uncased\", do_lower_case=True,\n",
    "#         )\n",
    "\n",
    "    res = {}\n",
    "    res['id'] = sample['doc_id']\n",
    "    res['text'] = ' '.join(sample['text'])\n",
    "    \n",
    "    # generate char indice 'mentions'\n",
    "    assert len(sample['text'])==len(sample['start_idxs'])==len(sample['end_idxs'])\n",
    "    char_cnt = 0\n",
    "    mentions = []\n",
    "    new_mention = []\n",
    "    open_mention = False\n",
    "    for i, word in enumerate(sample['text']):\n",
    "        if sample['start_idxs'][i]==1:\n",
    "            new_mention.append(char_cnt)\n",
    "        char_cnt += len(word) + 1\n",
    "        if sample['end_idxs'][i]==1:\n",
    "            new_mention.append(char_cnt-1)\n",
    "            mentions.append(new_mention)\n",
    "            new_mention = []\n",
    "    # sanity check\n",
    "    assert len(mentions)==len(sample['mentions'])\n",
    "    for i in range(len(mentions)):\n",
    "        try:\n",
    "            assert res['text'][mentions[i][0]:mentions[i][1]]==sample['mentions'][i]\n",
    "        except:\n",
    "            print(res['text'][mentions[i][0]:mentions[i][1]], ' ', sample['mentions'][i])\n",
    "    res['mentions'] = mentions\n",
    "    \n",
    "    # generate tokenized texts and mention bounds\n",
    "    # code from Belinda: create_all_entity_finetuning.py\n",
    "    all_token_ids, mention_idxs = get_tokenized_bounds(res['mentions'], res['text'], tokenizer)\n",
    "    res['tokenized_text_ids'] = all_token_ids\n",
    "    res['tokenized_mention_idxs'] = mention_idxs\n",
    "    assert len(mention_idxs)==len(sample['wiki_titles'])\n",
    "    \n",
    "    res['label_id'] = sample['wiki_ids']\n",
    "    res['entity'] = sample['wiki_titles']\n",
    "    res['label'] = sample['wiki_contexts']\n",
    "    \n",
    "    return res"
   ]
  },
  {
   "cell_type": "code",
   "execution_count": null,
   "metadata": {},
   "outputs": [],
   "source": []
  },
  {
   "cell_type": "code",
   "execution_count": 6,
   "metadata": {},
   "outputs": [
    {
     "name": "stderr",
     "output_type": "stream",
     "text": [
      "  3%|▎         | 32/946 [00:00<00:06, 141.10it/s]"
     ]
    },
    {
     "name": "stdout",
     "output_type": "stream",
     "text": [
      "u. s. u.s.\n",
      "eliahu ben - elissar eliahu ben-elissar\n",
      "u. n. u.n.\n",
      "an - nahar an-nahar\n",
      "sud - ptt sud-ptt\n",
      "u. s. u.s.\n",
      "d. a. weibring d.a. weibring\n",
      "shi - ting wang shi-ting wang\n",
      "u. s. u.s.\n",
      "u. s. u.s.\n",
      "u. s. u.s.\n"
     ]
    },
    {
     "name": "stderr",
     "output_type": "stream",
     "text": [
      "  5%|▌         | 49/946 [00:00<00:10, 88.82it/s] "
     ]
    },
    {
     "name": "stdout",
     "output_type": "stream",
     "text": [
      "weston - super - mare weston-super-mare\n",
      "inzamam - ul - haq inzamam-ul-haq\n",
      "f. a. cup f.a. cup\n",
      "u. s. u.s.\n",
      "u. s. u.s.\n",
      "u. s. u.s.\n",
      "u. s. u.s.\n",
      "mypa - 47 mypa-47\n",
      "u. s. open u.s. open\n",
      "u. s. open u.s. open\n",
      "u. s u.s\n",
      "u. s. u.s.\n",
      "jean - philippe fleurian jean-philippe fleurian\n",
      "u. s. u.s.\n",
      "u. s. u.s.\n",
      "u. s. u.s.\n",
      "u. s. u.s.\n",
      "u. s. u.s.\n",
      "u. s. u.s.\n",
      "u. s. u.s.\n",
      "u. s. u.s.\n",
      "carl - uwe steeb carl-uwe steeb\n",
      "u. s. u.s.\n",
      "u. s. u.s.\n",
      "u. s. u.s.\n",
      "u. s. u.s.\n",
      "u. s. u.s.\n",
      "u. s. u.s.\n",
      "u. s. u.s.\n",
      "u. s. u.s.\n",
      "u. s. u.s.\n",
      "u. s. u.s.\n",
      "u. s. u.s.\n",
      "u. s. u.s.\n"
     ]
    },
    {
     "name": "stderr",
     "output_type": "stream",
     "text": [
      "  8%|▊         | 73/946 [00:00<00:08, 99.87it/s]"
     ]
    },
    {
     "name": "stdout",
     "output_type": "stream",
     "text": [
      "a. l. east a.l. east\n",
      "jose - maria canizares jose-maria canizares\n",
      "u. s. federal district court u.s. federal district court\n",
      "u. s. district court u.s. district court\n",
      "u. s. open u.s. open\n",
      "u. s. open u.s. open\n",
      "u. s. open u.s. open\n",
      "u. s. u.s.\n",
      "u. n. u.n.\n",
      "u. s. u.s.\n",
      "s & p s&p\n",
      "itar - tass itar-tass\n"
     ]
    },
    {
     "name": "stderr",
     "output_type": "stream",
     "text": [
      " 11%|█▏        | 108/946 [00:00<00:07, 117.17it/s]"
     ]
    },
    {
     "name": "stdout",
     "output_type": "stream",
     "text": [
      "u. s. u.s.\n",
      "u. n. security council u.n. security council\n",
      "hassan al - turabi hassan al-turabi\n",
      "los angeles - based los angeles-based\n",
      "u. s. u.s.\n",
      "u. s. u.s.\n",
      "neo - nazi neo-nazi\n",
      "neo - nazism neo-nazism\n",
      "neo - nazi neo-nazi\n",
      "u. s u.s\n",
      "neo - nazism neo-nazism\n",
      "nsdap - ao nsdap-ao\n",
      "u. n. u.n.\n",
      "u. s. u.s.\n",
      "i. k. gujral i.k. gujral\n",
      "h. d. deve gowda h.d. deve gowda\n",
      "us $ us$\n",
      "u. s. u.s.\n",
      "us $ us$\n",
      "u. s. u.s.\n",
      "u. s. u.s.\n",
      "harper - collins harper-collins\n",
      "u. s. u.s.\n",
      "harper - collins harper-collins\n",
      "us $ us$\n",
      "nz $ nz$\n"
     ]
    },
    {
     "name": "stderr",
     "output_type": "stream",
     "text": [
      " 14%|█▍        | 137/946 [00:01<00:06, 121.30it/s]"
     ]
    },
    {
     "name": "stdout",
     "output_type": "stream",
     "text": [
      "hk $ hk$\n",
      "hk $ hk$\n",
      "ftse - 100 ftse-100\n",
      "post - soviet post-soviet\n",
      "post - soviet post-soviet\n",
      "u. s. u.s.\n",
      "academy award - winning academy award-winning\n",
      "spa - francorchamps spa-francorchamps\n",
      "heinz - harald frentzen heinz-harald frentzen\n",
      "weston - super - mare weston-super-mare\n",
      "inzamam - ul - haq inzamam-ul-haq\n",
      "inzamam - ul - haq inzamam-ul-haq\n",
      "u. s. u.s.\n",
      "u. s. u.s.\n",
      "u. s. u.s.\n",
      "u. s. open u.s. open\n",
      "u. s. open tennis championships u.s. open tennis championships\n",
      "u. s. tennis association u.s. tennis association\n"
     ]
    },
    {
     "name": "stderr",
     "output_type": "stream",
     "text": [
      " 19%|█▉        | 182/946 [00:01<00:06, 119.44it/s]"
     ]
    },
    {
     "name": "stdout",
     "output_type": "stream",
     "text": [
      "u. s. u.s.\n",
      "u. s. u.s.\n",
      "patricia girard - leno patricia girard-leno\n",
      "u. s. u.s.\n",
      "u. s. u.s.\n",
      "u. s. u.s.\n",
      "u. s. u.s.\n",
      "u. s. u.s.\n",
      "u. s. u.s.\n",
      "u. s. u.s.\n",
      "u. s. u.s.\n",
      "u. s. u.s.\n",
      "u. s. u.s.\n",
      "u. s. u.s.\n",
      "u. s. u.s.\n",
      "u. s. u.s.\n",
      "u. s. u.s.\n",
      "u. s. u.s.\n",
      "u. s. u.s.\n",
      "u. s. u.s.\n",
      "u. s. u.s.\n",
      "u. s. u.s.\n",
      "u. s. u.s.\n",
      "u. s. u.s.\n",
      "u. s. u.s.\n",
      "u. s. u.s.\n",
      "u. s. u.s.\n",
      "u. s. u.s.\n",
      "marie - jose perec marie-jose perec\n",
      "u. s. u.s.\n",
      "u. s. u.s.\n",
      "u. s. u.s.\n",
      "u. s. u.s.\n",
      "toronto - based toronto-based\n",
      "u. s. u.s.\n",
      "boston - based boston-based\n",
      "u. s. u.s.\n",
      "u. s. u.s.\n",
      "u. s. u.s.\n",
      "inzamam - ul - haq inzamam-ul-haq\n",
      "t - 72 t-72\n"
     ]
    },
    {
     "name": "stderr",
     "output_type": "stream",
     "text": [
      " 23%|██▎       | 215/946 [00:01<00:06, 117.59it/s]"
     ]
    },
    {
     "name": "stdout",
     "output_type": "stream",
     "text": [
      "u. s. u.s.\n",
      "u. s. u.s.\n",
      "u. s. u.s.\n",
      "u. s. u.s.\n",
      "u. s. u.s.\n",
      "u. s. u.s.\n",
      "wbur - fm wbur-fm\n",
      "u. s. u.s.\n",
      "u. s. u.s.\n",
      "u. s. u.s.\n",
      "u. s. state department u.s. state department\n",
      "u. s. u.s.\n",
      "u. s. u.s.\n",
      "windows nt 4. 0 windows nt 4.0\n",
      "u. s. u.s.\n",
      "u. s. u.s.\n",
      "u. s. u.s.\n",
      "u. s. u.s.\n",
      "f. b. i. f.b.i.\n"
     ]
    },
    {
     "name": "stderr",
     "output_type": "stream",
     "text": [
      " 27%|██▋       | 253/946 [00:01<00:05, 136.42it/s]"
     ]
    },
    {
     "name": "stdout",
     "output_type": "stream",
     "text": [
      "u. s. u.s.\n",
      "u. s. navy u.s. navy\n",
      "us $ us$\n",
      "hk $ hk$\n",
      "h. k. h.k.\n",
      "h. k. h.k.\n",
      "u. s. u.s.\n",
      "u. s. u.s.\n",
      "u. s. u.s.\n",
      "spa - francorchamps spa-francorchamps\n",
      "heinz - harald frentzen heinz-harald frentzen\n",
      "u. s. u.s.\n",
      "u. s. u.s.\n",
      "u. s. u.s.\n",
      "u. s. u.s.\n",
      "d. a. weibring d.a. weibring\n",
      "inzamam - ul - haq inzamam-ul-haq\n",
      "weston - super - mare weston-super-mare\n",
      "u. s. u.s.\n",
      "u. s. u.s.\n"
     ]
    },
    {
     "name": "stderr",
     "output_type": "stream",
     "text": [
      " 30%|██▉       | 283/946 [00:02<00:04, 140.69it/s]"
     ]
    },
    {
     "name": "stdout",
     "output_type": "stream",
     "text": [
      "paris saint - germain paris saint-germain\n",
      "inzamam - ul - haq inzamam-ul-haq\n",
      "u. s. u.s.\n",
      "u. s. u.s.\n",
      "u. n. u.n.\n",
      "boutros boutros - ghali boutros boutros-ghali\n",
      "u. s. u.s.\n",
      "u. s. u.s.\n"
     ]
    },
    {
     "name": "stderr",
     "output_type": "stream",
     "text": [
      " 33%|███▎      | 312/946 [00:02<00:05, 122.13it/s]"
     ]
    },
    {
     "name": "stdout",
     "output_type": "stream",
     "text": [
      "mont - sur - marchienne mont-sur-marchienne\n",
      "jamaat - i - islami jamaat-i-islami\n",
      "u. s. u.s.\n",
      "d. a. weibring d.a. weibring\n",
      "u. s. u.s.\n",
      "u. s. u.s.\n",
      "jean - denis deletraz jean-denis deletraz\n",
      "pierre - henri raphanel pierre-henri raphanel\n",
      "jean - marc gounon jean-marc gounon\n",
      "u. s. u.s.\n",
      "u. s. u.s.\n",
      "u. s. u.s.\n",
      "u. s. u.s.\n",
      "u. s. u.s.\n",
      "u. s. u.s.\n",
      "u. s. u.s.\n",
      "spa - francorchamps spa-francorchamps\n",
      "heinz - harald frentzen heinz-harald frentzen\n",
      "heinz - harald frentzen heinz-harald frentzen\n",
      "u. s. u.s.\n",
      "u. s. u.s.\n",
      "u. s. u.s.\n"
     ]
    },
    {
     "name": "stderr",
     "output_type": "stream",
     "text": [
      " 38%|███▊      | 356/946 [00:02<00:05, 113.15it/s]"
     ]
    },
    {
     "name": "stdout",
     "output_type": "stream",
     "text": [
      "inzamam - ul - haq inzamam-ul-haq\n",
      "u. s. u.s.\n",
      "lisbet stuer - lauridsen lisbet stuer-lauridsen\n"
     ]
    },
    {
     "name": "stderr",
     "output_type": "stream",
     "text": [
      " 40%|████      | 382/946 [00:03<00:05, 110.73it/s]"
     ]
    },
    {
     "name": "stdout",
     "output_type": "stream",
     "text": [
      "u. s. u.s.\n",
      "f. w. de klerk f.w. de klerk\n",
      "p. w. botha p.w. botha\n",
      "nz $ nz$\n",
      "u. s. u.s.\n",
      "u. s. u.s.\n",
      "u. s. u.s.\n",
      "u. s. u.s.\n"
     ]
    },
    {
     "name": "stderr",
     "output_type": "stream",
     "text": [
      " 43%|████▎     | 406/946 [00:03<00:04, 108.83it/s]"
     ]
    },
    {
     "name": "stdout",
     "output_type": "stream",
     "text": [
      "u. s. u.s.\n",
      "hezb - i - islami hezb-i-islami\n",
      "post - soviet post-soviet\n",
      "u. s. treasury u.s. treasury\n"
     ]
    },
    {
     "name": "stderr",
     "output_type": "stream",
     "text": [
      "\r",
      " 44%|████▍     | 418/946 [00:03<00:05, 94.80it/s] "
     ]
    },
    {
     "name": "stdout",
     "output_type": "stream",
     "text": [
      "inzamam - ul - haq inzamam-ul-haq\n",
      "post - soviet post-soviet\n"
     ]
    },
    {
     "name": "stderr",
     "output_type": "stream",
     "text": [
      " 46%|████▌     | 437/946 [00:03<00:06, 75.30it/s]"
     ]
    },
    {
     "name": "stdout",
     "output_type": "stream",
     "text": [
      "u. s. open u.s. open\n",
      "u. s. open u.s. open\n",
      "u. s. open u.s. open\n",
      "u. s. open u.s. open\n",
      "u. s. open u.s. open\n",
      "u. s. open u.s. open\n",
      "brenda schultz - mccarthy brenda schultz-mccarthy\n",
      "u. s. open u.s. open\n",
      "u. s. u.s.\n",
      "u. s. u.s.\n",
      "u. s. open u.s. open\n",
      "u. s. open u.s. open\n",
      "u. s. open u.s. open\n",
      "u. s. open u.s. open\n",
      "u. s. open u.s. open\n",
      "anne - gaelle sidot anne-gaelle sidot\n",
      "brenda schultz - mccarthy brenda schultz-mccarthy\n",
      "u. s. u.s.\n",
      "u. s. u.s.\n",
      "u. s. u.s.\n",
      "u. s. u.s.\n",
      "u. s. u.s.\n",
      "u. s. u.s.\n",
      "u. s. u.s.\n",
      "u. s. u.s.\n",
      "u. s. u.s.\n",
      "u. s. u.s.\n",
      "u. s. u.s.\n",
      "sung - hee park sung-hee park\n",
      "u. s. u.s.\n",
      "carl - uwe steeb carl-uwe steeb\n",
      "u. s. u.s.\n",
      "u. s. u.s.\n",
      "u. s. u.s.\n",
      "u. s. u.s.\n",
      "jean - paul van gastel jean-paul van gastel\n",
      "jean - paul van gastel jean-paul van gastel\n"
     ]
    },
    {
     "name": "stderr",
     "output_type": "stream",
     "text": [
      " 49%|████▊     | 461/946 [00:04<00:05, 88.23it/s]"
     ]
    },
    {
     "name": "stdout",
     "output_type": "stream",
     "text": [
      "u. n. u.n.\n",
      "soren jessen - petersen soren jessen-petersen\n",
      "u. n. u.n.\n",
      "itar - tass itar-tass\n",
      "u. s. u.s.\n",
      "u. s u.s\n",
      "u. k. u.k.\n",
      "u. s. senate intelligence committee u.s. senate intelligence committee\n",
      "u. s. u.s.\n",
      "u. s. u.s.\n",
      "u. s. u.s.\n",
      "u. s. u.s.\n"
     ]
    },
    {
     "name": "stderr",
     "output_type": "stream",
     "text": [
      " 54%|█████▍    | 509/946 [00:04<00:03, 115.17it/s]"
     ]
    },
    {
     "name": "stdout",
     "output_type": "stream",
     "text": [
      "u. s. u.s.\n",
      "u. s. u.s.\n",
      "u. s. u.s.\n",
      "u. s. midwest u.s. midwest\n",
      "u. s. midwest u.s. midwest\n",
      "u. s. u.s.\n",
      "u. s. midwest u.s. midwest\n",
      "u. s. u.s.\n",
      "Rep .   Rep.\n",
      "rep. rep .\n",
      "republican - led republican-led\n",
      "u. s. u.s.\n",
      "u. s. u.s.\n",
      "u. s. u.s.\n",
      "u. s. u.s.\n",
      "Goldman , Sachs & Co   Goldman, Sachs & Co\n",
      "s & p s&p\n",
      "s & p s&p\n",
      "goldman, sachs & co goldman , sachs & co\n",
      "u. s. u.s.\n",
      "spa - francorchamps spa-francorchamps\n",
      "banharn silpa - archa banharn silpa-archa\n",
      "u. n. u.n.\n",
      "u. n. u.n.\n",
      "u. n. u.n.\n",
      "an - nahar an-nahar\n"
     ]
    },
    {
     "name": "stderr",
     "output_type": "stream",
     "text": [
      "\r",
      " 55%|█████▌    | 523/946 [00:04<00:03, 116.31it/s]"
     ]
    },
    {
     "name": "stdout",
     "output_type": "stream",
     "text": [
      "u. n. u.n.\n",
      "u. n. u.n.\n",
      "u. n. u.n.\n",
      "u. s. u.s.\n",
      "u. s. u.s.\n",
      "british - based british-based\n",
      "inzamam - ul - haq inzamam-ul-haq\n",
      "ata - ur - rehman ata-ur-rehman\n",
      "ata - ur - rehman ata-ur-rehman\n",
      "u. s. open u.s. open\n",
      "u. s. u.s.\n",
      "u. s. open u.s. open\n",
      "u. s. open u.s. open\n",
      "u. s. u.s.\n",
      "u. s. u.s.\n",
      "alexia dechaume - balleret alexia dechaume-balleret\n",
      "u. s. u.s.\n",
      "u. s. u.s.\n",
      "u. s. u.s.\n",
      "u. s. u.s.\n",
      "u. s. u.s.\n",
      "u. s. u.s.\n",
      "u. s. u.s.\n",
      "u. s. u.s.\n",
      "u. s. u.s.\n",
      "u. s. u.s.\n",
      "u. s. u.s.\n",
      "u. s. u.s.\n",
      "u. s. u.s.\n",
      "u. s. u.s.\n",
      "virginia ruano - pascual virginia ruano-pascual\n",
      "u. s. u.s.\n",
      "u. s. u.s.\n",
      "u. s. u.s.\n",
      "u. s. u.s.\n",
      "u. s. u.s.\n",
      "u. s. u.s.\n",
      "u. s. u.s.\n",
      "u. s. u.s.\n"
     ]
    },
    {
     "name": "stderr",
     "output_type": "stream",
     "text": [
      " 59%|█████▊    | 554/946 [00:04<00:03, 111.56it/s]"
     ]
    },
    {
     "name": "stdout",
     "output_type": "stream",
     "text": [
      "u. s. open u.s. open\n",
      "jean - pierre cyprien jean-pierre cyprien\n",
      "budapest - based budapest-based\n",
      "n. j. n.j.\n",
      "u. s. u.s.\n",
      "u. s. u.s.\n",
      "itar - tass itar-tass\n",
      "itar - tass itar-tass\n"
     ]
    },
    {
     "name": "stderr",
     "output_type": "stream",
     "text": [
      " 61%|██████▏   | 581/946 [00:04<00:03, 119.30it/s]"
     ]
    },
    {
     "name": "stdout",
     "output_type": "stream",
     "text": [
      "itar - tass itar-tass\n",
      "itar - tass itar-tass\n",
      "u. s. u.s.\n",
      "u. n. u.n.\n",
      "u. n. u.n.\n",
      "u. n. u.n.\n",
      "boutros boutros - ghali boutros boutros-ghali\n",
      "u. n. u.n.\n",
      "u. n. u.n.\n",
      "u. n. u.n.\n",
      "u. n. u.n.\n",
      "u. n. u.n.\n",
      "u. n. u.n.\n",
      "u. n. u.n.\n",
      "u. s. u.s.\n",
      "u. s. u.s.\n",
      "u. s. u.s.\n",
      "u. s. u.s.\n",
      "Wisc .   Wisc.\n",
      "Wisc .   Wisc.\n",
      "wisc. wisc .\n",
      "wisc. wisc .\n",
      "Washington , D.C.   Washington, D.C.\n",
      "washington, d. c. washington , d.c.\n"
     ]
    },
    {
     "name": "stderr",
     "output_type": "stream",
     "text": [
      " 66%|██████▌   | 625/946 [00:05<00:02, 134.02it/s]"
     ]
    },
    {
     "name": "stdout",
     "output_type": "stream",
     "text": [
      "u. s. u.s.\n",
      "u. s. u.s.\n",
      "u. n. u.n.\n",
      "u. s. u.s.\n",
      "u. s. u.s.\n",
      "vancouver - based vancouver-based\n",
      "toronto - based toronto-based\n",
      "u. s. u.s.\n",
      "british - based british-based\n",
      "us $ us$\n",
      "u. s. u.s.\n"
     ]
    },
    {
     "name": "stderr",
     "output_type": "stream",
     "text": [
      "\r",
      " 68%|██████▊   | 639/946 [00:05<00:02, 126.79it/s]"
     ]
    },
    {
     "name": "stdout",
     "output_type": "stream",
     "text": [
      "u. n. u.n.\n",
      "u. s. u.s.\n",
      "u. s. u.s.\n",
      "u. s. u.s.\n",
      "u. s. u.s.\n",
      "u. s. postal u.s. postal\n",
      "u. s. u.s.\n",
      "u. s. u.s.\n",
      "u. s. postal u.s. postal\n",
      "u. s. u.s.\n",
      "u. s. u.s.\n",
      "u. s. u.s.\n",
      "u. s. u.s.\n",
      "u. s. u.s.\n",
      "chester - le - street chester-le-street\n",
      "2, 000 guineas 2,000 guineas\n"
     ]
    },
    {
     "name": "stderr",
     "output_type": "stream",
     "text": [
      " 72%|███████▏  | 678/946 [00:05<00:02, 115.19it/s]"
     ]
    },
    {
     "name": "stdout",
     "output_type": "stream",
     "text": [
      "kwazulu - natal kwazulu-natal\n",
      "u. s. open u.s. open\n",
      "u. s. open tennis championships u.s. open tennis championships\n",
      "jean - philippe fleurian jean-philippe fleurian\n",
      "u. s. open u.s. open\n",
      "u. s. open u.s. open\n",
      "u. s. open tennis championships u.s. open tennis championships\n",
      "u. s. u.s.\n",
      "u. s. u.s.\n",
      "anne - gaelle sidot anne-gaelle sidot\n",
      "jean - philippe fleurian jean-philippe fleurian\n",
      "u. s. u.s.\n",
      "u. s. u.s.\n",
      "u. s. u.s.\n",
      "u. s. u.s.\n",
      "u. s. u.s.\n",
      "u. s. u.s.\n",
      "u. s. u.s.\n",
      "u. s. u.s.\n",
      "u. s u.s\n",
      "brenda schultz - mccarthy brenda schultz-mccarthy\n",
      "u. s. u.s.\n",
      "u. s. open u.s. open\n",
      "jean - paul van gastel jean-paul van gastel\n",
      "marc - vivien foe marc-vivien foe\n",
      "marc - vivien foe marc-vivien foe\n"
     ]
    },
    {
     "name": "stderr",
     "output_type": "stream",
     "text": [
      " 75%|███████▌  | 711/946 [00:05<00:01, 135.51it/s]"
     ]
    },
    {
     "name": "stdout",
     "output_type": "stream",
     "text": [
      "paris saint - germain paris saint-germain\n",
      "u. s. u.s.\n",
      "p. w. botha p.w. botha\n",
      "u. s. u.s.\n",
      "u. s. u.s.\n",
      "u. s. district court u.s. district court\n",
      "u. s. u.s.\n",
      "u. s. district court u.s. district court\n",
      "n. j. n.j.\n",
      "u. s. u.s.\n",
      "u. s. treasury u.s. treasury\n",
      "u. s. treasury u.s. treasury\n",
      "u. k. u.k.\n",
      "u. s. u.s.\n",
      "u. s. u.s.\n",
      "u. s. u.s.\n",
      "u. s. u.s.\n",
      "j. s. bach j.s. bach\n",
      "u. s. u.s.\n",
      "u. n. u.n.\n",
      "u. n. u.n.\n",
      "u. s. open u.s. open\n",
      "u. s. open u.s. open\n"
     ]
    },
    {
     "name": "stderr",
     "output_type": "stream",
     "text": [
      " 78%|███████▊  | 740/946 [00:06<00:01, 131.80it/s]"
     ]
    },
    {
     "name": "stdout",
     "output_type": "stream",
     "text": [
      "u. s. - based u.s.-based\n",
      "u. s. u.s.\n",
      "u. s. u.s.\n",
      "u. s. u.s.\n",
      "u. s. u.s.\n",
      "u. s. u.s.\n",
      "u. s. u.s.\n",
      "u. s. u.s.\n",
      "u. n. security council u.n. security council\n",
      "u. n. u.n.\n",
      "u. s u.s\n"
     ]
    },
    {
     "name": "stderr",
     "output_type": "stream",
     "text": [
      " 81%|████████▏ | 770/946 [00:06<00:01, 135.69it/s]"
     ]
    },
    {
     "name": "stdout",
     "output_type": "stream",
     "text": [
      "al - aqsa al-aqsa\n",
      "n. j. n.j.\n",
      "n. y. n.y.\n",
      "Colo .   Colo.\n",
      "colo. colo .\n",
      "u. s. u.s.\n",
      "u. s. u.s.\n",
      "u. s. u.s.\n",
      "u. s. u.s.\n",
      "u. s. u.s.\n",
      "u. s. u.s.\n",
      "u. s. court of appeals u.s. court of appeals\n",
      "u. s. court of appeals u.s. court of appeals\n",
      "u. s. u.s.\n",
      "british - based british-based\n",
      "u. s. u.s.\n",
      "mi - 17 mi-17\n"
     ]
    },
    {
     "name": "stderr",
     "output_type": "stream",
     "text": [
      " 85%|████████▍ | 800/946 [00:06<00:01, 141.45it/s]"
     ]
    },
    {
     "name": "stdout",
     "output_type": "stream",
     "text": [
      "hk $ hk$\n",
      "h. k. h.k.\n",
      "h. k. h.k.\n",
      "u. s. u.s.\n",
      "u. s. u.s.\n",
      "u. s. u.s.\n",
      "hk $ hk$\n",
      "hk $ hk$\n",
      "u. s. u.s.\n",
      "u. s u.s\n",
      "us $ us$\n",
      "u. n. u.n.\n",
      "u. n. u.n.\n",
      "u. n. u.n.\n",
      "boutros boutros - ghali boutros boutros-ghali\n",
      "u. n. u.n.\n",
      "u. n. u.n.\n",
      "u. n. u.n.\n",
      "new york - based new york-based\n",
      "creutzfeldt - jakob disease creutzfeldt-jakob disease\n",
      "creutzfeldt - jakob disease creutzfeldt-jakob disease\n",
      "u. s. u.s.\n",
      "inzamam - ul - haq inzamam-ul-haq\n",
      "inzamam - ul - haq inzamam-ul-haq\n",
      "ata - ur - rehman ata-ur-rehman\n",
      "ata - ur - rehman ata-ur-rehman\n",
      "u. s. u.s.\n",
      "u. s. u.s.\n",
      "u. s. postal u.s. postal\n",
      "u. s. postal u.s. postal\n",
      "inzamam - ul - haq inzamam-ul-haq\n",
      "ata - ur - rehman ata-ur-rehman\n",
      "chester - le - street chester-le-street\n"
     ]
    },
    {
     "name": "stderr",
     "output_type": "stream",
     "text": [
      " 90%|████████▉ | 850/946 [00:06<00:00, 145.16it/s]"
     ]
    },
    {
     "name": "stdout",
     "output_type": "stream",
     "text": [
      "u. s. open u.s. open\n",
      "u. s. open tennis championships u.s. open tennis championships\n",
      "u. s. u.s.\n",
      "u. s. u.s.\n",
      "u. s. u.s.\n",
      "u. s. u.s.\n",
      "u. s. u.s.\n",
      "u. s. u.s.\n",
      "u. s. u.s.\n",
      "u. s. u.s.\n",
      "u. s. u.s.\n",
      "u. s. open u.s. open\n",
      "u. s. open u.s. open\n",
      "u. s. u.s.\n",
      "u. s. u.s.\n",
      "u. s. u.s.\n",
      "u. s. u.s.\n",
      "ken saro - wiwa ken saro-wiwa\n",
      "u. n. u.n.\n",
      "ak - 47 ak-47\n",
      "u. s. u.s.\n",
      "u. n. u.n.\n",
      "u. s. u.s.\n"
     ]
    },
    {
     "name": "stderr",
     "output_type": "stream",
     "text": [
      " 93%|█████████▎| 884/946 [00:07<00:00, 150.14it/s]"
     ]
    },
    {
     "name": "stdout",
     "output_type": "stream",
     "text": [
      "hk $ hk$\n",
      "us $ us$\n",
      "hk $ hk$\n",
      "u. s. u.s.\n",
      "banharn silpa - archa banharn silpa-archa\n",
      "u. s. u.s.\n",
      "u. s. u.s.\n",
      "u. s. u.s.\n",
      "u. s. u.s.\n",
      "u. s. u.s.\n",
      "u. s. u.s.\n",
      "n. j. n.j.\n",
      "o. j. simpson o.j. simpson\n",
      "o. j. simpson o.j. simpson\n",
      "u. s. u.s.\n",
      "u. s. u.s.\n",
      "u. s. u.s.\n",
      "u. s. u.s.\n",
      "u. s. u.s.\n",
      "Colo .   Colo.\n",
      "colo. colo .\n",
      "u. s. u.s.\n",
      "u. s. u.s.\n",
      "u. s. u.s.\n",
      "u. s. u.s.\n"
     ]
    },
    {
     "name": "stderr",
     "output_type": "stream",
     "text": [
      " 97%|█████████▋| 921/946 [00:07<00:00, 160.27it/s]"
     ]
    },
    {
     "name": "stdout",
     "output_type": "stream",
     "text": [
      "pan - turkism pan-turkism\n",
      "u. s. u.s.\n",
      "u. s. u.s.\n",
      "u. s. u.s.\n",
      "u. s. u.s.\n",
      "n. j. n.j.\n",
      "u. s. civil war u.s. civil war\n",
      "u. s. civil war u.s. civil war\n",
      "jean - louis debre jean-louis debre\n",
      "france - soir france-soir\n",
      "british - based british-based\n",
      "u. s. u.s.\n",
      "u. s. u.s.\n",
      "u. s. u.s.\n",
      "u. s. u.s.\n",
      "us $ us$\n",
      "tokyo - mitsubishi bank tokyo-mitsubishi bank\n",
      "s & p s&p\n",
      "u. s. u.s.\n",
      "u. s. u.s.\n",
      "u. s. u.s.\n"
     ]
    },
    {
     "name": "stderr",
     "output_type": "stream",
     "text": [
      "Token indices sequence length is longer than the specified maximum sequence length for this model (607 > 512). Running this sequence through the model will result in indexing errors\n",
      "100%|██████████| 946/946 [00:07<00:00, 124.25it/s]\n",
      "0it [00:00, ?it/s]"
     ]
    },
    {
     "name": "stdout",
     "output_type": "stream",
     "text": [
      "u. s. u.s.\n",
      "u. s. u.s.\n",
      "u. s. u.s.\n",
      "u. s. treasury u.s. treasury\n",
      "u. s. u.s.\n",
      "u. s. u.s.\n",
      "tea vikstedt - nyman tea vikstedt-nyman\n",
      "jean - michel bayle jean-michel bayle\n",
      "u. s. u.s.\n"
     ]
    },
    {
     "name": "stderr",
     "output_type": "stream",
     "text": [
      "946it [00:00, 9568.51it/s]\n",
      "  6%|▌         | 13/216 [00:00<00:01, 120.99it/s]"
     ]
    },
    {
     "name": "stdout",
     "output_type": "stream",
     "text": [
      "chester - le - street chester-le-street\n",
      "u. s. open u.s. open\n",
      "u. s. open tennis championships u.s. open tennis championships\n",
      "u. s. u.s.\n",
      "u. s. u.s.\n",
      "anne - gaelle sidot anne-gaelle sidot\n",
      "u. s. u.s.\n",
      "u. s. u.s.\n",
      "u. s. u.s.\n",
      "u. s. u.s.\n",
      "u. s. u.s.\n",
      "u. s. u.s.\n",
      "u. s. open u.s. open\n",
      "u. s. u.s.\n",
      "u. s. u.s.\n",
      "u. s. open u.s. open\n"
     ]
    },
    {
     "name": "stderr",
     "output_type": "stream",
     "text": [
      " 17%|█▋        | 36/216 [00:00<00:01, 99.62it/s] "
     ]
    },
    {
     "name": "stdout",
     "output_type": "stream",
     "text": [
      "u. s. u.s.\n",
      "u. s. u.s.\n",
      "u. s. u.s.\n",
      "u. s. u.s.\n",
      "u. s. u.s.\n",
      "u. s. u.s.\n",
      "u. s. u.s.\n",
      "u. s. u.s.\n",
      "u. s. u.s.\n",
      "u. s. u.s.\n",
      "u. s. u.s.\n",
      "u. s. u.s.\n",
      "u. s. u.s.\n",
      "u. s. u.s.\n",
      "u. s. u.s.\n",
      "u. s. u.s.\n",
      "u. s. u.s.\n",
      "u. s. u.s.\n",
      "u. s. u.s.\n",
      "u. s. u.s.\n",
      "u. s. u.s.\n",
      "u. s. u.s.\n",
      "u. s. u.s.\n",
      "u. s. u.s.\n",
      "u. s. u.s.\n",
      "u. s. u.s.\n",
      "u. s. u.s.\n",
      "u. s. u.s.\n",
      "u. s. u.s.\n",
      "u. s. u.s.\n",
      "u. s. treasuries u.s. treasuries\n",
      "u. s. u.s.\n",
      "u. s. treasury u.s. treasury\n",
      "u. s. u.s.\n",
      "u. s. u.s.\n",
      "itar - tass itar-tass\n",
      "u. s. u.s.\n",
      "u. s. u.s.\n",
      "u. s. u.s.\n"
     ]
    },
    {
     "name": "stderr",
     "output_type": "stream",
     "text": [
      " 35%|███▍      | 75/216 [00:00<00:01, 112.16it/s]"
     ]
    },
    {
     "name": "stdout",
     "output_type": "stream",
     "text": [
      "u. n. u.n.\n",
      "u. s u.s\n",
      "u. s. agriculture department u.s. agriculture department\n",
      "u. s. u.s.\n",
      "u. s. u.s.\n",
      "u. s. u.s.\n",
      "u. s. u.s.\n",
      "u. s. u.s.\n",
      "u. s. u.s.\n",
      "u. s. u.s.\n",
      "u. s. u.s.\n",
      "u. s. u.s.\n",
      "u. s. u.s.\n",
      "u. s. u.s.\n",
      "u. s. u.s.\n",
      "u. s. treasury department u.s. treasury department\n",
      "u. s. u.s.\n",
      "u. n. u.n.\n",
      "boston - based boston-based\n",
      "u. s. u.s.\n",
      "u. s. u.s.\n",
      "u. s. u.s.\n",
      "u. s. u.s.\n",
      "u. s. u.s.\n",
      "u. s. u.s.\n",
      "u. s. u.s.\n",
      "u. s. u.s.\n"
     ]
    },
    {
     "name": "stderr",
     "output_type": "stream",
     "text": [
      " 49%|████▉     | 106/216 [00:00<00:00, 126.42it/s]"
     ]
    },
    {
     "name": "stdout",
     "output_type": "stream",
     "text": [
      "al - aqsa al-aqsa\n",
      "al - aqsa al-aqsa\n",
      "al - aqsa al-aqsa\n",
      "u. s. u.s.\n",
      "u. s. u.s.\n",
      "u. s. u.s.\n",
      "nagorno - karabakh nagorno-karabakh\n",
      "nagorno - karabakh nagorno-karabakh\n",
      "nagorno - karabakh nagorno-karabakh\n",
      "nagorno - karabakh nagorno-karabakh\n",
      "u. n. u.n.\n",
      "u. n. u.n.\n",
      "brazilian - born brazilian-born\n",
      "u. s. u.s.\n",
      "ata - ur - rehman ata-ur-rehman\n",
      "ata - ur - rehman ata-ur-rehman\n",
      "inzamam - ul - haq inzamam-ul-haq\n",
      "ata - ur - rehman ata-ur-rehman\n",
      "lucy tyler - sharman lucy tyler-sharman\n",
      "u. s. u.s.\n",
      "u. s. u.s.\n",
      "u. s. u.s.\n",
      "lucy tyler - sharman lucy tyler-sharman\n"
     ]
    },
    {
     "name": "stderr",
     "output_type": "stream",
     "text": [
      " 61%|██████    | 131/216 [00:01<00:00, 116.44it/s]"
     ]
    },
    {
     "name": "stdout",
     "output_type": "stream",
     "text": [
      "inzamam - ul - haq inzamam-ul-haq\n",
      "ata - ur - rehman ata-ur-rehman\n",
      "jed - forest jed-forest\n",
      "chester - le - street chester-le-street\n",
      "u. s. u.s.\n",
      "u. s. u.s.\n",
      "u. s. u.s.\n",
      "u. s. u.s.\n",
      "u. s. u.s.\n"
     ]
    },
    {
     "name": "stderr",
     "output_type": "stream",
     "text": [
      " 72%|███████▏  | 156/216 [00:01<00:00, 105.59it/s]"
     ]
    },
    {
     "name": "stdout",
     "output_type": "stream",
     "text": [
      "u. s. u.s.\n",
      "u. s. open u.s. open\n",
      "u. s. u.s.\n",
      "u. s. u.s.\n",
      "u. s. u.s.\n",
      "u. s. open u.s. open\n",
      "u. s. open u.s. open\n",
      "u. s. open tennis championships u.s. open tennis championships\n",
      "u. s. open u.s. open\n",
      "u. s. u.s.\n",
      "u. s. u.s.\n",
      "joe - max moore joe-max moore\n",
      "u. s. open u.s. open\n",
      "u. s. u.s.\n"
     ]
    },
    {
     "name": "stderr",
     "output_type": "stream",
     "text": [
      " 85%|████████▍ | 183/216 [00:01<00:00, 112.06it/s]"
     ]
    },
    {
     "name": "stdout",
     "output_type": "stream",
     "text": [
      "henry campbell - bannerman henry campbell-bannerman\n",
      "u. s. u.s.\n",
      "u. s. u.s.\n",
      "u. s. u.s.\n",
      "u. n. u.n.\n",
      "u. s. u.s.\n",
      "london - based london-based\n",
      "u. s. u.s.\n",
      "u. n. u.n.\n",
      "u. n. u.n.\n",
      "u. n. u.n.\n",
      "urus - martan urus-martan\n",
      "urus - martan urus-martan\n",
      "urus - martan urus-martan\n",
      "u. n. u.n.\n",
      "u. s. u.s.\n",
      "u. s. u.s.\n",
      "ak - 47s ak-47s\n",
      "new york - based new york-based\n",
      "new york - based new york-based\n",
      "new york - based new york-based\n",
      "u. n. u.n.\n",
      "u. s. u.s.\n",
      "u. s. u.s.\n"
     ]
    },
    {
     "name": "stderr",
     "output_type": "stream",
     "text": [
      "100%|██████████| 216/216 [00:01<00:00, 117.98it/s]\n",
      "0it [00:00, ?it/s]"
     ]
    },
    {
     "name": "stdout",
     "output_type": "stream",
     "text": [
      "u. n. u.n.\n",
      "u. s. u.s.\n",
      "u. n. u.n.\n",
      "u. n. u.n.\n",
      "u. n. u.n.\n",
      "zine al - abidine ben ali zine al-abidine ben ali\n",
      "u. s. u.s.\n",
      "u. s. u.s.\n",
      "u. s. u.s.\n",
      "u. s. u.s.\n",
      "u. s. u.s.\n",
      "u. s. u.s.\n",
      "u. s. u.s.\n",
      "u. s. u.s.\n",
      "u. s. u.s.\n",
      "u. s. u.s.\n",
      "u. s. u.s.\n",
      "u. s. u.s.\n",
      "u. s. u.s.\n",
      "u. s. u.s.\n",
      "u. s. u.s.\n",
      "u. s. u.s.\n",
      "u. n. security council u.n. security council\n",
      "mao tse - tung mao tse-tung\n"
     ]
    },
    {
     "name": "stderr",
     "output_type": "stream",
     "text": [
      "216it [00:00, 1979.31it/s]\n",
      " 11%|█▏        | 26/231 [00:00<00:01, 110.48it/s]"
     ]
    },
    {
     "name": "stdout",
     "output_type": "stream",
     "text": [
      "al - ain al-ain\n",
      "al - ain al-ain\n",
      "jean - luc brassard jean-luc brassard\n",
      "u. s. u.s.\n",
      "u. s. u.s.\n",
      "u. s. u.s.\n",
      "u. s. u.s.\n",
      "u. s. u.s.\n",
      "al - ain al-ain\n",
      "pau - orthez pau-orthez\n",
      "u. s. u.s.\n",
      "u. s. u.s.\n",
      "thomas stuer - lauridsen thomas stuer-lauridsen\n",
      "poul - erik hoyer - larsen poul-erik hoyer-larsen\n"
     ]
    },
    {
     "name": "stderr",
     "output_type": "stream",
     "text": [
      " 23%|██▎       | 54/231 [00:00<00:01, 104.08it/s]"
     ]
    },
    {
     "name": "stdout",
     "output_type": "stream",
     "text": [
      "paris saint - germain paris saint-germain\n",
      "u. s. u.s.\n",
      "kwazulu - natal kwazulu-natal\n",
      "kwazulu - natal kwazulu-natal\n",
      "u. s. u.s.\n"
     ]
    },
    {
     "name": "stderr",
     "output_type": "stream",
     "text": [
      " 40%|███▉      | 92/231 [00:00<00:01, 128.81it/s]"
     ]
    },
    {
     "name": "stdout",
     "output_type": "stream",
     "text": [
      "u. s. u.s.\n",
      "u. s. u.s.\n",
      "u. s u.s\n",
      "u. s. u.s.\n",
      "u. s. u.s.\n",
      "u. s. u.s.\n",
      "u. s. u.s.\n",
      "n. m. n.m.\n",
      "n. j. n.j.\n",
      "u. n. u.n.\n",
      "u. s. u.s.\n",
      "u. n. u.n.\n",
      "u. n. u.n.\n",
      "u. n. u.n.\n",
      "u. n. u.n.\n",
      "boutros boutros - ghali boutros boutros-ghali\n",
      "ange - felix patasse ange-felix patasse\n",
      "itar - tass itar-tass\n",
      "u. s. u.s.\n",
      "u. s. u.s.\n",
      "itar - tass itar-tass\n"
     ]
    },
    {
     "name": "stderr",
     "output_type": "stream",
     "text": [
      " 53%|█████▎    | 122/231 [00:00<00:00, 137.70it/s]"
     ]
    },
    {
     "name": "stdout",
     "output_type": "stream",
     "text": [
      "u. s. u.s.\n",
      "u. s. u.s.\n",
      "u. s. u.s.\n",
      "u. s. treasury u.s. treasury\n",
      "u. s. u.s.\n",
      "s & p s&p\n",
      "u. s. supreme court u.s. supreme court\n",
      "u. s. court of appeals u.s. court of appeals\n",
      "u. s. u.s.\n",
      "u. s. u.s.\n",
      "u. s. u.s.\n",
      "u. s. u.s.\n",
      "u. n. u.n.\n",
      "u. n. u.n.\n",
      "boutros boutros - ghali boutros boutros-ghali\n",
      "u. n. u.n.\n",
      "u. n. u.n.\n",
      "u. n. u.n.\n",
      "boutros - ghali boutros-ghali\n",
      "boutros - ghali boutros-ghali\n"
     ]
    },
    {
     "name": "stderr",
     "output_type": "stream",
     "text": [
      " 71%|███████   | 164/231 [00:01<00:00, 163.62it/s]"
     ]
    },
    {
     "name": "stdout",
     "output_type": "stream",
     "text": [
      "u. s. u.s.\n",
      "u. s. u.s.\n",
      "u. s. u.s.\n",
      "u. s. u.s.\n",
      "n. m. n.m.\n",
      "u. s. u.s.\n",
      "u. s. - based u.s.-based\n",
      "euro - sceptic euro-sceptic\n",
      "euro - sceptic euro-sceptic\n",
      "u. n. u.n.\n",
      "u. n. u.n.\n",
      "u. s. u.s.\n",
      "bre - x bre-x\n",
      "bre - x bre-x\n",
      "bre - x bre-x\n",
      "bre - x bre-x\n",
      "bre - x bre-x\n",
      "bre - x bre-x\n",
      "bre - x bre-x\n",
      "bre - x bre-x\n",
      "bre - x bre-x\n",
      "bre - x bre-x\n",
      "bre - x bre-x\n",
      "bre - x bre-x\n",
      "bre - x bre-x\n"
     ]
    },
    {
     "name": "stderr",
     "output_type": "stream",
     "text": [
      " 87%|████████▋ | 200/231 [00:01<00:00, 148.94it/s]"
     ]
    },
    {
     "name": "stdout",
     "output_type": "stream",
     "text": [
      "u. s. u.s.\n",
      "u. s. u.s.\n",
      "us $ us$\n",
      "u. s. u.s.\n",
      "u. s. u.s.\n",
      "u. s. u.s.\n",
      "u. s. u.s.\n",
      "u. s. u.s.\n",
      "u. s. u.s.\n",
      "u. s. u.s.\n",
      "simone greiner - petter - memm simone greiner-petter-memm\n",
      "greiner - petter - memm greiner-petter-memm\n",
      "u. s u.s\n",
      "u. s. u.s.\n",
      "ari - pekka nikkola ari-pekka nikkola\n",
      "kim yoon - man kim yoon-man\n",
      "kim yoon - man kim yoon-man\n",
      "u. s. u.s.\n",
      "u. s. u.s.\n",
      "nick farr - jones nick farr-jones\n"
     ]
    },
    {
     "name": "stderr",
     "output_type": "stream",
     "text": [
      "100%|██████████| 231/231 [00:01<00:00, 141.67it/s]\n",
      "0it [00:00, ?it/s]"
     ]
    },
    {
     "name": "stdout",
     "output_type": "stream",
     "text": [
      "f. a. challenge cup f.a. challenge cup\n",
      "u. s. u.s.\n",
      "n. ireland n.ireland\n"
     ]
    },
    {
     "name": "stderr",
     "output_type": "stream",
     "text": [
      "231it [00:00, 6609.44it/s]\n"
     ]
    }
   ],
   "source": [
    "in_fpath = 'AIDA-YAGO2-en_desc'\n",
    "out_fpath = in_fpath+'-ELQ'\n",
    "\n",
    "fnames = ['train.json', 'dev.json', 'test.json']\n",
    "num_longs = []\n",
    "\n",
    "for fname in fnames:\n",
    "    in_fname = os.path.join(in_fpath, fname)\n",
    "    with open(in_fname) as fin:\n",
    "        orig_data = json.load(fin)\n",
    "    \n",
    "    elq_tokenized = []\n",
    "    for sample in tqdm(orig_data):\n",
    "        elq_sample = to_elq_tokenized(sample)\n",
    "        elq_tokenized.append(elq_sample)\n",
    "    \n",
    "    fname = fname+'l'\n",
    "    out_fname = os.path.join(out_fpath, fname)\n",
    "    \n",
    "    num_long = []\n",
    "    with open(out_fname, 'w') as wf:\n",
    "        for i, example in tqdm(enumerate(elq_tokenized)):\n",
    "            if len(example['tokenized_text_ids']) > 512:\n",
    "                num_long.append(i)\n",
    "            b = wf.write(json.dumps(example) + \"\\n\")\n",
    "    num_longs.append(num_long)"
   ]
  },
  {
   "cell_type": "code",
   "execution_count": 7,
   "metadata": {},
   "outputs": [
    {
     "name": "stderr",
     "output_type": "stream",
     "text": [
      "  4%|▎         | 35/946 [00:00<00:05, 156.94it/s]"
     ]
    },
    {
     "name": "stdout",
     "output_type": "stream",
     "text": [
      "u. s. u.s.\n",
      "eliahu ben - elissar eliahu ben-elissar\n",
      "u. n. u.n.\n",
      "an - nahar an-nahar\n",
      "as - safir as-safir\n",
      "ad - diyar ad-diyar\n",
      "sud - ptt sud-ptt\n",
      "u. s. u.s.\n",
      "d. a. weibring d.a. weibring\n",
      "shi - ting wang shi-ting wang\n",
      "u. s. u.s.\n",
      "u. s. u.s.\n",
      "u. s. u.s.\n",
      "weston - super - mare weston-super-mare\n",
      "inzamam - ul - haq inzamam-ul-haq\n"
     ]
    },
    {
     "name": "stderr",
     "output_type": "stream",
     "text": [
      "\r",
      "  5%|▍         | 44/946 [00:00<00:07, 125.99it/s]"
     ]
    },
    {
     "name": "stdout",
     "output_type": "stream",
     "text": [
      "f. a. cup f.a. cup\n",
      "u. s. u.s.\n",
      "u. s. u.s.\n",
      "u. s. u.s.\n",
      "u. s. u.s.\n",
      "mypa - 47 mypa-47\n",
      "u. s. open u.s. open\n",
      "u. s. open u.s. open\n",
      "u. s u.s\n",
      "u. s. u.s.\n",
      "jean - philippe fleurian jean-philippe fleurian\n",
      "u. s. u.s.\n",
      "u. s. u.s.\n",
      "u. s. u.s.\n",
      "u. s. u.s.\n",
      "u. s. u.s.\n",
      "u. s. u.s.\n",
      "u. s. u.s.\n",
      "u. s. u.s.\n",
      "carl - uwe steeb carl-uwe steeb\n",
      "u. s. u.s.\n",
      "u. s. u.s.\n",
      "u. s. u.s.\n",
      "u. s. u.s.\n",
      "u. s. u.s.\n",
      "u. s. u.s.\n",
      "u. s. u.s.\n",
      "u. s. u.s.\n",
      "u. s. u.s.\n",
      "u. s. u.s.\n",
      "u. s. u.s.\n",
      "u. s. u.s.\n"
     ]
    },
    {
     "name": "stderr",
     "output_type": "stream",
     "text": [
      "  6%|▋         | 61/946 [00:00<00:10, 83.59it/s] "
     ]
    },
    {
     "name": "stdout",
     "output_type": "stream",
     "text": [
      "a. l. east a.l. east\n",
      "jose - maria canizares jose-maria canizares\n",
      "u. s. federal district court u.s. federal district court\n",
      "u. s. district court u.s. district court\n"
     ]
    },
    {
     "name": "stderr",
     "output_type": "stream",
     "text": [
      " 10%|▉         | 91/946 [00:00<00:09, 94.44it/s]"
     ]
    },
    {
     "name": "stdout",
     "output_type": "stream",
     "text": [
      "u. s. open u.s. open\n",
      "u. s. open u.s. open\n",
      "u. s. open u.s. open\n",
      "u. s. u.s.\n",
      "u. n. u.n.\n",
      "u. s. u.s.\n",
      "s & p s&p\n",
      "itar - tass itar-tass\n"
     ]
    },
    {
     "name": "stderr",
     "output_type": "stream",
     "text": [
      " 12%|█▏        | 113/946 [00:01<00:08, 98.42it/s]"
     ]
    },
    {
     "name": "stdout",
     "output_type": "stream",
     "text": [
      "u. s. u.s.\n",
      "u. n. security council u.n. security council\n",
      "hassan al - turabi hassan al-turabi\n",
      "los angeles - based los angeles-based\n",
      "u. s. u.s.\n",
      "u. s. u.s.\n",
      "neo - nazi neo-nazi\n",
      "neo - nazism neo-nazism\n",
      "neo - nazi neo-nazi\n",
      "u. s u.s\n",
      "neo - nazism neo-nazism\n",
      "nsdap - ao nsdap-ao\n",
      "u. n. u.n.\n",
      "u. s. u.s.\n",
      "i. k. gujral i.k. gujral\n",
      "h. d. deve gowda h.d. deve gowda\n",
      "us $ us$\n",
      "u. s. u.s.\n",
      "us $ us$\n",
      "u. s. u.s."
     ]
    },
    {
     "name": "stderr",
     "output_type": "stream",
     "text": [
      " 14%|█▍        | 135/946 [00:01<00:08, 99.48it/s] "
     ]
    },
    {
     "name": "stdout",
     "output_type": "stream",
     "text": [
      "\n",
      "u. s. u.s.\n",
      "harper - collins harper-collins\n",
      "u. s. u.s.\n",
      "harper - collins harper-collins\n",
      "us $ us$\n",
      "nz $ nz$\n",
      "hk $ hk$\n",
      "hk $ hk$\n",
      "ftse - 100 ftse-100\n",
      "post - soviet post-soviet\n",
      "post - soviet post-soviet\n",
      "u. s. u.s.\n",
      "academy award - winning academy award-winning\n",
      "spa - francorchamps spa-francorchamps\n",
      "heinz - harald frentzen heinz-harald frentzen\n",
      "weston - super - mare weston-super-mare\n",
      "inzamam - ul - haq inzamam-ul-haq\n",
      "inzamam - ul - haq inzamam-ul-haq\n"
     ]
    },
    {
     "name": "stderr",
     "output_type": "stream",
     "text": [
      " 17%|█▋        | 160/946 [00:01<00:07, 109.27it/s]"
     ]
    },
    {
     "name": "stdout",
     "output_type": "stream",
     "text": [
      "u. s. u.s.\n",
      "u. s. u.s.\n",
      "u. s. u.s.\n",
      "u. s. open u.s. open\n",
      "u. s. open tennis championships u.s. open tennis championships\n",
      "u. s. tennis association u.s. tennis association\n",
      "u. s. u.s.\n",
      "u. s. u.s.\n"
     ]
    },
    {
     "name": "stderr",
     "output_type": "stream",
     "text": [
      " 20%|█▉        | 189/946 [00:01<00:06, 117.68it/s]"
     ]
    },
    {
     "name": "stdout",
     "output_type": "stream",
     "text": [
      "patricia girard - leno patricia girard-leno\n",
      "u. s. u.s.\n",
      "u. s. u.s.\n",
      "u. s. u.s.\n",
      "u. s. u.s.\n",
      "u. s. u.s.\n",
      "u. s. u.s.\n",
      "u. s. u.s.\n",
      "u. s. u.s.\n",
      "u. s. u.s.\n",
      "u. s. u.s.\n",
      "u. s. u.s.\n",
      "u. s. u.s.\n",
      "u. s. u.s.\n",
      "u. s. u.s.\n",
      "u. s. u.s.\n",
      "u. s. u.s.\n",
      "u. s. u.s.\n",
      "u. s. u.s.\n",
      "u. s. u.s.\n",
      "u. s. u.s.\n",
      "u. s. u.s.\n",
      "u. s. u.s.\n",
      "u. s. u.s.\n",
      "u. s. u.s.\n",
      "u. s. u.s.\n",
      "marie - jose perec marie-jose perec\n",
      "u. s. u.s.\n",
      "u. s. u.s.\n",
      "u. s. u.s.\n",
      "u. s. u.s.\n",
      "toronto - based toronto-based\n",
      "u. s. u.s.\n",
      "boston - based boston-based\n",
      "u. s. u.s.\n",
      "u. s. u.s.\n",
      "u. s. u.s.\n",
      "inzamam - ul - haq inzamam-ul-haq\n",
      "t - 72 t-72\n",
      "u. s. u.s.\n",
      "u. s. u.s.\n",
      "u. s. u.s.\n",
      "u. s. u.s.\n",
      "u. s. u.s.\n",
      "u. s. u.s.\n",
      "wbur - fm wbur-fm\n",
      "u. s. u.s.\n",
      "u. s. u.s.\n",
      "u. s. u.s.\n",
      "u. s. state department u.s. state department\n",
      "u. s. u.s.\n"
     ]
    },
    {
     "name": "stderr",
     "output_type": "stream",
     "text": [
      " 23%|██▎       | 220/946 [00:01<00:05, 128.06it/s]"
     ]
    },
    {
     "name": "stdout",
     "output_type": "stream",
     "text": [
      "u. s. u.s.\n",
      "windows nt 4. 0 windows nt 4.0\n",
      "u. s. u.s.\n",
      "u. s. u.s.\n",
      "u. s. u.s.\n",
      "u. s. u.s.\n",
      "f. b. i. f.b.i.\n",
      "u. s. u.s.\n",
      "u. s. navy u.s. navy\n",
      "us $ us$\n",
      "hk $ hk$\n",
      "h. k. h.k.\n",
      "h. k. h.k.\n",
      "u. s. u.s.\n",
      "u. s. u.s.\n",
      "u. s. u.s.\n"
     ]
    },
    {
     "name": "stderr",
     "output_type": "stream",
     "text": [
      " 27%|██▋       | 258/946 [00:02<00:05, 124.77it/s]"
     ]
    },
    {
     "name": "stdout",
     "output_type": "stream",
     "text": [
      "spa - francorchamps spa-francorchamps\n",
      "heinz - harald frentzen heinz-harald frentzen\n",
      "u. s. u.s.\n",
      "u. s. u.s.\n",
      "u. s. u.s.\n",
      "u. s. u.s.\n",
      "d. a. weibring d.a. weibring\n",
      "inzamam - ul - haq inzamam-ul-haq\n",
      "weston - super - mare weston-super-mare\n",
      "u. s. u.s.\n",
      "u. s. u.s.\n"
     ]
    },
    {
     "name": "stderr",
     "output_type": "stream",
     "text": [
      " 31%|███       | 290/946 [00:02<00:04, 138.92it/s]"
     ]
    },
    {
     "name": "stdout",
     "output_type": "stream",
     "text": [
      "paris saint - germain paris saint-germain\n",
      "inzamam - ul - haq inzamam-ul-haq\n",
      "u. s. u.s.\n",
      "u. s. u.s.\n",
      "u. n. u.n.\n",
      "boutros boutros - ghali boutros boutros-ghali\n",
      "u. s. u.s.\n",
      "u. s. u.s.\n"
     ]
    },
    {
     "name": "stderr",
     "output_type": "stream",
     "text": [
      " 34%|███▎      | 319/946 [00:02<00:05, 114.34it/s]"
     ]
    },
    {
     "name": "stdout",
     "output_type": "stream",
     "text": [
      "mont - sur - marchienne mont-sur-marchienne\n",
      "el - watan el-watan\n",
      "jamaat - i - islami jamaat-i-islami\n",
      "u. s. u.s.\n",
      "d. a. weibring d.a. weibring\n",
      "u. s. u.s.\n",
      "u. s. u.s.\n",
      "jean - denis deletraz jean-denis deletraz\n",
      "pierre - henri raphanel pierre-henri raphanel\n",
      "jean - marc gounon jean-marc gounon\n",
      "u. s. u.s.\n",
      "u. s. u.s.\n",
      "u. s. u.s.\n",
      "u. s. u.s.\n",
      "u. s. u.s.\n",
      "u. s. u.s.\n",
      "u. s. u.s.\n",
      "spa - francorchamps spa-francorchamps\n",
      "heinz - harald frentzen heinz-harald frentzen\n",
      "heinz - harald frentzen heinz-harald frentzen\n",
      "u. s. u.s.\n",
      "u. s. u.s.\n",
      "u. s. u.s.\n"
     ]
    },
    {
     "name": "stderr",
     "output_type": "stream",
     "text": [
      " 37%|███▋      | 350/946 [00:02<00:04, 128.15it/s]"
     ]
    },
    {
     "name": "stdout",
     "output_type": "stream",
     "text": [
      "inzamam - ul - haq inzamam-ul-haq\n",
      "u. s. u.s.\n",
      "lisbet stuer - lauridsen lisbet stuer-lauridsen\n"
     ]
    },
    {
     "name": "stderr",
     "output_type": "stream",
     "text": [
      " 40%|███▉      | 377/946 [00:03<00:05, 103.99it/s]"
     ]
    },
    {
     "name": "stdout",
     "output_type": "stream",
     "text": [
      "u. s. u.s.\n",
      "f. w. de klerk f.w. de klerk\n",
      "p. w. botha p.w. botha\n"
     ]
    },
    {
     "name": "stderr",
     "output_type": "stream",
     "text": [
      " 42%|████▏     | 401/946 [00:03<00:05, 103.22it/s]"
     ]
    },
    {
     "name": "stdout",
     "output_type": "stream",
     "text": [
      "nz $ nz$\n",
      "u. s. u.s.\n",
      "u. s. u.s.\n",
      "u. s. u.s.\n",
      "u. s. u.s.\n",
      "u. s. u.s.\n",
      "hezb - i - islami hezb-i-islami\n",
      "post - soviet post-soviet\n",
      "u. s. treasury u.s. treasury\n"
     ]
    },
    {
     "name": "stderr",
     "output_type": "stream",
     "text": [
      " 45%|████▌     | 426/946 [00:03<00:04, 106.89it/s]"
     ]
    },
    {
     "name": "stdout",
     "output_type": "stream",
     "text": [
      "inzamam - ul - haq inzamam-ul-haq\n",
      "post - soviet post-soviet\n",
      "u. s. open u.s. open\n",
      "u. s. open u.s. open\n",
      "u. s. open u.s. open\n",
      "u. s. open u.s. open\n",
      "u. s. open u.s. open\n",
      "u. s. open u.s. open\n",
      "brenda schultz - mccarthy brenda schultz-mccarthy\n",
      "u. s. open u.s. open\n",
      "u. s. u.s.\n",
      "u. s. u.s.\n",
      "u. s. open u.s. open\n",
      "u. s. open u.s. open\n",
      "u. s. open u.s. open\n"
     ]
    },
    {
     "name": "stderr",
     "output_type": "stream",
     "text": [
      " 48%|████▊     | 452/946 [00:03<00:04, 103.76it/s]"
     ]
    },
    {
     "name": "stdout",
     "output_type": "stream",
     "text": [
      "u. s. open u.s. open\n",
      "u. s. open u.s. open\n",
      "anne - gaelle sidot anne-gaelle sidot\n",
      "brenda schultz - mccarthy brenda schultz-mccarthy\n",
      "u. s. u.s.\n",
      "u. s. u.s.\n",
      "u. s. u.s.\n",
      "u. s. u.s.\n",
      "u. s. u.s.\n",
      "u. s. u.s.\n",
      "u. s. u.s.\n",
      "u. s. u.s.\n",
      "u. s. u.s.\n",
      "u. s. u.s.\n",
      "u. s. u.s.\n",
      "sung - hee park sung-hee park\n",
      "u. s. u.s.\n",
      "carl - uwe steeb carl-uwe steeb\n",
      "u. s. u.s.\n",
      "u. s. u.s.\n",
      "u. s. u.s.\n",
      "u. s. u.s.\n",
      "jean - paul van gastel jean-paul van gastel\n",
      "jean - paul van gastel jean-paul van gastel\n",
      "u. n. u.n.\n",
      "soren jessen - petersen soren jessen-petersen\n",
      "u. n. u.n.\n",
      "itar - tass itar-tass\n"
     ]
    },
    {
     "name": "stderr",
     "output_type": "stream",
     "text": [
      " 51%|█████     | 480/946 [00:04<00:04, 113.14it/s]"
     ]
    },
    {
     "name": "stdout",
     "output_type": "stream",
     "text": [
      "u. s. u.s.\n",
      "u. s u.s\n",
      "u. k. u.k.\n",
      "u. s. senate intelligence committee u.s. senate intelligence committee\n",
      "u. s. u.s.\n",
      "u. s. u.s.\n",
      "u. s. u.s.\n",
      "u. s. u.s.\n",
      "u. s. u.s.\n",
      "u. s. u.s.\n",
      "u. s. u.s.\n",
      "u. s. midwest u.s. midwest\n",
      "u. s. midwest u.s. midwest\n",
      "u. s. u.s.\n",
      "u. s. midwest u.s. midwest\n",
      "u. s. u.s.\n",
      "Rep .   Rep.\n",
      "rep. rep .\n",
      "republican - led republican-led\n",
      "u. s. u.s.\n",
      "u. s. u.s.\n",
      "kse - 100 kse-100\n",
      "u. s. u.s.\n"
     ]
    },
    {
     "name": "stderr",
     "output_type": "stream",
     "text": [
      " 54%|█████▍    | 512/946 [00:04<00:03, 125.73it/s]"
     ]
    },
    {
     "name": "stdout",
     "output_type": "stream",
     "text": [
      "u. s. u.s.\n",
      "Goldman , Sachs & Co   Goldman, Sachs & Co\n",
      "s & p s&p\n",
      "s & p s&p\n",
      "goldman, sachs & co goldman , sachs & co\n",
      "u. s. u.s.\n",
      "spa - francorchamps spa-francorchamps\n",
      "banharn silpa - archa banharn silpa-archa\n",
      "u. n. u.n.\n",
      "u. n. u.n.\n",
      "u. n. u.n.\n",
      "an - nahar an-nahar\n",
      "as - safir as-safir\n",
      "ad - diyar ad-diyar\n",
      "in - nazzjon in-nazzjon\n",
      "l - orizzont l-orizzont\n",
      "u. n. u.n.\n",
      "u. n. u.n.\n",
      "u. n. u.n.\n",
      "u. s. u.s.\n",
      "u. s. u.s.\n",
      "british - based british-based\n"
     ]
    },
    {
     "name": "stderr",
     "output_type": "stream",
     "text": [
      " 57%|█████▋    | 539/946 [00:04<00:03, 102.33it/s]"
     ]
    },
    {
     "name": "stdout",
     "output_type": "stream",
     "text": [
      "inzamam - ul - haq inzamam-ul-haq\n",
      "ata - ur - rehman ata-ur-rehman\n",
      "ata - ur - rehman ata-ur-rehman\n",
      "u. s. open u.s. open\n",
      "u. s. u.s.\n",
      "u. s. open u.s. open\n",
      "u. s. open u.s. open\n",
      "u. s. u.s.\n",
      "u. s. u.s.\n",
      "alexia dechaume - balleret alexia dechaume-balleret\n",
      "u. s. u.s.\n",
      "u. s. u.s.\n",
      "u. s. u.s.\n",
      "u. s. u.s.\n",
      "u. s. u.s.\n",
      "u. s. u.s.\n",
      "u. s. u.s.\n",
      "u. s. u.s.\n",
      "u. s. u.s.\n",
      "u. s. u.s.\n",
      "u. s. u.s.\n",
      "u. s. u.s.\n",
      "u. s. u.s.\n",
      "u. s. u.s.\n",
      "virginia ruano - pascual virginia ruano-pascual\n",
      "u. s. u.s.\n",
      "u. s. u.s.\n",
      "u. s. u.s.\n",
      "u. s. u.s.\n",
      "u. s. u.s.\n",
      "u. s. u.s.\n",
      "u. s. u.s.\n",
      "u. s. u.s.\n",
      "u. s. open u.s. open\n"
     ]
    },
    {
     "name": "stderr",
     "output_type": "stream",
     "text": [
      " 60%|██████    | 568/946 [00:04<00:03, 117.17it/s]"
     ]
    },
    {
     "name": "stdout",
     "output_type": "stream",
     "text": [
      "jean - pierre cyprien jean-pierre cyprien\n",
      "budapest - based budapest-based\n",
      "n. j. n.j.\n",
      "u. s. u.s.\n",
      "u. s. u.s.\n",
      "itar - tass itar-tass\n",
      "itar - tass itar-tass\n",
      "itar - tass itar-tass\n",
      "itar - tass itar-tass\n"
     ]
    },
    {
     "name": "stderr",
     "output_type": "stream",
     "text": [
      " 63%|██████▎   | 597/946 [00:05<00:02, 126.47it/s]"
     ]
    },
    {
     "name": "stdout",
     "output_type": "stream",
     "text": [
      "u. s. u.s.\n",
      "u. n. u.n.\n",
      "u. n. u.n.\n",
      "u. n. u.n.\n",
      "boutros boutros - ghali boutros boutros-ghali\n",
      "u. n. u.n.\n",
      "u. n. u.n.\n",
      "u. n. u.n.\n",
      "u. n. u.n.\n",
      "u. n. u.n.\n",
      "u. n. u.n.\n",
      "u. n. u.n.\n",
      "u. s. u.s.\n",
      "u. s. u.s.\n",
      "u. s. u.s.\n",
      "u. s. u.s.\n",
      "Wisc .   Wisc.\n",
      "Wisc .   Wisc.\n",
      "wisc. wisc .\n",
      "wisc. wisc .\n",
      "Washington , D.C.   Washington, D.C.\n",
      "washington, d. c. washington , d.c.\n",
      "u. s. u.s.\n",
      "u. s. u.s.\n",
      "u. n. u.n.\n",
      "u. s. u.s.\n",
      "u. s. u.s.\n",
      "vancouver - based vancouver-based\n",
      "toronto - based toronto-based\n"
     ]
    },
    {
     "name": "stderr",
     "output_type": "stream",
     "text": [
      " 67%|██████▋   | 630/946 [00:05<00:02, 138.59it/s]"
     ]
    },
    {
     "name": "stdout",
     "output_type": "stream",
     "text": [
      "u. s. u.s.\n",
      "british - based british-based\n",
      "us $ us$\n",
      "u. s. u.s.\n",
      "u. n. u.n.\n",
      "u. s. u.s.\n",
      "u. s. u.s.\n",
      "u. s. u.s.\n",
      "u. s. u.s.\n",
      "u. s. postal u.s. postal\n",
      "u. s. u.s.\n",
      "u. s. u.s.\n"
     ]
    },
    {
     "name": "stderr",
     "output_type": "stream",
     "text": [
      " 70%|██████▉   | 662/946 [00:05<00:02, 131.71it/s]"
     ]
    },
    {
     "name": "stdout",
     "output_type": "stream",
     "text": [
      "u. s. postal u.s. postal\n",
      "u. s. u.s.\n",
      "u. s. u.s.\n",
      "u. s. u.s.\n",
      "u. s. u.s.\n",
      "u. s. u.s.\n",
      "chester - le - street chester-le-street\n",
      "2, 000 guineas 2,000 guineas\n",
      "kwazulu - natal kwazulu-natal\n",
      "u. s. open u.s. open\n",
      "u. s. open tennis championships u.s. open tennis championships\n",
      "jean - philippe fleurian jean-philippe fleurian\n",
      "u. s. open u.s. open\n",
      "u. s. open u.s. open\n",
      "u. s. open tennis championships u.s. open tennis championships\n",
      "u. s. u.s.\n",
      "u. s. u.s.\n",
      "anne - gaelle sidot anne-gaelle sidot\n",
      "jean - philippe fleurian jean-philippe fleurian\n",
      "u. s. u.s.\n",
      "u. s. u.s.\n",
      "u. s. u.s.\n",
      "u. s. u.s.\n",
      "u. s. u.s.\n",
      "u. s. u.s.\n",
      "u. s. u.s.\n",
      "u. s. u.s.\n",
      "u. s u.s\n",
      "brenda schultz - mccarthy brenda schultz-mccarthy\n",
      "u. s. u.s.\n"
     ]
    },
    {
     "name": "stderr",
     "output_type": "stream",
     "text": [
      " 73%|███████▎  | 688/946 [00:05<00:02, 97.36it/s] "
     ]
    },
    {
     "name": "stdout",
     "output_type": "stream",
     "text": [
      "u. s. open u.s. open\n",
      "jean - paul van gastel jean-paul van gastel\n",
      "marc - vivien foe marc-vivien foe\n",
      "marc - vivien foe marc-vivien foe\n",
      "paris saint - germain paris saint-germain\n"
     ]
    },
    {
     "name": "stderr",
     "output_type": "stream",
     "text": [
      "\r",
      " 74%|███████▍  | 699/946 [00:06<00:02, 90.46it/s]"
     ]
    },
    {
     "name": "stdout",
     "output_type": "stream",
     "text": [
      "u. s. u.s.\n",
      "p. w. botha p.w. botha\n",
      "u. s. u.s.\n",
      "u. s. u.s.\n",
      "u. s. district court u.s. district court\n",
      "u. s. u.s.\n",
      "u. s. district court u.s. district court\n",
      "n. j. n.j.\n",
      "u. s. u.s.\n",
      "u. s. treasury u.s. treasury\n",
      "u. s. treasury u.s. treasury\n",
      "u. k. u.k.\n",
      "u. s. u.s.\n",
      "u. s. u.s.\n",
      "u. s. u.s.\n",
      "u. s. u.s.\n",
      "j. s. bach j.s. bach\n",
      "u. s. u.s.\n",
      "u. n. u.n.\n",
      "u. n. u.n.\n",
      "u. s. open u.s. open\n",
      "u. s. open u.s. open\n"
     ]
    },
    {
     "name": "stderr",
     "output_type": "stream",
     "text": [
      " 78%|███████▊  | 738/946 [00:06<00:01, 107.67it/s]"
     ]
    },
    {
     "name": "stdout",
     "output_type": "stream",
     "text": [
      "u. s. - based u.s.-based\n",
      "u. s. u.s.\n",
      "u. s. u.s.\n",
      "u. s. u.s.\n",
      "u. s. u.s.\n",
      "u. s. u.s.\n",
      "u. s. u.s.\n",
      "u. s. u.s.\n"
     ]
    },
    {
     "name": "stderr",
     "output_type": "stream",
     "text": [
      " 81%|████████  | 764/946 [00:06<00:01, 111.99it/s]"
     ]
    },
    {
     "name": "stdout",
     "output_type": "stream",
     "text": [
      "u. n. security council u.n. security council\n",
      "u. n. u.n.\n",
      "u. s u.s\n",
      "al - aqsa al-aqsa\n",
      "n. j. n.j.\n",
      "n. y. n.y.\n",
      "Colo .   Colo.\n",
      "colo. colo .\n",
      "u. s. u.s.\n",
      "u. s. u.s.\n",
      "u. s. u.s.\n",
      "u. s. u.s.\n",
      "u. s. u.s.\n",
      "u. s. u.s.\n",
      "u. s. court of appeals u.s. court of appeals\n",
      "u. s. court of appeals u.s. court of appeals\n",
      "u. s. u.s.\n"
     ]
    },
    {
     "name": "stderr",
     "output_type": "stream",
     "text": [
      " 84%|████████▍ | 796/946 [00:06<00:01, 130.69it/s]"
     ]
    },
    {
     "name": "stdout",
     "output_type": "stream",
     "text": [
      "british - based british-based\n",
      "u. s. u.s.\n",
      "mi - 17 mi-17\n",
      "hk $ hk$\n",
      "h. k. h.k.\n",
      "h. k. h.k.\n",
      "u. s. u.s.\n",
      "u. s. u.s.\n",
      "u. s. u.s.\n",
      "hk $ hk$\n",
      "hk $ hk$\n",
      "u. s. u.s.\n",
      "u. s u.s\n",
      "us $ us$\n",
      "u. n. u.n.\n",
      "u. n. u.n.\n",
      "u. n. u.n.\n",
      "boutros boutros - ghali boutros boutros-ghali\n",
      "u. n. u.n.\n",
      "u. n. u.n.\n",
      "u. n. u.n.\n",
      "new york - based new york-based\n",
      "creutzfeldt - jakob disease creutzfeldt-jakob disease\n",
      "creutzfeldt - jakob disease creutzfeldt-jakob disease\n",
      "u. s. u.s.\n"
     ]
    },
    {
     "name": "stderr",
     "output_type": "stream",
     "text": [
      " 87%|████████▋ | 823/946 [00:07<00:01, 115.10it/s]"
     ]
    },
    {
     "name": "stdout",
     "output_type": "stream",
     "text": [
      "inzamam - ul - haq inzamam-ul-haq\n",
      "inzamam - ul - haq inzamam-ul-haq\n",
      "ata - ur - rehman ata-ur-rehman\n",
      "ata - ur - rehman ata-ur-rehman\n",
      "u. s. u.s.\n",
      "u. s. u.s.\n",
      "u. s. postal u.s. postal\n",
      "u. s. postal u.s. postal\n",
      "inzamam - ul - haq inzamam-ul-haq\n",
      "ata - ur - rehman ata-ur-rehman\n",
      "chester - le - street chester-le-street\n",
      "u. s. open u.s. open\n",
      "u. s. open tennis championships u.s. open tennis championships\n",
      "u. s. u.s.\n",
      "u. s. u.s.\n",
      "u. s. u.s.\n",
      "u. s. u.s.\n",
      "u. s. u.s.\n",
      "u. s. u.s.\n",
      "u. s. u.s.\n",
      "u. s. u.s.\n",
      "u. s. u.s.\n",
      "u. s. open u.s. open\n",
      "u. s. open u.s. open\n",
      "u. s. u.s.\n",
      "u. s. u.s.\n",
      "u. s. u.s.\n",
      "u. s. u.s.\n"
     ]
    },
    {
     "name": "stderr",
     "output_type": "stream",
     "text": [
      " 90%|█████████ | 854/946 [00:07<00:00, 129.57it/s]"
     ]
    },
    {
     "name": "stdout",
     "output_type": "stream",
     "text": [
      "ken saro - wiwa ken saro-wiwa\n",
      "u. n. u.n.\n",
      "ak - 47 ak-47\n",
      "u. s. u.s.\n",
      "u. n. u.n.\n",
      "u. s. u.s.\n",
      "hk $ hk$\n",
      "us $ us$\n",
      "hk $ hk$\n",
      "u. s. u.s.\n",
      "banharn silpa - archa banharn silpa-archa\n",
      "u. s. u.s.\n",
      "u. s. u.s.\n",
      "u. s. u.s.\n",
      "u. s. u.s.\n",
      "u. s. u.s.\n"
     ]
    },
    {
     "name": "stderr",
     "output_type": "stream",
     "text": [
      " 93%|█████████▎| 884/946 [00:07<00:00, 132.74it/s]"
     ]
    },
    {
     "name": "stdout",
     "output_type": "stream",
     "text": [
      "u. s. u.s.\n",
      "n. j. n.j.\n",
      "o. j. simpson o.j. simpson\n",
      "o. j. simpson o.j. simpson\n",
      "u. s. u.s.\n",
      "u. s. u.s.\n",
      "u. s. u.s.\n",
      "u. s. u.s.\n",
      "u. s. u.s.\n",
      "Colo .   Colo.\n",
      "colo. colo .\n",
      "pmc - sierra pmc-sierra\n",
      "u. s. u.s.\n",
      "u. s. u.s.\n",
      "u. s. u.s.\n",
      "u. s. u.s.\n",
      "pan - turkism pan-turkism\n",
      "al - akhbar al-akhbar\n",
      "u. s. u.s.\n",
      "u. s. u.s.\n",
      "u. s. u.s.\n",
      "u. s. u.s.\n"
     ]
    },
    {
     "name": "stderr",
     "output_type": "stream",
     "text": [
      " 98%|█████████▊| 931/946 [00:07<00:00, 143.53it/s]Token indices sequence length is longer than the specified maximum sequence length for this model (607 > 512). Running this sequence through the model will result in indexing errors\n"
     ]
    },
    {
     "name": "stdout",
     "output_type": "stream",
     "text": [
      "n. j. n.j.\n",
      "u. s. civil war u.s. civil war\n",
      "u. s. civil war u.s. civil war\n",
      "jean - louis debre jean-louis debre\n",
      "france - soir france-soir\n",
      "british - based british-based\n",
      "u. s. u.s.\n",
      "u. s. u.s.\n",
      "u. s. u.s.\n",
      "u. s. u.s.\n",
      "us $ us$\n",
      "tokyo - mitsubishi bank tokyo-mitsubishi bank\n",
      "s & p s&p\n",
      "u. s. u.s.\n",
      "u. s. u.s.\n",
      "u. s. u.s.\n",
      "u. s. u.s.\n"
     ]
    },
    {
     "name": "stderr",
     "output_type": "stream",
     "text": [
      "100%|██████████| 946/946 [00:08<00:00, 117.92it/s]\n",
      "0it [00:00, ?it/s]"
     ]
    },
    {
     "name": "stdout",
     "output_type": "stream",
     "text": [
      "u. s. u.s.\n",
      "u. s. u.s.\n",
      "u. s. treasury u.s. treasury\n",
      "u. s. u.s.\n",
      "u. s. u.s.\n",
      "tea vikstedt - nyman tea vikstedt-nyman\n",
      "jean - michel bayle jean-michel bayle\n",
      "u. s. u.s.\n"
     ]
    },
    {
     "name": "stderr",
     "output_type": "stream",
     "text": [
      "946it [00:00, 4880.92it/s]\n",
      "  6%|▌         | 13/216 [00:00<00:01, 124.39it/s]"
     ]
    },
    {
     "name": "stdout",
     "output_type": "stream",
     "text": [
      "chester - le - street chester-le-street\n",
      "u. s. open u.s. open\n",
      "u. s. open tennis championships u.s. open tennis championships\n",
      "u. s. u.s.\n",
      "u. s. u.s.\n",
      "anne - gaelle sidot anne-gaelle sidot\n",
      "u. s. u.s.\n",
      "u. s. u.s.\n",
      "u. s. u.s.\n",
      "u. s. u.s.\n",
      "u. s. u.s.\n",
      "u. s. u.s.\n",
      "u. s. open u.s. open\n",
      "u. s. u.s.\n",
      "u. s. u.s.\n",
      "u. s. amateur championship u.s. amateur championship\n",
      "u. s. open u.s. open\n"
     ]
    },
    {
     "name": "stderr",
     "output_type": "stream",
     "text": [
      " 16%|█▌        | 35/216 [00:00<00:01, 100.74it/s]"
     ]
    },
    {
     "name": "stdout",
     "output_type": "stream",
     "text": [
      "u. s. u.s.\n",
      "u. s. u.s.\n",
      "u. s. u.s.\n",
      "u. s. u.s.\n",
      "u. s. u.s.\n",
      "u. s. u.s.\n",
      "u. s. u.s.\n",
      "u. s. u.s.\n",
      "u. s. u.s.\n",
      "u. s. u.s.\n",
      "u. s. u.s.\n",
      "u. s. u.s.\n",
      "u. s. u.s.\n",
      "u. s. u.s.\n",
      "u. s. u.s.\n",
      "u. s. u.s.\n",
      "u. s. u.s.\n",
      "u. s. u.s.\n",
      "u. s. u.s.\n",
      "u. s. u.s.\n",
      "u. s. u.s.\n",
      "u. s. u.s.\n",
      "u. s. u.s.\n",
      "u. s. u.s.\n",
      "u. s. u.s.\n",
      "u. s. u.s.\n",
      "u. s. u.s.\n",
      "u. s. u.s.\n",
      "u. s. u.s.\n",
      "u. s. u.s.\n",
      "u. s. treasuries u.s. treasuries\n",
      "u. s. u.s.\n",
      "u. s. treasury u.s. treasury\n",
      "u. s. u.s.\n",
      "u. s. u.s.\n",
      "itar - tass itar-tass\n"
     ]
    },
    {
     "name": "stderr",
     "output_type": "stream",
     "text": [
      " 28%|██▊       | 61/216 [00:00<00:01, 110.92it/s]"
     ]
    },
    {
     "name": "stdout",
     "output_type": "stream",
     "text": [
      "u. s. u.s.\n",
      "u. s. u.s.\n",
      "u. s. u.s.\n",
      "u. n. u.n.\n",
      "u. s u.s\n",
      "u. s. agriculture department u.s. agriculture department\n",
      "u. s. u.s.\n",
      "u. s. u.s.\n",
      "u. s. u.s.\n",
      "u. s. u.s.\n",
      "u. s. u.s.\n",
      "u. s. u.s.\n",
      "u. s. u.s.\n",
      "u. s. u.s.\n",
      "u. s. u.s.\n"
     ]
    },
    {
     "name": "stderr",
     "output_type": "stream",
     "text": [
      " 38%|███▊      | 83/216 [00:00<00:01, 97.38it/s] "
     ]
    },
    {
     "name": "stdout",
     "output_type": "stream",
     "text": [
      "a. g. edwards & sons a.g. edwards & sons\n",
      "u. s. u.s.\n",
      "u. s. u.s.\n",
      "u. s. u.s.\n",
      "u. s. treasury department u.s. treasury department\n",
      "u. s. u.s.\n",
      "u. n. u.n.\n",
      "boston - based boston-based\n",
      "u. s. u.s.\n",
      "u. s. u.s.\n",
      "u. s. u.s.\n",
      "u. s. u.s.\n",
      "u. s. u.s.\n",
      "u. s. u.s.\n",
      "u. s. u.s.\n",
      "u. s. u.s.\n",
      "al - akhbar al-akhbar\n",
      "al - aqsa al-aqsa\n",
      "al - aqsa al-aqsa\n",
      "al - aqsa al-aqsa\n",
      "u. s. u.s.\n"
     ]
    },
    {
     "name": "stderr",
     "output_type": "stream",
     "text": [
      " 51%|█████     | 110/216 [00:01<00:01, 101.82it/s]"
     ]
    },
    {
     "name": "stdout",
     "output_type": "stream",
     "text": [
      "u. s. u.s.\n",
      "u. s. u.s.\n",
      "nagorno - karabakh nagorno-karabakh\n",
      "nagorno - karabakh nagorno-karabakh\n",
      "nagorno - karabakh nagorno-karabakh\n",
      "nagorno - karabakh nagorno-karabakh\n",
      "u. n. u.n.\n",
      "u. n. u.n.\n",
      "brazilian - born brazilian-born\n",
      "u. s. u.s.\n",
      "ata - ur - rehman ata-ur-rehman\n",
      "ata - ur - rehman ata-ur-rehman\n",
      "inzamam - ul - haq inzamam-ul-haq\n",
      "ata - ur - rehman ata-ur-rehman\n",
      "lucy tyler - sharman lucy tyler-sharman\n",
      "u. s. u.s.\n",
      "u. s. u.s.\n",
      "u. s. u.s.\n",
      "lucy tyler - sharman lucy tyler-sharman\n"
     ]
    },
    {
     "name": "stderr",
     "output_type": "stream",
     "text": [
      " 65%|██████▍   | 140/216 [00:01<00:00, 112.25it/s]"
     ]
    },
    {
     "name": "stdout",
     "output_type": "stream",
     "text": [
      "inzamam - ul - haq inzamam-ul-haq\n",
      "ata - ur - rehman ata-ur-rehman\n",
      "jed - forest jed-forest\n",
      "chester - le - street chester-le-street\n",
      "u. s. u.s.\n",
      "u. s. u.s.\n",
      "u. s. u.s.\n",
      "u. s. u.s.\n",
      "u. s. u.s.\n"
     ]
    },
    {
     "name": "stderr",
     "output_type": "stream",
     "text": [
      "\r",
      " 71%|███████   | 153/216 [00:01<00:00, 93.08it/s] "
     ]
    },
    {
     "name": "stdout",
     "output_type": "stream",
     "text": [
      "u. s. amateur championship u.s. amateur championship\n",
      "u. s. u.s.\n",
      "u. s. open u.s. open\n",
      "u. s. u.s.\n",
      "u. s. u.s.\n",
      "u. s. u.s.\n",
      "u. s. open u.s. open\n",
      "u. s. open u.s. open\n",
      "u. s. open tennis championships u.s. open tennis championships\n",
      "u. s. open u.s. open\n",
      "u. s. u.s.\n",
      "u. s. u.s.\n",
      "joe - max moore joe-max moore\n",
      "u. s. open u.s. open\n"
     ]
    },
    {
     "name": "stderr",
     "output_type": "stream",
     "text": [
      " 85%|████████▍ | 183/216 [00:01<00:00, 104.63it/s]"
     ]
    },
    {
     "name": "stdout",
     "output_type": "stream",
     "text": [
      "u. s. u.s.\n",
      "henry campbell - bannerman henry campbell-bannerman\n",
      "u. s. u.s.\n",
      "u. s. u.s.\n",
      "u. s. u.s.\n",
      "u. n. u.n.\n",
      "u. s. u.s.\n",
      "london - based london-based\n",
      "u. s. u.s.\n",
      "u. n. u.n.\n",
      "u. n. u.n.\n",
      "u. n. u.n.\n",
      "urus - martan urus-martan\n",
      "urus - martan urus-martan\n",
      "urus - martan urus-martan\n",
      "u. n. u.n.\n",
      "u. s. u.s.\n",
      "u. s. u.s.\n",
      "ak - 47s ak-47s\n",
      "new york - based new york-based\n"
     ]
    },
    {
     "name": "stderr",
     "output_type": "stream",
     "text": [
      " 97%|█████████▋| 209/216 [00:01<00:00, 105.11it/s]"
     ]
    },
    {
     "name": "stdout",
     "output_type": "stream",
     "text": [
      "new york - based new york-based\n",
      "new york - based new york-based\n",
      "u. n. u.n.\n",
      "u. s. u.s.\n",
      "u. s. u.s.\n",
      "u. n. interim force in lebanon u.n. interim force in lebanon\n",
      "u. n. u.n.\n",
      "u. s. u.s.\n",
      "u. n. u.n.\n",
      "u. n. u.n.\n",
      "u. n. u.n.\n",
      "zine al - abidine ben ali zine al-abidine ben ali\n",
      "u. s. u.s.\n",
      "u. s. u.s.\n",
      "u. s. u.s.\n",
      "u. s. u.s.\n",
      "u. s. u.s.\n",
      "u. s. u.s.\n",
      "u. s. u.s.\n",
      "u. s. u.s.\n",
      "u. s. u.s.\n",
      "u. s. u.s.\n",
      "u. s. u.s.\n",
      "u. s. u.s.\n",
      "u. s. u.s.\n",
      "u. s. u.s.\n",
      "u. s. u.s.\n",
      "u. s. u.s.\n",
      "u. n. security council u.n. security council\n"
     ]
    },
    {
     "name": "stderr",
     "output_type": "stream",
     "text": [
      "100%|██████████| 216/216 [00:02<00:00, 105.01it/s]\n",
      "216it [00:00, 5246.68it/s]\n",
      "  0%|          | 0/231 [00:00<?, ?it/s]"
     ]
    },
    {
     "name": "stdout",
     "output_type": "stream",
     "text": [
      "mao tse - tung mao tse-tung\n",
      "al - ain al-ain\n",
      "al - ain al-ain\n",
      "jean - luc brassard jean-luc brassard\n",
      "u. s. u.s.\n",
      "u. s. u.s.\n",
      "u. s. u.s.\n",
      "u. s. u.s.\n",
      "u. s. u.s.\n",
      "al - ain al-ain\n"
     ]
    },
    {
     "name": "stderr",
     "output_type": "stream",
     "text": [
      "  9%|▊         | 20/231 [00:00<00:02, 83.11it/s]"
     ]
    },
    {
     "name": "stdout",
     "output_type": "stream",
     "text": [
      "pau - orthez pau-orthez\n",
      "u. s. u.s.\n",
      "u. s. u.s.\n",
      "thomas stuer - lauridsen thomas stuer-lauridsen\n",
      "poul - erik hoyer - larsen poul-erik hoyer-larsen\n"
     ]
    },
    {
     "name": "stderr",
     "output_type": "stream",
     "text": [
      " 19%|█▉        | 45/231 [00:00<00:01, 99.61it/s]"
     ]
    },
    {
     "name": "stdout",
     "output_type": "stream",
     "text": [
      "paris saint - germain paris saint-germain\n",
      "u. s. u.s.\n",
      "kwazulu - natal kwazulu-natal\n",
      "kwazulu - natal kwazulu-natal\n",
      "u. s. u.s.\n"
     ]
    },
    {
     "name": "stderr",
     "output_type": "stream",
     "text": [
      " 27%|██▋       | 63/231 [00:00<00:02, 75.80it/s]"
     ]
    },
    {
     "name": "stdout",
     "output_type": "stream",
     "text": [
      "post - communist post-communist\n",
      "u. s. u.s.\n",
      "u. s. u.s.\n",
      "u. s u.s\n",
      "u. s. u.s.\n",
      "u. s. u.s.\n",
      "u. s. u.s.\n",
      "u. s. u.s.\n"
     ]
    },
    {
     "name": "stderr",
     "output_type": "stream",
     "text": [
      " 39%|███▉      | 91/231 [00:00<00:01, 91.13it/s]"
     ]
    },
    {
     "name": "stdout",
     "output_type": "stream",
     "text": [
      "n. m. n.m.\n",
      "n. j. n.j.\n",
      "u. n. u.n.\n",
      "u. s. u.s.\n",
      "u. n. u.n.\n",
      "u. n. u.n.\n",
      "u. n. u.n.\n",
      "u. n. u.n.\n",
      "boutros boutros - ghali boutros boutros-ghali\n",
      "ange - felix patasse ange-felix patasse\n",
      "itar - tass itar-tass\n",
      "u. s. u.s.\n",
      "u. s. u.s.\n",
      "itar - tass itar-tass\n",
      "u. s. u.s.\n",
      "u. s. u.s.\n"
     ]
    },
    {
     "name": "stderr",
     "output_type": "stream",
     "text": [
      " 60%|██████    | 139/231 [00:01<00:00, 122.83it/s]"
     ]
    },
    {
     "name": "stdout",
     "output_type": "stream",
     "text": [
      "u. s. u.s.\n",
      "u. s. treasury u.s. treasury\n",
      "u. s. u.s.\n",
      "s & p s&p\n",
      "u. s. supreme court u.s. supreme court\n",
      "u. s. court of appeals u.s. court of appeals\n",
      "u. s. u.s.\n",
      "u. s. u.s.\n",
      "u. s. u.s.\n",
      "u. s. u.s.\n",
      "u. n. u.n.\n",
      "u. n. u.n.\n",
      "boutros boutros - ghali boutros boutros-ghali\n",
      "u. n. u.n.\n",
      "u. n. u.n.\n",
      "u. n. u.n.\n",
      "boutros - ghali boutros-ghali\n",
      "boutros - ghali boutros-ghali\n",
      "u. s. u.s.\n"
     ]
    },
    {
     "name": "stderr",
     "output_type": "stream",
     "text": [
      " 76%|███████▌  | 175/231 [00:01<00:00, 145.21it/s]"
     ]
    },
    {
     "name": "stdout",
     "output_type": "stream",
     "text": [
      "u. s. u.s.\n",
      "u. s. u.s.\n",
      "u. s. u.s.\n",
      "n. m. n.m.\n",
      "u. s. u.s.\n",
      "u. s. - based u.s.-based\n",
      "euro - sceptic euro-sceptic\n",
      "euro - sceptic euro-sceptic\n",
      "u. n. u.n.\n",
      "u. n. u.n.\n",
      "u. s. u.s.\n",
      "bre - x bre-x\n",
      "bre - x bre-x\n",
      "bre - x bre-x\n",
      "bre - x bre-x\n",
      "bre - x bre-x\n",
      "bre - x bre-x\n",
      "bre - x bre-x\n",
      "bre - x bre-x\n",
      "bre - x bre-x\n",
      "bre - x bre-x\n",
      "bre - x bre-x\n",
      "bre - x bre-x\n",
      "bre - x bre-x\n"
     ]
    },
    {
     "name": "stderr",
     "output_type": "stream",
     "text": [
      "\r",
      " 83%|████████▎ | 192/231 [00:01<00:00, 128.93it/s]"
     ]
    },
    {
     "name": "stdout",
     "output_type": "stream",
     "text": [
      "u. s. u.s.\n",
      "u. s. u.s.\n",
      "us $ us$\n",
      "u. s. u.s.\n",
      "u. s. u.s.\n",
      "u. s. u.s.\n",
      "u. s. u.s.\n",
      "u. s. u.s.\n",
      "u. s. u.s.\n",
      "u. s. u.s.\n",
      "simone greiner - petter - memm simone greiner-petter-memm\n",
      "greiner - petter - memm greiner-petter-memm\n",
      "u. s u.s\n",
      "u. s. u.s.\n",
      "ari - pekka nikkola ari-pekka nikkola\n",
      "kim yoon - man kim yoon-man\n",
      "kim yoon - man kim yoon-man\n",
      "u. s. u.s.\n",
      "u. s. u.s.\n"
     ]
    },
    {
     "name": "stderr",
     "output_type": "stream",
     "text": [
      " 95%|█████████▌| 220/231 [00:01<00:00, 106.07it/s]"
     ]
    },
    {
     "name": "stdout",
     "output_type": "stream",
     "text": [
      "nick farr - jones nick farr-jones\n",
      "f. a. challenge cup f.a. challenge cup\n",
      "u. s. u.s.\n",
      "n. ireland n.ireland\n"
     ]
    },
    {
     "name": "stderr",
     "output_type": "stream",
     "text": [
      "100%|██████████| 231/231 [00:02<00:00, 111.95it/s]\n",
      "231it [00:00, 5762.91it/s]\n"
     ]
    }
   ],
   "source": [
    "in_fpath = 'AIDA-YAGO2-wiki_content'\n",
    "out_fpath = in_fpath+'-ELQ'\n",
    "\n",
    "fnames = ['train.json', 'dev.json', 'test.json']\n",
    "num_longs = []\n",
    "\n",
    "for fname in fnames:\n",
    "    in_fname = os.path.join(in_fpath, fname)\n",
    "    with open(in_fname) as fin:\n",
    "        orig_data = json.load(fin)\n",
    "    \n",
    "    elq_tokenized = []\n",
    "    for sample in tqdm(orig_data):\n",
    "        elq_sample = to_elq_tokenized(sample)\n",
    "        elq_tokenized.append(elq_sample)\n",
    "    \n",
    "    fname = fname+'l'\n",
    "    out_fname = os.path.join(out_fpath, fname)\n",
    "    \n",
    "    num_long = []\n",
    "    with open(out_fname, 'w') as wf:\n",
    "        for i, example in tqdm(enumerate(elq_tokenized)):\n",
    "            if len(example['tokenized_text_ids']) > 512:\n",
    "                num_long.append(i)\n",
    "            b = wf.write(json.dumps(example) + \"\\n\")\n",
    "    num_longs.append(num_long)"
   ]
  },
  {
   "cell_type": "code",
   "execution_count": null,
   "metadata": {},
   "outputs": [],
   "source": []
  }
 ],
 "metadata": {
  "kernelspec": {
   "display_name": "Python 3",
   "language": "python",
   "name": "python3"
  },
  "language_info": {
   "codemirror_mode": {
    "name": "ipython",
    "version": 3
   },
   "file_extension": ".py",
   "mimetype": "text/x-python",
   "name": "python",
   "nbconvert_exporter": "python",
   "pygments_lexer": "ipython3",
   "version": "3.8.3"
  }
 },
 "nbformat": 4,
 "nbformat_minor": 4
}
