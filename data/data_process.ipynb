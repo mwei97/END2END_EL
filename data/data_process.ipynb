{
 "cells": [
  {
   "cell_type": "markdown",
   "metadata": {},
   "source": [
    "## Data process\n",
    "\n",
    "Code to process AIDA-CONLL data.\n",
    "\n",
    "Output json file:\n",
    "\n",
    "{'doc_id': document id,\n",
    "\n",
    " 'text': document text,\n",
    " \n",
    " 'mentions': ['EU', 'German', ...],\n",
    " \n",
    " 'mention_ranges': [[1,2],[3,4],...],\n",
    " \n",
    " 'wiki_ids': [0000, 0001, ...]}\n",
    "\n",
    "Reference: https://github.com/facebookresearch/BLINK/blob/master/scripts/create_BLINK_benchmark_data.py"
   ]
  },
  {
   "cell_type": "code",
   "execution_count": 71,
   "metadata": {},
   "outputs": [],
   "source": [
    "import json\n",
    "import os\n",
    "import requests\n",
    "import pandas as pd\n",
    "import numpy as np\n",
    "import matplotlib.pyplot as plt\n",
    "import torchtext\n",
    "from bs4 import BeautifulSoup\n",
    "from tqdm import tqdm\n",
    "\n",
    "%matplotlib inline"
   ]
  },
  {
   "cell_type": "code",
   "execution_count": 106,
   "metadata": {},
   "outputs": [],
   "source": [
    "# BEGIN_ENT_TOKEN = \"[START_ENT]\"\n",
    "# END_ENT_TOKEN = \"[END_ENT]\"\n",
    "\n",
    "#url2id_cache = {}\n",
    "\n",
    "# with open('url2id.json', 'w') as fout:\n",
    "#     json.dump(url2id_cache, fout)\n",
    "\n",
    "with open('url2id.json') as fin:\n",
    "    url2id_cache = json.load(fin)"
   ]
  },
  {
   "cell_type": "code",
   "execution_count": 5,
   "metadata": {},
   "outputs": [],
   "source": [
    "def _read_url(url):\n",
    "    with urllib.request.urlopen(url) as response:\n",
    "        html = response.read()\n",
    "        soup = BeautifulSoup(html, features=\"html.parser\")\n",
    "        title = soup.title.string.replace(\" - Wikipedia\", \"\").strip()\n",
    "    return title"
   ]
  },
  {
   "cell_type": "code",
   "execution_count": 4,
   "metadata": {},
   "outputs": [],
   "source": [
    "def _get_pageid_from_api(title, client=None):\n",
    "    pageid = None\n",
    "\n",
    "    title_html = title.strip().replace(\" \", \"%20\")\n",
    "    url = \"https://en.wikipedia.org/w/api.php?action=query&titles={}&format=json\".format(\n",
    "        title_html\n",
    "    )\n",
    "\n",
    "    try:\n",
    "        # Package the request, send the request and catch the response: r\n",
    "        r = requests.get(url)\n",
    "\n",
    "        # Decode the JSON data into a dictionary: json_data\n",
    "        json_data = r.json()\n",
    "\n",
    "        if len(json_data[\"query\"][\"pages\"]) > 1:\n",
    "            print(\"WARNING: more than one result returned from wikipedia api\")\n",
    "\n",
    "        for _, v in json_data[\"query\"][\"pages\"].items():\n",
    "            pageid = v[\"pageid\"]\n",
    "    except:\n",
    "        pass\n",
    "\n",
    "    return pageid"
   ]
  },
  {
   "cell_type": "markdown",
   "metadata": {},
   "source": [
    "## Data with first 128 tokens of wikipedia content"
   ]
  },
  {
   "cell_type": "code",
   "execution_count": 78,
   "metadata": {},
   "outputs": [],
   "source": [
    "id2desc_cache = {}"
   ]
  },
  {
   "cell_type": "code",
   "execution_count": 8,
   "metadata": {},
   "outputs": [],
   "source": [
    "# read in data file without description\n",
    "fpath = 'AIDA-YAGO2'\n",
    "\n",
    "fname = os.path.join(fpath, 'train.json')\n",
    "with open(fname) as fin:\n",
    "    train = json.load(fin)\n",
    "\n",
    "fname = os.path.join(fpath, 'dev.json')\n",
    "with open(fname) as fin:\n",
    "    dev = json.load(fin)\n",
    "\n",
    "fname = os.path.join(fpath, 'test.json')\n",
    "with open(fname) as fin:\n",
    "    test = json.load(fin)"
   ]
  },
  {
   "cell_type": "code",
   "execution_count": 9,
   "metadata": {},
   "outputs": [
    {
     "data": {
      "text/plain": [
       "(946, 216, 231)"
      ]
     },
     "execution_count": 9,
     "metadata": {},
     "output_type": "execute_result"
    }
   ],
   "source": [
    "len(train), len(dev), len(test)"
   ]
  },
  {
   "cell_type": "code",
   "execution_count": 19,
   "metadata": {},
   "outputs": [],
   "source": [
    "datasets = [train, dev, test]\n",
    "id2title = {}\n",
    "\n",
    "for dataset in datasets:\n",
    "    for doc in dataset:\n",
    "        ids = doc['wiki_ids']\n",
    "        titles = doc['wiki_titles']\n",
    "        assert len(ids)==len(titles)\n",
    "        for i in range(len(ids)):\n",
    "            id2title[ids[i]] = titles[i]"
   ]
  },
  {
   "cell_type": "code",
   "execution_count": 21,
   "metadata": {},
   "outputs": [
    {
     "data": {
      "text/plain": [
       "5598"
      ]
     },
     "execution_count": 21,
     "metadata": {},
     "output_type": "execute_result"
    }
   ],
   "source": [
    "#len(wiki_ids)\n",
    "len(id2title)"
   ]
  },
  {
   "cell_type": "code",
   "execution_count": 84,
   "metadata": {},
   "outputs": [],
   "source": [
    "def get_content_from_api(str_id, tokenizer=tokenizer, max_len=128, client=None):\n",
    "\n",
    "    url2 = \"https://en.wikipedia.org/w/api.php?format=json&action=query&prop=extracts&explaintext&redirects=1&pageids={}\".format(\n",
    "        str_id\n",
    "    )\n",
    "    try:\n",
    "        r = requests.get(url2)\n",
    "        json_data = r.json()\n",
    "\n",
    "        if len(json_data[\"query\"][\"pages\"]) > 1:\n",
    "            print(\"WARNING: more than one result returned from wikipedia api\")\n",
    "\n",
    "        page = json_data['query']['pages'][str_id]\n",
    "        title = page['title']\n",
    "\n",
    "        if title!=id2title[str_id]:\n",
    "            print(str_id, '  ', title, '  ', id2title[str_id])\n",
    "\n",
    "        content = page['extract']\n",
    "        tokens = tokenizer(content)\n",
    "        return ' '.join(tokens[:128])\n",
    "    except:\n",
    "        print(str_id)\n",
    "        return None"
   ]
  },
  {
   "cell_type": "code",
   "execution_count": 81,
   "metadata": {},
   "outputs": [],
   "source": [
    "tokenizer = torchtext.data.get_tokenizer(\"basic_english\")"
   ]
  },
  {
   "cell_type": "code",
   "execution_count": 85,
   "metadata": {},
   "outputs": [
    {
     "name": "stderr",
     "output_type": "stream",
     "text": [
      "  1%|          | 34/5598 [00:00<00:28, 192.38it/s]"
     ]
    },
    {
     "name": "stdout",
     "output_type": "stream",
     "text": [
      "11095\n"
     ]
    },
    {
     "name": "stderr",
     "output_type": "stream",
     "text": [
      "  1%|          | 59/5598 [00:52<2:23:15,  1.55s/it]"
     ]
    },
    {
     "name": "stdout",
     "output_type": "stream",
     "text": [
      "3550889    Channel 2 (Israeli TV channel)    Channel 2 (Israel)\n"
     ]
    },
    {
     "name": "stderr",
     "output_type": "stream",
     "text": [
      "  1%|          | 66/5598 [01:02<1:32:56,  1.01s/it]"
     ]
    },
    {
     "name": "stdout",
     "output_type": "stream",
     "text": [
      "17068    Kurds    Kurdish people\n"
     ]
    },
    {
     "name": "stderr",
     "output_type": "stream",
     "text": [
      "  1%|▏         | 70/5598 [01:05<1:03:38,  1.45it/s]"
     ]
    },
    {
     "name": "stdout",
     "output_type": "stream",
     "text": [
      "24993749\n"
     ]
    },
    {
     "name": "stderr",
     "output_type": "stream",
     "text": [
      "  2%|▏         | 93/5598 [01:52<1:30:32,  1.01it/s]"
     ]
    },
    {
     "name": "stdout",
     "output_type": "stream",
     "text": [
      "210589    Emirate of Sharjah    Sharjah (emirate)\n"
     ]
    },
    {
     "name": "stderr",
     "output_type": "stream",
     "text": [
      "  2%|▏         | 97/5598 [01:57<1:20:34,  1.14it/s]"
     ]
    },
    {
     "name": "stdout",
     "output_type": "stream",
     "text": [
      "8821238    Emirate of Abu Dhabi    Abu Dhabi (emirate)\n"
     ]
    },
    {
     "name": "stderr",
     "output_type": "stream",
     "text": [
      "  2%|▏         | 113/5598 [02:17<51:39,  1.77it/s]  "
     ]
    },
    {
     "name": "stdout",
     "output_type": "stream",
     "text": [
      "1812373\n"
     ]
    },
    {
     "name": "stderr",
     "output_type": "stream",
     "text": [
      "  2%|▏         | 130/5598 [02:48<1:35:33,  1.05s/it]"
     ]
    },
    {
     "name": "stdout",
     "output_type": "stream",
     "text": [
      "54314    Orange S.A.    France Télécom\n"
     ]
    },
    {
     "name": "stderr",
     "output_type": "stream",
     "text": [
      "  2%|▏         | 132/5598 [02:51<1:51:43,  1.23s/it]"
     ]
    },
    {
     "name": "stdout",
     "output_type": "stream",
     "text": [
      "11866976    Equinor    Statoil\n"
     ]
    },
    {
     "name": "stderr",
     "output_type": "stream",
     "text": [
      "  3%|▎         | 141/5598 [03:06<1:05:37,  1.39it/s]"
     ]
    },
    {
     "name": "stdout",
     "output_type": "stream",
     "text": [
      "1536678    World Series of Golf (unofficial event)    World Series of Golf\n"
     ]
    },
    {
     "name": "stderr",
     "output_type": "stream",
     "text": [
      "  3%|▎         | 144/5598 [03:10<1:19:40,  1.14it/s]"
     ]
    },
    {
     "name": "stdout",
     "output_type": "stream",
     "text": [
      "1527695    WGC Invitational    WGC-Bridgestone Invitational\n"
     ]
    },
    {
     "name": "stderr",
     "output_type": "stream",
     "text": [
      "  3%|▎         | 188/5598 [04:00<1:20:03,  1.13it/s]"
     ]
    },
    {
     "name": "stdout",
     "output_type": "stream",
     "text": [
      "2384775    ACF Gloria Bistrița    ACF Gloria 1922 Bistriţa\n"
     ]
    },
    {
     "name": "stderr",
     "output_type": "stream",
     "text": [
      "\r",
      "  3%|▎         | 189/5598 [04:03<1:51:00,  1.23s/it]"
     ]
    },
    {
     "name": "stdout",
     "output_type": "stream",
     "text": [
      "415846    Bistrița    Bistriţa\n"
     ]
    },
    {
     "name": "stderr",
     "output_type": "stream",
     "text": [
      "  4%|▎         | 203/5598 [04:18<28:30,  3.15it/s]  "
     ]
    },
    {
     "name": "stdout",
     "output_type": "stream",
     "text": [
      "24238381\n"
     ]
    },
    {
     "name": "stderr",
     "output_type": "stream",
     "text": [
      "  4%|▎         | 206/5598 [04:25<2:56:00,  1.96s/it]"
     ]
    },
    {
     "name": "stdout",
     "output_type": "stream",
     "text": [
      "495296    Kimiko Date    Kimiko Date Krumm\n"
     ]
    },
    {
     "name": "stderr",
     "output_type": "stream",
     "text": [
      "  4%|▍         | 212/5598 [04:34<1:45:30,  1.18s/it]"
     ]
    },
    {
     "name": "stdout",
     "output_type": "stream",
     "text": [
      "8210131    New York (state)    New York\n"
     ]
    },
    {
     "name": "stderr",
     "output_type": "stream",
     "text": [
      "  4%|▍         | 232/5598 [05:00<1:11:08,  1.26it/s]"
     ]
    },
    {
     "name": "stdout",
     "output_type": "stream",
     "text": [
      "18417732\n"
     ]
    },
    {
     "name": "stderr",
     "output_type": "stream",
     "text": [
      "  4%|▍         | 246/5598 [05:17<1:06:35,  1.34it/s]"
     ]
    },
    {
     "name": "stdout",
     "output_type": "stream",
     "text": [
      "58681    Worcester, England    Worcester\n"
     ]
    },
    {
     "name": "stderr",
     "output_type": "stream",
     "text": [
      "  5%|▍         | 257/5598 [05:31<1:31:40,  1.03s/it]"
     ]
    },
    {
     "name": "stdout",
     "output_type": "stream",
     "text": [
      "896405    Mushtaq Ahmed (cricketer)    Mushtaq Ahmed\n"
     ]
    },
    {
     "name": "stderr",
     "output_type": "stream",
     "text": [
      "\r",
      "  5%|▍         | 258/5598 [05:32<1:13:15,  1.21it/s]"
     ]
    },
    {
     "name": "stdout",
     "output_type": "stream",
     "text": [
      "1958830    Mohammad Akram (cricketer)    Mohammad Akram\n"
     ]
    },
    {
     "name": "stderr",
     "output_type": "stream",
     "text": [
      "  5%|▍         | 261/5598 [05:35<1:20:42,  1.10it/s]"
     ]
    },
    {
     "name": "stdout",
     "output_type": "stream",
     "text": [
      "938863    Ijaz Ahmed (cricketer, born 1968)    Ijaz Ahmed (cricketer)\n"
     ]
    },
    {
     "name": "stderr",
     "output_type": "stream",
     "text": [
      "  5%|▍         | 276/5598 [06:09<3:30:12,  2.37s/it]"
     ]
    },
    {
     "name": "stdout",
     "output_type": "stream",
     "text": [
      "883369    Craig Brown (footballer, born 1940)    Craig Brown (footballer)\n"
     ]
    },
    {
     "name": "stderr",
     "output_type": "stream",
     "text": [
      "  5%|▌         | 283/5598 [06:33<5:09:00,  3.49s/it]"
     ]
    },
    {
     "name": "stdout",
     "output_type": "stream",
     "text": [
      "1872219    Canadian Open (tennis)    Rogers Cup (tennis)\n"
     ]
    },
    {
     "name": "stderr",
     "output_type": "stream",
     "text": [
      "  5%|▌         | 307/5598 [06:55<1:49:35,  1.24s/it]"
     ]
    },
    {
     "name": "stdout",
     "output_type": "stream",
     "text": [
      "23297    Pat Rafter    Patrick Rafter\n"
     ]
    },
    {
     "name": "stderr",
     "output_type": "stream",
     "text": [
      "  6%|▌         | 323/5598 [07:15<1:01:48,  1.42it/s]"
     ]
    },
    {
     "name": "stdout",
     "output_type": "stream",
     "text": [
      "5570494    Boland (cricket team)    Boland cricket team\n"
     ]
    },
    {
     "name": "stderr",
     "output_type": "stream",
     "text": [
      "\r",
      "  6%|▌         | 324/5598 [07:15<52:08,  1.69it/s]  "
     ]
    },
    {
     "name": "stdout",
     "output_type": "stream",
     "text": [
      "11402216\n"
     ]
    },
    {
     "name": "stderr",
     "output_type": "stream",
     "text": [
      "  6%|▌         | 327/5598 [07:18<1:23:57,  1.05it/s]"
     ]
    },
    {
     "name": "stdout",
     "output_type": "stream",
     "text": [
      "6573050    Flamurtari FC    Flamurtari Vlorë\n"
     ]
    },
    {
     "name": "stderr",
     "output_type": "stream",
     "text": [
      "\r",
      "  6%|▌         | 328/5598 [07:19<1:14:22,  1.18it/s]"
     ]
    },
    {
     "name": "stdout",
     "output_type": "stream",
     "text": [
      "6156831\n"
     ]
    },
    {
     "name": "stderr",
     "output_type": "stream",
     "text": [
      "  6%|▌         | 338/5598 [07:37<2:29:04,  1.70s/it]"
     ]
    },
    {
     "name": "stdout",
     "output_type": "stream",
     "text": [
      "3550878    AEK Larnaca FC    AEK Larnaca\n"
     ]
    },
    {
     "name": "stderr",
     "output_type": "stream",
     "text": [
      "  6%|▌         | 340/5598 [07:42<2:48:00,  1.92s/it]"
     ]
    },
    {
     "name": "stdout",
     "output_type": "stream",
     "text": [
      "11371765\n"
     ]
    },
    {
     "name": "stderr",
     "output_type": "stream",
     "text": [
      "  6%|▋         | 351/5598 [08:09<1:44:41,  1.20s/it]"
     ]
    },
    {
     "name": "stdout",
     "output_type": "stream",
     "text": [
      "7010481    FC Nyva Vinnytsia    PFC Nyva Vinnytsia\n"
     ]
    },
    {
     "name": "stderr",
     "output_type": "stream",
     "text": [
      "  6%|▋         | 363/5598 [08:39<4:02:58,  2.78s/it]"
     ]
    },
    {
     "name": "stdout",
     "output_type": "stream",
     "text": [
      "27792964    NK Olimpija Ljubljana (1945–2005)    NK Olimpija Ljubljana (1911)\n"
     ]
    },
    {
     "name": "stderr",
     "output_type": "stream",
     "text": [
      "  7%|▋         | 369/5598 [08:57<5:03:45,  3.49s/it]"
     ]
    },
    {
     "name": "stdout",
     "output_type": "stream",
     "text": [
      "57035    Luxembourg City    Luxembourg (city)\n"
     ]
    },
    {
     "name": "stderr",
     "output_type": "stream",
     "text": [
      "  7%|▋         | 372/5598 [09:03<3:48:34,  2.62s/it]"
     ]
    },
    {
     "name": "stdout",
     "output_type": "stream",
     "text": [
      "1561948    NK Varaždin (2012)    NK Varaždin\n"
     ]
    },
    {
     "name": "stderr",
     "output_type": "stream",
     "text": [
      "  7%|▋         | 380/5598 [09:31<3:38:32,  2.51s/it]"
     ]
    },
    {
     "name": "stdout",
     "output_type": "stream",
     "text": [
      "861331    AC Sparta Prague    Sparta Prague\n"
     ]
    },
    {
     "name": "stderr",
     "output_type": "stream",
     "text": [
      "  7%|▋         | 393/5598 [09:53<1:52:03,  1.29s/it]"
     ]
    },
    {
     "name": "stdout",
     "output_type": "stream",
     "text": [
      "5897396    Hapoel Rishon LeZion F.C.    Hapoel Ironi Rishon LeZion F.C.\n"
     ]
    },
    {
     "name": "stderr",
     "output_type": "stream",
     "text": [
      "  7%|▋         | 396/5598 [10:00<2:48:41,  1.95s/it]"
     ]
    },
    {
     "name": "stdout",
     "output_type": "stream",
     "text": [
      "2079306    Myllykosken Pallo −47    MYPA\n"
     ]
    },
    {
     "name": "stderr",
     "output_type": "stream",
     "text": [
      "  7%|▋         | 399/5598 [10:12<4:12:01,  2.91s/it]"
     ]
    },
    {
     "name": "stdout",
     "output_type": "stream",
     "text": [
      "828168    KF Shkupi    FK Sloga Jugomagnat\n"
     ]
    },
    {
     "name": "stderr",
     "output_type": "stream",
     "text": [
      "  7%|▋         | 401/5598 [10:12<2:10:55,  1.51s/it]"
     ]
    },
    {
     "name": "stdout",
     "output_type": "stream",
     "text": [
      "23564616    North Macedonia    Republic of Macedonia\n"
     ]
    },
    {
     "name": "stderr",
     "output_type": "stream",
     "text": [
      "  7%|▋         | 405/5598 [10:19<2:51:58,  1.99s/it]"
     ]
    },
    {
     "name": "stdout",
     "output_type": "stream",
     "text": [
      "249510    UEFA European Championship    UEFA European Football Championship\n"
     ]
    },
    {
     "name": "stderr",
     "output_type": "stream",
     "text": [
      "  7%|▋         | 410/5598 [10:27<1:40:05,  1.16s/it]"
     ]
    },
    {
     "name": "stdout",
     "output_type": "stream",
     "text": [
      "2918991    Andreas Andersson (footballer, born 1974)    Andreas Andersson\n"
     ]
    },
    {
     "name": "stderr",
     "output_type": "stream",
     "text": [
      "  7%|▋         | 413/5598 [10:29<1:35:24,  1.10s/it]"
     ]
    },
    {
     "name": "stdout",
     "output_type": "stream",
     "text": [
      "187346    Club Athletico Paranaense    Clube Atlético Paranaense\n"
     ]
    },
    {
     "name": "stderr",
     "output_type": "stream",
     "text": [
      "  7%|▋         | 416/5598 [10:31<1:03:34,  1.36it/s]"
     ]
    },
    {
     "name": "stdout",
     "output_type": "stream",
     "text": [
      "1367196    Guarani FC    Guarani Futebol Clube\n"
     ]
    },
    {
     "name": "stderr",
     "output_type": "stream",
     "text": [
      "  8%|▊         | 425/5598 [10:43<1:13:46,  1.17it/s]"
     ]
    },
    {
     "name": "stdout",
     "output_type": "stream",
     "text": [
      "1861824\n"
     ]
    },
    {
     "name": "stderr",
     "output_type": "stream",
     "text": [
      "  8%|▊         | 434/5598 [11:10<5:00:31,  3.49s/it]"
     ]
    },
    {
     "name": "stdout",
     "output_type": "stream",
     "text": [
      "91195    The Championships, Wimbledon    Wimbledon Championships\n"
     ]
    },
    {
     "name": "stderr",
     "output_type": "stream",
     "text": [
      "  8%|▊         | 437/5598 [11:17<3:35:40,  2.51s/it]"
     ]
    },
    {
     "name": "stdout",
     "output_type": "stream",
     "text": [
      "18952408    Split, Croatia    Split (city)\n",
      "172311    The Daily Telegraph (Sydney)    The Daily Telegraph (Australia)\n"
     ]
    },
    {
     "name": "stderr",
     "output_type": "stream",
     "text": [
      "  8%|▊         | 451/5598 [11:34<56:45,  1.51it/s]  "
     ]
    },
    {
     "name": "stdout",
     "output_type": "stream",
     "text": [
      "19927785    Meiluawati    Meluawati\n"
     ]
    },
    {
     "name": "stderr",
     "output_type": "stream",
     "text": [
      "  8%|▊         | 461/5598 [11:44<1:15:47,  1.13it/s]"
     ]
    },
    {
     "name": "stdout",
     "output_type": "stream",
     "text": [
      "1856445    Alexander Volkov (tennis)    Alexander Vladimirovich Volkov\n"
     ]
    },
    {
     "name": "stderr",
     "output_type": "stream",
     "text": [
      "  9%|▊         | 478/5598 [12:02<1:48:43,  1.27s/it]"
     ]
    },
    {
     "name": "stdout",
     "output_type": "stream",
     "text": [
      "702849    Andrei Medvedev (tennis)    Andriy Medvedev\n"
     ]
    },
    {
     "name": "stderr",
     "output_type": "stream",
     "text": [
      "  9%|▊         | 486/5598 [12:14<2:25:23,  1.71s/it]"
     ]
    },
    {
     "name": "stdout",
     "output_type": "stream",
     "text": [
      "3079144    Jonathan Stark (tennis)    Jonathan Stark\n"
     ]
    },
    {
     "name": "stderr",
     "output_type": "stream",
     "text": [
      "  9%|▉         | 495/5598 [12:33<2:23:35,  1.69s/it]"
     ]
    },
    {
     "name": "stdout",
     "output_type": "stream",
     "text": [
      "1723559    Félix Mantilla (tennis)    Félix Mantilla Botella\n"
     ]
    },
    {
     "name": "stderr",
     "output_type": "stream",
     "text": [
      "  9%|▉         | 518/5598 [12:59<1:44:37,  1.24s/it]"
     ]
    },
    {
     "name": "stdout",
     "output_type": "stream",
     "text": [
      "420527    Javier Sánchez (tennis)    Javier Sánchez\n"
     ]
    },
    {
     "name": "stderr",
     "output_type": "stream",
     "text": [
      "  9%|▉         | 525/5598 [13:14<3:12:24,  2.28s/it]"
     ]
    },
    {
     "name": "stdout",
     "output_type": "stream",
     "text": [
      "2785107    Carlos Costa (tennis)    Carlos Costa\n"
     ]
    },
    {
     "name": "stderr",
     "output_type": "stream",
     "text": [
      " 10%|▉         | 543/5598 [13:42<1:50:49,  1.32s/it]"
     ]
    },
    {
     "name": "stdout",
     "output_type": "stream",
     "text": [
      "1360083    Los Angeles Angels    Los Angeles Angels of Anaheim\n"
     ]
    },
    {
     "name": "stderr",
     "output_type": "stream",
     "text": [
      "\r",
      " 10%|▉         | 544/5598 [13:42<1:26:06,  1.02s/it]"
     ]
    },
    {
     "name": "stdout",
     "output_type": "stream",
     "text": [
      "1035828    NewYork-Presbyterian Hospital    NewYork–Presbyterian Hospital\n"
     ]
    },
    {
     "name": "stderr",
     "output_type": "stream",
     "text": [
      " 10%|█         | 567/5598 [14:15<2:45:11,  1.97s/it]"
     ]
    },
    {
     "name": "stdout",
     "output_type": "stream",
     "text": [
      "11278    Miami Marlins    Florida Marlins\n"
     ]
    },
    {
     "name": "stderr",
     "output_type": "stream",
     "text": [
      " 10%|█         | 583/5598 [14:43<1:48:28,  1.30s/it]"
     ]
    },
    {
     "name": "stdout",
     "output_type": "stream",
     "text": [
      "1261670    Terry Kennedy (baseball)    Terry Kennedy\n"
     ]
    },
    {
     "name": "stderr",
     "output_type": "stream",
     "text": [
      " 11%|█         | 588/5598 [14:51<2:21:25,  1.69s/it]"
     ]
    },
    {
     "name": "stdout",
     "output_type": "stream",
     "text": [
      "153856    Cal Ripken Jr.    Cal Ripken, Jr.\n"
     ]
    },
    {
     "name": "stderr",
     "output_type": "stream",
     "text": [
      " 11%|█         | 613/5598 [15:24<3:17:03,  2.37s/it]"
     ]
    },
    {
     "name": "stdout",
     "output_type": "stream",
     "text": [
      "834154    NEC Nijmegen    N.E.C. (football club)\n"
     ]
    },
    {
     "name": "stderr",
     "output_type": "stream",
     "text": [
      " 11%|█         | 620/5598 [15:40<3:11:24,  2.31s/it]"
     ]
    },
    {
     "name": "stdout",
     "output_type": "stream",
     "text": [
      "23608452    Galatasaray S.K. (football)    Galatasaray S.K. (football team)\n"
     ]
    },
    {
     "name": "stderr",
     "output_type": "stream",
     "text": [
      " 11%|█         | 622/5598 [15:46<3:40:41,  2.66s/it]"
     ]
    },
    {
     "name": "stdout",
     "output_type": "stream",
     "text": [
      "2695399    Artur Jorge (footballer, born 1946)    Artur Jorge (footballer)\n"
     ]
    },
    {
     "name": "stderr",
     "output_type": "stream",
     "text": [
      " 11%|█▏        | 634/5598 [16:01<1:07:52,  1.22it/s]"
     ]
    },
    {
     "name": "stdout",
     "output_type": "stream",
     "text": [
      "1173543\n"
     ]
    },
    {
     "name": "stderr",
     "output_type": "stream",
     "text": [
      " 11%|█▏        | 636/5598 [16:03<1:14:44,  1.11it/s]"
     ]
    },
    {
     "name": "stdout",
     "output_type": "stream",
     "text": [
      "19302946    Antonio Esposito (footballer, born 1972)    Antonio Esposito\n"
     ]
    },
    {
     "name": "stderr",
     "output_type": "stream",
     "text": [
      " 12%|█▏        | 645/5598 [16:13<1:25:39,  1.04s/it]"
     ]
    },
    {
     "name": "stdout",
     "output_type": "stream",
     "text": [
      "15116    Inter Milan    F.C. Internazionale Milano\n"
     ]
    },
    {
     "name": "stderr",
     "output_type": "stream",
     "text": [
      " 12%|█▏        | 655/5598 [16:30<1:40:14,  1.22s/it]"
     ]
    },
    {
     "name": "stdout",
     "output_type": "stream",
     "text": [
      "4375906    Raymond Russell (golfer)    Raymond Russell\n",
      "5340073    David J. Russell    David J Russell\n"
     ]
    },
    {
     "name": "stderr",
     "output_type": "stream",
     "text": [
      " 12%|█▏        | 682/5598 [16:55<1:03:30,  1.29it/s]"
     ]
    },
    {
     "name": "stdout",
     "output_type": "stream",
     "text": [
      "4455122    José María Cañizares    José Maria Cañizares\n"
     ]
    },
    {
     "name": "stderr",
     "output_type": "stream",
     "text": [
      " 13%|█▎        | 734/5598 [18:10<1:30:12,  1.11s/it]"
     ]
    },
    {
     "name": "stdout",
     "output_type": "stream",
     "text": [
      "2962836    Lynda Chalker    Lynda Chalker, Baroness Chalker of Wallasey\n"
     ]
    },
    {
     "name": "stderr",
     "output_type": "stream",
     "text": [
      " 13%|█▎        | 750/5598 [18:40<2:20:21,  1.74s/it]"
     ]
    },
    {
     "name": "stdout",
     "output_type": "stream",
     "text": [
      "1927490\n"
     ]
    },
    {
     "name": "stderr",
     "output_type": "stream",
     "text": [
      " 14%|█▎        | 764/5598 [19:06<1:08:49,  1.17it/s]"
     ]
    },
    {
     "name": "stdout",
     "output_type": "stream",
     "text": [
      "2534235\n"
     ]
    },
    {
     "name": "stderr",
     "output_type": "stream",
     "text": [
      " 14%|█▎        | 768/5598 [19:12<1:25:38,  1.06s/it]"
     ]
    },
    {
     "name": "stdout",
     "output_type": "stream",
     "text": [
      "47725    Organisation of Islamic Cooperation    Organisation of the Islamic Conference\n"
     ]
    },
    {
     "name": "stderr",
     "output_type": "stream",
     "text": [
      " 14%|█▍        | 770/5598 [19:17<2:04:23,  1.55s/it]"
     ]
    },
    {
     "name": "stdout",
     "output_type": "stream",
     "text": [
      "36922    Quran    Qur'an\n"
     ]
    },
    {
     "name": "stderr",
     "output_type": "stream",
     "text": [
      " 14%|█▍        | 778/5598 [19:24<1:18:37,  1.02it/s]"
     ]
    },
    {
     "name": "stdout",
     "output_type": "stream",
     "text": [
      "164386    S&P Global Ratings    Standard & Poor's\n"
     ]
    },
    {
     "name": "stderr",
     "output_type": "stream",
     "text": [
      " 14%|█▍        | 783/5598 [19:31<1:38:06,  1.22s/it]"
     ]
    },
    {
     "name": "stdout",
     "output_type": "stream",
     "text": [
      "354620    Interior minister    Interior ministry\n"
     ]
    },
    {
     "name": "stderr",
     "output_type": "stream",
     "text": [
      " 14%|█▍        | 791/5598 [19:46<2:31:13,  1.89s/it]"
     ]
    },
    {
     "name": "stdout",
     "output_type": "stream",
     "text": [
      "434852    TASS    Information Telegraph Agency of Russia\n"
     ]
    },
    {
     "name": "stderr",
     "output_type": "stream",
     "text": [
      " 14%|█▍        | 793/5598 [19:46<1:24:10,  1.05s/it]"
     ]
    },
    {
     "name": "stdout",
     "output_type": "stream",
     "text": [
      "37664\n"
     ]
    },
    {
     "name": "stderr",
     "output_type": "stream",
     "text": [
      " 14%|█▍        | 798/5598 [19:58<3:11:11,  2.39s/it]"
     ]
    },
    {
     "name": "stdout",
     "output_type": "stream",
     "text": [
      "751326    Dnevni avaz    Dnevni Avaz\n"
     ]
    },
    {
     "name": "stderr",
     "output_type": "stream",
     "text": [
      " 14%|█▍        | 803/5598 [20:14<3:28:21,  2.61s/it]"
     ]
    },
    {
     "name": "stdout",
     "output_type": "stream",
     "text": [
      "5418443    Gorgona Island (Colombia)    Gorgona, Colombia\n"
     ]
    },
    {
     "name": "stderr",
     "output_type": "stream",
     "text": [
      " 15%|█▍        | 835/5598 [21:20<1:43:56,  1.31s/it]"
     ]
    },
    {
     "name": "stdout",
     "output_type": "stream",
     "text": [
      "319357    Egyptair    EgyptAir\n"
     ]
    },
    {
     "name": "stderr",
     "output_type": "stream",
     "text": [
      " 15%|█▌        | 841/5598 [21:31<2:51:29,  2.16s/it]"
     ]
    },
    {
     "name": "stdout",
     "output_type": "stream",
     "text": [
      "1088372    Hassan Al-Turabi    Hassan al-Turabi\n"
     ]
    },
    {
     "name": "stderr",
     "output_type": "stream",
     "text": [
      " 15%|█▌        | 848/5598 [21:41<1:41:27,  1.28s/it]"
     ]
    },
    {
     "name": "stdout",
     "output_type": "stream",
     "text": [
      "47737    Las Vegas    Las Vegas, Nevada\n"
     ]
    },
    {
     "name": "stderr",
     "output_type": "stream",
     "text": [
      " 16%|█▌        | 868/5598 [22:15<1:51:19,  1.41s/it]"
     ]
    },
    {
     "name": "stdout",
     "output_type": "stream",
     "text": [
      "18404036\n"
     ]
    },
    {
     "name": "stderr",
     "output_type": "stream",
     "text": [
      "\r",
      " 16%|█▌        | 869/5598 [22:16<1:43:32,  1.31s/it]"
     ]
    },
    {
     "name": "stdout",
     "output_type": "stream",
     "text": [
      "2570087    NSDAP/AO    AO\n"
     ]
    },
    {
     "name": "stderr",
     "output_type": "stream",
     "text": [
      " 16%|█▌        | 885/5598 [22:36<1:10:07,  1.12it/s]"
     ]
    },
    {
     "name": "stdout",
     "output_type": "stream",
     "text": [
      "5454926    Leipzig/Halle Airport    Halle Airport\n"
     ]
    },
    {
     "name": "stderr",
     "output_type": "stream",
     "text": [
      " 16%|█▌        | 890/5598 [22:45<2:11:51,  1.68s/it]"
     ]
    },
    {
     "name": "stdout",
     "output_type": "stream",
     "text": [
      "2186512    Aegon N.V.    Aegon\n"
     ]
    },
    {
     "name": "stderr",
     "output_type": "stream",
     "text": [
      " 16%|█▌        | 897/5598 [22:56<2:35:58,  1.99s/it]"
     ]
    },
    {
     "name": "stdout",
     "output_type": "stream",
     "text": [
      "2253457    Federal Foreign Office    Foreign Office (Germany)\n"
     ]
    },
    {
     "name": "stderr",
     "output_type": "stream",
     "text": [
      " 16%|█▋        | 917/5598 [23:26<1:36:37,  1.24s/it]"
     ]
    },
    {
     "name": "stdout",
     "output_type": "stream",
     "text": [
      "15156528    National Bank Limited    National Bank (Bangladesh)\n"
     ]
    },
    {
     "name": "stderr",
     "output_type": "stream",
     "text": [
      " 16%|█▋        | 919/5598 [23:29<1:22:36,  1.06s/it]"
     ]
    },
    {
     "name": "stdout",
     "output_type": "stream",
     "text": [
      "8312860\n"
     ]
    },
    {
     "name": "stderr",
     "output_type": "stream",
     "text": [
      " 17%|█▋        | 933/5598 [23:56<2:21:17,  1.82s/it]"
     ]
    },
    {
     "name": "stdout",
     "output_type": "stream",
     "text": [
      "52389    Independence Day (1996 film)    Independence Day (film)\n"
     ]
    },
    {
     "name": "stderr",
     "output_type": "stream",
     "text": [
      " 17%|█▋        | 949/5598 [24:21<1:31:30,  1.18s/it]"
     ]
    },
    {
     "name": "stdout",
     "output_type": "stream",
     "text": [
      "11197621    Australians    Australian people\n"
     ]
    },
    {
     "name": "stderr",
     "output_type": "stream",
     "text": [
      " 17%|█▋        | 963/5598 [24:40<58:20,  1.32it/s]  "
     ]
    },
    {
     "name": "stdout",
     "output_type": "stream",
     "text": [
      "585629    Kyiv    Kiev\n"
     ]
    },
    {
     "name": "stderr",
     "output_type": "stream",
     "text": [
      " 17%|█▋        | 976/5598 [24:59<43:57,  1.75it/s]  "
     ]
    },
    {
     "name": "stdout",
     "output_type": "stream",
     "text": [
      "24580262    Viacom (1952–2006)    Viacom (1971–2005)\n"
     ]
    },
    {
     "name": "stderr",
     "output_type": "stream",
     "text": [
      " 18%|█▊        | 981/5598 [25:06<1:59:06,  1.55s/it]"
     ]
    },
    {
     "name": "stdout",
     "output_type": "stream",
     "text": [
      "324    Academy Awards    Academy Award\n"
     ]
    },
    {
     "name": "stderr",
     "output_type": "stream",
     "text": [
      " 18%|█▊        | 993/5598 [25:27<3:00:04,  2.35s/it]"
     ]
    },
    {
     "name": "stdout",
     "output_type": "stream",
     "text": [
      "34104    Williams Grand Prix Engineering    WilliamsF1\n"
     ]
    },
    {
     "name": "stderr",
     "output_type": "stream",
     "text": [
      " 18%|█▊        | 1004/5598 [25:51<2:01:24,  1.59s/it]"
     ]
    },
    {
     "name": "stdout",
     "output_type": "stream",
     "text": [
      "3158734    Sauber Motorsport    Sauber\n"
     ]
    },
    {
     "name": "stderr",
     "output_type": "stream",
     "text": [
      " 19%|█▊        | 1038/5598 [26:48<1:19:40,  1.05s/it]"
     ]
    },
    {
     "name": "stdout",
     "output_type": "stream",
     "text": [
      "8904211    Northerns (cricket team)    Northerns cricket team\n"
     ]
    },
    {
     "name": "stderr",
     "output_type": "stream",
     "text": [
      "\r",
      " 19%|█▊        | 1039/5598 [26:49<1:24:50,  1.12s/it]"
     ]
    },
    {
     "name": "stdout",
     "output_type": "stream",
     "text": [
      "8357907    André Snyman    Andre Snyman\n"
     ]
    },
    {
     "name": "stderr",
     "output_type": "stream",
     "text": [
      " 19%|█▉        | 1051/5598 [27:08<1:55:09,  1.52s/it]"
     ]
    },
    {
     "name": "stdout",
     "output_type": "stream",
     "text": [
      "63493    Ken Griffey Jr.    Ken Griffey, Jr.\n"
     ]
    },
    {
     "name": "stderr",
     "output_type": "stream",
     "text": [
      " 19%|█▉        | 1068/5598 [27:26<1:09:17,  1.09it/s]"
     ]
    },
    {
     "name": "stdout",
     "output_type": "stream",
     "text": [
      "2747849    Justin Thompson (baseball)    Justin Thompson\n"
     ]
    },
    {
     "name": "stderr",
     "output_type": "stream",
     "text": [
      " 19%|█▉        | 1072/5598 [27:29<49:03,  1.54it/s]  "
     ]
    },
    {
     "name": "stdout",
     "output_type": "stream",
     "text": [
      "2372135    Erik Hanson (baseball)    Erik Hanson\n",
      "2375798\n"
     ]
    },
    {
     "name": "stderr",
     "output_type": "stream",
     "text": [
      " 19%|█▉        | 1076/5598 [27:34<1:23:50,  1.11s/it]"
     ]
    },
    {
     "name": "stdout",
     "output_type": "stream",
     "text": [
      "769618    Sporting CP    Sporting Clube de Portugal\n"
     ]
    },
    {
     "name": "stderr",
     "output_type": "stream",
     "text": [
      " 19%|█▉        | 1082/5598 [27:41<1:41:10,  1.34s/it]"
     ]
    },
    {
     "name": "stdout",
     "output_type": "stream",
     "text": [
      "172589    FC Porto    F.C. Porto\n"
     ]
    },
    {
     "name": "stderr",
     "output_type": "stream",
     "text": [
      "\r",
      " 19%|█▉        | 1083/5598 [27:43<1:56:38,  1.55s/it]"
     ]
    },
    {
     "name": "stdout",
     "output_type": "stream",
     "text": [
      "909545    Primeira Liga    Portuguese Liga\n"
     ]
    },
    {
     "name": "stderr",
     "output_type": "stream",
     "text": [
      " 19%|█▉        | 1086/5598 [27:49<1:50:43,  1.47s/it]"
     ]
    },
    {
     "name": "stdout",
     "output_type": "stream",
     "text": [
      "686142    Bundesliga    Fußball-Bundesliga\n"
     ]
    },
    {
     "name": "stderr",
     "output_type": "stream",
     "text": [
      " 19%|█▉        | 1090/5598 [27:54<1:52:30,  1.50s/it]"
     ]
    },
    {
     "name": "stdout",
     "output_type": "stream",
     "text": [
      "599978    FC Hansa Rostock    F.C. Hansa Rostock\n"
     ]
    },
    {
     "name": "stderr",
     "output_type": "stream",
     "text": [
      " 20%|█▉        | 1103/5598 [28:06<53:34,  1.40it/s]  "
     ]
    },
    {
     "name": "stdout",
     "output_type": "stream",
     "text": [
      "34453\n"
     ]
    },
    {
     "name": "stderr",
     "output_type": "stream",
     "text": [
      " 20%|█▉        | 1114/5598 [28:18<1:16:26,  1.02s/it]"
     ]
    },
    {
     "name": "stdout",
     "output_type": "stream",
     "text": [
      "4375908    Steve Webster (golfer)    Steve Webster\n"
     ]
    },
    {
     "name": "stderr",
     "output_type": "stream",
     "text": [
      " 20%|██        | 1125/5598 [28:29<44:38,  1.67it/s]  "
     ]
    },
    {
     "name": "stdout",
     "output_type": "stream",
     "text": [
      "923379\n"
     ]
    },
    {
     "name": "stderr",
     "output_type": "stream",
     "text": [
      " 20%|██        | 1146/5598 [28:52<51:16,  1.45it/s]  "
     ]
    },
    {
     "name": "stdout",
     "output_type": "stream",
     "text": [
      "7885102    Steve Brown (athlete)    Stephen Brown (athlete)\n"
     ]
    },
    {
     "name": "stderr",
     "output_type": "stream",
     "text": [
      " 21%|██        | 1164/5598 [29:08<55:38,  1.33it/s]  "
     ]
    },
    {
     "name": "stdout",
     "output_type": "stream",
     "text": [
      "2573684\n"
     ]
    },
    {
     "name": "stderr",
     "output_type": "stream",
     "text": [
      " 21%|██        | 1176/5598 [29:20<1:29:02,  1.21s/it]"
     ]
    },
    {
     "name": "stdout",
     "output_type": "stream",
     "text": [
      "653621    Michael Johnson (sprinter)    Michael Johnson (athlete)\n"
     ]
    },
    {
     "name": "stderr",
     "output_type": "stream",
     "text": [
      " 21%|██        | 1184/5598 [29:29<1:14:10,  1.01s/it]"
     ]
    },
    {
     "name": "stdout",
     "output_type": "stream",
     "text": [
      "7652893    Mark Richardson (sprinter)    Mark Richardson (athlete)\n"
     ]
    },
    {
     "name": "stderr",
     "output_type": "stream",
     "text": [
      " 21%|██        | 1188/5598 [29:32<46:35,  1.58it/s]  "
     ]
    },
    {
     "name": "stdout",
     "output_type": "stream",
     "text": [
      "27446348    Jeff Williams (sprinter)    Jeff Williams (athlete)\n"
     ]
    },
    {
     "name": "stderr",
     "output_type": "stream",
     "text": [
      " 21%|██▏       | 1190/5598 [29:34<1:04:49,  1.13it/s]"
     ]
    },
    {
     "name": "stdout",
     "output_type": "stream",
     "text": [
      "681338    Michael Marsh (sprinter)    Michael Marsh (athlete)\n"
     ]
    },
    {
     "name": "stderr",
     "output_type": "stream",
     "text": [
      "\r",
      " 21%|██▏       | 1191/5598 [29:35<1:01:52,  1.19it/s]"
     ]
    },
    {
     "name": "stdout",
     "output_type": "stream",
     "text": [
      "2688112    Iván García (athlete)    Iván García\n"
     ]
    },
    {
     "name": "stderr",
     "output_type": "stream",
     "text": [
      " 22%|██▏       | 1204/5598 [29:44<41:37,  1.76it/s]  "
     ]
    },
    {
     "name": "stdout",
     "output_type": "stream",
     "text": [
      "3058737    Bob Kennedy (runner)    Bob Kennedy (athlete)\n"
     ]
    },
    {
     "name": "stderr",
     "output_type": "stream",
     "text": [
      " 22%|██▏       | 1212/5598 [29:52<1:18:09,  1.07s/it]"
     ]
    },
    {
     "name": "stdout",
     "output_type": "stream",
     "text": [
      "52056    Jonathan Edwards (triple jumper)    Jonathan Edwards (athlete)\n"
     ]
    },
    {
     "name": "stderr",
     "output_type": "stream",
     "text": [
      " 22%|██▏       | 1244/5598 [30:40<4:20:47,  3.59s/it]"
     ]
    },
    {
     "name": "stdout",
     "output_type": "stream",
     "text": [
      "1965301    António Oliveira (footballer, born 1952)    António Luís Alves Ribeiro Oliveira\n"
     ]
    },
    {
     "name": "stderr",
     "output_type": "stream",
     "text": [
      " 22%|██▏       | 1249/5598 [30:47<2:06:10,  1.74s/it]"
     ]
    },
    {
     "name": "stdout",
     "output_type": "stream",
     "text": [
      "4935997    Hélder (footballer)    Hélder Cristóvão\n"
     ]
    },
    {
     "name": "stderr",
     "output_type": "stream",
     "text": [
      " 22%|██▏       | 1251/5598 [30:49<1:46:00,  1.46s/it]"
     ]
    },
    {
     "name": "stdout",
     "output_type": "stream",
     "text": [
      "2135282    Dimas (footballer)    Dimas Teixeira\n"
     ]
    },
    {
     "name": "stderr",
     "output_type": "stream",
     "text": [
      " 22%|██▏       | 1254/5598 [30:51<59:13,  1.22it/s]  "
     ]
    },
    {
     "name": "stdout",
     "output_type": "stream",
     "text": [
      "353781\n"
     ]
    },
    {
     "name": "stderr",
     "output_type": "stream",
     "text": [
      " 22%|██▏       | 1256/5598 [30:55<1:38:39,  1.36s/it]"
     ]
    },
    {
     "name": "stdout",
     "output_type": "stream",
     "text": [
      "3304564    Oceano Cruz    Oceano da Cruz\n"
     ]
    },
    {
     "name": "stderr",
     "output_type": "stream",
     "text": [
      " 22%|██▏       | 1258/5598 [30:59<2:02:57,  1.70s/it]"
     ]
    },
    {
     "name": "stdout",
     "output_type": "stream",
     "text": [
      "1254376    João Pinto    João Vieira Pinto\n"
     ]
    },
    {
     "name": "stderr",
     "output_type": "stream",
     "text": [
      " 23%|██▎       | 1292/5598 [31:58<2:50:37,  2.38s/it]"
     ]
    },
    {
     "name": "stdout",
     "output_type": "stream",
     "text": [
      "677536    Legia Warsaw    Legia Warszawa\n"
     ]
    },
    {
     "name": "stderr",
     "output_type": "stream",
     "text": [
      " 23%|██▎       | 1297/5598 [32:05<1:43:49,  1.45s/it]"
     ]
    },
    {
     "name": "stdout",
     "output_type": "stream",
     "text": [
      "1167720    FC Spartak Vladikavkaz    FC Alania Vladikavkaz\n"
     ]
    },
    {
     "name": "stderr",
     "output_type": "stream",
     "text": [
      " 23%|██▎       | 1301/5598 [32:12<1:30:37,  1.27s/it]"
     ]
    },
    {
     "name": "stdout",
     "output_type": "stream",
     "text": [
      "23538966    World Series Cricket World XI    WSC World XI\n"
     ]
    },
    {
     "name": "stderr",
     "output_type": "stream",
     "text": [
      " 23%|██▎       | 1306/5598 [32:20<1:38:00,  1.37s/it]"
     ]
    },
    {
     "name": "stdout",
     "output_type": "stream",
     "text": [
      "4014249    National Assembly (Angola)    National Assembly of Angola\n"
     ]
    },
    {
     "name": "stderr",
     "output_type": "stream",
     "text": [
      " 24%|██▎       | 1322/5598 [32:34<1:04:26,  1.11it/s]"
     ]
    },
    {
     "name": "stdout",
     "output_type": "stream",
     "text": [
      "7971634\n"
     ]
    },
    {
     "name": "stderr",
     "output_type": "stream",
     "text": [
      " 24%|██▎       | 1328/5598 [32:45<2:41:58,  2.28s/it]"
     ]
    },
    {
     "name": "stdout",
     "output_type": "stream",
     "text": [
      "265716    Constanța    Constanţa\n"
     ]
    },
    {
     "name": "stderr",
     "output_type": "stream",
     "text": [
      " 24%|██▍       | 1332/5598 [32:50<1:51:02,  1.56s/it]"
     ]
    },
    {
     "name": "stdout",
     "output_type": "stream",
     "text": [
      "229431    Saint Croix    Saint Croix, U.S. Virgin Islands\n"
     ]
    },
    {
     "name": "stderr",
     "output_type": "stream",
     "text": [
      " 24%|██▍       | 1341/5598 [33:03<1:17:52,  1.10s/it]"
     ]
    },
    {
     "name": "stdout",
     "output_type": "stream",
     "text": [
      "80628    Eleusis    Eleusina\n"
     ]
    },
    {
     "name": "stderr",
     "output_type": "stream",
     "text": [
      " 24%|██▍       | 1343/5598 [33:08<1:54:53,  1.62s/it]"
     ]
    },
    {
     "name": "stdout",
     "output_type": "stream",
     "text": [
      "159433    Arab world    Arab World\n"
     ]
    },
    {
     "name": "stderr",
     "output_type": "stream",
     "text": [
      " 24%|██▍       | 1349/5598 [33:18<1:46:48,  1.51s/it]"
     ]
    },
    {
     "name": "stdout",
     "output_type": "stream",
     "text": [
      "2185    Arabs    Arab people\n"
     ]
    },
    {
     "name": "stderr",
     "output_type": "stream",
     "text": [
      " 24%|██▍       | 1354/5598 [33:25<1:29:10,  1.26s/it]"
     ]
    },
    {
     "name": "stdout",
     "output_type": "stream",
     "text": [
      "3567921    Mark Kennedy (footballer, born 1976)    Mark Kennedy (footballer)\n"
     ]
    },
    {
     "name": "stderr",
     "output_type": "stream",
     "text": [
      " 25%|██▍       | 1373/5598 [33:51<1:00:44,  1.16it/s]"
     ]
    },
    {
     "name": "stdout",
     "output_type": "stream",
     "text": [
      "10601955    Croatian News Agency    HINA\n"
     ]
    },
    {
     "name": "stderr",
     "output_type": "stream",
     "text": [
      " 25%|██▌       | 1402/5598 [34:45<1:21:28,  1.17s/it]"
     ]
    },
    {
     "name": "stdout",
     "output_type": "stream",
     "text": [
      "307576    Al-Karak    Al Karak\n"
     ]
    },
    {
     "name": "stderr",
     "output_type": "stream",
     "text": [
      " 25%|██▌       | 1414/5598 [35:07<1:35:05,  1.36s/it]"
     ]
    },
    {
     "name": "stdout",
     "output_type": "stream",
     "text": [
      "8122677    Masoud Barzani    Massoud Barzani\n"
     ]
    },
    {
     "name": "stderr",
     "output_type": "stream",
     "text": [
      " 25%|██▌       | 1420/5598 [35:12<40:40,  1.71it/s]  "
     ]
    },
    {
     "name": "stdout",
     "output_type": "stream",
     "text": [
      "9696755\n"
     ]
    },
    {
     "name": "stderr",
     "output_type": "stream",
     "text": [
      " 25%|██▌       | 1425/5598 [35:16<1:02:56,  1.10it/s]"
     ]
    },
    {
     "name": "stdout",
     "output_type": "stream",
     "text": [
      "505437    Bill Weld    William Weld\n"
     ]
    },
    {
     "name": "stderr",
     "output_type": "stream",
     "text": [
      "\r",
      " 25%|██▌       | 1426/5598 [35:17<1:07:50,  1.03it/s]"
     ]
    },
    {
     "name": "stdout",
     "output_type": "stream",
     "text": [
      "843793    WBUR-FM    WBUR\n"
     ]
    },
    {
     "name": "stderr",
     "output_type": "stream",
     "text": [
      " 26%|██▌       | 1433/5598 [35:33<3:13:53,  2.79s/it]"
     ]
    },
    {
     "name": "stdout",
     "output_type": "stream",
     "text": [
      "4096004    Sri Lankan Tamils    Sri Lankan Tamil people\n"
     ]
    },
    {
     "name": "stderr",
     "output_type": "stream",
     "text": [
      " 26%|██▌       | 1449/5598 [36:03<43:59,  1.57it/s]  "
     ]
    },
    {
     "name": "stdout",
     "output_type": "stream",
     "text": [
      "566384    Duhok    Duhok, Iraq\n"
     ]
    },
    {
     "name": "stderr",
     "output_type": "stream",
     "text": [
      " 26%|██▌       | 1459/5598 [36:12<1:10:01,  1.02s/it]"
     ]
    },
    {
     "name": "stdout",
     "output_type": "stream",
     "text": [
      "26213969\n"
     ]
    },
    {
     "name": "stderr",
     "output_type": "stream",
     "text": [
      " 26%|██▌       | 1462/5598 [36:15<1:02:33,  1.10it/s]"
     ]
    },
    {
     "name": "stdout",
     "output_type": "stream",
     "text": [
      "217560    Chihuahua City    Chihuahua, Chihuahua\n"
     ]
    },
    {
     "name": "stderr",
     "output_type": "stream",
     "text": [
      " 27%|██▋       | 1496/5598 [36:47<32:38,  2.09it/s]  "
     ]
    },
    {
     "name": "stdout",
     "output_type": "stream",
     "text": [
      "15842094    Boskalis    Royal Boskalis Westminster\n"
     ]
    },
    {
     "name": "stderr",
     "output_type": "stream",
     "text": [
      " 27%|██▋       | 1524/5598 [37:26<1:02:09,  1.09it/s]"
     ]
    },
    {
     "name": "stdout",
     "output_type": "stream",
     "text": [
      "370229    SoftBank Group    SoftBank\n"
     ]
    },
    {
     "name": "stderr",
     "output_type": "stream",
     "text": [
      " 27%|██▋       | 1527/5598 [37:28<48:34,  1.40it/s]  "
     ]
    },
    {
     "name": "stdout",
     "output_type": "stream",
     "text": [
      "2688005    Les Echos (France)    Les Échos (France)\n"
     ]
    },
    {
     "name": "stderr",
     "output_type": "stream",
     "text": [
      " 27%|██▋       | 1529/5598 [37:28<31:10,  2.18it/s]"
     ]
    },
    {
     "name": "stdout",
     "output_type": "stream",
     "text": [
      "8240811    DIA (supermarket chain)    Dia (supermarket chain)\n"
     ]
    },
    {
     "name": "stderr",
     "output_type": "stream",
     "text": [
      " 27%|██▋       | 1537/5598 [37:36<53:06,  1.27it/s]  "
     ]
    },
    {
     "name": "stdout",
     "output_type": "stream",
     "text": [
      "243710\n"
     ]
    },
    {
     "name": "stderr",
     "output_type": "stream",
     "text": [
      " 28%|██▊       | 1547/5598 [37:49<1:06:47,  1.01it/s]"
     ]
    },
    {
     "name": "stdout",
     "output_type": "stream",
     "text": [
      "1085647    David Richards (motorsport)    David Richards (racing)\n"
     ]
    },
    {
     "name": "stderr",
     "output_type": "stream",
     "text": [
      " 28%|██▊       | 1558/5598 [38:05<1:13:43,  1.09s/it]"
     ]
    },
    {
     "name": "stdout",
     "output_type": "stream",
     "text": [
      "800001    Arrows Grand Prix International    Arrows\n"
     ]
    },
    {
     "name": "stderr",
     "output_type": "stream",
     "text": [
      " 28%|██▊       | 1567/5598 [38:14<58:05,  1.16it/s]  "
     ]
    },
    {
     "name": "stdout",
     "output_type": "stream",
     "text": [
      "5690457    Paris Saint-Germain Rugby League    Paris Saint Germain (rugby league team)\n"
     ]
    },
    {
     "name": "stderr",
     "output_type": "stream",
     "text": [
      " 28%|██▊       | 1570/5598 [38:21<2:08:22,  1.91s/it]"
     ]
    },
    {
     "name": "stdout",
     "output_type": "stream",
     "text": [
      "1095032    St Helens R.F.C.    St Helens RLFC\n"
     ]
    },
    {
     "name": "stderr",
     "output_type": "stream",
     "text": [
      " 28%|██▊       | 1572/5598 [38:23<1:33:35,  1.39s/it]"
     ]
    },
    {
     "name": "stdout",
     "output_type": "stream",
     "text": [
      "629563    Wasps RFC    London Wasps\n"
     ]
    },
    {
     "name": "stderr",
     "output_type": "stream",
     "text": [
      " 28%|██▊       | 1574/5598 [38:26<1:33:23,  1.39s/it]"
     ]
    },
    {
     "name": "stdout",
     "output_type": "stream",
     "text": [
      "1196374    Halifax Panthers    Halifax RLFC\n"
     ]
    },
    {
     "name": "stderr",
     "output_type": "stream",
     "text": [
      " 28%|██▊       | 1577/5598 [38:28<1:06:47,  1.00it/s]"
     ]
    },
    {
     "name": "stdout",
     "output_type": "stream",
     "text": [
      "1098719    Oldham R.L.F.C.    Oldham Roughyeds\n"
     ]
    },
    {
     "name": "stderr",
     "output_type": "stream",
     "text": [
      " 28%|██▊       | 1581/5598 [38:31<44:02,  1.52it/s]  "
     ]
    },
    {
     "name": "stdout",
     "output_type": "stream",
     "text": [
      "6136803    Matt Windows    Matthew Windows\n"
     ]
    },
    {
     "name": "stderr",
     "output_type": "stream",
     "text": [
      " 28%|██▊       | 1588/5598 [38:36<50:34,  1.32it/s]"
     ]
    },
    {
     "name": "stdout",
     "output_type": "stream",
     "text": [
      "24080381    Gordon Parsons (cricketer)    Gordon Parsons\n"
     ]
    },
    {
     "name": "stderr",
     "output_type": "stream",
     "text": [
      " 29%|██▊       | 1603/5598 [38:59<2:15:20,  2.03s/it]"
     ]
    },
    {
     "name": "stdout",
     "output_type": "stream",
     "text": [
      "1216952    Airdrieonians F.C. (1878)    Airdrieonians F.C.\n"
     ]
    },
    {
     "name": "stderr",
     "output_type": "stream",
     "text": [
      " 29%|██▉       | 1611/5598 [39:12<1:42:40,  1.55s/it]"
     ]
    },
    {
     "name": "stdout",
     "output_type": "stream",
     "text": [
      "783089    St Mirren F.C.    St. Mirren F.C.\n"
     ]
    },
    {
     "name": "stderr",
     "output_type": "stream",
     "text": [
      "\r",
      " 29%|██▉       | 1612/5598 [39:12<1:19:22,  1.19s/it]"
     ]
    },
    {
     "name": "stdout",
     "output_type": "stream",
     "text": [
      "393756    St Johnstone F.C.    St. Johnstone F.C.\n"
     ]
    },
    {
     "name": "stderr",
     "output_type": "stream",
     "text": [
      " 29%|██▉       | 1637/5598 [39:41<48:05,  1.37it/s]  "
     ]
    },
    {
     "name": "stdout",
     "output_type": "stream",
     "text": [
      "4249924    Peter Atherton (footballer)    Peter Atherton\n"
     ]
    },
    {
     "name": "stderr",
     "output_type": "stream",
     "text": [
      " 30%|██▉       | 1652/5598 [40:10<2:24:15,  2.19s/it]"
     ]
    },
    {
     "name": "stdout",
     "output_type": "stream",
     "text": [
      "7609513    Leeds United F.C.    Leeds United A.F.C.\n"
     ]
    },
    {
     "name": "stderr",
     "output_type": "stream",
     "text": [
      " 30%|██▉       | 1673/5598 [40:44<51:54,  1.26it/s]  "
     ]
    },
    {
     "name": "stdout",
     "output_type": "stream",
     "text": [
      "236211    Huddersfield Town A.F.C.    Huddersfield Town F.C.\n"
     ]
    },
    {
     "name": "stderr",
     "output_type": "stream",
     "text": [
      " 30%|███       | 1693/5598 [41:18<2:58:39,  2.75s/it]"
     ]
    },
    {
     "name": "stdout",
     "output_type": "stream",
     "text": [
      "413286    Wrexham A.F.C.    Wrexham F.C.\n"
     ]
    },
    {
     "name": "stderr",
     "output_type": "stream",
     "text": [
      " 30%|███       | 1698/5598 [41:21<1:02:17,  1.04it/s]"
     ]
    },
    {
     "name": "stdout",
     "output_type": "stream",
     "text": [
      "451121    AFC Bournemouth    A.F.C. Bournemouth\n"
     ]
    },
    {
     "name": "stderr",
     "output_type": "stream",
     "text": [
      " 31%|███       | 1739/5598 [42:17<1:18:48,  1.23s/it]"
     ]
    },
    {
     "name": "stdout",
     "output_type": "stream",
     "text": [
      "17634183    OFK Kikinda    FK Kikinda\n"
     ]
    },
    {
     "name": "stderr",
     "output_type": "stream",
     "text": [
      "\r",
      " 31%|███       | 1740/5598 [42:19<1:33:41,  1.46s/it]"
     ]
    },
    {
     "name": "stdout",
     "output_type": "stream",
     "text": [
      "20517361    FK Spartak Subotica    FK Spartak Zlatibor Voda\n"
     ]
    },
    {
     "name": "stderr",
     "output_type": "stream",
     "text": [
      " 31%|███       | 1748/5598 [42:32<1:42:10,  1.59s/it]"
     ]
    },
    {
     "name": "stdout",
     "output_type": "stream",
     "text": [
      "10410246    OKS Stomil Olsztyn    OKS 1945 Olsztyn\n"
     ]
    },
    {
     "name": "stderr",
     "output_type": "stream",
     "text": [
      " 31%|███▏      | 1754/5598 [42:41<1:52:46,  1.76s/it]"
     ]
    },
    {
     "name": "stdout",
     "output_type": "stream",
     "text": [
      "677603    Polonia Warsaw    Polonia Warszawa\n"
     ]
    },
    {
     "name": "stderr",
     "output_type": "stream",
     "text": [
      " 31%|███▏      | 1762/5598 [42:50<1:19:13,  1.24s/it]"
     ]
    },
    {
     "name": "stdout",
     "output_type": "stream",
     "text": [
      "3647082    Barangay Ginebra San Miguel    Barangay Ginebra Kings\n"
     ]
    },
    {
     "name": "stderr",
     "output_type": "stream",
     "text": [
      " 32%|███▏      | 1772/5598 [43:02<1:30:52,  1.43s/it]"
     ]
    },
    {
     "name": "stdout",
     "output_type": "stream",
     "text": [
      "5960297    Márcio Santos (footballer, born 1969)    Márcio Roberto dos Santos\n"
     ]
    },
    {
     "name": "stderr",
     "output_type": "stream",
     "text": [
      " 32%|███▏      | 1783/5598 [43:22<1:05:00,  1.02s/it]"
     ]
    },
    {
     "name": "stdout",
     "output_type": "stream",
     "text": [
      "1520840\n"
     ]
    },
    {
     "name": "stderr",
     "output_type": "stream",
     "text": [
      " 32%|███▏      | 1786/5598 [43:26<1:14:25,  1.17s/it]"
     ]
    },
    {
     "name": "stdout",
     "output_type": "stream",
     "text": [
      "1537131    S.C. Eendracht Aalst    V.C. Eendracht Aalst 2002\n"
     ]
    },
    {
     "name": "stderr",
     "output_type": "stream",
     "text": [
      " 32%|███▏      | 1789/5598 [43:29<1:15:48,  1.19s/it]"
     ]
    },
    {
     "name": "stdout",
     "output_type": "stream",
     "text": [
      "1437246    Sint-Truidense V.V.    K. Sint-Truidense V.V.\n"
     ]
    },
    {
     "name": "stderr",
     "output_type": "stream",
     "text": [
      " 32%|███▏      | 1801/5598 [43:44<49:40,  1.27it/s]  "
     ]
    },
    {
     "name": "stdout",
     "output_type": "stream",
     "text": [
      "1693070    En Avant Guingamp    En Avant de Guingamp\n"
     ]
    },
    {
     "name": "stderr",
     "output_type": "stream",
     "text": [
      " 32%|███▏      | 1810/5598 [43:59<1:46:37,  1.69s/it]"
     ]
    },
    {
     "name": "stdout",
     "output_type": "stream",
     "text": [
      "1256446    RC Strasbourg Alsace    RC Strasbourg\n"
     ]
    },
    {
     "name": "stderr",
     "output_type": "stream",
     "text": [
      " 33%|███▎      | 1825/5598 [44:22<2:41:36,  2.57s/it]"
     ]
    },
    {
     "name": "stdout",
     "output_type": "stream",
     "text": [
      "834256    SBV Vitesse    Vitesse\n"
     ]
    },
    {
     "name": "stderr",
     "output_type": "stream",
     "text": [
      " 33%|███▎      | 1828/5598 [44:30<2:52:55,  2.75s/it]"
     ]
    },
    {
     "name": "stdout",
     "output_type": "stream",
     "text": [
      "834196    Roda JC Kerkrade    Roda JC\n"
     ]
    },
    {
     "name": "stderr",
     "output_type": "stream",
     "text": [
      " 33%|███▎      | 1830/5598 [44:32<1:50:36,  1.76s/it]"
     ]
    },
    {
     "name": "stdout",
     "output_type": "stream",
     "text": [
      "2289    AZ Alkmaar    AZ (football club)\n"
     ]
    },
    {
     "name": "stderr",
     "output_type": "stream",
     "text": [
      " 33%|███▎      | 1840/5598 [44:43<1:21:46,  1.31s/it]"
     ]
    },
    {
     "name": "stdout",
     "output_type": "stream",
     "text": [
      "1007441    TSV 1860 Munich    TSV 1860 München\n"
     ]
    },
    {
     "name": "stderr",
     "output_type": "stream",
     "text": [
      " 33%|███▎      | 1858/5598 [45:10<1:23:42,  1.34s/it]"
     ]
    },
    {
     "name": "stdout",
     "output_type": "stream",
     "text": [
      "5644175    LASK    LASK Linz\n"
     ]
    },
    {
     "name": "stderr",
     "output_type": "stream",
     "text": [
      " 33%|███▎      | 1870/5598 [45:31<1:53:07,  1.82s/it]"
     ]
    },
    {
     "name": "stdout",
     "output_type": "stream",
     "text": [
      "642604    Blantyre    Blantyre, Malawi\n"
     ]
    },
    {
     "name": "stderr",
     "output_type": "stream",
     "text": [
      " 34%|███▎      | 1880/5598 [45:50<1:05:23,  1.06s/it]"
     ]
    },
    {
     "name": "stdout",
     "output_type": "stream",
     "text": [
      "420869    Léon Kengo wa Dondo    Kengo Wa Dondo\n"
     ]
    },
    {
     "name": "stderr",
     "output_type": "stream",
     "text": [
      " 34%|███▎      | 1884/5598 [45:52<34:25,  1.80it/s]  "
     ]
    },
    {
     "name": "stdout",
     "output_type": "stream",
     "text": [
      "19997199    Xhosa people    Xhosa\n"
     ]
    },
    {
     "name": "stderr",
     "output_type": "stream",
     "text": [
      " 34%|███▍      | 1911/5598 [46:40<1:09:39,  1.13s/it]"
     ]
    },
    {
     "name": "stdout",
     "output_type": "stream",
     "text": [
      "24534207    Erbil    Arbil\n"
     ]
    },
    {
     "name": "stderr",
     "output_type": "stream",
     "text": [
      "\r",
      " 34%|███▍      | 1912/5598 [46:40<53:47,  1.14it/s]  "
     ]
    },
    {
     "name": "stdout",
     "output_type": "stream",
     "text": [
      "270067\n"
     ]
    },
    {
     "name": "stderr",
     "output_type": "stream",
     "text": [
      " 34%|███▍      | 1927/5598 [47:04<1:39:14,  1.62s/it]"
     ]
    },
    {
     "name": "stdout",
     "output_type": "stream",
     "text": [
      "9926    ETA (separatist group)    ETA\n"
     ]
    },
    {
     "name": "stderr",
     "output_type": "stream",
     "text": [
      " 34%|███▍      | 1930/5598 [47:10<1:50:01,  1.80s/it]"
     ]
    },
    {
     "name": "stdout",
     "output_type": "stream",
     "text": [
      "374695    Implementation Force    IFOR\n"
     ]
    },
    {
     "name": "stderr",
     "output_type": "stream",
     "text": [
      " 35%|███▍      | 1932/5598 [47:12<1:10:29,  1.15s/it]"
     ]
    },
    {
     "name": "stdout",
     "output_type": "stream",
     "text": [
      "842061\n"
     ]
    },
    {
     "name": "stderr",
     "output_type": "stream",
     "text": [
      " 35%|███▍      | 1953/5598 [47:41<1:02:58,  1.04s/it]"
     ]
    },
    {
     "name": "stdout",
     "output_type": "stream",
     "text": [
      "18642444\n"
     ]
    },
    {
     "name": "stderr",
     "output_type": "stream",
     "text": [
      " 35%|███▍      | 1959/5598 [47:47<1:23:31,  1.38s/it]"
     ]
    },
    {
     "name": "stdout",
     "output_type": "stream",
     "text": [
      "676299    Jamaat-e-Islami Pakistan    Jamaat-e-Islami\n"
     ]
    },
    {
     "name": "stderr",
     "output_type": "stream",
     "text": [
      " 35%|███▌      | 1968/5598 [47:55<49:23,  1.22it/s]  "
     ]
    },
    {
     "name": "stdout",
     "output_type": "stream",
     "text": [
      "319632    Verisign    VeriSign\n"
     ]
    },
    {
     "name": "stderr",
     "output_type": "stream",
     "text": [
      " 35%|███▌      | 1973/5598 [47:58<29:14,  2.07it/s]  "
     ]
    },
    {
     "name": "stdout",
     "output_type": "stream",
     "text": [
      "299967    Kleiner Perkins    Kleiner Perkins Caufield & Byers\n",
      "18622259\n"
     ]
    },
    {
     "name": "stderr",
     "output_type": "stream",
     "text": [
      "\r",
      " 35%|███▌      | 1974/5598 [48:01<1:10:51,  1.17s/it]"
     ]
    },
    {
     "name": "stdout",
     "output_type": "stream",
     "text": [
      "30107\n"
     ]
    },
    {
     "name": "stderr",
     "output_type": "stream",
     "text": [
      " 36%|███▌      | 1996/5598 [48:19<49:47,  1.21it/s]  "
     ]
    },
    {
     "name": "stdout",
     "output_type": "stream",
     "text": [
      "4632360    Sébastien Tortelli    Sebastien Tortelli\n"
     ]
    },
    {
     "name": "stderr",
     "output_type": "stream",
     "text": [
      " 36%|███▌      | 2000/5598 [48:24<1:14:08,  1.24s/it]"
     ]
    },
    {
     "name": "stdout",
     "output_type": "stream",
     "text": [
      "748984    Suzuka International Racing Course    Suzuka Circuit\n"
     ]
    },
    {
     "name": "stderr",
     "output_type": "stream",
     "text": [
      " 36%|███▌      | 2005/5598 [48:28<57:28,  1.04it/s]  "
     ]
    },
    {
     "name": "stdout",
     "output_type": "stream",
     "text": [
      "1233974    Jean-Denis Delétraz    Jean-Denis Délétraz\n"
     ]
    },
    {
     "name": "stderr",
     "output_type": "stream",
     "text": [
      " 36%|███▌      | 2014/5598 [48:36<1:02:00,  1.04s/it]"
     ]
    },
    {
     "name": "stdout",
     "output_type": "stream",
     "text": [
      "5166840    Franz Konrad (racing driver)    Franz Konrad\n"
     ]
    },
    {
     "name": "stderr",
     "output_type": "stream",
     "text": [
      "\r",
      " 36%|███▌      | 2015/5598 [48:37<55:55,  1.07it/s]  "
     ]
    },
    {
     "name": "stdout",
     "output_type": "stream",
     "text": [
      "23507562    Cor Euser    Cornelius Euser\n"
     ]
    },
    {
     "name": "stderr",
     "output_type": "stream",
     "text": [
      " 36%|███▌      | 2027/5598 [48:50<48:37,  1.22it/s]  "
     ]
    },
    {
     "name": "stdout",
     "output_type": "stream",
     "text": [
      "24234976    Margaret Crowley (runner)    Margaret Crowley (athlete)\n"
     ]
    },
    {
     "name": "stderr",
     "output_type": "stream",
     "text": [
      " 37%|███▋      | 2049/5598 [49:08<47:44,  1.24it/s]  "
     ]
    },
    {
     "name": "stdout",
     "output_type": "stream",
     "text": [
      "8653    Ducati Motor Holding S.p.A.    Ducati\n"
     ]
    },
    {
     "name": "stderr",
     "output_type": "stream",
     "text": [
      " 37%|███▋      | 2063/5598 [49:20<1:09:02,  1.17s/it]"
     ]
    },
    {
     "name": "stdout",
     "output_type": "stream",
     "text": [
      "1042270    London Broncos    Harlequins Rugby League\n"
     ]
    },
    {
     "name": "stderr",
     "output_type": "stream",
     "text": [
      " 37%|███▋      | 2073/5598 [49:32<58:54,  1.00s/it]  "
     ]
    },
    {
     "name": "stdout",
     "output_type": "stream",
     "text": [
      "159024    Michael Atherton    Mike Atherton\n"
     ]
    },
    {
     "name": "stderr",
     "output_type": "stream",
     "text": [
      " 37%|███▋      | 2075/5598 [49:33<44:13,  1.33it/s]"
     ]
    },
    {
     "name": "stdout",
     "output_type": "stream",
     "text": [
      "994718    Nick Knight (cricketer)    Nick Knight\n"
     ]
    },
    {
     "name": "stderr",
     "output_type": "stream",
     "text": [
      " 38%|███▊      | 2100/5598 [50:04<2:03:38,  2.12s/it]"
     ]
    },
    {
     "name": "stdout",
     "output_type": "stream",
     "text": [
      "2958305    CSM Ceahlăul Piatra Neamț    FC Ceahlăul Piatra Neamţ\n"
     ]
    },
    {
     "name": "stderr",
     "output_type": "stream",
     "text": [
      "\r",
      " 38%|███▊      | 2101/5598 [50:07<2:15:35,  2.33s/it]"
     ]
    },
    {
     "name": "stdout",
     "output_type": "stream",
     "text": [
      "3569554\n"
     ]
    },
    {
     "name": "stderr",
     "output_type": "stream",
     "text": [
      "\r",
      " 38%|███▊      | 2102/5598 [50:08<1:52:41,  1.93s/it]"
     ]
    },
    {
     "name": "stdout",
     "output_type": "stream",
     "text": [
      "2498018    FC Sportul Studențesc București    FC Sportul Studenţesc Bucureşti\n"
     ]
    },
    {
     "name": "stderr",
     "output_type": "stream",
     "text": [
      "\r",
      " 38%|███▊      | 2103/5598 [50:10<1:56:50,  2.01s/it]"
     ]
    },
    {
     "name": "stdout",
     "output_type": "stream",
     "text": [
      "2384859    FC U Craiova 1948    FC Universitatea Craiova\n"
     ]
    },
    {
     "name": "stderr",
     "output_type": "stream",
     "text": [
      "\r",
      " 38%|███▊      | 2104/5598 [50:11<1:48:40,  1.87s/it]"
     ]
    },
    {
     "name": "stdout",
     "output_type": "stream",
     "text": [
      "3574206    CSM Jiul Petroșani    CS Jiul Petroşani\n"
     ]
    },
    {
     "name": "stderr",
     "output_type": "stream",
     "text": [
      "\r",
      " 38%|███▊      | 2105/5598 [50:12<1:21:55,  1.41s/it]"
     ]
    },
    {
     "name": "stdout",
     "output_type": "stream",
     "text": [
      "861358    FC Dinamo București    FC Dinamo Bucureşti\n"
     ]
    },
    {
     "name": "stderr",
     "output_type": "stream",
     "text": [
      " 38%|███▊      | 2107/5598 [50:15<1:21:44,  1.40s/it]"
     ]
    },
    {
     "name": "stdout",
     "output_type": "stream",
     "text": [
      "1240318    FC Rapid București    FC Rapid Bucureşti\n"
     ]
    },
    {
     "name": "stderr",
     "output_type": "stream",
     "text": [
      "\r",
      " 38%|███▊      | 2108/5598 [50:15<1:00:55,  1.05s/it]"
     ]
    },
    {
     "name": "stdout",
     "output_type": "stream",
     "text": [
      "893411    FCSB    FC Steaua Bucureşti\n"
     ]
    },
    {
     "name": "stderr",
     "output_type": "stream",
     "text": [
      " 38%|███▊      | 2118/5598 [50:38<1:31:26,  1.58s/it]"
     ]
    },
    {
     "name": "stdout",
     "output_type": "stream",
     "text": [
      "5826257    FC Lada-Tolyatti    FC Lada Togliatti\n"
     ]
    },
    {
     "name": "stderr",
     "output_type": "stream",
     "text": [
      " 38%|███▊      | 2120/5598 [50:45<2:28:38,  2.56s/it]"
     ]
    },
    {
     "name": "stdout",
     "output_type": "stream",
     "text": [
      "1343724    PFC Krylia Sovetov Samara    FC Krylia Sovetov Samara\n"
     ]
    },
    {
     "name": "stderr",
     "output_type": "stream",
     "text": [
      " 38%|███▊      | 2122/5598 [50:48<2:00:00,  2.07s/it]"
     ]
    },
    {
     "name": "stdout",
     "output_type": "stream",
     "text": [
      "5683235    FC Ural Yekaterinburg    FC Ural Sverdlovsk Oblast\n"
     ]
    },
    {
     "name": "stderr",
     "output_type": "stream",
     "text": [
      " 38%|███▊      | 2151/5598 [51:25<54:23,  1.06it/s]  "
     ]
    },
    {
     "name": "stdout",
     "output_type": "stream",
     "text": [
      "885301    Manly Warringah Sea Eagles    Manly-Warringah Sea Eagles\n"
     ]
    },
    {
     "name": "stderr",
     "output_type": "stream",
     "text": [
      " 39%|███▊      | 2163/5598 [51:47<1:31:42,  1.60s/it]"
     ]
    },
    {
     "name": "stdout",
     "output_type": "stream",
     "text": [
      "11545810    Lisbet Stuer-Lauridsen    Lisbeth Stuer-Lauridsen\n"
     ]
    },
    {
     "name": "stderr",
     "output_type": "stream",
     "text": [
      " 39%|███▊      | 2169/5598 [51:58<1:25:53,  1.50s/it]"
     ]
    },
    {
     "name": "stdout",
     "output_type": "stream",
     "text": [
      "15475685    Kyle Abbott (baseball)    Kyle Abbott\n"
     ]
    },
    {
     "name": "stderr",
     "output_type": "stream",
     "text": [
      " 39%|███▉      | 2172/5598 [51:59<48:53,  1.17it/s]  "
     ]
    },
    {
     "name": "stdout",
     "output_type": "stream",
     "text": [
      "18940106    David Hulse    David Hulse (baseball)\n"
     ]
    },
    {
     "name": "stderr",
     "output_type": "stream",
     "text": [
      " 39%|███▉      | 2207/5598 [52:41<1:11:49,  1.27s/it]"
     ]
    },
    {
     "name": "stdout",
     "output_type": "stream",
     "text": [
      "18884152    Paulão (footballer, born 1985)    Paulo Roberto do Carmo\n"
     ]
    },
    {
     "name": "stderr",
     "output_type": "stream",
     "text": [
      "\r",
      " 39%|███▉      | 2208/5598 [52:42<1:12:01,  1.27s/it]"
     ]
    },
    {
     "name": "stdout",
     "output_type": "stream",
     "text": [
      "1445352    João Pinto (footballer, born 1961)    João Domingos Pinto\n"
     ]
    },
    {
     "name": "stderr",
     "output_type": "stream",
     "text": [
      " 40%|███▉      | 2230/5598 [53:19<1:36:06,  1.71s/it]"
     ]
    },
    {
     "name": "stdout",
     "output_type": "stream",
     "text": [
      "1171960    Kongsvinger IL Toppfotball    KIL Toppfotball\n"
     ]
    },
    {
     "name": "stderr",
     "output_type": "stream",
     "text": [
      " 41%|████      | 2279/5598 [54:12<1:10:45,  1.28s/it]"
     ]
    },
    {
     "name": "stdout",
     "output_type": "stream",
     "text": [
      "9420663    Vitamina Sánchez    Pablo Sánchez\n"
     ]
    },
    {
     "name": "stderr",
     "output_type": "stream",
     "text": [
      " 41%|████      | 2281/5598 [54:16<1:35:54,  1.73s/it]"
     ]
    },
    {
     "name": "stdout",
     "output_type": "stream",
     "text": [
      "563623    Club Brugge KV    Club Brugge K.V.\n"
     ]
    },
    {
     "name": "stderr",
     "output_type": "stream",
     "text": [
      " 41%|████      | 2283/5598 [54:19<1:26:45,  1.57s/it]"
     ]
    },
    {
     "name": "stdout",
     "output_type": "stream",
     "text": [
      "564514    K.V. Mechelen    KV Mechelen\n"
     ]
    },
    {
     "name": "stderr",
     "output_type": "stream",
     "text": [
      " 41%|████      | 2302/5598 [54:56<1:30:41,  1.65s/it]"
     ]
    },
    {
     "name": "stdout",
     "output_type": "stream",
     "text": [
      "1724515\n"
     ]
    },
    {
     "name": "stderr",
     "output_type": "stream",
     "text": [
      " 42%|████▏     | 2326/5598 [55:29<1:00:29,  1.11s/it]"
     ]
    },
    {
     "name": "stdout",
     "output_type": "stream",
     "text": [
      "21710997    NATO intervention in Bosnia and Herzegovina    NATO intervention in Bosnia\n"
     ]
    },
    {
     "name": "stderr",
     "output_type": "stream",
     "text": [
      " 42%|████▏     | 2342/5598 [56:02<1:47:19,  1.98s/it]"
     ]
    },
    {
     "name": "stdout",
     "output_type": "stream",
     "text": [
      "19457    Myanmar    Burma\n"
     ]
    },
    {
     "name": "stderr",
     "output_type": "stream",
     "text": [
      "\r",
      " 42%|████▏     | 2343/5598 [56:04<1:34:22,  1.74s/it]"
     ]
    },
    {
     "name": "stdout",
     "output_type": "stream",
     "text": [
      "1723280    Mae Sot District    Mae Sot\n"
     ]
    },
    {
     "name": "stderr",
     "output_type": "stream",
     "text": [
      " 42%|████▏     | 2348/5598 [56:09<49:38,  1.09it/s]  "
     ]
    },
    {
     "name": "stdout",
     "output_type": "stream",
     "text": [
      "63698\n"
     ]
    },
    {
     "name": "stderr",
     "output_type": "stream",
     "text": [
      " 42%|████▏     | 2355/5598 [56:19<51:57,  1.04it/s]  "
     ]
    },
    {
     "name": "stdout",
     "output_type": "stream",
     "text": [
      "18968435    Al Rai (Kuwaiti newspaper)    Al Rai\n"
     ]
    },
    {
     "name": "stderr",
     "output_type": "stream",
     "text": [
      " 42%|████▏     | 2359/5598 [56:25<1:24:34,  1.57s/it]"
     ]
    },
    {
     "name": "stdout",
     "output_type": "stream",
     "text": [
      "1114732    Palestine (region)    Palestine\n"
     ]
    },
    {
     "name": "stderr",
     "output_type": "stream",
     "text": [
      " 42%|████▏     | 2361/5598 [56:27<55:19,  1.03s/it]  "
     ]
    },
    {
     "name": "stdout",
     "output_type": "stream",
     "text": [
      "55387    Gaza City    Gaza\n"
     ]
    },
    {
     "name": "stderr",
     "output_type": "stream",
     "text": [
      " 42%|████▏     | 2368/5598 [56:38<1:13:40,  1.37s/it]"
     ]
    },
    {
     "name": "stdout",
     "output_type": "stream",
     "text": [
      "368881\n"
     ]
    },
    {
     "name": "stderr",
     "output_type": "stream",
     "text": [
      " 42%|████▏     | 2378/5598 [56:48<54:51,  1.02s/it]  "
     ]
    },
    {
     "name": "stdout",
     "output_type": "stream",
     "text": [
      "18037690    North Salang    Salang, Afghanistan\n"
     ]
    },
    {
     "name": "stderr",
     "output_type": "stream",
     "text": [
      " 43%|████▎     | 2386/5598 [57:05<1:57:36,  2.20s/it]"
     ]
    },
    {
     "name": "stdout",
     "output_type": "stream",
     "text": [
      "404861    Awami League    Bangladesh Awami League\n"
     ]
    },
    {
     "name": "stderr",
     "output_type": "stream",
     "text": [
      " 43%|████▎     | 2390/5598 [57:11<1:40:22,  1.88s/it]"
     ]
    },
    {
     "name": "stdout",
     "output_type": "stream",
     "text": [
      "432397    John Deere    Deere & Company\n"
     ]
    },
    {
     "name": "stderr",
     "output_type": "stream",
     "text": [
      " 43%|████▎     | 2409/5598 [57:40<56:02,  1.05s/it]  "
     ]
    },
    {
     "name": "stdout",
     "output_type": "stream",
     "text": [
      "1427983\n"
     ]
    },
    {
     "name": "stderr",
     "output_type": "stream",
     "text": [
      " 44%|████▍     | 2453/5598 [58:56<3:00:34,  3.45s/it]"
     ]
    },
    {
     "name": "stdout",
     "output_type": "stream",
     "text": [
      "1030243    DR Congo national football team    Congo DR national football team\n"
     ]
    },
    {
     "name": "stderr",
     "output_type": "stream",
     "text": [
      " 44%|████▍     | 2465/5598 [59:25<56:50,  1.09s/it]  "
     ]
    },
    {
     "name": "stdout",
     "output_type": "stream",
     "text": [
      "7011579    FC Torpedo Zaporizhzhia    FC Torpedo Zaporizhya\n"
     ]
    },
    {
     "name": "stderr",
     "output_type": "stream",
     "text": [
      " 44%|████▍     | 2467/5598 [59:30<1:16:52,  1.47s/it]"
     ]
    },
    {
     "name": "stdout",
     "output_type": "stream",
     "text": [
      "11225904\n"
     ]
    },
    {
     "name": "stderr",
     "output_type": "stream",
     "text": [
      " 44%|████▍     | 2470/5598 [59:35<1:27:39,  1.68s/it]"
     ]
    },
    {
     "name": "stdout",
     "output_type": "stream",
     "text": [
      "895551    FC Dnipro    FC Dnipro Dnipropetrovsk\n"
     ]
    },
    {
     "name": "stderr",
     "output_type": "stream",
     "text": [
      " 44%|████▍     | 2483/5598 [59:55<1:24:04,  1.62s/it]"
     ]
    },
    {
     "name": "stdout",
     "output_type": "stream",
     "text": [
      "895533\n",
      "6157701    FC DAC 1904 Dunajská Streda    FK DAC 1904 Dunajská Streda\n"
     ]
    },
    {
     "name": "stderr",
     "output_type": "stream",
     "text": [
      " 44%|████▍     | 2488/5598 [1:00:06<1:50:26,  2.13s/it]"
     ]
    },
    {
     "name": "stdout",
     "output_type": "stream",
     "text": [
      "5508993    FC VSS Košice    MFK Košice\n"
     ]
    },
    {
     "name": "stderr",
     "output_type": "stream",
     "text": [
      " 44%|████▍     | 2491/5598 [1:00:10<1:19:17,  1.53s/it]"
     ]
    },
    {
     "name": "stdout",
     "output_type": "stream",
     "text": [
      "4414792    FK Dubnica    MFK Dubnica\n"
     ]
    },
    {
     "name": "stderr",
     "output_type": "stream",
     "text": [
      " 45%|████▍     | 2493/5598 [1:00:12<1:00:08,  1.16s/it]"
     ]
    },
    {
     "name": "stdout",
     "output_type": "stream",
     "text": [
      "3205346    MTK Budapest FC    MTK Hungária FC\n",
      "5798281    Budapesti VSC    BVSC Budapest\n"
     ]
    },
    {
     "name": "stderr",
     "output_type": "stream",
     "text": [
      " 45%|████▍     | 2496/5598 [1:00:14<45:30,  1.14it/s]  "
     ]
    },
    {
     "name": "stdout",
     "output_type": "stream",
     "text": [
      "2139341\n"
     ]
    },
    {
     "name": "stderr",
     "output_type": "stream",
     "text": [
      " 45%|████▍     | 2499/5598 [1:00:18<48:40,  1.06it/s]  "
     ]
    },
    {
     "name": "stdout",
     "output_type": "stream",
     "text": [
      "2235024\n"
     ]
    },
    {
     "name": "stderr",
     "output_type": "stream",
     "text": [
      " 45%|████▍     | 2501/5598 [1:00:19<40:36,  1.27it/s]"
     ]
    },
    {
     "name": "stdout",
     "output_type": "stream",
     "text": [
      "1650918    1. FK Drnovice    FK Drnovice\n"
     ]
    },
    {
     "name": "stderr",
     "output_type": "stream",
     "text": [
      " 45%|████▍     | 2503/5598 [1:00:22<44:21,  1.16it/s]"
     ]
    },
    {
     "name": "stdout",
     "output_type": "stream",
     "text": [
      "896034    SK Slavia Prague    Slavia Prague\n"
     ]
    },
    {
     "name": "stderr",
     "output_type": "stream",
     "text": [
      " 45%|████▍     | 2505/5598 [1:00:24<1:00:39,  1.18s/it]"
     ]
    },
    {
     "name": "stdout",
     "output_type": "stream",
     "text": [
      "4991040    FK Jablonec    FK Baumit Jablonec\n"
     ]
    },
    {
     "name": "stderr",
     "output_type": "stream",
     "text": [
      " 45%|████▍     | 2516/5598 [1:00:41<1:07:43,  1.32s/it]"
     ]
    },
    {
     "name": "stdout",
     "output_type": "stream",
     "text": [
      "859774    Atlas F.C.    Club Atlas\n"
     ]
    },
    {
     "name": "stderr",
     "output_type": "stream",
     "text": [
      " 45%|████▌     | 2523/5598 [1:00:55<1:22:33,  1.61s/it]"
     ]
    },
    {
     "name": "stdout",
     "output_type": "stream",
     "text": [
      "1193316    C.D. Veracruz    Tiburones Rojos de Veracruz\n"
     ]
    },
    {
     "name": "stderr",
     "output_type": "stream",
     "text": [
      " 45%|████▌     | 2526/5598 [1:00:56<35:05,  1.46it/s]  "
     ]
    },
    {
     "name": "stdout",
     "output_type": "stream",
     "text": [
      "1511135    Club Puebla    Puebla F.C.\n"
     ]
    },
    {
     "name": "stderr",
     "output_type": "stream",
     "text": [
      "\r",
      " 45%|████▌     | 2527/5598 [1:00:56<26:32,  1.93it/s]"
     ]
    },
    {
     "name": "stdout",
     "output_type": "stream",
     "text": [
      "1217587    Santos Laguna    Club Santos Laguna\n"
     ]
    },
    {
     "name": "stderr",
     "output_type": "stream",
     "text": [
      "\r",
      " 45%|████▌     | 2528/5598 [1:00:56<21:58,  2.33it/s]"
     ]
    },
    {
     "name": "stdout",
     "output_type": "stream",
     "text": [
      "1035876    Atlético Morelia    Monarcas Morelia\n"
     ]
    },
    {
     "name": "stderr",
     "output_type": "stream",
     "text": [
      " 45%|████▌     | 2530/5598 [1:00:58<30:01,  1.70it/s]"
     ]
    },
    {
     "name": "stdout",
     "output_type": "stream",
     "text": [
      "1511138    Tecos F.C.    Estudiantes Tecos\n"
     ]
    },
    {
     "name": "stderr",
     "output_type": "stream",
     "text": [
      " 45%|████▌     | 2533/5598 [1:01:02<1:01:03,  1.20s/it]"
     ]
    },
    {
     "name": "stdout",
     "output_type": "stream",
     "text": [
      "425696    Celaya F.C.    Club Celaya\n"
     ]
    },
    {
     "name": "stderr",
     "output_type": "stream",
     "text": [
      " 45%|████▌     | 2544/5598 [1:01:23<1:28:10,  1.73s/it]"
     ]
    },
    {
     "name": "stdout",
     "output_type": "stream",
     "text": [
      "2335808    Túlio Maravilha    Túlio Costa\n"
     ]
    },
    {
     "name": "stderr",
     "output_type": "stream",
     "text": [
      " 46%|████▌     | 2552/5598 [1:01:35<1:46:07,  2.09s/it]"
     ]
    },
    {
     "name": "stdout",
     "output_type": "stream",
     "text": [
      "1482035    Club Atlético Vélez Sarsfield    Club Atlético Vélez Sársfield\n"
     ]
    },
    {
     "name": "stderr",
     "output_type": "stream",
     "text": [
      " 46%|████▌     | 2565/5598 [1:01:53<45:52,  1.10it/s]  "
     ]
    },
    {
     "name": "stdout",
     "output_type": "stream",
     "text": [
      "187313    Fluminense FC    Fluminense Football Club\n"
     ]
    },
    {
     "name": "stderr",
     "output_type": "stream",
     "text": [
      " 46%|████▌     | 2569/5598 [1:02:04<2:00:18,  2.38s/it]"
     ]
    },
    {
     "name": "stdout",
     "output_type": "stream",
     "text": [
      "1689806    Raja CA    Raja Casablanca\n"
     ]
    },
    {
     "name": "stderr",
     "output_type": "stream",
     "text": [
      "\r",
      " 46%|████▌     | 2570/5598 [1:02:05<1:40:35,  1.99s/it]"
     ]
    },
    {
     "name": "stdout",
     "output_type": "stream",
     "text": [
      "6230254    JS Massira    Chabab Massira\n"
     ]
    },
    {
     "name": "stderr",
     "output_type": "stream",
     "text": [
      "\r",
      " 46%|████▌     | 2571/5598 [1:02:06<1:15:26,  1.50s/it]"
     ]
    },
    {
     "name": "stdout",
     "output_type": "stream",
     "text": [
      "1690796\n"
     ]
    },
    {
     "name": "stderr",
     "output_type": "stream",
     "text": [
      "\r",
      " 46%|████▌     | 2572/5598 [1:02:06<1:00:35,  1.20s/it]"
     ]
    },
    {
     "name": "stdout",
     "output_type": "stream",
     "text": [
      "6230182    Olympique Club de Khouribga    Olympique Khouribga\n"
     ]
    },
    {
     "name": "stderr",
     "output_type": "stream",
     "text": [
      " 46%|████▌     | 2577/5598 [1:02:16<1:30:35,  1.80s/it]"
     ]
    },
    {
     "name": "stdout",
     "output_type": "stream",
     "text": [
      "963152    Spaniards    Spanish people\n"
     ]
    },
    {
     "name": "stderr",
     "output_type": "stream",
     "text": [
      " 46%|████▋     | 2590/5598 [1:02:35<1:31:30,  1.83s/it]"
     ]
    },
    {
     "name": "stdout",
     "output_type": "stream",
     "text": [
      "15107593\n"
     ]
    },
    {
     "name": "stderr",
     "output_type": "stream",
     "text": [
      " 47%|████▋     | 2619/5598 [1:03:12<42:43,  1.16it/s]  "
     ]
    },
    {
     "name": "stdout",
     "output_type": "stream",
     "text": [
      "293444\n"
     ]
    },
    {
     "name": "stderr",
     "output_type": "stream",
     "text": [
      " 47%|████▋     | 2632/5598 [1:03:26<52:22,  1.06s/it]  "
     ]
    },
    {
     "name": "stdout",
     "output_type": "stream",
     "text": [
      "849629    Édgar Rentería    Edgar Rentería\n"
     ]
    },
    {
     "name": "stderr",
     "output_type": "stream",
     "text": [
      " 48%|████▊     | 2661/5598 [1:04:08<52:23,  1.07s/it]  "
     ]
    },
    {
     "name": "stdout",
     "output_type": "stream",
     "text": [
      "26413    Real Madrid CF    Real Madrid C.F.\n"
     ]
    },
    {
     "name": "stderr",
     "output_type": "stream",
     "text": [
      " 48%|████▊     | 2664/5598 [1:04:13<1:40:42,  2.06s/it]"
     ]
    },
    {
     "name": "stdout",
     "output_type": "stream",
     "text": [
      "66164    Ronaldo (Brazilian footballer)    Ronaldo\n"
     ]
    },
    {
     "name": "stderr",
     "output_type": "stream",
     "text": [
      " 48%|████▊     | 2667/5598 [1:04:16<1:07:11,  1.38s/it]"
     ]
    },
    {
     "name": "stdout",
     "output_type": "stream",
     "text": [
      "28357832    1996 Singer World Series    Singer World Series\n"
     ]
    },
    {
     "name": "stderr",
     "output_type": "stream",
     "text": [
      " 48%|████▊     | 2685/5598 [1:04:32<30:11,  1.61it/s]  "
     ]
    },
    {
     "name": "stdout",
     "output_type": "stream",
     "text": [
      "2877538    Craig Evans (Zimbabwean sportsman)    Craig Evans\n"
     ]
    },
    {
     "name": "stderr",
     "output_type": "stream",
     "text": [
      " 48%|████▊     | 2692/5598 [1:04:34<14:04,  3.44it/s]"
     ]
    },
    {
     "name": "stdout",
     "output_type": "stream",
     "text": [
      "13015878    Washington (state)    Washington (U.S. state)\n"
     ]
    },
    {
     "name": "stderr",
     "output_type": "stream",
     "text": [
      " 48%|████▊     | 2699/5598 [1:04:48<1:04:28,  1.33s/it]"
     ]
    },
    {
     "name": "stdout",
     "output_type": "stream",
     "text": [
      "19792942    Americans    People of the United States\n"
     ]
    },
    {
     "name": "stderr",
     "output_type": "stream",
     "text": [
      " 49%|████▊     | 2723/5598 [1:05:23<43:01,  1.11it/s]  "
     ]
    },
    {
     "name": "stdout",
     "output_type": "stream",
     "text": [
      "88918    Preston, Lancashire    Preston\n"
     ]
    },
    {
     "name": "stderr",
     "output_type": "stream",
     "text": [
      " 49%|████▊     | 2725/5598 [1:05:28<1:18:11,  1.63s/it]"
     ]
    },
    {
     "name": "stdout",
     "output_type": "stream",
     "text": [
      "350800    North Shore, New Zealand    North Shore City\n"
     ]
    },
    {
     "name": "stderr",
     "output_type": "stream",
     "text": [
      " 49%|████▊     | 2727/5598 [1:05:30<1:00:06,  1.26s/it]"
     ]
    },
    {
     "name": "stdout",
     "output_type": "stream",
     "text": [
      "1049625    Intercontinental Exchange Futures    International Petroleum Exchange\n"
     ]
    },
    {
     "name": "stderr",
     "output_type": "stream",
     "text": [
      "\r",
      " 49%|████▊     | 2728/5598 [1:05:32<1:03:24,  1.33s/it]"
     ]
    },
    {
     "name": "stdout",
     "output_type": "stream",
     "text": [
      "840431\n"
     ]
    },
    {
     "name": "stderr",
     "output_type": "stream",
     "text": [
      " 49%|████▉     | 2737/5598 [1:05:45<1:04:32,  1.35s/it]"
     ]
    },
    {
     "name": "stdout",
     "output_type": "stream",
     "text": [
      "403248    Sultan bin Abdulaziz, Crown Prince of Saudi Arabia    Sultan, Crown Prince of Saudi Arabia\n"
     ]
    },
    {
     "name": "stderr",
     "output_type": "stream",
     "text": [
      " 49%|████▉     | 2744/5598 [1:05:55<1:04:45,  1.36s/it]"
     ]
    },
    {
     "name": "stdout",
     "output_type": "stream",
     "text": [
      "4063907    Rawandiz    Rowanduz\n"
     ]
    },
    {
     "name": "stderr",
     "output_type": "stream",
     "text": [
      " 49%|████▉     | 2750/5598 [1:06:06<1:30:04,  1.90s/it]"
     ]
    },
    {
     "name": "stdout",
     "output_type": "stream",
     "text": [
      "323202    Aluminium division of Rio Tinto    Rio Tinto Alcan\n"
     ]
    },
    {
     "name": "stderr",
     "output_type": "stream",
     "text": [
      " 49%|████▉     | 2753/5598 [1:06:07<37:44,  1.26it/s]  "
     ]
    },
    {
     "name": "stdout",
     "output_type": "stream",
     "text": [
      "541026    Asarco    ASARCO\n"
     ]
    },
    {
     "name": "stderr",
     "output_type": "stream",
     "text": [
      " 49%|████▉     | 2755/5598 [1:06:08<38:03,  1.24it/s]"
     ]
    },
    {
     "name": "stdout",
     "output_type": "stream",
     "text": [
      "3037636    Georgiy Mamedov    Georgiy Mammadov\n"
     ]
    },
    {
     "name": "stderr",
     "output_type": "stream",
     "text": [
      " 49%|████▉     | 2770/5598 [1:06:28<42:12,  1.12it/s]  "
     ]
    },
    {
     "name": "stdout",
     "output_type": "stream",
     "text": [
      "222294    John Hinckley Jr.    John Hinckley, Jr.\n",
      "362719    Superman (1978 film)    Superman (film)\n"
     ]
    },
    {
     "name": "stderr",
     "output_type": "stream",
     "text": [
      " 50%|████▉     | 2773/5598 [1:06:29<23:58,  1.96it/s]"
     ]
    },
    {
     "name": "stdout",
     "output_type": "stream",
     "text": [
      "27687    St. Louis    St. Louis, Missouri\n"
     ]
    },
    {
     "name": "stderr",
     "output_type": "stream",
     "text": [
      " 50%|████▉     | 2783/5598 [1:06:45<55:12,  1.18s/it]  "
     ]
    },
    {
     "name": "stdout",
     "output_type": "stream",
     "text": [
      "1076420    Repsol    Repsol YPF\n"
     ]
    },
    {
     "name": "stderr",
     "output_type": "stream",
     "text": [
      " 50%|████▉     | 2785/5598 [1:06:47<41:58,  1.12it/s]"
     ]
    },
    {
     "name": "stdout",
     "output_type": "stream",
     "text": [
      "58185\n"
     ]
    },
    {
     "name": "stderr",
     "output_type": "stream",
     "text": [
      " 50%|████▉     | 2789/5598 [1:06:51<50:35,  1.08s/it]"
     ]
    },
    {
     "name": "stdout",
     "output_type": "stream",
     "text": [
      "272329    Environment and Climate Change Canada    Environment Canada\n"
     ]
    },
    {
     "name": "stderr",
     "output_type": "stream",
     "text": [
      " 50%|████▉     | 2794/5598 [1:06:55<43:49,  1.07it/s]"
     ]
    },
    {
     "name": "stdout",
     "output_type": "stream",
     "text": [
      "749287    Peace River    Peace River (Canada)\n"
     ]
    },
    {
     "name": "stderr",
     "output_type": "stream",
     "text": [
      " 50%|████▉     | 2796/5598 [1:06:56<29:01,  1.61it/s]"
     ]
    },
    {
     "name": "stdout",
     "output_type": "stream",
     "text": [
      "8372532    Materion    Brush Engineered Materials\n"
     ]
    },
    {
     "name": "stderr",
     "output_type": "stream",
     "text": [
      " 50%|████▉     | 2798/5598 [1:06:58<39:28,  1.18it/s]"
     ]
    },
    {
     "name": "stdout",
     "output_type": "stream",
     "text": [
      "306926    Valero Energy    Valero Energy Corporation\n"
     ]
    },
    {
     "name": "stderr",
     "output_type": "stream",
     "text": [
      " 50%|█████     | 2806/5598 [1:07:06<36:53,  1.26it/s]  "
     ]
    },
    {
     "name": "stdout",
     "output_type": "stream",
     "text": [
      "5043192    Hillary Clinton    Hillary Rodham Clinton\n"
     ]
    },
    {
     "name": "stderr",
     "output_type": "stream",
     "text": [
      " 50%|█████     | 2811/5598 [1:07:08<21:23,  2.17it/s]"
     ]
    },
    {
     "name": "stdout",
     "output_type": "stream",
     "text": [
      "2186586\n"
     ]
    },
    {
     "name": "stderr",
     "output_type": "stream",
     "text": [
      " 50%|█████     | 2818/5598 [1:07:13<23:29,  1.97it/s]"
     ]
    },
    {
     "name": "stdout",
     "output_type": "stream",
     "text": [
      "71486\n"
     ]
    },
    {
     "name": "stderr",
     "output_type": "stream",
     "text": [
      " 50%|█████     | 2820/5598 [1:07:15<32:28,  1.43it/s]"
     ]
    },
    {
     "name": "stdout",
     "output_type": "stream",
     "text": [
      "749262    Bank of France    Banque de France\n"
     ]
    },
    {
     "name": "stderr",
     "output_type": "stream",
     "text": [
      " 51%|█████     | 2843/5598 [1:07:40<45:05,  1.02it/s]  "
     ]
    },
    {
     "name": "stdout",
     "output_type": "stream",
     "text": [
      "300548    Tamils    Tamil people\n"
     ]
    },
    {
     "name": "stderr",
     "output_type": "stream",
     "text": [
      " 51%|█████     | 2848/5598 [1:07:42<22:39,  2.02it/s]"
     ]
    },
    {
     "name": "stdout",
     "output_type": "stream",
     "text": [
      "1786946    Hanson (company)    Hanson plc\n"
     ]
    },
    {
     "name": "stderr",
     "output_type": "stream",
     "text": [
      " 51%|█████     | 2855/5598 [1:07:49<37:50,  1.21it/s]"
     ]
    },
    {
     "name": "stdout",
     "output_type": "stream",
     "text": [
      "9058746    Tarmac Group    Tarmac (company)\n"
     ]
    },
    {
     "name": "stderr",
     "output_type": "stream",
     "text": [
      " 51%|█████     | 2860/5598 [1:07:51<15:44,  2.90it/s]"
     ]
    },
    {
     "name": "stdout",
     "output_type": "stream",
     "text": [
      "740993    Seve Ballesteros    Severiano Ballesteros\n"
     ]
    },
    {
     "name": "stderr",
     "output_type": "stream",
     "text": [
      " 51%|█████     | 2867/5598 [1:08:02<45:54,  1.01s/it]  "
     ]
    },
    {
     "name": "stdout",
     "output_type": "stream",
     "text": [
      "23213228    Jimmy Thomson (footballer, born 1937)    Jimmy Thomson (footballer)\n"
     ]
    },
    {
     "name": "stderr",
     "output_type": "stream",
     "text": [
      " 51%|█████▏    | 2871/5598 [1:08:06<40:05,  1.13it/s]  "
     ]
    },
    {
     "name": "stdout",
     "output_type": "stream",
     "text": [
      "899013    Alan Ball Jr.    Alan Ball, Jr.\n"
     ]
    },
    {
     "name": "stderr",
     "output_type": "stream",
     "text": [
      " 51%|█████▏    | 2879/5598 [1:08:12<30:15,  1.50it/s]"
     ]
    },
    {
     "name": "stdout",
     "output_type": "stream",
     "text": [
      "3976751    Ata-ur-Rehman (cricketer)    Ata-ur-Rehman\n",
      "9568\n"
     ]
    },
    {
     "name": "stderr",
     "output_type": "stream",
     "text": [
      " 51%|█████▏    | 2882/5598 [1:08:14<29:02,  1.56it/s]"
     ]
    },
    {
     "name": "stdout",
     "output_type": "stream",
     "text": [
      "5210442    Dănuț Lupu    Dănuţ Lupu\n"
     ]
    },
    {
     "name": "stderr",
     "output_type": "stream",
     "text": [
      " 52%|█████▏    | 2891/5598 [1:08:21<31:39,  1.43it/s]"
     ]
    },
    {
     "name": "stdout",
     "output_type": "stream",
     "text": [
      "6849383    Joseph Kneipp    Joe Kneipp\n"
     ]
    },
    {
     "name": "stderr",
     "output_type": "stream",
     "text": [
      " 53%|█████▎    | 2948/5598 [1:09:37<39:35,  1.12it/s]  "
     ]
    },
    {
     "name": "stdout",
     "output_type": "stream",
     "text": [
      "18939866    Ángel Miranda    Angel Miranda\n"
     ]
    },
    {
     "name": "stderr",
     "output_type": "stream",
     "text": [
      " 53%|█████▎    | 2954/5598 [1:09:46<1:12:03,  1.64s/it]"
     ]
    },
    {
     "name": "stdout",
     "output_type": "stream",
     "text": [
      "978947    Mary Joe Fernández    Mary Joe Fernandez\n"
     ]
    },
    {
     "name": "stderr",
     "output_type": "stream",
     "text": [
      " 53%|█████▎    | 2958/5598 [1:09:52<1:07:35,  1.54s/it]"
     ]
    },
    {
     "name": "stdout",
     "output_type": "stream",
     "text": [
      "1728044    Krasimir Balakov    Krassimir Balakov\n"
     ]
    },
    {
     "name": "stderr",
     "output_type": "stream",
     "text": [
      " 53%|█████▎    | 2978/5598 [1:10:18<1:21:29,  1.87s/it]"
     ]
    },
    {
     "name": "stdout",
     "output_type": "stream",
     "text": [
      "2228737    Neuchâtel Xamax FCS    Neuchâtel Xamax\n"
     ]
    },
    {
     "name": "stderr",
     "output_type": "stream",
     "text": [
      " 53%|█████▎    | 2981/5598 [1:10:23<1:01:12,  1.40s/it]"
     ]
    },
    {
     "name": "stdout",
     "output_type": "stream",
     "text": [
      "2043091\n"
     ]
    },
    {
     "name": "stderr",
     "output_type": "stream",
     "text": [
      " 53%|█████▎    | 2986/5598 [1:10:28<40:04,  1.09it/s]  "
     ]
    },
    {
     "name": "stdout",
     "output_type": "stream",
     "text": [
      "11065220    Tour of the Netherlands    Ronde van Nederland\n",
      "102081    Gouda, South Holland    Gouda\n"
     ]
    },
    {
     "name": "stderr",
     "output_type": "stream",
     "text": [
      " 53%|█████▎    | 2988/5598 [1:10:29<31:38,  1.37it/s]"
     ]
    },
    {
     "name": "stdout",
     "output_type": "stream",
     "text": [
      "2354465    Team Jumbo–Visma (men's team)    Rabobank (cycling team)\n"
     ]
    },
    {
     "name": "stderr",
     "output_type": "stream",
     "text": [
      " 54%|█████▎    | 3005/5598 [1:10:43<43:47,  1.01s/it]"
     ]
    },
    {
     "name": "stdout",
     "output_type": "stream",
     "text": [
      "1488    NYSE American    American Stock Exchange\n"
     ]
    },
    {
     "name": "stderr",
     "output_type": "stream",
     "text": [
      " 54%|█████▍    | 3015/5598 [1:10:53<34:57,  1.23it/s]  "
     ]
    },
    {
     "name": "stdout",
     "output_type": "stream",
     "text": [
      "2767206    Gary Kelly (footballer, born 1974)    Gary Kelly (footballer born 1974)\n"
     ]
    },
    {
     "name": "stderr",
     "output_type": "stream",
     "text": [
      " 54%|█████▍    | 3018/5598 [1:11:00<1:10:24,  1.64s/it]"
     ]
    },
    {
     "name": "stdout",
     "output_type": "stream",
     "text": [
      "8298264    Alan Kelly Sr.    Alan Kelly, Sr.\n"
     ]
    },
    {
     "name": "stderr",
     "output_type": "stream",
     "text": [
      " 54%|█████▍    | 3035/5598 [1:11:16<38:08,  1.12it/s]  "
     ]
    },
    {
     "name": "stdout",
     "output_type": "stream",
     "text": [
      "3589053    David Kelly (association footballer)    David Kelly (footballer)\n"
     ]
    },
    {
     "name": "stderr",
     "output_type": "stream",
     "text": [
      " 54%|█████▍    | 3041/5598 [1:11:25<46:27,  1.09s/it]  "
     ]
    },
    {
     "name": "stdout",
     "output_type": "stream",
     "text": [
      "2711386\n"
     ]
    },
    {
     "name": "stderr",
     "output_type": "stream",
     "text": [
      " 55%|█████▍    | 3057/5598 [1:11:56<1:22:03,  1.94s/it]"
     ]
    },
    {
     "name": "stdout",
     "output_type": "stream",
     "text": [
      "389777    Perm, Russia    Perm\n"
     ]
    },
    {
     "name": "stderr",
     "output_type": "stream",
     "text": [
      " 55%|█████▍    | 3061/5598 [1:11:58<36:21,  1.16it/s]  "
     ]
    },
    {
     "name": "stdout",
     "output_type": "stream",
     "text": [
      "4315911    Enel Distribution Sao Paulo    AES Eletropaulo\n"
     ]
    },
    {
     "name": "stderr",
     "output_type": "stream",
     "text": [
      " 55%|█████▍    | 3063/5598 [1:12:05<1:18:54,  1.87s/it]"
     ]
    },
    {
     "name": "stdout",
     "output_type": "stream",
     "text": [
      "4277114\n"
     ]
    },
    {
     "name": "stderr",
     "output_type": "stream",
     "text": [
      " 55%|█████▍    | 3067/5598 [1:12:07<47:22,  1.12s/it]  "
     ]
    },
    {
     "name": "stdout",
     "output_type": "stream",
     "text": [
      "2226978    Matagalpa, Nicaragua    Matagalpa\n"
     ]
    },
    {
     "name": "stderr",
     "output_type": "stream",
     "text": [
      " 55%|█████▍    | 3075/5598 [1:12:17<38:14,  1.10it/s]  "
     ]
    },
    {
     "name": "stdout",
     "output_type": "stream",
     "text": [
      "3179999\n"
     ]
    },
    {
     "name": "stderr",
     "output_type": "stream",
     "text": [
      " 55%|█████▌    | 3095/5598 [1:12:44<58:16,  1.40s/it]  "
     ]
    },
    {
     "name": "stdout",
     "output_type": "stream",
     "text": [
      "619184    Bob Casey Sr.    Robert P. Casey\n"
     ]
    },
    {
     "name": "stderr",
     "output_type": "stream",
     "text": [
      " 56%|█████▌    | 3117/5598 [1:13:09<37:30,  1.10it/s]  "
     ]
    },
    {
     "name": "stdout",
     "output_type": "stream",
     "text": [
      "380769    Rambo (franchise)    Rambo (film series)\n"
     ]
    },
    {
     "name": "stderr",
     "output_type": "stream",
     "text": [
      " 56%|█████▌    | 3133/5598 [1:13:22<34:34,  1.19it/s]"
     ]
    },
    {
     "name": "stdout",
     "output_type": "stream",
     "text": [
      "355334    Getlink    Eurotunnel\n"
     ]
    },
    {
     "name": "stderr",
     "output_type": "stream",
     "text": [
      " 56%|█████▌    | 3141/5598 [1:13:30<48:29,  1.18s/it]"
     ]
    },
    {
     "name": "stdout",
     "output_type": "stream",
     "text": [
      "24586489    Chavakachcheri    Chavakacheri\n"
     ]
    },
    {
     "name": "stderr",
     "output_type": "stream",
     "text": [
      " 56%|█████▌    | 3144/5598 [1:13:36<1:02:55,  1.54s/it]"
     ]
    },
    {
     "name": "stdout",
     "output_type": "stream",
     "text": [
      "504790    New York Daily News    Daily News (New York)\n"
     ]
    },
    {
     "name": "stderr",
     "output_type": "stream",
     "text": [
      " 56%|█████▋    | 3150/5598 [1:13:40<23:28,  1.74it/s]  "
     ]
    },
    {
     "name": "stdout",
     "output_type": "stream",
     "text": [
      "1150534    The Statesman (India)    The Statesman\n"
     ]
    },
    {
     "name": "stderr",
     "output_type": "stream",
     "text": [
      " 56%|█████▋    | 3159/5598 [1:13:53<1:07:59,  1.67s/it]"
     ]
    },
    {
     "name": "stdout",
     "output_type": "stream",
     "text": [
      "403685    Communist Party of Nepal (Maoist Centre)    Unified Communist Party of Nepal (Maoist)\n"
     ]
    },
    {
     "name": "stderr",
     "output_type": "stream",
     "text": [
      " 57%|█████▋    | 3168/5598 [1:13:58<20:59,  1.93it/s]  "
     ]
    },
    {
     "name": "stdout",
     "output_type": "stream",
     "text": [
      "740431    Dr. Ambedkar Nagar    Mhow\n"
     ]
    },
    {
     "name": "stderr",
     "output_type": "stream",
     "text": [
      " 57%|█████▋    | 3170/5598 [1:13:59<24:10,  1.67it/s]"
     ]
    },
    {
     "name": "stdout",
     "output_type": "stream",
     "text": [
      "5706727    Ashta, Madhya Pradesh    Ashta\n"
     ]
    },
    {
     "name": "stderr",
     "output_type": "stream",
     "text": [
      " 57%|█████▋    | 3180/5598 [1:14:10<55:44,  1.38s/it]  "
     ]
    },
    {
     "name": "stdout",
     "output_type": "stream",
     "text": [
      "1165422    VTM (TV channel)    Vtm\n"
     ]
    },
    {
     "name": "stderr",
     "output_type": "stream",
     "text": [
      " 57%|█████▋    | 3188/5598 [1:14:25<54:49,  1.36s/it]  "
     ]
    },
    {
     "name": "stdout",
     "output_type": "stream",
     "text": [
      "4526656\n"
     ]
    },
    {
     "name": "stderr",
     "output_type": "stream",
     "text": [
      " 57%|█████▋    | 3198/5598 [1:14:45<1:55:09,  2.88s/it]"
     ]
    },
    {
     "name": "stdout",
     "output_type": "stream",
     "text": [
      "12246    Alliance 90/The Greens    The Greens\n"
     ]
    },
    {
     "name": "stderr",
     "output_type": "stream",
     "text": [
      " 57%|█████▋    | 3200/5598 [1:14:47<1:16:17,  1.91s/it]"
     ]
    },
    {
     "name": "stdout",
     "output_type": "stream",
     "text": [
      "19902641    Forsa Institute    Forsa institute\n"
     ]
    },
    {
     "name": "stderr",
     "output_type": "stream",
     "text": [
      " 57%|█████▋    | 3203/5598 [1:14:52<1:00:37,  1.52s/it]"
     ]
    },
    {
     "name": "stdout",
     "output_type": "stream",
     "text": [
      "13595    Heathrow Airport    London Heathrow Airport\n"
     ]
    },
    {
     "name": "stderr",
     "output_type": "stream",
     "text": [
      " 57%|█████▋    | 3205/5598 [1:14:52<33:33,  1.19it/s]  "
     ]
    },
    {
     "name": "stdout",
     "output_type": "stream",
     "text": [
      "24355    Perth    Perth, Western Australia\n"
     ]
    },
    {
     "name": "stderr",
     "output_type": "stream",
     "text": [
      " 57%|█████▋    | 3208/5598 [1:14:54<28:56,  1.38it/s]"
     ]
    },
    {
     "name": "stdout",
     "output_type": "stream",
     "text": [
      "264528\n"
     ]
    },
    {
     "name": "stderr",
     "output_type": "stream",
     "text": [
      "\r",
      " 57%|█████▋    | 3209/5598 [1:14:56<41:08,  1.03s/it]"
     ]
    },
    {
     "name": "stdout",
     "output_type": "stream",
     "text": [
      "466743    Sakai    Sakai, Osaka\n"
     ]
    },
    {
     "name": "stderr",
     "output_type": "stream",
     "text": [
      " 58%|█████▊    | 3232/5598 [1:15:31<46:27,  1.18s/it]  "
     ]
    },
    {
     "name": "stdout",
     "output_type": "stream",
     "text": [
      "2450892    Sergey Makarov (javelin thrower)    Sergey Alexandrovich Makarov\n"
     ]
    },
    {
     "name": "stderr",
     "output_type": "stream",
     "text": [
      " 58%|█████▊    | 3237/5598 [1:15:33<18:33,  2.12it/s]"
     ]
    },
    {
     "name": "stdout",
     "output_type": "stream",
     "text": [
      "2466432\n"
     ]
    },
    {
     "name": "stderr",
     "output_type": "stream",
     "text": [
      " 58%|█████▊    | 3261/5598 [1:15:54<37:07,  1.05it/s]"
     ]
    },
    {
     "name": "stdout",
     "output_type": "stream",
     "text": [
      "2054489    Jean van de Velde (golfer)    Jean Van de Velde\n"
     ]
    },
    {
     "name": "stderr",
     "output_type": "stream",
     "text": [
      " 58%|█████▊    | 3267/5598 [1:16:01<53:54,  1.39s/it]"
     ]
    },
    {
     "name": "stdout",
     "output_type": "stream",
     "text": [
      "796027    U.S. Postal Service Pro Cycling Team    Discovery Channel Pro Cycling Team\n"
     ]
    },
    {
     "name": "stderr",
     "output_type": "stream",
     "text": [
      " 59%|█████▊    | 3280/5598 [1:16:15<35:23,  1.09it/s]  "
     ]
    },
    {
     "name": "stdout",
     "output_type": "stream",
     "text": [
      "16745041    Pavel Buráň    Pavel Buran\n"
     ]
    },
    {
     "name": "stderr",
     "output_type": "stream",
     "text": [
      " 59%|█████▉    | 3301/5598 [1:16:37<1:03:06,  1.65s/it]"
     ]
    },
    {
     "name": "stdout",
     "output_type": "stream",
     "text": [
      "56635    Chișinău    Chişinău\n"
     ]
    },
    {
     "name": "stderr",
     "output_type": "stream",
     "text": [
      " 59%|█████▉    | 3306/5598 [1:16:42<31:58,  1.19it/s]  "
     ]
    },
    {
     "name": "stdout",
     "output_type": "stream",
     "text": [
      "68032    St Leger Stakes    St. Leger Stakes\n"
     ]
    },
    {
     "name": "stderr",
     "output_type": "stream",
     "text": [
      " 59%|█████▉    | 3308/5598 [1:16:44<29:11,  1.31it/s]"
     ]
    },
    {
     "name": "stdout",
     "output_type": "stream",
     "text": [
      "68030    2000 Guineas Stakes    2,000 Guineas Stakes\n"
     ]
    },
    {
     "name": "stderr",
     "output_type": "stream",
     "text": [
      " 60%|█████▉    | 3339/5598 [1:17:18<33:20,  1.13it/s]  "
     ]
    },
    {
     "name": "stdout",
     "output_type": "stream",
     "text": [
      "4359711    John Smiley (baseball)    John Smiley\n"
     ]
    },
    {
     "name": "stderr",
     "output_type": "stream",
     "text": [
      " 60%|█████▉    | 3355/5598 [1:17:35<38:16,  1.02s/it]"
     ]
    },
    {
     "name": "stdout",
     "output_type": "stream",
     "text": [
      "18523612    South Africa men's national field hockey team    South Africa national field hockey team\n"
     ]
    },
    {
     "name": "stderr",
     "output_type": "stream",
     "text": [
      " 60%|█████▉    | 3357/5598 [1:17:37<34:24,  1.09it/s]"
     ]
    },
    {
     "name": "stdout",
     "output_type": "stream",
     "text": [
      "6904363    Western Province cricket team (South Africa)    Western Province cricket team\n"
     ]
    },
    {
     "name": "stderr",
     "output_type": "stream",
     "text": [
      " 60%|██████    | 3368/5598 [1:17:46<20:40,  1.80it/s]"
     ]
    },
    {
     "name": "stdout",
     "output_type": "stream",
     "text": [
      "3182138    Dave Richardson (South African cricketer)    Dave Richardson\n"
     ]
    },
    {
     "name": "stderr",
     "output_type": "stream",
     "text": [
      " 60%|██████    | 3383/5598 [1:18:03<42:39,  1.16s/it]  "
     ]
    },
    {
     "name": "stdout",
     "output_type": "stream",
     "text": [
      "24449519    Derek Ryan (squash player)    Derek Ryan\n"
     ]
    },
    {
     "name": "stderr",
     "output_type": "stream",
     "text": [
      " 61%|██████    | 3400/5598 [1:18:23<44:06,  1.20s/it]  "
     ]
    },
    {
     "name": "stdout",
     "output_type": "stream",
     "text": [
      "2809984    Connecticut Open (tennis)    Pilot Pen Tennis\n"
     ]
    },
    {
     "name": "stderr",
     "output_type": "stream",
     "text": [
      " 61%|██████    | 3402/5598 [1:18:26<48:16,  1.32s/it]"
     ]
    },
    {
     "name": "stdout",
     "output_type": "stream",
     "text": [
      "16001137    Marcelo Ramos (footballer, born 1973)    Marcelo Silva Ramos\n"
     ]
    },
    {
     "name": "stderr",
     "output_type": "stream",
     "text": [
      " 61%|██████    | 3410/5598 [1:18:38<28:54,  1.26it/s]  "
     ]
    },
    {
     "name": "stdout",
     "output_type": "stream",
     "text": [
      "570925\n"
     ]
    },
    {
     "name": "stderr",
     "output_type": "stream",
     "text": [
      " 61%|██████    | 3417/5598 [1:18:48<43:07,  1.19s/it]  "
     ]
    },
    {
     "name": "stdout",
     "output_type": "stream",
     "text": [
      "3521904    Dani (footballer, born 1976)    Daniel da Cruz Carvalho\n"
     ]
    },
    {
     "name": "stderr",
     "output_type": "stream",
     "text": [
      "\r",
      " 61%|██████    | 3418/5598 [1:18:48<34:46,  1.04it/s]"
     ]
    },
    {
     "name": "stdout",
     "output_type": "stream",
     "text": [
      "62611    Parma Calcio 1913    Parma F.C.\n"
     ]
    },
    {
     "name": "stderr",
     "output_type": "stream",
     "text": [
      " 61%|██████    | 3426/5598 [1:19:12<1:03:56,  1.77s/it]"
     ]
    },
    {
     "name": "stdout",
     "output_type": "stream",
     "text": [
      "520651    Palermo F.C.    U.S. Città di Palermo\n"
     ]
    },
    {
     "name": "stderr",
     "output_type": "stream",
     "text": [
      " 61%|██████▏   | 3432/5598 [1:19:20<44:53,  1.24s/it]  "
     ]
    },
    {
     "name": "stdout",
     "output_type": "stream",
     "text": [
      "3073616    S.S.D. Fidelis Andria 2018    A.S. Andria BAT\n"
     ]
    },
    {
     "name": "stderr",
     "output_type": "stream",
     "text": [
      "\r",
      " 61%|██████▏   | 3433/5598 [1:19:22<47:54,  1.33s/it]"
     ]
    },
    {
     "name": "stdout",
     "output_type": "stream",
     "text": [
      "1136763    Piacenza Calcio 1919    Piacenza Calcio\n"
     ]
    },
    {
     "name": "stderr",
     "output_type": "stream",
     "text": [
      " 61%|██████▏   | 3436/5598 [1:19:25<37:40,  1.05s/it]  "
     ]
    },
    {
     "name": "stdout",
     "output_type": "stream",
     "text": [
      "3149150\n"
     ]
    },
    {
     "name": "stderr",
     "output_type": "stream",
     "text": [
      " 61%|██████▏   | 3439/5598 [1:19:30<51:30,  1.43s/it]"
     ]
    },
    {
     "name": "stdout",
     "output_type": "stream",
     "text": [
      "2592452    A.C. Perugia Calcio    Perugia Calcio\n"
     ]
    },
    {
     "name": "stderr",
     "output_type": "stream",
     "text": [
      "\r",
      " 61%|██████▏   | 3440/5598 [1:19:32<49:53,  1.39s/it]"
     ]
    },
    {
     "name": "stdout",
     "output_type": "stream",
     "text": [
      "5071886    Paulo Sérgio (footballer, born 1969)    Paulo Sérgio Silvestre do Nascimento\n"
     ]
    },
    {
     "name": "stderr",
     "output_type": "stream",
     "text": [
      " 62%|██████▏   | 3444/5598 [1:19:35<30:46,  1.17it/s]"
     ]
    },
    {
     "name": "stdout",
     "output_type": "stream",
     "text": [
      "3071399\n"
     ]
    },
    {
     "name": "stderr",
     "output_type": "stream",
     "text": [
      " 62%|██████▏   | 3446/5598 [1:19:38<35:46,  1.00it/s]"
     ]
    },
    {
     "name": "stdout",
     "output_type": "stream",
     "text": [
      "2883907\n"
     ]
    },
    {
     "name": "stderr",
     "output_type": "stream",
     "text": [
      "\r",
      " 62%|██████▏   | 3447/5598 [1:19:39<45:09,  1.26s/it]"
     ]
    },
    {
     "name": "stdout",
     "output_type": "stream",
     "text": [
      "1136820    L.R. Vicenza Virtus    Vicenza Calcio\n"
     ]
    },
    {
     "name": "stderr",
     "output_type": "stream",
     "text": [
      " 62%|██████▏   | 3451/5598 [1:19:44<45:27,  1.27s/it]"
     ]
    },
    {
     "name": "stdout",
     "output_type": "stream",
     "text": [
      "1138693    S.S.C. Bari    A.S. Bari\n"
     ]
    },
    {
     "name": "stderr",
     "output_type": "stream",
     "text": [
      " 62%|██████▏   | 3454/5598 [1:19:49<48:15,  1.35s/it]  "
     ]
    },
    {
     "name": "stdout",
     "output_type": "stream",
     "text": [
      "2870603    A.C. Monza    A.C. Monza Brianza 1912\n"
     ]
    },
    {
     "name": "stderr",
     "output_type": "stream",
     "text": [
      " 62%|██████▏   | 3457/5598 [1:19:56<1:03:05,  1.77s/it]"
     ]
    },
    {
     "name": "stdout",
     "output_type": "stream",
     "text": [
      "2876568    Ravenna F.C.    Ravenna Calcio\n"
     ]
    },
    {
     "name": "stderr",
     "output_type": "stream",
     "text": [
      " 62%|██████▏   | 3460/5598 [1:20:00<58:19,  1.64s/it]  "
     ]
    },
    {
     "name": "stdout",
     "output_type": "stream",
     "text": [
      "553772    Robert Pires    Robert Pirès\n"
     ]
    },
    {
     "name": "stderr",
     "output_type": "stream",
     "text": [
      " 62%|██████▏   | 3470/5598 [1:20:34<1:57:01,  3.30s/it]"
     ]
    },
    {
     "name": "stdout",
     "output_type": "stream",
     "text": [
      "13121884    Abdelkader Ferhaoui    Kader Ferhaoui\n"
     ]
    },
    {
     "name": "stderr",
     "output_type": "stream",
     "text": [
      " 62%|██████▏   | 3487/5598 [1:20:55<38:21,  1.09s/it]  "
     ]
    },
    {
     "name": "stdout",
     "output_type": "stream",
     "text": [
      "2138844\n"
     ]
    },
    {
     "name": "stderr",
     "output_type": "stream",
     "text": [
      " 63%|██████▎   | 3502/5598 [1:21:08<18:11,  1.92it/s]  "
     ]
    },
    {
     "name": "stdout",
     "output_type": "stream",
     "text": [
      "18298102    Princeton Lyman    Princeton N. Lyman\n"
     ]
    },
    {
     "name": "stderr",
     "output_type": "stream",
     "text": [
      " 63%|██████▎   | 3508/5598 [1:21:16<40:40,  1.17s/it]"
     ]
    },
    {
     "name": "stdout",
     "output_type": "stream",
     "text": [
      "2302768    Morinville    Morinville, Alberta\n"
     ]
    },
    {
     "name": "stderr",
     "output_type": "stream",
     "text": [
      "\r",
      " 63%|██████▎   | 3509/5598 [1:21:17<40:34,  1.17s/it]"
     ]
    },
    {
     "name": "stdout",
     "output_type": "stream",
     "text": [
      "5103900    Nordegg    Nordegg, Alberta\n"
     ]
    },
    {
     "name": "stderr",
     "output_type": "stream",
     "text": [
      "\r",
      " 63%|██████▎   | 3510/5598 [1:21:17<32:12,  1.08it/s]"
     ]
    },
    {
     "name": "stdout",
     "output_type": "stream",
     "text": [
      "380532    Biogen    Biogen Idec\n"
     ]
    },
    {
     "name": "stderr",
     "output_type": "stream",
     "text": [
      "\r",
      " 63%|██████▎   | 3511/5598 [1:21:22<1:17:23,  2.23s/it]"
     ]
    },
    {
     "name": "stdout",
     "output_type": "stream",
     "text": [
      "4383256\n"
     ]
    },
    {
     "name": "stderr",
     "output_type": "stream",
     "text": [
      " 63%|██████▎   | 3516/5598 [1:21:27<40:48,  1.18s/it]  "
     ]
    },
    {
     "name": "stdout",
     "output_type": "stream",
     "text": [
      "21835440    Mark L. Wolf    Mark Lawrence Wolf\n"
     ]
    },
    {
     "name": "stderr",
     "output_type": "stream",
     "text": [
      " 63%|██████▎   | 3520/5598 [1:21:33<46:52,  1.35s/it]  "
     ]
    },
    {
     "name": "stdout",
     "output_type": "stream",
     "text": [
      "10819    Federal Reserve    Federal Reserve System\n"
     ]
    },
    {
     "name": "stderr",
     "output_type": "stream",
     "text": [
      " 64%|██████▎   | 3560/5598 [1:22:28<50:35,  1.49s/it]  "
     ]
    },
    {
     "name": "stdout",
     "output_type": "stream",
     "text": [
      "3523938    World Conference on Women, 1995    Fourth World Conference on Women\n"
     ]
    },
    {
     "name": "stderr",
     "output_type": "stream",
     "text": [
      " 64%|██████▎   | 3562/5598 [1:22:30<37:07,  1.09s/it]"
     ]
    },
    {
     "name": "stdout",
     "output_type": "stream",
     "text": [
      "94089    Heathrow (hamlet)    Heathrow, London\n"
     ]
    },
    {
     "name": "stderr",
     "output_type": "stream",
     "text": [
      "\r",
      " 64%|██████▎   | 3563/5598 [1:22:31<32:52,  1.03it/s]"
     ]
    },
    {
     "name": "stdout",
     "output_type": "stream",
     "text": [
      "26308489\n"
     ]
    },
    {
     "name": "stderr",
     "output_type": "stream",
     "text": [
      "\r",
      " 64%|██████▎   | 3564/5598 [1:22:31<26:29,  1.28it/s]"
     ]
    },
    {
     "name": "stdout",
     "output_type": "stream",
     "text": [
      "321943    Sky UK    Sky Digital (UK & Ireland)\n"
     ]
    },
    {
     "name": "stderr",
     "output_type": "stream",
     "text": [
      " 64%|██████▍   | 3571/5598 [1:22:48<1:23:52,  2.48s/it]"
     ]
    },
    {
     "name": "stdout",
     "output_type": "stream",
     "text": [
      "15674115    Sharjah    Sharjah (city)\n"
     ]
    },
    {
     "name": "stderr",
     "output_type": "stream",
     "text": [
      " 64%|██████▍   | 3577/5598 [1:23:08<1:34:00,  2.79s/it]"
     ]
    },
    {
     "name": "stdout",
     "output_type": "stream",
     "text": [
      "233978    Vancouver Sun    The Vancouver Sun\n"
     ]
    },
    {
     "name": "stderr",
     "output_type": "stream",
     "text": [
      "\r",
      " 64%|██████▍   | 3578/5598 [1:23:11<1:35:26,  2.84s/it]"
     ]
    },
    {
     "name": "stdout",
     "output_type": "stream",
     "text": [
      "201835    Chris Patten    Chris Patten, Baron Patten of Barnes\n"
     ]
    },
    {
     "name": "stderr",
     "output_type": "stream",
     "text": [
      "\r",
      " 64%|██████▍   | 3579/5598 [1:23:15<1:51:32,  3.31s/it]"
     ]
    },
    {
     "name": "stdout",
     "output_type": "stream",
     "text": [
      "57744    Ivory Coast    Côte d'Ivoire\n"
     ]
    },
    {
     "name": "stderr",
     "output_type": "stream",
     "text": [
      " 64%|██████▍   | 3583/5598 [1:23:20<52:00,  1.55s/it]  "
     ]
    },
    {
     "name": "stdout",
     "output_type": "stream",
     "text": [
      "334800    Orlando Pirates F.C.    Orlando Pirates FC\n"
     ]
    },
    {
     "name": "stderr",
     "output_type": "stream",
     "text": [
      " 64%|██████▍   | 3592/5598 [1:23:28<13:07,  2.55it/s]  "
     ]
    },
    {
     "name": "stdout",
     "output_type": "stream",
     "text": [
      "241458    Charles Taylor (Liberian politician)    Charles Taylor (Liberia)\n"
     ]
    },
    {
     "name": "stderr",
     "output_type": "stream",
     "text": [
      " 64%|██████▍   | 3602/5598 [1:23:38<25:30,  1.30it/s]  "
     ]
    },
    {
     "name": "stdout",
     "output_type": "stream",
     "text": [
      "412602    American depositary receipt    American Depositary Receipt\n"
     ]
    },
    {
     "name": "stderr",
     "output_type": "stream",
     "text": [
      " 65%|██████▍   | 3617/5598 [1:24:01<36:50,  1.12s/it]  "
     ]
    },
    {
     "name": "stdout",
     "output_type": "stream",
     "text": [
      "1873300    Vale S.A.    Vale (mining company)\n"
     ]
    },
    {
     "name": "stderr",
     "output_type": "stream",
     "text": [
      " 65%|██████▍   | 3619/5598 [1:24:04<38:13,  1.16s/it]"
     ]
    },
    {
     "name": "stdout",
     "output_type": "stream",
     "text": [
      "1157753\n"
     ]
    },
    {
     "name": "stderr",
     "output_type": "stream",
     "text": [
      " 65%|██████▍   | 3623/5598 [1:24:05<16:47,  1.96it/s]"
     ]
    },
    {
     "name": "stdout",
     "output_type": "stream",
     "text": [
      "37988    United States National Guard    National Guard of the United States\n"
     ]
    },
    {
     "name": "stderr",
     "output_type": "stream",
     "text": [
      " 65%|██████▍   | 3626/5598 [1:24:09<23:30,  1.40it/s]"
     ]
    },
    {
     "name": "stdout",
     "output_type": "stream",
     "text": [
      "2154    African Americans    African American\n"
     ]
    },
    {
     "name": "stderr",
     "output_type": "stream",
     "text": [
      " 65%|██████▌   | 3659/5598 [1:25:00<47:36,  1.47s/it]  "
     ]
    },
    {
     "name": "stdout",
     "output_type": "stream",
     "text": [
      "2395785    ACC (company)    ACC Limited\n"
     ]
    },
    {
     "name": "stderr",
     "output_type": "stream",
     "text": [
      " 65%|██████▌   | 3662/5598 [1:25:01<24:51,  1.30it/s]"
     ]
    },
    {
     "name": "stdout",
     "output_type": "stream",
     "text": [
      "236852    Libor    London Interbank Offered Rate\n"
     ]
    },
    {
     "name": "stderr",
     "output_type": "stream",
     "text": [
      " 66%|██████▌   | 3686/5598 [1:25:41<22:15,  1.43it/s]  "
     ]
    },
    {
     "name": "stdout",
     "output_type": "stream",
     "text": [
      "63861    Valencia    Valencia, Spain\n",
      "803    Arabic    Arabic language\n"
     ]
    },
    {
     "name": "stderr",
     "output_type": "stream",
     "text": [
      " 66%|██████▌   | 3696/5598 [1:25:59<53:19,  1.68s/it]  "
     ]
    },
    {
     "name": "stdout",
     "output_type": "stream",
     "text": [
      "291275\n"
     ]
    },
    {
     "name": "stderr",
     "output_type": "stream",
     "text": [
      " 66%|██████▋   | 3711/5598 [1:26:11<30:42,  1.02it/s]"
     ]
    },
    {
     "name": "stdout",
     "output_type": "stream",
     "text": [
      "2865375    Theodoros Pangalos (politician)    Theodoros Pangalos\n"
     ]
    },
    {
     "name": "stderr",
     "output_type": "stream",
     "text": [
      " 67%|██████▋   | 3728/5598 [1:26:39<1:06:08,  2.12s/it]"
     ]
    },
    {
     "name": "stdout",
     "output_type": "stream",
     "text": [
      "405559    PASOK    Panhellenic Socialist Movement\n"
     ]
    },
    {
     "name": "stderr",
     "output_type": "stream",
     "text": [
      " 67%|██████▋   | 3751/5598 [1:27:06<30:15,  1.02it/s]  "
     ]
    },
    {
     "name": "stdout",
     "output_type": "stream",
     "text": [
      "6658821    Stung Treng City    Stung Treng\n"
     ]
    },
    {
     "name": "stderr",
     "output_type": "stream",
     "text": [
      " 67%|██████▋   | 3763/5598 [1:27:20<33:59,  1.11s/it]"
     ]
    },
    {
     "name": "stdout",
     "output_type": "stream",
     "text": [
      "175780\n"
     ]
    },
    {
     "name": "stderr",
     "output_type": "stream",
     "text": [
      " 67%|██████▋   | 3766/5598 [1:27:22<24:37,  1.24it/s]"
     ]
    },
    {
     "name": "stdout",
     "output_type": "stream",
     "text": [
      "2286075    Legal Department (Hong Kong)    Legal Department\n"
     ]
    },
    {
     "name": "stderr",
     "output_type": "stream",
     "text": [
      " 67%|██████▋   | 3770/5598 [1:27:24<14:32,  2.10it/s]"
     ]
    },
    {
     "name": "stdout",
     "output_type": "stream",
     "text": [
      "2629368    Banco Santander    Grupo Santander\n"
     ]
    },
    {
     "name": "stderr",
     "output_type": "stream",
     "text": [
      "\r",
      " 67%|██████▋   | 3771/5598 [1:27:25<16:16,  1.87it/s]"
     ]
    },
    {
     "name": "stdout",
     "output_type": "stream",
     "text": [
      "6517516    Expansión (Spanish newspaper)    Expansión\n"
     ]
    },
    {
     "name": "stderr",
     "output_type": "stream",
     "text": [
      "\r",
      " 67%|██████▋   | 3772/5598 [1:27:27<29:20,  1.04it/s]"
     ]
    },
    {
     "name": "stdout",
     "output_type": "stream",
     "text": [
      "399571    Abolhassan Banisadr    Abulhassan Banisadr\n"
     ]
    },
    {
     "name": "stderr",
     "output_type": "stream",
     "text": [
      " 68%|██████▊   | 3793/5598 [1:27:51<24:24,  1.23it/s]"
     ]
    },
    {
     "name": "stdout",
     "output_type": "stream",
     "text": [
      "11100004    Michael Andersson (cyclist)    Michael Andersson\n"
     ]
    },
    {
     "name": "stderr",
     "output_type": "stream",
     "text": [
      " 68%|██████▊   | 3803/5598 [1:28:04<32:30,  1.09s/it]"
     ]
    },
    {
     "name": "stdout",
     "output_type": "stream",
     "text": [
      "6691515    Oksana Grishina (cyclist)    Oksana Grishina\n"
     ]
    },
    {
     "name": "stderr",
     "output_type": "stream",
     "text": [
      " 68%|██████▊   | 3817/5598 [1:28:16<16:42,  1.78it/s]"
     ]
    },
    {
     "name": "stdout",
     "output_type": "stream",
     "text": [
      "2642664    Bristol County Ground    County Cricket Ground, Bristol\n"
     ]
    },
    {
     "name": "stderr",
     "output_type": "stream",
     "text": [
      " 68%|██████▊   | 3829/5598 [1:28:36<36:13,  1.23s/it]  "
     ]
    },
    {
     "name": "stdout",
     "output_type": "stream",
     "text": [
      "15820924\n"
     ]
    },
    {
     "name": "stderr",
     "output_type": "stream",
     "text": [
      " 69%|██████▊   | 3847/5598 [1:28:59<57:31,  1.97s/it]"
     ]
    },
    {
     "name": "stdout",
     "output_type": "stream",
     "text": [
      "89050    Flushing Meadows–Corona Park    Flushing Meadows – Corona Park\n"
     ]
    },
    {
     "name": "stderr",
     "output_type": "stream",
     "text": [
      " 69%|██████▉   | 3875/5598 [1:29:38<25:43,  1.12it/s]  "
     ]
    },
    {
     "name": "stdout",
     "output_type": "stream",
     "text": [
      "1917423    Bandundu (city)    Bandundu\n"
     ]
    },
    {
     "name": "stderr",
     "output_type": "stream",
     "text": [
      " 69%|██████▉   | 3890/5598 [1:29:56<33:56,  1.19s/it]"
     ]
    },
    {
     "name": "stdout",
     "output_type": "stream",
     "text": [
      "14431526    Čelopek, Brvenica    Čelopek\n"
     ]
    },
    {
     "name": "stderr",
     "output_type": "stream",
     "text": [
      "\r",
      " 70%|██████▉   | 3891/5598 [1:29:57<31:28,  1.11s/it]"
     ]
    },
    {
     "name": "stdout",
     "output_type": "stream",
     "text": [
      "495612    Victor Babeș    Victor Babeş\n"
     ]
    },
    {
     "name": "stderr",
     "output_type": "stream",
     "text": [
      " 70%|██████▉   | 3900/5598 [1:30:06<16:19,  1.73it/s]"
     ]
    },
    {
     "name": "stdout",
     "output_type": "stream",
     "text": [
      "26099\n"
     ]
    },
    {
     "name": "stderr",
     "output_type": "stream",
     "text": [
      " 70%|██████▉   | 3918/5598 [1:30:34<40:36,  1.45s/it]  "
     ]
    },
    {
     "name": "stdout",
     "output_type": "stream",
     "text": [
      "2136403    Piper Sandler Companies    Piper Jaffray\n"
     ]
    },
    {
     "name": "stderr",
     "output_type": "stream",
     "text": [
      " 70%|███████   | 3925/5598 [1:30:44<52:03,  1.87s/it]"
     ]
    },
    {
     "name": "stdout",
     "output_type": "stream",
     "text": [
      "920048    West South Central states    West South Central States\n"
     ]
    },
    {
     "name": "stderr",
     "output_type": "stream",
     "text": [
      "\r",
      " 70%|███████   | 3926/5598 [1:30:45<44:43,  1.60s/it]"
     ]
    },
    {
     "name": "stdout",
     "output_type": "stream",
     "text": [
      "920073    East North Central states    East North Central States\n"
     ]
    },
    {
     "name": "stderr",
     "output_type": "stream",
     "text": [
      " 70%|███████   | 3931/5598 [1:30:55<38:07,  1.37s/it]  "
     ]
    },
    {
     "name": "stdout",
     "output_type": "stream",
     "text": [
      "430438    Ron Goldman    Ronald Goldman\n"
     ]
    },
    {
     "name": "stderr",
     "output_type": "stream",
     "text": [
      " 70%|███████   | 3936/5598 [1:30:59<17:12,  1.61it/s]"
     ]
    },
    {
     "name": "stdout",
     "output_type": "stream",
     "text": [
      "607797    Miami Herald    The Miami Herald\n"
     ]
    },
    {
     "name": "stderr",
     "output_type": "stream",
     "text": [
      " 71%|███████   | 3952/5598 [1:31:19<15:43,  1.74it/s]  "
     ]
    },
    {
     "name": "stdout",
     "output_type": "stream",
     "text": [
      "252976\n",
      "4665846    MCB Bank    Muslim Commercial Bank\n"
     ]
    },
    {
     "name": "stderr",
     "output_type": "stream",
     "text": [
      " 71%|███████   | 3962/5598 [1:31:30<23:56,  1.14it/s]"
     ]
    },
    {
     "name": "stdout",
     "output_type": "stream",
     "text": [
      "50413    Sierra Nevada    Sierra Nevada (U.S.)\n"
     ]
    },
    {
     "name": "stderr",
     "output_type": "stream",
     "text": [
      " 71%|███████   | 3971/5598 [1:31:39<27:54,  1.03s/it]"
     ]
    },
    {
     "name": "stdout",
     "output_type": "stream",
     "text": [
      "7028227    Segro    SEGRO\n"
     ]
    },
    {
     "name": "stderr",
     "output_type": "stream",
     "text": [
      " 71%|███████   | 3973/5598 [1:31:41<26:19,  1.03it/s]"
     ]
    },
    {
     "name": "stdout",
     "output_type": "stream",
     "text": [
      "2049638    Landsec    Land Securities\n"
     ]
    },
    {
     "name": "stderr",
     "output_type": "stream",
     "text": [
      " 71%|███████   | 3978/5598 [1:31:45<19:48,  1.36it/s]"
     ]
    },
    {
     "name": "stdout",
     "output_type": "stream",
     "text": [
      "6226592    Jordan News Agency    Petra News Agency\n",
      "530357\n"
     ]
    },
    {
     "name": "stderr",
     "output_type": "stream",
     "text": [
      " 71%|███████   | 3983/5598 [1:31:48<14:07,  1.91it/s]"
     ]
    },
    {
     "name": "stdout",
     "output_type": "stream",
     "text": [
      "19623898    Islamic Museum, Jerusalem    Islamic Museum\n"
     ]
    },
    {
     "name": "stderr",
     "output_type": "stream",
     "text": [
      " 72%|███████▏  | 4009/5598 [1:32:17<28:15,  1.07s/it]"
     ]
    },
    {
     "name": "stdout",
     "output_type": "stream",
     "text": [
      "3017887    France-Soir    France Soir\n"
     ]
    },
    {
     "name": "stderr",
     "output_type": "stream",
     "text": [
      " 72%|███████▏  | 4018/5598 [1:32:27<31:12,  1.18s/it]"
     ]
    },
    {
     "name": "stdout",
     "output_type": "stream",
     "text": [
      "66513\n"
     ]
    },
    {
     "name": "stderr",
     "output_type": "stream",
     "text": [
      "\r",
      " 72%|███████▏  | 4019/5598 [1:32:28<24:30,  1.07it/s]"
     ]
    },
    {
     "name": "stdout",
     "output_type": "stream",
     "text": [
      "5069516    HIV/AIDS    AIDS\n"
     ]
    },
    {
     "name": "stderr",
     "output_type": "stream",
     "text": [
      " 72%|███████▏  | 4031/5598 [1:32:43<29:12,  1.12s/it]"
     ]
    },
    {
     "name": "stdout",
     "output_type": "stream",
     "text": [
      "369460    TVNZ    Television New Zealand\n"
     ]
    },
    {
     "name": "stderr",
     "output_type": "stream",
     "text": [
      " 72%|███████▏  | 4035/5598 [1:32:45<12:38,  2.06it/s]"
     ]
    },
    {
     "name": "stdout",
     "output_type": "stream",
     "text": [
      "2823064    MUFG Bank    The Bank of Tokyo-Mitsubishi UFJ\n"
     ]
    },
    {
     "name": "stderr",
     "output_type": "stream",
     "text": [
      " 72%|███████▏  | 4037/5598 [1:32:47<19:08,  1.36it/s]"
     ]
    },
    {
     "name": "stdout",
     "output_type": "stream",
     "text": [
      "3109012    LG Uplus    LG Telecom\n"
     ]
    },
    {
     "name": "stderr",
     "output_type": "stream",
     "text": [
      " 72%|███████▏  | 4042/5598 [1:32:55<33:53,  1.31s/it]"
     ]
    },
    {
     "name": "stdout",
     "output_type": "stream",
     "text": [
      "24086495    Itami Airport    Osaka International Airport\n"
     ]
    },
    {
     "name": "stderr",
     "output_type": "stream",
     "text": [
      " 72%|███████▏  | 4047/5598 [1:33:02<30:04,  1.16s/it]"
     ]
    },
    {
     "name": "stdout",
     "output_type": "stream",
     "text": [
      "4199619    Industrial production index    Industrial Production Index\n"
     ]
    },
    {
     "name": "stderr",
     "output_type": "stream",
     "text": [
      "\r",
      " 72%|███████▏  | 4048/5598 [1:33:02<28:00,  1.08s/it]"
     ]
    },
    {
     "name": "stdout",
     "output_type": "stream",
     "text": [
      "539739    GAL (paramilitary group)    Grupos Antiterroristas de Liberación\n"
     ]
    },
    {
     "name": "stderr",
     "output_type": "stream",
     "text": [
      " 72%|███████▏  | 4055/5598 [1:33:10<20:10,  1.27it/s]"
     ]
    },
    {
     "name": "stdout",
     "output_type": "stream",
     "text": [
      "54537\n"
     ]
    },
    {
     "name": "stderr",
     "output_type": "stream",
     "text": [
      " 73%|███████▎  | 4066/5598 [1:33:30<44:33,  1.75s/it]  "
     ]
    },
    {
     "name": "stdout",
     "output_type": "stream",
     "text": [
      "8908579    Scott Young (Welsh footballer)    Scott Young (footballer)\n"
     ]
    },
    {
     "name": "stderr",
     "output_type": "stream",
     "text": [
      " 73%|███████▎  | 4068/5598 [1:33:31<31:22,  1.23s/it]"
     ]
    },
    {
     "name": "stdout",
     "output_type": "stream",
     "text": [
      "18078979    Tetyana Styazhkina    Tatiana Stiajkina\n"
     ]
    },
    {
     "name": "stderr",
     "output_type": "stream",
     "text": [
      " 73%|███████▎  | 4078/5598 [1:33:44<38:12,  1.51s/it]"
     ]
    },
    {
     "name": "stdout",
     "output_type": "stream",
     "text": [
      "20108    Mick Doohan    Michael Doohan\n"
     ]
    },
    {
     "name": "stderr",
     "output_type": "stream",
     "text": [
      " 73%|███████▎  | 4086/5598 [1:33:53<28:11,  1.12s/it]"
     ]
    },
    {
     "name": "stdout",
     "output_type": "stream",
     "text": [
      "12185077    Shinichi Ito    Shinichi Itoh\n"
     ]
    },
    {
     "name": "stderr",
     "output_type": "stream",
     "text": [
      " 73%|███████▎  | 4107/5598 [1:34:10<28:01,  1.13s/it]"
     ]
    },
    {
     "name": "stdout",
     "output_type": "stream",
     "text": [
      "88261    Tony Adams    Tony Adams (footballer)\n"
     ]
    },
    {
     "name": "stderr",
     "output_type": "stream",
     "text": [
      " 74%|███████▎  | 4128/5598 [1:34:40<31:44,  1.30s/it]"
     ]
    },
    {
     "name": "stdout",
     "output_type": "stream",
     "text": [
      "5215321    Greater Milwaukee Open    U.S. Bank Championship in Milwaukee\n"
     ]
    },
    {
     "name": "stderr",
     "output_type": "stream",
     "text": [
      " 74%|███████▍  | 4149/5598 [1:35:00<28:15,  1.17s/it]"
     ]
    },
    {
     "name": "stdout",
     "output_type": "stream",
     "text": [
      "5208246    Atlanta Classic    AT&T Classic\n"
     ]
    },
    {
     "name": "stderr",
     "output_type": "stream",
     "text": [
      " 74%|███████▍  | 4151/5598 [1:35:02<25:44,  1.07s/it]"
     ]
    },
    {
     "name": "stdout",
     "output_type": "stream",
     "text": [
      "5221418    Tucson Open    Chrysler Classic of Tucson\n"
     ]
    },
    {
     "name": "stderr",
     "output_type": "stream",
     "text": [
      " 74%|███████▍  | 4154/5598 [1:35:07<27:29,  1.14s/it]"
     ]
    },
    {
     "name": "stdout",
     "output_type": "stream",
     "text": [
      "700197    Mario Silva (politician)    Mario Silva\n"
     ]
    },
    {
     "name": "stderr",
     "output_type": "stream",
     "text": [
      " 74%|███████▍  | 4161/5598 [1:35:12<22:59,  1.04it/s]"
     ]
    },
    {
     "name": "stdout",
     "output_type": "stream",
     "text": [
      "6311518    Jack Pierce (hurdler)    Jack Pierce (athlete)\n"
     ]
    },
    {
     "name": "stderr",
     "output_type": "stream",
     "text": [
      " 75%|███████▍  | 4179/5598 [1:35:26<14:22,  1.65it/s]"
     ]
    },
    {
     "name": "stdout",
     "output_type": "stream",
     "text": [
      "25826152    Eric Thomas (hurdler)    Eric Thomas (athlete)\n"
     ]
    },
    {
     "name": "stderr",
     "output_type": "stream",
     "text": [
      " 75%|███████▌  | 4199/5598 [1:35:45<25:22,  1.09s/it]"
     ]
    },
    {
     "name": "stdout",
     "output_type": "stream",
     "text": [
      "972840    Mike Conley Sr.    Mike Conley, Sr.\n"
     ]
    },
    {
     "name": "stderr",
     "output_type": "stream",
     "text": [
      " 75%|███████▌  | 4209/5598 [1:35:57<33:50,  1.46s/it]"
     ]
    },
    {
     "name": "stdout",
     "output_type": "stream",
     "text": [
      "86444    World Athletics    International Association of Athletics Federations\n"
     ]
    },
    {
     "name": "stderr",
     "output_type": "stream",
     "text": [
      " 75%|███████▌  | 4217/5598 [1:36:05<19:22,  1.19it/s]"
     ]
    },
    {
     "name": "stdout",
     "output_type": "stream",
     "text": [
      "22829445\n"
     ]
    },
    {
     "name": "stderr",
     "output_type": "stream",
     "text": [
      " 76%|███████▌  | 4234/5598 [1:36:24<31:50,  1.40s/it]"
     ]
    },
    {
     "name": "stdout",
     "output_type": "stream",
     "text": [
      "230102    NYSE Chicago    Chicago Stock Exchange\n"
     ]
    },
    {
     "name": "stderr",
     "output_type": "stream",
     "text": [
      " 76%|███████▌  | 4259/5598 [1:37:03<39:32,  1.77s/it]"
     ]
    },
    {
     "name": "stdout",
     "output_type": "stream",
     "text": [
      "622772    Chechens    Chechen people\n"
     ]
    },
    {
     "name": "stderr",
     "output_type": "stream",
     "text": [
      " 76%|███████▋  | 4269/5598 [1:37:20<40:32,  1.83s/it]"
     ]
    },
    {
     "name": "stdout",
     "output_type": "stream",
     "text": [
      "53029    Muammar Gaddafi    Muammar al-Gaddafi\n",
      "81024    Pan Am    Pan American World Airways\n"
     ]
    },
    {
     "name": "stderr",
     "output_type": "stream",
     "text": [
      " 76%|███████▋  | 4273/5598 [1:37:23<28:31,  1.29s/it]"
     ]
    },
    {
     "name": "stdout",
     "output_type": "stream",
     "text": [
      "317442    Idris of Libya    Idris I of Libya\n"
     ]
    },
    {
     "name": "stderr",
     "output_type": "stream",
     "text": [
      " 77%|███████▋  | 4287/5598 [1:37:35<12:52,  1.70it/s]"
     ]
    },
    {
     "name": "stdout",
     "output_type": "stream",
     "text": [
      "3346024\n"
     ]
    },
    {
     "name": "stderr",
     "output_type": "stream",
     "text": [
      " 77%|███████▋  | 4296/5598 [1:37:44<18:07,  1.20it/s]"
     ]
    },
    {
     "name": "stdout",
     "output_type": "stream",
     "text": [
      "1429506    Carroll A. Campbell Jr.    Carroll A. Campbell, Jr.\n"
     ]
    },
    {
     "name": "stderr",
     "output_type": "stream",
     "text": [
      " 77%|███████▋  | 4299/5598 [1:37:46<17:08,  1.26it/s]"
     ]
    },
    {
     "name": "stdout",
     "output_type": "stream",
     "text": [
      "19285924    Titanic    RMS Titanic\n"
     ]
    },
    {
     "name": "stderr",
     "output_type": "stream",
     "text": [
      " 77%|███████▋  | 4302/5598 [1:37:52<27:19,  1.26s/it]"
     ]
    },
    {
     "name": "stdout",
     "output_type": "stream",
     "text": [
      "105927    Charles de Gaulle Airport    Paris-Charles de Gaulle Airport\n"
     ]
    },
    {
     "name": "stderr",
     "output_type": "stream",
     "text": [
      " 77%|███████▋  | 4305/5598 [1:37:58<42:49,  1.99s/it]"
     ]
    },
    {
     "name": "stdout",
     "output_type": "stream",
     "text": [
      "50118    Groningen    Groningen (city)\n"
     ]
    },
    {
     "name": "stderr",
     "output_type": "stream",
     "text": [
      " 77%|███████▋  | 4308/5598 [1:38:03<37:44,  1.76s/it]"
     ]
    },
    {
     "name": "stdout",
     "output_type": "stream",
     "text": [
      "4757052    Al Akhbar (Egypt)    Elakhbar\n"
     ]
    },
    {
     "name": "stderr",
     "output_type": "stream",
     "text": [
      " 77%|███████▋  | 4310/5598 [1:38:06<34:45,  1.62s/it]"
     ]
    },
    {
     "name": "stdout",
     "output_type": "stream",
     "text": [
      "11311204\n"
     ]
    },
    {
     "name": "stderr",
     "output_type": "stream",
     "text": [
      " 77%|███████▋  | 4312/5598 [1:38:07<21:27,  1.00s/it]"
     ]
    },
    {
     "name": "stdout",
     "output_type": "stream",
     "text": [
      "1922153    Raymond James Financial    Raymond James\n"
     ]
    },
    {
     "name": "stderr",
     "output_type": "stream",
     "text": [
      " 77%|███████▋  | 4316/5598 [1:38:13<22:35,  1.06s/it]"
     ]
    },
    {
     "name": "stdout",
     "output_type": "stream",
     "text": [
      "3615109    CITIC Limited    CITIC Pacific\n"
     ]
    },
    {
     "name": "stderr",
     "output_type": "stream",
     "text": [
      " 77%|███████▋  | 4323/5598 [1:38:19<15:16,  1.39it/s]"
     ]
    },
    {
     "name": "stdout",
     "output_type": "stream",
     "text": [
      "1000530    Republic of Artsakh    Nagorno-Karabakh Republic\n"
     ]
    },
    {
     "name": "stderr",
     "output_type": "stream",
     "text": [
      " 77%|███████▋  | 4328/5598 [1:38:22<08:58,  2.36it/s]"
     ]
    },
    {
     "name": "stdout",
     "output_type": "stream",
     "text": [
      "41268    Intelligent Network    Intelligent network\n"
     ]
    },
    {
     "name": "stderr",
     "output_type": "stream",
     "text": [
      " 78%|███████▊  | 4340/5598 [1:38:38<45:39,  2.18s/it]"
     ]
    },
    {
     "name": "stdout",
     "output_type": "stream",
     "text": [
      "454123    Roberto Carlos    Roberto Carlos (footballer)\n"
     ]
    },
    {
     "name": "stderr",
     "output_type": "stream",
     "text": [
      " 78%|███████▊  | 4342/5598 [1:38:42<42:26,  2.03s/it]"
     ]
    },
    {
     "name": "stdout",
     "output_type": "stream",
     "text": [
      "6384006    Donato (footballer)    Donato Gama da Silva\n"
     ]
    },
    {
     "name": "stderr",
     "output_type": "stream",
     "text": [
      "\r",
      " 78%|███████▊  | 4343/5598 [1:38:42<31:05,  1.49s/it]"
     ]
    },
    {
     "name": "stdout",
     "output_type": "stream",
     "text": [
      "12345223    Luis Milla (footballer, born 1966)    Luis Milla\n"
     ]
    },
    {
     "name": "stderr",
     "output_type": "stream",
     "text": [
      " 78%|███████▊  | 4358/5598 [1:39:14<38:24,  1.86s/it]  "
     ]
    },
    {
     "name": "stdout",
     "output_type": "stream",
     "text": [
      "3501496    Peter Dubovský (footballer)    Peter Dubovský\n"
     ]
    },
    {
     "name": "stderr",
     "output_type": "stream",
     "text": [
      " 78%|███████▊  | 4394/5598 [1:39:50<25:20,  1.26s/it]"
     ]
    },
    {
     "name": "stdout",
     "output_type": "stream",
     "text": [
      "372723    Frank Thomas (designated hitter)    Frank Thomas (baseball, born 1968)\n"
     ]
    },
    {
     "name": "stderr",
     "output_type": "stream",
     "text": [
      " 79%|███████▉  | 4414/5598 [1:40:09<11:18,  1.75it/s]"
     ]
    },
    {
     "name": "stdout",
     "output_type": "stream",
     "text": [
      "1463014    Bristol Bears    Bristol Rugby\n"
     ]
    },
    {
     "name": "stderr",
     "output_type": "stream",
     "text": [
      " 79%|███████▉  | 4435/5598 [1:40:32<18:11,  1.07it/s]"
     ]
    },
    {
     "name": "stdout",
     "output_type": "stream",
     "text": [
      "3019555    Watsonian FC    Watsonians RFC\n"
     ]
    },
    {
     "name": "stderr",
     "output_type": "stream",
     "text": [
      " 79%|███████▉  | 4441/5598 [1:40:39<17:40,  1.09it/s]"
     ]
    },
    {
     "name": "stdout",
     "output_type": "stream",
     "text": [
      "4410583    John Robinson (footballer, born 1971)    John Robinson (footballer)\n"
     ]
    },
    {
     "name": "stderr",
     "output_type": "stream",
     "text": [
      " 80%|███████▉  | 4460/5598 [1:41:03<13:52,  1.37it/s]"
     ]
    },
    {
     "name": "stdout",
     "output_type": "stream",
     "text": [
      "768194    Al Unser Jr.    Al Unser, Jr.\n"
     ]
    },
    {
     "name": "stderr",
     "output_type": "stream",
     "text": [
      "\r",
      " 80%|███████▉  | 4461/5598 [1:41:03<13:21,  1.42it/s]"
     ]
    },
    {
     "name": "stdout",
     "output_type": "stream",
     "text": [
      "5421344    André Ribeiro (racing driver)    André Ribeiro\n"
     ]
    },
    {
     "name": "stderr",
     "output_type": "stream",
     "text": [
      " 80%|███████▉  | 4476/5598 [1:41:19<17:39,  1.06it/s]"
     ]
    },
    {
     "name": "stdout",
     "output_type": "stream",
     "text": [
      "21851679    James Dalton (rugby union)    James Dalton (rugby player)\n"
     ]
    },
    {
     "name": "stderr",
     "output_type": "stream",
     "text": [
      " 80%|████████  | 4492/5598 [1:41:47<35:14,  1.91s/it]  "
     ]
    },
    {
     "name": "stdout",
     "output_type": "stream",
     "text": [
      "2840429    Daniel Andersson (footballer, born 1977)    Daniel Andersson (footballer born 1977)\n"
     ]
    },
    {
     "name": "stderr",
     "output_type": "stream",
     "text": [
      " 80%|████████  | 4501/5598 [1:42:02<34:54,  1.91s/it]"
     ]
    },
    {
     "name": "stdout",
     "output_type": "stream",
     "text": [
      "1108893    Billie Jean King Cup    Fed Cup\n"
     ]
    },
    {
     "name": "stderr",
     "output_type": "stream",
     "text": [
      " 81%|████████▏ | 4560/5598 [1:43:29<17:59,  1.04s/it]  "
     ]
    },
    {
     "name": "stdout",
     "output_type": "stream",
     "text": [
      "961517    Andi Herzog    Andreas Herzog\n"
     ]
    },
    {
     "name": "stderr",
     "output_type": "stream",
     "text": [
      " 82%|████████▏ | 4563/5598 [1:43:32<16:43,  1.03it/s]"
     ]
    },
    {
     "name": "stdout",
     "output_type": "stream",
     "text": [
      "835173    Tom Boyd (Scottish footballer)    Tom Boyd (footballer)\n"
     ]
    },
    {
     "name": "stderr",
     "output_type": "stream",
     "text": [
      " 82%|████████▏ | 4568/5598 [1:43:38<23:02,  1.34s/it]"
     ]
    },
    {
     "name": "stdout",
     "output_type": "stream",
     "text": [
      "1082043    John Collins (footballer, born 1968)    John Collins (footballer)\n"
     ]
    },
    {
     "name": "stderr",
     "output_type": "stream",
     "text": [
      " 82%|████████▏ | 4570/5598 [1:43:40<18:29,  1.08s/it]"
     ]
    },
    {
     "name": "stdout",
     "output_type": "stream",
     "text": [
      "8484278    International Boxing Association (amateur)    International Boxing Association\n"
     ]
    },
    {
     "name": "stderr",
     "output_type": "stream",
     "text": [
      " 82%|████████▏ | 4575/5598 [1:43:50<33:18,  1.95s/it]"
     ]
    },
    {
     "name": "stdout",
     "output_type": "stream",
     "text": [
      "6583316\n"
     ]
    },
    {
     "name": "stderr",
     "output_type": "stream",
     "text": [
      " 82%|████████▏ | 4593/5598 [1:44:18<29:35,  1.77s/it]"
     ]
    },
    {
     "name": "stdout",
     "output_type": "stream",
     "text": [
      "1360541    Ramón Ramírez (footballer)    Ramón Ramírez\n"
     ]
    },
    {
     "name": "stderr",
     "output_type": "stream",
     "text": [
      " 82%|████████▏ | 4595/5598 [1:44:21<23:30,  1.41s/it]"
     ]
    },
    {
     "name": "stdout",
     "output_type": "stream",
     "text": [
      "6987514    Enrique Alfaro Rojas    Enrique Alfaro\n"
     ]
    },
    {
     "name": "stderr",
     "output_type": "stream",
     "text": [
      " 82%|████████▏ | 4604/5598 [1:44:48<26:59,  1.63s/it]  "
     ]
    },
    {
     "name": "stdout",
     "output_type": "stream",
     "text": [
      "27565952    Luís Oliveira    Luis Oliveira\n"
     ]
    },
    {
     "name": "stderr",
     "output_type": "stream",
     "text": [
      " 82%|████████▏ | 4612/5598 [1:44:54<11:06,  1.48it/s]"
     ]
    },
    {
     "name": "stdout",
     "output_type": "stream",
     "text": [
      "3044729    Nico Van Kerckhoven    Nico van Kerckhoven\n"
     ]
    },
    {
     "name": "stderr",
     "output_type": "stream",
     "text": [
      " 83%|████████▎ | 4628/5598 [1:45:12<19:36,  1.21s/it]"
     ]
    },
    {
     "name": "stdout",
     "output_type": "stream",
     "text": [
      "6647379    Nate Miller (boxer)    Nate Miller\n"
     ]
    },
    {
     "name": "stderr",
     "output_type": "stream",
     "text": [
      "\r",
      " 83%|████████▎ | 4629/5598 [1:45:12<16:39,  1.03s/it]"
     ]
    },
    {
     "name": "stdout",
     "output_type": "stream",
     "text": [
      "28148156    James Heath (boxer)    James Heath (Boxer)\n"
     ]
    },
    {
     "name": "stderr",
     "output_type": "stream",
     "text": [
      " 83%|████████▎ | 4631/5598 [1:45:13<11:39,  1.38it/s]"
     ]
    },
    {
     "name": "stdout",
     "output_type": "stream",
     "text": [
      "11047345    Richard Hannon Sr.    Richard Hannon\n"
     ]
    },
    {
     "name": "stderr",
     "output_type": "stream",
     "text": [
      " 83%|████████▎ | 4633/5598 [1:45:14<07:37,  2.11it/s]"
     ]
    },
    {
     "name": "stdout",
     "output_type": "stream",
     "text": [
      "884389\n"
     ]
    },
    {
     "name": "stderr",
     "output_type": "stream",
     "text": [
      " 83%|████████▎ | 4641/5598 [1:45:32<28:34,  1.79s/it]  "
     ]
    },
    {
     "name": "stdout",
     "output_type": "stream",
     "text": [
      "10128    Elizabeth I    Elizabeth I of England\n"
     ]
    },
    {
     "name": "stderr",
     "output_type": "stream",
     "text": [
      "\r",
      " 83%|████████▎ | 4642/5598 [1:45:36<36:59,  2.32s/it]"
     ]
    },
    {
     "name": "stdout",
     "output_type": "stream",
     "text": [
      "14187    Henry VIII    Henry VIII of England\n"
     ]
    },
    {
     "name": "stderr",
     "output_type": "stream",
     "text": [
      " 83%|████████▎ | 4648/5598 [1:45:47<26:49,  1.69s/it]"
     ]
    },
    {
     "name": "stdout",
     "output_type": "stream",
     "text": [
      "2843060    Treaty of Baden (1714)    Treaty of Baden\n"
     ]
    },
    {
     "name": "stderr",
     "output_type": "stream",
     "text": [
      " 83%|████████▎ | 4659/5598 [1:45:56<12:11,  1.28it/s]"
     ]
    },
    {
     "name": "stdout",
     "output_type": "stream",
     "text": [
      "69880    Napoleon    Napoleon I\n"
     ]
    },
    {
     "name": "stderr",
     "output_type": "stream",
     "text": [
      " 83%|████████▎ | 4666/5598 [1:46:14<32:18,  2.08s/it]"
     ]
    },
    {
     "name": "stdout",
     "output_type": "stream",
     "text": [
      "240868    Transvaal (province)    Transvaal Province\n"
     ]
    },
    {
     "name": "stderr",
     "output_type": "stream",
     "text": [
      " 83%|████████▎ | 4670/5598 [1:46:23<38:18,  2.48s/it]"
     ]
    },
    {
     "name": "stdout",
     "output_type": "stream",
     "text": [
      "25310    Qing dynasty    Qing Dynasty\n"
     ]
    },
    {
     "name": "stderr",
     "output_type": "stream",
     "text": [
      " 84%|████████▎ | 4676/5598 [1:46:31<21:01,  1.37s/it]"
     ]
    },
    {
     "name": "stdout",
     "output_type": "stream",
     "text": [
      "639729    Ice Cold in Alex    Ice-Cold in Alex\n"
     ]
    },
    {
     "name": "stderr",
     "output_type": "stream",
     "text": [
      " 84%|████████▎ | 4687/5598 [1:46:55<31:52,  2.10s/it]"
     ]
    },
    {
     "name": "stdout",
     "output_type": "stream",
     "text": [
      "2701987    Scottish Labour    Scottish Labour Party\n"
     ]
    },
    {
     "name": "stderr",
     "output_type": "stream",
     "text": [
      " 84%|████████▍ | 4696/5598 [1:47:00<08:22,  1.79it/s]"
     ]
    },
    {
     "name": "stdout",
     "output_type": "stream",
     "text": [
      "18947965    Afrikaners    Afrikaner\n"
     ]
    },
    {
     "name": "stderr",
     "output_type": "stream",
     "text": [
      "\r",
      " 84%|████████▍ | 4697/5598 [1:47:01<10:13,  1.47it/s]"
     ]
    },
    {
     "name": "stdout",
     "output_type": "stream",
     "text": [
      "15608060\n"
     ]
    },
    {
     "name": "stderr",
     "output_type": "stream",
     "text": [
      " 84%|████████▍ | 4715/5598 [1:47:26<20:08,  1.37s/it]"
     ]
    },
    {
     "name": "stdout",
     "output_type": "stream",
     "text": [
      "51572    Santiago    Santiago, Chile\n"
     ]
    },
    {
     "name": "stderr",
     "output_type": "stream",
     "text": [
      " 84%|████████▍ | 4723/5598 [1:47:38<31:53,  2.19s/it]"
     ]
    },
    {
     "name": "stdout",
     "output_type": "stream",
     "text": [
      "7175    Chinese Communist Party    Communist Party of China\n"
     ]
    },
    {
     "name": "stderr",
     "output_type": "stream",
     "text": [
      " 85%|████████▍ | 4736/5598 [1:47:58<17:15,  1.20s/it]"
     ]
    },
    {
     "name": "stdout",
     "output_type": "stream",
     "text": [
      "174467    Yonhap News Agency    Yonhap\n"
     ]
    },
    {
     "name": "stderr",
     "output_type": "stream",
     "text": [
      " 85%|████████▍ | 4754/5598 [1:48:18<21:12,  1.51s/it]"
     ]
    },
    {
     "name": "stdout",
     "output_type": "stream",
     "text": [
      "197352    USS Carl Vinson    USS Carl Vinson (CVN-70)\n"
     ]
    },
    {
     "name": "stderr",
     "output_type": "stream",
     "text": [
      " 85%|████████▌ | 4766/5598 [1:48:30<07:47,  1.78it/s]"
     ]
    },
    {
     "name": "stdout",
     "output_type": "stream",
     "text": [
      "14732    Irish Republican Army (1919–1922)    Irish Republican Army\n"
     ]
    },
    {
     "name": "stderr",
     "output_type": "stream",
     "text": [
      " 85%|████████▌ | 4784/5598 [1:49:00<26:03,  1.92s/it]"
     ]
    },
    {
     "name": "stdout",
     "output_type": "stream",
     "text": [
      "887850    China national football team    China PR national football team\n"
     ]
    },
    {
     "name": "stderr",
     "output_type": "stream",
     "text": [
      " 86%|████████▌ | 4798/5598 [1:49:25<14:32,  1.09s/it]"
     ]
    },
    {
     "name": "stdout",
     "output_type": "stream",
     "text": [
      "1018627    South Korea national football team    Korea Republic national football team\n"
     ]
    },
    {
     "name": "stderr",
     "output_type": "stream",
     "text": [
      " 86%|████████▌ | 4806/5598 [1:49:38<14:40,  1.11s/it]"
     ]
    },
    {
     "name": "stdout",
     "output_type": "stream",
     "text": [
      "795068    Diego Domínguez (rugby union)    Diego Domínguez\n"
     ]
    },
    {
     "name": "stderr",
     "output_type": "stream",
     "text": [
      " 86%|████████▌ | 4827/5598 [1:49:59<14:13,  1.11s/it]"
     ]
    },
    {
     "name": "stdout",
     "output_type": "stream",
     "text": [
      "25450443    FIS Freestyle Ski World Cup    FIS Freestyle Skiing World Cup\n"
     ]
    },
    {
     "name": "stderr",
     "output_type": "stream",
     "text": [
      " 87%|████████▋ | 4845/5598 [1:50:17<09:33,  1.31it/s]"
     ]
    },
    {
     "name": "stdout",
     "output_type": "stream",
     "text": [
      "540056    EuroLeague    Euroleague Basketball\n"
     ]
    },
    {
     "name": "stderr",
     "output_type": "stream",
     "text": [
      " 87%|████████▋ | 4848/5598 [1:50:28<32:30,  2.60s/it]"
     ]
    },
    {
     "name": "stdout",
     "output_type": "stream",
     "text": [
      "1973041    Limoges CSP    CSP Limoges\n"
     ]
    },
    {
     "name": "stderr",
     "output_type": "stream",
     "text": [
      " 87%|████████▋ | 4852/5598 [1:50:38<31:53,  2.56s/it]"
     ]
    },
    {
     "name": "stdout",
     "output_type": "stream",
     "text": [
      "4739242    Alba Berlin    ALBA Berlin\n"
     ]
    },
    {
     "name": "stderr",
     "output_type": "stream",
     "text": [
      " 87%|████████▋ | 4855/5598 [1:50:47<38:40,  3.12s/it]"
     ]
    },
    {
     "name": "stdout",
     "output_type": "stream",
     "text": [
      "7116249    Panathinaikos B.C.    Panathinaikos BC\n"
     ]
    },
    {
     "name": "stderr",
     "output_type": "stream",
     "text": [
      " 87%|████████▋ | 4857/5598 [1:50:50<25:55,  2.10s/it]"
     ]
    },
    {
     "name": "stdout",
     "output_type": "stream",
     "text": [
      "1969800    ASVEL Basket    ASVEL Lyon-Villeurbanne\n",
      "3313915\n"
     ]
    },
    {
     "name": "stderr",
     "output_type": "stream",
     "text": [
      " 87%|████████▋ | 4860/5598 [1:50:57<28:55,  2.35s/it]"
     ]
    },
    {
     "name": "stdout",
     "output_type": "stream",
     "text": [
      "1396057    Anadolu Efes S.K.    Efes Pilsen S.K.\n"
     ]
    },
    {
     "name": "stderr",
     "output_type": "stream",
     "text": [
      "\r",
      " 87%|████████▋ | 4861/5598 [1:51:00<28:26,  2.32s/it]"
     ]
    },
    {
     "name": "stdout",
     "output_type": "stream",
     "text": [
      "3830347    Élan Béarnais    Élan Béarnais Pau-Orthez\n"
     ]
    },
    {
     "name": "stderr",
     "output_type": "stream",
     "text": [
      " 87%|████████▋ | 4863/5598 [1:51:06<33:16,  2.72s/it]"
     ]
    },
    {
     "name": "stdout",
     "output_type": "stream",
     "text": [
      "4127601    Real Betis Baloncesto    CB Sevilla\n"
     ]
    },
    {
     "name": "stderr",
     "output_type": "stream",
     "text": [
      " 87%|████████▋ | 4870/5598 [1:51:14<11:47,  1.03it/s]"
     ]
    },
    {
     "name": "stdout",
     "output_type": "stream",
     "text": [
      "2417447\n"
     ]
    },
    {
     "name": "stderr",
     "output_type": "stream",
     "text": [
      " 87%|████████▋ | 4891/5598 [1:51:35<11:21,  1.04it/s]"
     ]
    },
    {
     "name": "stdout",
     "output_type": "stream",
     "text": [
      "15154926    David Wilson (rugby union, born 1985)    Dave Wilson (rugby union)\n"
     ]
    },
    {
     "name": "stderr",
     "output_type": "stream",
     "text": [
      " 87%|████████▋ | 4893/5598 [1:51:37<10:03,  1.17it/s]"
     ]
    },
    {
     "name": "stdout",
     "output_type": "stream",
     "text": [
      "5746768    Dan Crowley (rugby union)    Dan Crowley\n"
     ]
    },
    {
     "name": "stderr",
     "output_type": "stream",
     "text": [
      " 88%|████████▊ | 4905/5598 [1:51:52<25:12,  2.18s/it]"
     ]
    },
    {
     "name": "stdout",
     "output_type": "stream",
     "text": [
      "679799    North Macedonia national football team    Macedonia national football team\n"
     ]
    },
    {
     "name": "stderr",
     "output_type": "stream",
     "text": [
      " 88%|████████▊ | 4909/5598 [1:51:58<18:58,  1.65s/it]"
     ]
    },
    {
     "name": "stdout",
     "output_type": "stream",
     "text": [
      "2384790    FC Progresul București    AFC Progresul Bucureşti\n"
     ]
    },
    {
     "name": "stderr",
     "output_type": "stream",
     "text": [
      " 88%|████████▊ | 4914/5598 [1:52:03<13:01,  1.14s/it]"
     ]
    },
    {
     "name": "stdout",
     "output_type": "stream",
     "text": [
      "5212074    Anton Doboș    Anton Doboş\n"
     ]
    },
    {
     "name": "stderr",
     "output_type": "stream",
     "text": [
      " 88%|████████▊ | 4920/5598 [1:52:14<17:51,  1.58s/it]"
     ]
    },
    {
     "name": "stdout",
     "output_type": "stream",
     "text": [
      "5997909    Ovidiu Stîngă    Ovidiu Stângă\n"
     ]
    },
    {
     "name": "stderr",
     "output_type": "stream",
     "text": [
      " 88%|████████▊ | 4935/5598 [1:52:28<06:57,  1.59it/s]"
     ]
    },
    {
     "name": "stdout",
     "output_type": "stream",
     "text": [
      "613023    Tasmania cricket team    Tasmanian Tigers\n",
      "1147963    Victoria cricket team    Victorian Bushrangers\n"
     ]
    },
    {
     "name": "stderr",
     "output_type": "stream",
     "text": [
      " 88%|████████▊ | 4947/5598 [1:52:38<07:37,  1.42it/s]"
     ]
    },
    {
     "name": "stdout",
     "output_type": "stream",
     "text": [
      "3099485    Kenny Benjamin    Kenneth Benjamin\n"
     ]
    },
    {
     "name": "stderr",
     "output_type": "stream",
     "text": [
      " 88%|████████▊ | 4949/5598 [1:52:40<08:31,  1.27it/s]"
     ]
    },
    {
     "name": "stdout",
     "output_type": "stream",
     "text": [
      "8735759    World Badminton Grand Prix Finals    World Badminton Grand Prix\n"
     ]
    },
    {
     "name": "stderr",
     "output_type": "stream",
     "text": [
      " 89%|████████▊ | 4961/5598 [1:53:00<17:41,  1.67s/it]"
     ]
    },
    {
     "name": "stdout",
     "output_type": "stream",
     "text": [
      "919728    List of national stadiums    National stadium\n"
     ]
    },
    {
     "name": "stderr",
     "output_type": "stream",
     "text": [
      "\r",
      " 89%|████████▊ | 4962/5598 [1:53:01<15:44,  1.48s/it]"
     ]
    },
    {
     "name": "stdout",
     "output_type": "stream",
     "text": [
      "26530226    Arab Contractors    Arab Contractors (company)\n"
     ]
    },
    {
     "name": "stderr",
     "output_type": "stream",
     "text": [
      " 89%|████████▉ | 4981/5598 [1:53:34<09:13,  1.11it/s]"
     ]
    },
    {
     "name": "stdout",
     "output_type": "stream",
     "text": [
      "26722293\n"
     ]
    },
    {
     "name": "stderr",
     "output_type": "stream",
     "text": [
      " 89%|████████▉ | 4983/5598 [1:53:39<15:48,  1.54s/it]"
     ]
    },
    {
     "name": "stdout",
     "output_type": "stream",
     "text": [
      "73138    Arizona Coyotes    Phoenix Coyotes\n"
     ]
    },
    {
     "name": "stderr",
     "output_type": "stream",
     "text": [
      " 89%|████████▉ | 4999/5598 [1:54:05<11:30,  1.15s/it]"
     ]
    },
    {
     "name": "stdout",
     "output_type": "stream",
     "text": [
      "33673    Washington Football Team    Washington Redskins\n"
     ]
    },
    {
     "name": "stderr",
     "output_type": "stream",
     "text": [
      " 90%|████████▉ | 5017/5598 [1:54:33<25:45,  2.66s/it]"
     ]
    },
    {
     "name": "stdout",
     "output_type": "stream",
     "text": [
      "72852    Brooklyn Nets    New Jersey Nets\n"
     ]
    },
    {
     "name": "stderr",
     "output_type": "stream",
     "text": [
      " 90%|████████▉ | 5022/5598 [1:54:42<12:01,  1.25s/it]"
     ]
    },
    {
     "name": "stdout",
     "output_type": "stream",
     "text": [
      "72862    New Orleans Pelicans    New Orleans Hornets\n"
     ]
    },
    {
     "name": "stderr",
     "output_type": "stream",
     "text": [
      " 90%|█████████ | 5047/5598 [1:55:23<14:00,  1.52s/it]"
     ]
    },
    {
     "name": "stdout",
     "output_type": "stream",
     "text": [
      "27170    Los Angeles Chargers    San Diego Chargers\n"
     ]
    },
    {
     "name": "stderr",
     "output_type": "stream",
     "text": [
      "\r",
      " 90%|█████████ | 5048/5598 [1:55:23<10:45,  1.17s/it]"
     ]
    },
    {
     "name": "stdout",
     "output_type": "stream",
     "text": [
      "22312    Las Vegas Raiders    Oakland Raiders\n"
     ]
    },
    {
     "name": "stderr",
     "output_type": "stream",
     "text": [
      " 91%|█████████ | 5094/5598 [1:56:22<12:21,  1.47s/it]"
     ]
    },
    {
     "name": "stdout",
     "output_type": "stream",
     "text": [
      "9993504    Paulo Alves (footballer, born 1969)    Paulo Alves\n"
     ]
    },
    {
     "name": "stderr",
     "output_type": "stream",
     "text": [
      " 91%|█████████ | 5097/5598 [1:56:24<06:26,  1.30it/s]"
     ]
    },
    {
     "name": "stdout",
     "output_type": "stream",
     "text": [
      "347480    Raúl (footballer)    Raúl González\n"
     ]
    },
    {
     "name": "stderr",
     "output_type": "stream",
     "text": [
      " 91%|█████████ | 5099/5598 [1:56:27<09:58,  1.20s/it]"
     ]
    },
    {
     "name": "stdout",
     "output_type": "stream",
     "text": [
      "5529728    Víctor Sánchez (footballer, born 1976)    Víctor Sánchez\n"
     ]
    },
    {
     "name": "stderr",
     "output_type": "stream",
     "text": [
      " 91%|█████████ | 5101/5598 [1:56:30<10:43,  1.29s/it]"
     ]
    },
    {
     "name": "stdout",
     "output_type": "stream",
     "text": [
      "5586995    José Amavisca    José Emilio Amavisca\n"
     ]
    },
    {
     "name": "stderr",
     "output_type": "stream",
     "text": [
      "\r",
      " 91%|█████████ | 5102/5598 [1:56:31<09:59,  1.21s/it]"
     ]
    },
    {
     "name": "stdout",
     "output_type": "stream",
     "text": [
      "6096292    Roger García    Roger García Junyent\n"
     ]
    },
    {
     "name": "stderr",
     "output_type": "stream",
     "text": [
      " 91%|█████████ | 5104/5598 [1:56:36<15:19,  1.86s/it]"
     ]
    },
    {
     "name": "stdout",
     "output_type": "stream",
     "text": [
      "616593    Luis Enrique    Luis Enrique Martínez García\n"
     ]
    },
    {
     "name": "stderr",
     "output_type": "stream",
     "text": [
      " 91%|█████████▏| 5116/5598 [1:56:56<07:52,  1.02it/s]"
     ]
    },
    {
     "name": "stdout",
     "output_type": "stream",
     "text": [
      "24119395    RC Celta de Vigo    Celta de Vigo\n"
     ]
    },
    {
     "name": "stderr",
     "output_type": "stream",
     "text": [
      " 91%|█████████▏| 5121/5598 [1:57:04<10:14,  1.29s/it]"
     ]
    },
    {
     "name": "stdout",
     "output_type": "stream",
     "text": [
      "2413021\n"
     ]
    },
    {
     "name": "stderr",
     "output_type": "stream",
     "text": [
      " 92%|█████████▏| 5153/5598 [1:57:57<06:22,  1.16it/s]"
     ]
    },
    {
     "name": "stdout",
     "output_type": "stream",
     "text": [
      "466604    World Squash Championships    World Open\n"
     ]
    },
    {
     "name": "stderr",
     "output_type": "stream",
     "text": [
      " 92%|█████████▏| 5163/5598 [1:58:11<11:36,  1.60s/it]"
     ]
    },
    {
     "name": "stdout",
     "output_type": "stream",
     "text": [
      "1203555    Democratic Alliance of Hungarians in Romania    Democratic Union of Hungarians in Romania\n"
     ]
    },
    {
     "name": "stderr",
     "output_type": "stream",
     "text": [
      " 92%|█████████▏| 5166/5598 [1:58:18<17:32,  2.44s/it]"
     ]
    },
    {
     "name": "stdout",
     "output_type": "stream",
     "text": [
      "60817    Timișoara    Timişoara\n"
     ]
    },
    {
     "name": "stderr",
     "output_type": "stream",
     "text": [
      " 92%|█████████▏| 5172/5598 [1:58:27<10:24,  1.47s/it]"
     ]
    },
    {
     "name": "stdout",
     "output_type": "stream",
     "text": [
      "23346    Post-communism    Post-Communism\n"
     ]
    },
    {
     "name": "stderr",
     "output_type": "stream",
     "text": [
      " 92%|█████████▏| 5175/5598 [1:58:30<10:03,  1.43s/it]"
     ]
    },
    {
     "name": "stdout",
     "output_type": "stream",
     "text": [
      "150133    Heineken N.V.    Heineken International\n"
     ]
    },
    {
     "name": "stderr",
     "output_type": "stream",
     "text": [
      " 93%|█████████▎| 5182/5598 [1:58:37<06:12,  1.12it/s]"
     ]
    },
    {
     "name": "stdout",
     "output_type": "stream",
     "text": [
      "4793292    Heineken    Heineken Pilsener\n"
     ]
    },
    {
     "name": "stderr",
     "output_type": "stream",
     "text": [
      "\r",
      " 93%|█████████▎| 5183/5598 [1:58:37<04:39,  1.48it/s]"
     ]
    },
    {
     "name": "stdout",
     "output_type": "stream",
     "text": [
      "941690    Competition Commission    Competition Commission (United Kingdom)\n"
     ]
    },
    {
     "name": "stderr",
     "output_type": "stream",
     "text": [
      " 93%|█████████▎| 5189/5598 [1:58:44<05:56,  1.15it/s]"
     ]
    },
    {
     "name": "stdout",
     "output_type": "stream",
     "text": [
      "5533386    John Gorst (Hendon North MP)    John Michael Gorst\n"
     ]
    },
    {
     "name": "stderr",
     "output_type": "stream",
     "text": [
      " 93%|█████████▎| 5192/5598 [1:58:46<04:35,  1.48it/s]"
     ]
    },
    {
     "name": "stdout",
     "output_type": "stream",
     "text": [
      "10052\n"
     ]
    },
    {
     "name": "stderr",
     "output_type": "stream",
     "text": [
      " 93%|█████████▎| 5194/5598 [1:58:48<04:26,  1.52it/s]"
     ]
    },
    {
     "name": "stdout",
     "output_type": "stream",
     "text": [
      "423831    NATS Holdings    National Air Traffic Services\n"
     ]
    },
    {
     "name": "stderr",
     "output_type": "stream",
     "text": [
      " 93%|█████████▎| 5204/5598 [1:59:01<05:42,  1.15it/s]"
     ]
    },
    {
     "name": "stdout",
     "output_type": "stream",
     "text": [
      "1100754    Newmont Corporation    Newmont Mining Corporation\n"
     ]
    },
    {
     "name": "stderr",
     "output_type": "stream",
     "text": [
      " 93%|█████████▎| 5211/5598 [1:59:06<05:52,  1.10it/s]"
     ]
    },
    {
     "name": "stdout",
     "output_type": "stream",
     "text": [
      "906034    Doug Young (politician)    Doug Young\n"
     ]
    },
    {
     "name": "stderr",
     "output_type": "stream",
     "text": [
      " 93%|█████████▎| 5216/5598 [1:59:13<07:54,  1.24s/it]"
     ]
    },
    {
     "name": "stdout",
     "output_type": "stream",
     "text": [
      "20246549    Walikale Territory    Walikale\n"
     ]
    },
    {
     "name": "stderr",
     "output_type": "stream",
     "text": [
      " 93%|█████████▎| 5228/5598 [1:59:22<04:31,  1.36it/s]"
     ]
    },
    {
     "name": "stdout",
     "output_type": "stream",
     "text": [
      "44514    Mahikeng    Mafikeng\n"
     ]
    },
    {
     "name": "stderr",
     "output_type": "stream",
     "text": [
      " 93%|█████████▎| 5232/5598 [1:59:32<11:55,  1.96s/it]"
     ]
    },
    {
     "name": "stdout",
     "output_type": "stream",
     "text": [
      "7183054    Nornickel    MMC Norilsk Nickel\n"
     ]
    },
    {
     "name": "stderr",
     "output_type": "stream",
     "text": [
      " 94%|█████████▎| 5248/5598 [1:59:48<03:27,  1.69it/s]"
     ]
    },
    {
     "name": "stdout",
     "output_type": "stream",
     "text": [
      "224093    Tampico    Tampico, Tamaulipas\n"
     ]
    },
    {
     "name": "stderr",
     "output_type": "stream",
     "text": [
      " 94%|█████████▍| 5266/5598 [2:00:04<06:13,  1.12s/it]"
     ]
    },
    {
     "name": "stdout",
     "output_type": "stream",
     "text": [
      "7760633    Bill Jordan, Baron Jordan    William Jordan, Baron Jordan\n"
     ]
    },
    {
     "name": "stderr",
     "output_type": "stream",
     "text": [
      " 94%|█████████▍| 5273/5598 [2:00:13<05:37,  1.04s/it]"
     ]
    },
    {
     "name": "stdout",
     "output_type": "stream",
     "text": [
      "193064    The Nikkei    Nihon Keizai Shimbun\n"
     ]
    },
    {
     "name": "stderr",
     "output_type": "stream",
     "text": [
      " 94%|█████████▍| 5277/5598 [2:00:18<07:15,  1.36s/it]"
     ]
    },
    {
     "name": "stdout",
     "output_type": "stream",
     "text": [
      "4559718    Catholicity    Catholicism\n"
     ]
    },
    {
     "name": "stderr",
     "output_type": "stream",
     "text": [
      " 95%|█████████▍| 5295/5598 [2:00:44<05:45,  1.14s/it]"
     ]
    },
    {
     "name": "stdout",
     "output_type": "stream",
     "text": [
      "79289    German Shepherd    German Shepherd Dog\n"
     ]
    },
    {
     "name": "stderr",
     "output_type": "stream",
     "text": [
      " 95%|█████████▍| 5298/5598 [2:00:45<02:45,  1.81it/s]"
     ]
    },
    {
     "name": "stdout",
     "output_type": "stream",
     "text": [
      "2139688    Dobermann    Doberman Pinscher\n"
     ]
    },
    {
     "name": "stderr",
     "output_type": "stream",
     "text": [
      " 95%|█████████▍| 5316/5598 [2:01:09<03:44,  1.26it/s]"
     ]
    },
    {
     "name": "stdout",
     "output_type": "stream",
     "text": [
      "319038\n"
     ]
    },
    {
     "name": "stderr",
     "output_type": "stream",
     "text": [
      " 95%|█████████▌| 5335/5598 [2:01:39<06:19,  1.44s/it]"
     ]
    },
    {
     "name": "stdout",
     "output_type": "stream",
     "text": [
      "4649203    James Love (NGO director)    James Love\n"
     ]
    },
    {
     "name": "stderr",
     "output_type": "stream",
     "text": [
      "\r",
      " 95%|█████████▌| 5336/5598 [2:01:43<08:51,  2.03s/it]"
     ]
    },
    {
     "name": "stdout",
     "output_type": "stream",
     "text": [
      "67397    Ulaanbaatar    Ulan Bator\n"
     ]
    },
    {
     "name": "stderr",
     "output_type": "stream",
     "text": [
      " 96%|█████████▌| 5351/5598 [2:01:58<03:51,  1.07it/s]"
     ]
    },
    {
     "name": "stdout",
     "output_type": "stream",
     "text": [
      "5571242    Tony Marlow    Antony Marlow\n"
     ]
    },
    {
     "name": "stderr",
     "output_type": "stream",
     "text": [
      " 96%|█████████▌| 5362/5598 [2:02:16<08:11,  2.08s/it]"
     ]
    },
    {
     "name": "stdout",
     "output_type": "stream",
     "text": [
      "3112720    Radio and Television of Bosnia and Herzegovina    Radiotelevision of Bosnia-Herzegovina\n"
     ]
    },
    {
     "name": "stderr",
     "output_type": "stream",
     "text": [
      " 96%|█████████▌| 5370/5598 [2:02:25<03:53,  1.02s/it]"
     ]
    },
    {
     "name": "stdout",
     "output_type": "stream",
     "text": [
      "10948329    Wenhui Bao    Wen Hui Bao\n"
     ]
    },
    {
     "name": "stderr",
     "output_type": "stream",
     "text": [
      " 96%|█████████▌| 5372/5598 [2:02:26<02:13,  1.70it/s]"
     ]
    },
    {
     "name": "stdout",
     "output_type": "stream",
     "text": [
      "183525\n"
     ]
    },
    {
     "name": "stderr",
     "output_type": "stream",
     "text": [
      " 96%|█████████▌| 5382/5598 [2:02:38<05:17,  1.47s/it]"
     ]
    },
    {
     "name": "stdout",
     "output_type": "stream",
     "text": [
      "2395764    Tops Friendly Markets    Tops Markets LLC\n"
     ]
    },
    {
     "name": "stderr",
     "output_type": "stream",
     "text": [
      " 97%|█████████▋| 5406/5598 [2:02:58<02:29,  1.28it/s]"
     ]
    },
    {
     "name": "stdout",
     "output_type": "stream",
     "text": [
      "229059    Women's PGA Championship    LPGA Championship\n"
     ]
    },
    {
     "name": "stderr",
     "output_type": "stream",
     "text": [
      " 97%|█████████▋| 5437/5598 [2:03:36<01:49,  1.47it/s]"
     ]
    },
    {
     "name": "stdout",
     "output_type": "stream",
     "text": [
      "5800960    Altenberg, Saxony    Altenberg, Germany\n"
     ]
    },
    {
     "name": "stderr",
     "output_type": "stream",
     "text": [
      " 97%|█████████▋| 5447/5598 [2:03:42<01:31,  1.65it/s]"
     ]
    },
    {
     "name": "stdout",
     "output_type": "stream",
     "text": [
      "13187649    Dirk Wiese (bobsleigh)    Dirk Wiese\n"
     ]
    },
    {
     "name": "stderr",
     "output_type": "stream",
     "text": [
      " 98%|█████████▊| 5477/5598 [2:04:07<02:45,  1.37s/it]"
     ]
    },
    {
     "name": "stdout",
     "output_type": "stream",
     "text": [
      "4364061    ISU Speed Skating World Cup    Speed Skating World Cup\n"
     ]
    },
    {
     "name": "stderr",
     "output_type": "stream",
     "text": [
      " 98%|█████████▊| 5503/5598 [2:04:39<02:39,  1.68s/it]"
     ]
    },
    {
     "name": "stdout",
     "output_type": "stream",
     "text": [
      "406831    Matt Le Tissier    Matthew Le Tissier\n"
     ]
    },
    {
     "name": "stderr",
     "output_type": "stream",
     "text": [
      " 99%|█████████▊| 5521/5598 [2:05:02<01:59,  1.55s/it]"
     ]
    },
    {
     "name": "stdout",
     "output_type": "stream",
     "text": [
      "872781    Dragons (rugby union)    Newport Gwent Dragons\n"
     ]
    },
    {
     "name": "stderr",
     "output_type": "stream",
     "text": [
      " 99%|█████████▊| 5528/5598 [2:05:11<01:03,  1.09it/s]"
     ]
    },
    {
     "name": "stdout",
     "output_type": "stream",
     "text": [
      "3483682    Ian Ferguson (footballer, born 1967)    Ian Ferguson (footballer born 1967)\n"
     ]
    },
    {
     "name": "stderr",
     "output_type": "stream",
     "text": [
      " 99%|█████████▉| 5532/5598 [2:05:13<00:35,  1.86it/s]"
     ]
    },
    {
     "name": "stdout",
     "output_type": "stream",
     "text": [
      "1044419    Francois Pienaar    François Pienaar\n"
     ]
    },
    {
     "name": "stderr",
     "output_type": "stream",
     "text": [
      " 99%|█████████▉| 5538/5598 [2:05:23<01:36,  1.60s/it]"
     ]
    },
    {
     "name": "stdout",
     "output_type": "stream",
     "text": [
      "2575478    Michael Branch (footballer)    Michael Branch\n"
     ]
    },
    {
     "name": "stderr",
     "output_type": "stream",
     "text": [
      " 99%|█████████▉| 5557/5598 [2:05:37<00:33,  1.22it/s]"
     ]
    },
    {
     "name": "stdout",
     "output_type": "stream",
     "text": [
      "646709    Ashford United F.C.    Ashford Town F.C. (Kent)\n"
     ]
    },
    {
     "name": "stderr",
     "output_type": "stream",
     "text": [
      "100%|█████████▉| 5577/5598 [2:05:53<00:22,  1.08s/it]"
     ]
    },
    {
     "name": "stdout",
     "output_type": "stream",
     "text": [
      "3565374    Hwang Sun-hong    Hwang Sun-Hong\n"
     ]
    },
    {
     "name": "stderr",
     "output_type": "stream",
     "text": [
      "100%|█████████▉| 5583/5598 [2:06:03<00:28,  1.91s/it]"
     ]
    },
    {
     "name": "stdout",
     "output_type": "stream",
     "text": [
      "5834903    Hapoel Be'er Sheva F.C.    Hapoel Be'er Sheva A.F.C.\n"
     ]
    },
    {
     "name": "stderr",
     "output_type": "stream",
     "text": [
      "100%|█████████▉| 5587/5598 [2:06:09<00:16,  1.47s/it]"
     ]
    },
    {
     "name": "stdout",
     "output_type": "stream",
     "text": [
      "243389    Charlotte Hornets    Charlotte Bobcats\n"
     ]
    },
    {
     "name": "stderr",
     "output_type": "stream",
     "text": [
      "100%|██████████| 5598/5598 [2:06:20<00:00,  1.35s/it]\n"
     ]
    }
   ],
   "source": [
    "for str_id in tqdm(id2title):\n",
    "    if str_id in id2desc_cache:\n",
    "        continue\n",
    "    token_content = get_content_from_api(str_id, tokenizer)\n",
    "    id2desc_cache[str_id] = token_content"
   ]
  },
  {
   "cell_type": "code",
   "execution_count": 99,
   "metadata": {},
   "outputs": [],
   "source": [
    "# 'China', 'Taiwan', 'Frankfurt'"
   ]
  },
  {
   "cell_type": "code",
   "execution_count": 86,
   "metadata": {},
   "outputs": [],
   "source": [
    "with open('id2desc.json', 'w') as fout:\n",
    "    json.dump(id2desc_cache, fout)"
   ]
  },
  {
   "cell_type": "code",
   "execution_count": 92,
   "metadata": {},
   "outputs": [
    {
     "name": "stdout",
     "output_type": "stream",
     "text": [
      "83\n"
     ]
    }
   ],
   "source": [
    "sum_none = 0\n",
    "for key in id2desc_cache:\n",
    "    if id2desc_cache[key] is None:\n",
    "        sum_none += 1\n",
    "\n",
    "print(sum_none)"
   ]
  },
  {
   "cell_type": "code",
   "execution_count": 96,
   "metadata": {},
   "outputs": [],
   "source": [
    "def process_data_wiki_content(filename, id2desc, debug=False):\n",
    "    \"\"\"\n",
    "     Input: AIDA-YAGO2-dataset.tsv, columns: token, B_I tag, mention, YAGO2 entity, wiki url, wiki id \n",
    "     Output: processed dictionary of document, context of labels from first 128 tokens of wikipedia content\n",
    "    \"\"\"\n",
    "    processed = {}\n",
    "\n",
    "    open_entity = False\n",
    "\n",
    "    with open(filename) as fin:\n",
    "        lines = fin.readlines()\n",
    "        if debug:\n",
    "            lines = lines[:100]\n",
    "\n",
    "        for line in tqdm(lines):\n",
    "            if '-DOCSTART-' in line:\n",
    "                # check end of entity (last sentence of doc)\n",
    "                if open_entity:\n",
    "                    processed[doc_id]['end_idxs'][-1] = 1\n",
    "                    open_entity = False\n",
    "                \n",
    "                # new document\n",
    "                doc_id = line.split(\"(\")[-1][:-2]\n",
    "                processed[doc_id] = {\n",
    "                    'doc_id': doc_id,\n",
    "                    'text': [],\n",
    "                    'mentions': [],\n",
    "                    'start_idxs': [],\n",
    "                    'end_idxs': [],\n",
    "                    'wiki_ids': [],\n",
    "                    'wiki_titles': [],\n",
    "                    'wiki_contexts': []\n",
    "                }\n",
    "            else:\n",
    "                split = line.split('\\t')\n",
    "                token = split[0].strip()\n",
    "\n",
    "                if len(token)==0: # space are eliminated\n",
    "                    continue\n",
    "\n",
    "                processed[doc_id]['text'] += [token]\n",
    "\n",
    "                if len(split)>=5:\n",
    "                    B_I = split[1]\n",
    "                    mention = split[2]\n",
    "                    wiki_url = split[4]\n",
    "                    wiki_id = split[5].split('\\n')[0]\n",
    "\n",
    "                    if B_I == 'I':\n",
    "                        processed[doc_id]['start_idxs'] += [0]\n",
    "                        processed[doc_id]['end_idxs'] += [0]\n",
    "                    elif B_I == 'B':\n",
    "                        # check for consecutive mentions, such as B I B\n",
    "                        if open_entity:\n",
    "                            processed[doc_id]['end_idxs'][-1] = 1\n",
    "                            open_entity = False\n",
    "                        \n",
    "                        # check for entity returned None for wikipedia content\n",
    "                        # ignore this mention\n",
    "                        if id2desc[wiki_id] is None:\n",
    "                            processed[doc_id]['start_idxs'] += [0]\n",
    "                            processed[doc_id]['end_idxs'] += [0]\n",
    "                        else:\n",
    "                            wiki_title = wiki_url.split('/')[-1].replace('_', ' ')\n",
    "                            if wiki_id == '000':\n",
    "                                if wiki_url in url2id_cache:\n",
    "                                    wiki_id = urlid_cache[wiki_url]\n",
    "                                else:\n",
    "                                    wiki_id = _get_pageid_from_api(wiki_title)\n",
    "                                    urlid_cache[wiki_url] = wiki_id\n",
    "                            wiki_context = id2desc[wiki_id]\n",
    "                            q = processed[doc_id]\n",
    "                            q['mentions'] += [mention]\n",
    "                            q['start_idxs'] += [1]\n",
    "                            q['end_idxs'] += [0]\n",
    "                            q['wiki_ids'] += [wiki_id]\n",
    "                            q['wiki_titles'] += [wiki_title]\n",
    "                            q['wiki_contexts'] += [wiki_context]\n",
    "                            processed[doc_id] = q\n",
    "                            open_entity = True\n",
    "                    else:\n",
    "                        print('Invalid B_I {}'.format(B_I))\n",
    "                        sys.exit(-1)\n",
    "                else:\n",
    "                    if open_entity:\n",
    "                        processed[doc_id]['end_idxs'][-1] = 1\n",
    "                        open_entity = False\n",
    "                    processed[doc_id]['start_idxs'] += [0]\n",
    "                    processed[doc_id]['end_idxs'] += [0]\n",
    "#     # final sentence\n",
    "#     if open_entity:\n",
    "#         processed[doc_id]['end_idxs'][-1] = 1\n",
    "#         open_entity = False\n",
    "\n",
    "    return processed\n",
    "            "
   ]
  },
  {
   "cell_type": "code",
   "execution_count": 97,
   "metadata": {},
   "outputs": [
    {
     "name": "stderr",
     "output_type": "stream",
     "text": [
      "100%|██████████| 323395/323395 [00:05<00:00, 56623.98it/s] \n"
     ]
    }
   ],
   "source": [
    "filename = 'AIDA-YAGO2-dataset.tsv'\n",
    "processed_aida = process_data_wiki_content(filename, id2desc_cache)"
   ]
  },
  {
   "cell_type": "code",
   "execution_count": 98,
   "metadata": {},
   "outputs": [
    {
     "name": "stderr",
     "output_type": "stream",
     "text": [
      "100%|██████████| 1393/1393 [00:00<00:00, 126063.51it/s]\n"
     ]
    }
   ],
   "source": [
    "# sanity check of processed data\n",
    "for key, d in tqdm(processed_aida.items()):\n",
    "    try:\n",
    "        assert len(d['text'])==len(d['start_idxs'])\n",
    "        assert len(d['start_idxs'])==len(d['end_idxs'])\n",
    "        assert len(d['mentions'])==sum(d['start_idxs'])\n",
    "        assert len(d['mentions'])==sum(d['end_idxs'])\n",
    "        assert len(d['wiki_ids'])==len(d['mentions'])\n",
    "        assert len(d['wiki_titles'])==len(d['wiki_ids'])\n",
    "        assert len(d['wiki_ids'])==len(d['wiki_contexts'])\n",
    "    except:\n",
    "        print(key)"
   ]
  },
  {
   "cell_type": "code",
   "execution_count": 100,
   "metadata": {},
   "outputs": [
    {
     "name": "stderr",
     "output_type": "stream",
     "text": [
      "100%|██████████| 1393/1393 [00:00<00:00, 312826.76it/s]"
     ]
    },
    {
     "name": "stdout",
     "output_type": "stream",
     "text": [
      "train: 946\n",
      "testa: 216\n",
      "testb: 231\n"
     ]
    },
    {
     "name": "stderr",
     "output_type": "stream",
     "text": [
      "\n"
     ]
    }
   ],
   "source": [
    "train = []\n",
    "testa = []\n",
    "testb = []\n",
    "\n",
    "for key, q in tqdm(processed_aida.items()):\n",
    "    if 'testa' in key:\n",
    "        testa.append(q)\n",
    "    elif 'testb' in key:\n",
    "        testb.append(q)\n",
    "    else:\n",
    "        train.append(q)\n",
    "\n",
    "print(\"train: {}\".format(len(train)))\n",
    "print(\"testa: {}\".format(len(testa)))\n",
    "print(\"testb: {}\".format(len(testb)))"
   ]
  },
  {
   "cell_type": "code",
   "execution_count": 101,
   "metadata": {},
   "outputs": [
    {
     "name": "stdout",
     "output_type": "stream",
     "text": [
      "215.24418604651163 237.78703703703704 201.017316017316\n"
     ]
    }
   ],
   "source": [
    "def mean(l):\n",
    "    return sum(l)/len(l)\n",
    "\n",
    "avg_token_train = mean([len(item['text']) for item in train])\n",
    "avg_token_testa = mean([len(item['text']) for item in testa])\n",
    "avg_token_testb = mean([len(item['text']) for item in testb])\n",
    "\n",
    "print(avg_token_train, avg_token_testa, avg_token_testb)"
   ]
  },
  {
   "cell_type": "code",
   "execution_count": 102,
   "metadata": {},
   "outputs": [],
   "source": [
    "def add_mention_ranges(items):\n",
    "    for item in tqdm(items):\n",
    "        start_position = [i for i in range(len(item['start_idxs'])) if item['start_idxs'][i]==1]\n",
    "        end_position = [i for i in range(len(item['end_idxs'])) if item['end_idxs'][i]==1]\n",
    "        assert len(start_position)==len(end_position)\n",
    "        span_position = [[start_position[i], end_position[i]] for i in range(len(start_position))]\n",
    "        item['start_position'] = start_position\n",
    "        item['end_position'] = end_position\n",
    "        item['span_position'] = span_position\n",
    "    return items"
   ]
  },
  {
   "cell_type": "code",
   "execution_count": 103,
   "metadata": {},
   "outputs": [
    {
     "name": "stderr",
     "output_type": "stream",
     "text": [
      "100%|██████████| 946/946 [00:00<00:00, 9556.71it/s]\n"
     ]
    }
   ],
   "source": [
    "train = add_mention_ranges(train)"
   ]
  },
  {
   "cell_type": "code",
   "execution_count": 104,
   "metadata": {},
   "outputs": [
    {
     "name": "stderr",
     "output_type": "stream",
     "text": [
      "100%|██████████| 216/216 [00:00<00:00, 15476.34it/s]\n",
      "100%|██████████| 231/231 [00:00<00:00, 21717.04it/s]\n"
     ]
    }
   ],
   "source": [
    "dev = add_mention_ranges(testa)\n",
    "test = add_mention_ranges(testb)"
   ]
  },
  {
   "cell_type": "code",
   "execution_count": 105,
   "metadata": {},
   "outputs": [],
   "source": [
    "fpath = 'AIDA-YAGO2-wiki_content'\n",
    "\n",
    "fname = os.path.join(fpath, 'train.json')\n",
    "with open(fname, 'w') as fout:\n",
    "    json.dump(train, fout)\n",
    "\n",
    "fname = os.path.join(fpath, 'dev.json')\n",
    "with open(fname, 'w') as fout:\n",
    "    json.dump(dev, fout)\n",
    "\n",
    "fname = os.path.join(fpath, 'test.json')\n",
    "with open(fname, 'w') as fout:\n",
    "    json.dump(test, fout)"
   ]
  },
  {
   "cell_type": "code",
   "execution_count": null,
   "metadata": {},
   "outputs": [],
   "source": []
  },
  {
   "cell_type": "code",
   "execution_count": null,
   "metadata": {},
   "outputs": [],
   "source": []
  },
  {
   "cell_type": "code",
   "execution_count": null,
   "metadata": {},
   "outputs": [],
   "source": []
  },
  {
   "cell_type": "code",
   "execution_count": null,
   "metadata": {},
   "outputs": [],
   "source": []
  },
  {
   "cell_type": "markdown",
   "metadata": {},
   "source": [
    "## Data with en_description from Kensho wiki data"
   ]
  },
  {
   "cell_type": "code",
   "execution_count": 7,
   "metadata": {},
   "outputs": [
    {
     "data": {
      "text/html": [
       "<div>\n",
       "<style scoped>\n",
       "    .dataframe tbody tr th:only-of-type {\n",
       "        vertical-align: middle;\n",
       "    }\n",
       "\n",
       "    .dataframe tbody tr th {\n",
       "        vertical-align: top;\n",
       "    }\n",
       "\n",
       "    .dataframe thead th {\n",
       "        text-align: right;\n",
       "    }\n",
       "</style>\n",
       "<table border=\"1\" class=\"dataframe\">\n",
       "  <thead>\n",
       "    <tr style=\"text-align: right;\">\n",
       "      <th></th>\n",
       "      <th>Unnamed: 0</th>\n",
       "      <th>page_id</th>\n",
       "      <th>item_id</th>\n",
       "      <th>title</th>\n",
       "      <th>views</th>\n",
       "      <th>en_label</th>\n",
       "      <th>en_description</th>\n",
       "    </tr>\n",
       "  </thead>\n",
       "  <tbody>\n",
       "    <tr>\n",
       "      <th>0</th>\n",
       "      <td>0</td>\n",
       "      <td>12</td>\n",
       "      <td>6199</td>\n",
       "      <td>Anarchism</td>\n",
       "      <td>31335</td>\n",
       "      <td>anarchism</td>\n",
       "      <td>political ideology that holds all government –...</td>\n",
       "    </tr>\n",
       "    <tr>\n",
       "      <th>1</th>\n",
       "      <td>1</td>\n",
       "      <td>25</td>\n",
       "      <td>38404</td>\n",
       "      <td>Autism</td>\n",
       "      <td>49693</td>\n",
       "      <td>autism</td>\n",
       "      <td>neurodevelopmental condition</td>\n",
       "    </tr>\n",
       "    <tr>\n",
       "      <th>2</th>\n",
       "      <td>2</td>\n",
       "      <td>39</td>\n",
       "      <td>101038</td>\n",
       "      <td>Albedo</td>\n",
       "      <td>14573</td>\n",
       "      <td>albedo</td>\n",
       "      <td>ratio of reflected radiation to incident radia...</td>\n",
       "    </tr>\n",
       "    <tr>\n",
       "      <th>3</th>\n",
       "      <td>3</td>\n",
       "      <td>290</td>\n",
       "      <td>9659</td>\n",
       "      <td>A</td>\n",
       "      <td>25859</td>\n",
       "      <td>A</td>\n",
       "      <td>letter of the Latin alphabet</td>\n",
       "    </tr>\n",
       "    <tr>\n",
       "      <th>4</th>\n",
       "      <td>4</td>\n",
       "      <td>303</td>\n",
       "      <td>173</td>\n",
       "      <td>Alabama</td>\n",
       "      <td>52765</td>\n",
       "      <td>Alabama</td>\n",
       "      <td>state of the United States of America</td>\n",
       "    </tr>\n",
       "    <tr>\n",
       "      <th>...</th>\n",
       "      <td>...</td>\n",
       "      <td>...</td>\n",
       "      <td>...</td>\n",
       "      <td>...</td>\n",
       "      <td>...</td>\n",
       "      <td>...</td>\n",
       "      <td>...</td>\n",
       "    </tr>\n",
       "    <tr>\n",
       "      <th>5362169</th>\n",
       "      <td>5362169</td>\n",
       "      <td>62470350</td>\n",
       "      <td>76894635</td>\n",
       "      <td>Daming Zhu</td>\n",
       "      <td>16</td>\n",
       "      <td>Daming Zhu</td>\n",
       "      <td>NaN</td>\n",
       "    </tr>\n",
       "    <tr>\n",
       "      <th>5362170</th>\n",
       "      <td>5362170</td>\n",
       "      <td>62470423</td>\n",
       "      <td>76894633</td>\n",
       "      <td>Tony Dews</td>\n",
       "      <td>7</td>\n",
       "      <td>Tony Dews</td>\n",
       "      <td>American football coach</td>\n",
       "    </tr>\n",
       "    <tr>\n",
       "      <th>5362171</th>\n",
       "      <td>5362171</td>\n",
       "      <td>62470432</td>\n",
       "      <td>76896959</td>\n",
       "      <td>Samsung PL20</td>\n",
       "      <td>9</td>\n",
       "      <td>Samsung PL20</td>\n",
       "      <td>NaN</td>\n",
       "    </tr>\n",
       "    <tr>\n",
       "      <th>5362172</th>\n",
       "      <td>5362172</td>\n",
       "      <td>62470465</td>\n",
       "      <td>6034153</td>\n",
       "      <td>Nils-Fredrik Palmstierna</td>\n",
       "      <td>8</td>\n",
       "      <td>Nils-Fredrik Palmstierna</td>\n",
       "      <td>NaN</td>\n",
       "    </tr>\n",
       "    <tr>\n",
       "      <th>5362173</th>\n",
       "      <td>5362173</td>\n",
       "      <td>62473330</td>\n",
       "      <td>21083961</td>\n",
       "      <td>Shibuya Crossing</td>\n",
       "      <td>68</td>\n",
       "      <td>Shibuya scramble crossing</td>\n",
       "      <td>scramble crossing in Tokyo, Japan</td>\n",
       "    </tr>\n",
       "  </tbody>\n",
       "</table>\n",
       "<p>5362174 rows × 7 columns</p>\n",
       "</div>"
      ],
      "text/plain": [
       "         Unnamed: 0   page_id   item_id                     title  views  \\\n",
       "0                 0        12      6199                 Anarchism  31335   \n",
       "1                 1        25     38404                    Autism  49693   \n",
       "2                 2        39    101038                    Albedo  14573   \n",
       "3                 3       290      9659                         A  25859   \n",
       "4                 4       303       173                   Alabama  52765   \n",
       "...             ...       ...       ...                       ...    ...   \n",
       "5362169     5362169  62470350  76894635                Daming Zhu     16   \n",
       "5362170     5362170  62470423  76894633                 Tony Dews      7   \n",
       "5362171     5362171  62470432  76896959              Samsung PL20      9   \n",
       "5362172     5362172  62470465   6034153  Nils-Fredrik Palmstierna      8   \n",
       "5362173     5362173  62473330  21083961          Shibuya Crossing     68   \n",
       "\n",
       "                          en_label  \\\n",
       "0                        anarchism   \n",
       "1                           autism   \n",
       "2                           albedo   \n",
       "3                                A   \n",
       "4                          Alabama   \n",
       "...                            ...   \n",
       "5362169                 Daming Zhu   \n",
       "5362170                  Tony Dews   \n",
       "5362171               Samsung PL20   \n",
       "5362172   Nils-Fredrik Palmstierna   \n",
       "5362173  Shibuya scramble crossing   \n",
       "\n",
       "                                            en_description  \n",
       "0        political ideology that holds all government –...  \n",
       "1                             neurodevelopmental condition  \n",
       "2        ratio of reflected radiation to incident radia...  \n",
       "3                             letter of the Latin alphabet  \n",
       "4                    state of the United States of America  \n",
       "...                                                    ...  \n",
       "5362169                                                NaN  \n",
       "5362170                            American football coach  \n",
       "5362171                                                NaN  \n",
       "5362172                                                NaN  \n",
       "5362173                  scramble crossing in Tokyo, Japan  \n",
       "\n",
       "[5362174 rows x 7 columns]"
      ]
     },
     "execution_count": 7,
     "metadata": {},
     "output_type": "execute_result"
    }
   ],
   "source": [
    "# import wiki knowledge (en_description)\n",
    "all_df = pd.read_csv('wiki/all_df.csv')\n",
    "all_df"
   ]
  },
  {
   "cell_type": "code",
   "execution_count": 11,
   "metadata": {},
   "outputs": [
    {
     "data": {
      "text/plain": [
       "array([      12,       25,       39, ..., 62470432, 62470465, 62473330])"
      ]
     },
     "execution_count": 11,
     "metadata": {},
     "output_type": "execute_result"
    }
   ],
   "source": [
    "page_ids = all_df.page_id.values\n",
    "page_ids"
   ]
  },
  {
   "cell_type": "code",
   "execution_count": 18,
   "metadata": {},
   "outputs": [
    {
     "data": {
      "text/html": [
       "<div>\n",
       "<style scoped>\n",
       "    .dataframe tbody tr th:only-of-type {\n",
       "        vertical-align: middle;\n",
       "    }\n",
       "\n",
       "    .dataframe tbody tr th {\n",
       "        vertical-align: top;\n",
       "    }\n",
       "\n",
       "    .dataframe thead th {\n",
       "        text-align: right;\n",
       "    }\n",
       "</style>\n",
       "<table border=\"1\" class=\"dataframe\">\n",
       "  <thead>\n",
       "    <tr style=\"text-align: right;\">\n",
       "      <th></th>\n",
       "      <th>Unnamed: 0</th>\n",
       "      <th>page_id</th>\n",
       "      <th>item_id</th>\n",
       "      <th>title</th>\n",
       "      <th>views</th>\n",
       "      <th>en_label</th>\n",
       "      <th>en_description</th>\n",
       "    </tr>\n",
       "  </thead>\n",
       "  <tbody>\n",
       "    <tr>\n",
       "      <th>0</th>\n",
       "      <td>0</td>\n",
       "      <td>12</td>\n",
       "      <td>6199</td>\n",
       "      <td>Anarchism</td>\n",
       "      <td>31335</td>\n",
       "      <td>anarchism</td>\n",
       "      <td>political ideology that holds all government –...</td>\n",
       "    </tr>\n",
       "    <tr>\n",
       "      <th>1</th>\n",
       "      <td>1</td>\n",
       "      <td>25</td>\n",
       "      <td>38404</td>\n",
       "      <td>Autism</td>\n",
       "      <td>49693</td>\n",
       "      <td>autism</td>\n",
       "      <td>neurodevelopmental condition</td>\n",
       "    </tr>\n",
       "    <tr>\n",
       "      <th>2</th>\n",
       "      <td>2</td>\n",
       "      <td>39</td>\n",
       "      <td>101038</td>\n",
       "      <td>Albedo</td>\n",
       "      <td>14573</td>\n",
       "      <td>albedo</td>\n",
       "      <td>ratio of reflected radiation to incident radia...</td>\n",
       "    </tr>\n",
       "    <tr>\n",
       "      <th>3</th>\n",
       "      <td>3</td>\n",
       "      <td>290</td>\n",
       "      <td>9659</td>\n",
       "      <td>A</td>\n",
       "      <td>25859</td>\n",
       "      <td>A</td>\n",
       "      <td>letter of the Latin alphabet</td>\n",
       "    </tr>\n",
       "    <tr>\n",
       "      <th>4</th>\n",
       "      <td>4</td>\n",
       "      <td>303</td>\n",
       "      <td>173</td>\n",
       "      <td>Alabama</td>\n",
       "      <td>52765</td>\n",
       "      <td>Alabama</td>\n",
       "      <td>state of the United States of America</td>\n",
       "    </tr>\n",
       "    <tr>\n",
       "      <th>...</th>\n",
       "      <td>...</td>\n",
       "      <td>...</td>\n",
       "      <td>...</td>\n",
       "      <td>...</td>\n",
       "      <td>...</td>\n",
       "      <td>...</td>\n",
       "      <td>...</td>\n",
       "    </tr>\n",
       "    <tr>\n",
       "      <th>5362162</th>\n",
       "      <td>5362162</td>\n",
       "      <td>62470001</td>\n",
       "      <td>54862857</td>\n",
       "      <td>James Daniel Collins</td>\n",
       "      <td>6</td>\n",
       "      <td>James Daniel Collins</td>\n",
       "      <td>1917-1985</td>\n",
       "    </tr>\n",
       "    <tr>\n",
       "      <th>5362164</th>\n",
       "      <td>5362164</td>\n",
       "      <td>62470047</td>\n",
       "      <td>76852005</td>\n",
       "      <td>Tie Vapauteen (album)</td>\n",
       "      <td>12</td>\n",
       "      <td>Tie vapauteen</td>\n",
       "      <td>album by Paleface &amp; Laulava unioni</td>\n",
       "    </tr>\n",
       "    <tr>\n",
       "      <th>5362165</th>\n",
       "      <td>5362165</td>\n",
       "      <td>62470119</td>\n",
       "      <td>76891681</td>\n",
       "      <td>Sumner Heights and Hazelwood Valley Railroad</td>\n",
       "      <td>16</td>\n",
       "      <td>Sumner Heights and Hazelwood Valley Railroad</td>\n",
       "      <td>minimum gauge railway near Boston</td>\n",
       "    </tr>\n",
       "    <tr>\n",
       "      <th>5362170</th>\n",
       "      <td>5362170</td>\n",
       "      <td>62470423</td>\n",
       "      <td>76894633</td>\n",
       "      <td>Tony Dews</td>\n",
       "      <td>7</td>\n",
       "      <td>Tony Dews</td>\n",
       "      <td>American football coach</td>\n",
       "    </tr>\n",
       "    <tr>\n",
       "      <th>5362173</th>\n",
       "      <td>5362173</td>\n",
       "      <td>62473330</td>\n",
       "      <td>21083961</td>\n",
       "      <td>Shibuya Crossing</td>\n",
       "      <td>68</td>\n",
       "      <td>Shibuya scramble crossing</td>\n",
       "      <td>scramble crossing in Tokyo, Japan</td>\n",
       "    </tr>\n",
       "  </tbody>\n",
       "</table>\n",
       "<p>3870218 rows × 7 columns</p>\n",
       "</div>"
      ],
      "text/plain": [
       "         Unnamed: 0   page_id   item_id  \\\n",
       "0                 0        12      6199   \n",
       "1                 1        25     38404   \n",
       "2                 2        39    101038   \n",
       "3                 3       290      9659   \n",
       "4                 4       303       173   \n",
       "...             ...       ...       ...   \n",
       "5362162     5362162  62470001  54862857   \n",
       "5362164     5362164  62470047  76852005   \n",
       "5362165     5362165  62470119  76891681   \n",
       "5362170     5362170  62470423  76894633   \n",
       "5362173     5362173  62473330  21083961   \n",
       "\n",
       "                                                title  views  \\\n",
       "0                                           Anarchism  31335   \n",
       "1                                              Autism  49693   \n",
       "2                                              Albedo  14573   \n",
       "3                                                   A  25859   \n",
       "4                                             Alabama  52765   \n",
       "...                                               ...    ...   \n",
       "5362162                          James Daniel Collins      6   \n",
       "5362164                         Tie Vapauteen (album)     12   \n",
       "5362165  Sumner Heights and Hazelwood Valley Railroad     16   \n",
       "5362170                                     Tony Dews      7   \n",
       "5362173                              Shibuya Crossing     68   \n",
       "\n",
       "                                             en_label  \\\n",
       "0                                           anarchism   \n",
       "1                                              autism   \n",
       "2                                              albedo   \n",
       "3                                                   A   \n",
       "4                                             Alabama   \n",
       "...                                               ...   \n",
       "5362162                          James Daniel Collins   \n",
       "5362164                                 Tie vapauteen   \n",
       "5362165  Sumner Heights and Hazelwood Valley Railroad   \n",
       "5362170                                     Tony Dews   \n",
       "5362173                     Shibuya scramble crossing   \n",
       "\n",
       "                                            en_description  \n",
       "0        political ideology that holds all government –...  \n",
       "1                             neurodevelopmental condition  \n",
       "2        ratio of reflected radiation to incident radia...  \n",
       "3                             letter of the Latin alphabet  \n",
       "4                    state of the United States of America  \n",
       "...                                                    ...  \n",
       "5362162                                          1917-1985  \n",
       "5362164                 album by Paleface & Laulava unioni  \n",
       "5362165                  minimum gauge railway near Boston  \n",
       "5362170                            American football coach  \n",
       "5362173                  scramble crossing in Tokyo, Japan  \n",
       "\n",
       "[3870218 rows x 7 columns]"
      ]
     },
     "execution_count": 18,
     "metadata": {},
     "output_type": "execute_result"
    }
   ],
   "source": [
    "all_df_no_na = all_df.dropna(subset=['en_description'])\n",
    "all_df_no_na"
   ]
  },
  {
   "cell_type": "code",
   "execution_count": 16,
   "metadata": {},
   "outputs": [
    {
     "data": {
      "text/plain": [
       "'neurodevelopmental condition'"
      ]
     },
     "execution_count": 16,
     "metadata": {},
     "output_type": "execute_result"
    }
   ],
   "source": [
    "all_df.loc[all_df.page_id==25]['en_description'].values[0]"
   ]
  },
  {
   "cell_type": "code",
   "execution_count": 17,
   "metadata": {},
   "outputs": [
    {
     "data": {
      "text/plain": [
       "1491956"
      ]
     },
     "execution_count": 17,
     "metadata": {},
     "output_type": "execute_result"
    }
   ],
   "source": [
    "sum(pd.isna(all_df['en_description']))"
   ]
  },
  {
   "cell_type": "markdown",
   "metadata": {},
   "source": [
    "## todo:\n",
    "### for single word mention, would start idx and end idx the same?\n",
    "\n",
    "#### currently: the same"
   ]
  },
  {
   "cell_type": "code",
   "execution_count": 47,
   "metadata": {},
   "outputs": [],
   "source": [
    "def process_data_en_description(filename, all_df, debug=False):\n",
    "    \"\"\"\n",
    "     Input: AIDA-YAGO2-dataset.tsv, columns: token, B_I tag, mention, YAGO2 entity, wiki url, wiki id \n",
    "     Output: processed dictionary of document, context of labels from en_description\n",
    "    \"\"\"\n",
    "    processed = {}\n",
    "\n",
    "    open_entity = False\n",
    "    \n",
    "    # all_df: no N/A value in en_description\n",
    "    page_ids = all_df.page_id.values\n",
    "\n",
    "    with open(filename) as fin:\n",
    "        lines = fin.readlines()\n",
    "        if debug:\n",
    "            lines = lines[:100]\n",
    "\n",
    "        for line in tqdm(lines):\n",
    "            if '-DOCSTART-' in line:\n",
    "                # check end of entity (last sentence of doc)\n",
    "                if open_entity:\n",
    "                    processed[doc_id]['end_idxs'][-1] = 1\n",
    "                    open_entity = False\n",
    "                \n",
    "                # new document\n",
    "                doc_id = line.split(\"(\")[-1][:-2]\n",
    "                processed[doc_id] = {\n",
    "                    'doc_id': doc_id,\n",
    "                    'text': [],\n",
    "                    'mentions': [],\n",
    "                    'start_idxs': [],\n",
    "                    'end_idxs': [],\n",
    "                    'wiki_ids': [],\n",
    "                    'wiki_titles': [],\n",
    "                    'wiki_contexts': []\n",
    "                }\n",
    "            else:\n",
    "                split = line.split('\\t')\n",
    "                token = split[0].strip()\n",
    "\n",
    "                if len(token)==0: # space are eliminated\n",
    "                    continue\n",
    "\n",
    "                processed[doc_id]['text'] += [token]\n",
    "\n",
    "                if len(split)>=5:\n",
    "                    B_I = split[1]\n",
    "                    mention = split[2]\n",
    "                    wiki_url = split[4]\n",
    "                    wiki_id = int(split[5].split('\\n')[0])\n",
    "\n",
    "                    if B_I == 'I':\n",
    "                        processed[doc_id]['start_idxs'] += [0]\n",
    "                        processed[doc_id]['end_idxs'] += [0]\n",
    "                    elif B_I == 'B':\n",
    "                        # check for consecutive mentions, such as B I B\n",
    "                        if open_entity:\n",
    "                            processed[doc_id]['end_idxs'][-1] = 1\n",
    "                            open_entity = False\n",
    "                        \n",
    "                        # check for entity not in Kensho wiki knowledge base\n",
    "                        # ignore this mention\n",
    "                        if wiki_id not in page_ids:\n",
    "                            processed[doc_id]['start_idxs'] += [0]\n",
    "                            processed[doc_id]['end_idxs'] += [0]\n",
    "                        else:\n",
    "                            wiki_title = wiki_url.split('/')[-1].replace('_', ' ')\n",
    "                            if str(wiki_id) == '000':\n",
    "                                if wiki_url in url2id_cache:\n",
    "                                    wiki_id = urlid_cache[wiki_url]\n",
    "                                else:\n",
    "                                    wiki_id = _get_pageid_from_api(wiki_title)\n",
    "                                    urlid_cache[wiki_url] = wiki_id\n",
    "                            wiki_context = all_df.loc[all_df.page_id==wiki_id]['en_description'].values[0]\n",
    "                            q = processed[doc_id]\n",
    "                            q['mentions'] += [mention]\n",
    "                            q['start_idxs'] += [1]\n",
    "                            q['end_idxs'] += [0]\n",
    "                            q['wiki_ids'] += [wiki_id]\n",
    "                            q['wiki_titles'] += [wiki_title]\n",
    "                            q['wiki_contexts'] += [wiki_context]\n",
    "                            processed[doc_id] = q\n",
    "                            open_entity = True\n",
    "                    else:\n",
    "                        print('Invalid B_I {}'.format(B_I))\n",
    "                        sys.exit(-1)\n",
    "                else:\n",
    "                    if open_entity:\n",
    "                        processed[doc_id]['end_idxs'][-1] = 1\n",
    "                        open_entity = False\n",
    "                    processed[doc_id]['start_idxs'] += [0]\n",
    "                    processed[doc_id]['end_idxs'] += [0]\n",
    "#     # final sentence\n",
    "#     if open_entity:\n",
    "#         processed[doc_id]['end_idxs'][-1] = 1\n",
    "#         open_entity = False\n",
    "\n",
    "    return processed\n",
    "            "
   ]
  },
  {
   "cell_type": "code",
   "execution_count": 48,
   "metadata": {},
   "outputs": [
    {
     "name": "stderr",
     "output_type": "stream",
     "text": [
      "100%|██████████| 323395/323395 [04:05<00:00, 1316.89it/s]\n"
     ]
    }
   ],
   "source": [
    "filename = 'AIDA-YAGO2-dataset.tsv'\n",
    "#processed_aida = process_data(filename, debug=True)\n",
    "#processed_aida = process_data(filename)\n",
    "processed_aida = process_data_en_description(filename, all_df_no_na)"
   ]
  },
  {
   "cell_type": "code",
   "execution_count": 49,
   "metadata": {},
   "outputs": [
    {
     "name": "stderr",
     "output_type": "stream",
     "text": [
      "100%|██████████| 1393/1393 [00:00<00:00, 56534.45it/s]\n"
     ]
    }
   ],
   "source": [
    "# sanity check of processed data\n",
    "for key, d in tqdm(processed_aida.items()):\n",
    "    try:\n",
    "        assert len(d['text'])==len(d['start_idxs'])\n",
    "        assert len(d['start_idxs'])==len(d['end_idxs'])\n",
    "        assert len(d['mentions'])==sum(d['start_idxs'])\n",
    "        assert len(d['mentions'])==sum(d['end_idxs'])\n",
    "        assert len(d['wiki_ids'])==len(d['mentions'])\n",
    "        assert len(d['wiki_titles'])==len(d['wiki_ids'])\n",
    "        assert len(d['wiki_ids'])==len(d['wiki_contexts'])\n",
    "    except:\n",
    "        print(key)"
   ]
  },
  {
   "cell_type": "code",
   "execution_count": 50,
   "metadata": {},
   "outputs": [
    {
     "name": "stderr",
     "output_type": "stream",
     "text": [
      "100%|██████████| 1393/1393 [00:00<00:00, 269123.24it/s]"
     ]
    },
    {
     "name": "stdout",
     "output_type": "stream",
     "text": [
      "train: 946\n",
      "testa: 216\n",
      "testb: 231\n"
     ]
    },
    {
     "name": "stderr",
     "output_type": "stream",
     "text": [
      "\n"
     ]
    }
   ],
   "source": [
    "train = []\n",
    "testa = []\n",
    "testb = []\n",
    "\n",
    "for key, q in tqdm(processed_aida.items()):\n",
    "    if 'testa' in key:\n",
    "        testa.append(q)\n",
    "    elif 'testb' in key:\n",
    "        testb.append(q)\n",
    "    else:\n",
    "        train.append(q)\n",
    "\n",
    "print(\"train: {}\".format(len(train)))\n",
    "print(\"testa: {}\".format(len(testa)))\n",
    "print(\"testb: {}\".format(len(testb)))"
   ]
  },
  {
   "cell_type": "code",
   "execution_count": 51,
   "metadata": {},
   "outputs": [],
   "source": [
    "def mean(l):\n",
    "    return sum(l)/len(l)"
   ]
  },
  {
   "cell_type": "code",
   "execution_count": 52,
   "metadata": {},
   "outputs": [],
   "source": [
    "avg_token_train = mean([len(item['text']) for item in train])\n",
    "avg_token_testa = mean([len(item['text']) for item in testa])\n",
    "avg_token_testb = mean([len(item['text']) for item in testb])"
   ]
  },
  {
   "cell_type": "code",
   "execution_count": 53,
   "metadata": {},
   "outputs": [
    {
     "name": "stdout",
     "output_type": "stream",
     "text": [
      "215.24418604651163 237.78703703703704 201.017316017316\n"
     ]
    }
   ],
   "source": [
    "print(avg_token_train, avg_token_testa, avg_token_testb)"
   ]
  },
  {
   "cell_type": "code",
   "execution_count": 54,
   "metadata": {},
   "outputs": [],
   "source": [
    "def add_mention_ranges(items):\n",
    "    for item in tqdm(items):\n",
    "        start_position = [i for i in range(len(item['start_idxs'])) if item['start_idxs'][i]==1]\n",
    "        end_position = [i for i in range(len(item['end_idxs'])) if item['end_idxs'][i]==1]\n",
    "        assert len(start_position)==len(end_position)\n",
    "        span_position = [[start_position[i], end_position[i]] for i in range(len(start_position))]\n",
    "        item['start_position'] = start_position\n",
    "        item['end_position'] = end_position\n",
    "        item['span_position'] = span_position\n",
    "    return items"
   ]
  },
  {
   "cell_type": "code",
   "execution_count": 55,
   "metadata": {},
   "outputs": [
    {
     "name": "stderr",
     "output_type": "stream",
     "text": [
      "100%|██████████| 946/946 [00:00<00:00, 17302.28it/s]\n"
     ]
    }
   ],
   "source": [
    "train = add_mention_ranges(train)"
   ]
  },
  {
   "cell_type": "code",
   "execution_count": 56,
   "metadata": {},
   "outputs": [
    {
     "name": "stderr",
     "output_type": "stream",
     "text": [
      "100%|██████████| 216/216 [00:00<00:00, 15258.69it/s]\n"
     ]
    }
   ],
   "source": [
    "dev = add_mention_ranges(testa)"
   ]
  },
  {
   "cell_type": "code",
   "execution_count": 57,
   "metadata": {},
   "outputs": [
    {
     "name": "stderr",
     "output_type": "stream",
     "text": [
      "100%|██████████| 231/231 [00:00<00:00, 11137.88it/s]\n"
     ]
    }
   ],
   "source": [
    "test = add_mention_ranges(testb)"
   ]
  },
  {
   "cell_type": "code",
   "execution_count": 58,
   "metadata": {},
   "outputs": [],
   "source": [
    "fpath = 'AIDA-YAGO2-en_desc'\n",
    "\n",
    "fname = os.path.join(fpath, 'train.json')\n",
    "with open(fname, 'w') as fout:\n",
    "    json.dump(train, fout)\n",
    "\n",
    "fname = os.path.join(fpath, 'dev.json')\n",
    "with open(fname, 'w') as fout:\n",
    "    json.dump(dev, fout)\n",
    "\n",
    "fname = os.path.join(fpath, 'test.json')\n",
    "with open(fname, 'w') as fout:\n",
    "    json.dump(test, fout)"
   ]
  },
  {
   "cell_type": "markdown",
   "metadata": {},
   "source": [
    "### Check mention counts before and after add en_description/first 128 tokens"
   ]
  },
  {
   "cell_type": "code",
   "execution_count": 107,
   "metadata": {},
   "outputs": [],
   "source": [
    "with open('AIDA-YAGO2/train.json') as f:\n",
    "    train_orig = json.load(f)\n",
    "\n",
    "with open('AIDA-YAGO2-en_desc/train.json') as f:\n",
    "    train_en = json.load(f)\n",
    "\n",
    "with open('AIDA-YAGO2-wiki_content/train.json') as f:\n",
    "    train_wiki = json.load(f)"
   ]
  },
  {
   "cell_type": "code",
   "execution_count": 108,
   "metadata": {},
   "outputs": [],
   "source": [
    "train_orig_mentions = [len(i['mentions']) for i in train_orig]\n",
    "train_en_mentions = [len(i['mentions']) for i in train_en]\n",
    "train_wiki_mentions = [len(i['mentions']) for i in train_wiki]"
   ]
  },
  {
   "cell_type": "code",
   "execution_count": 109,
   "metadata": {},
   "outputs": [
    {
     "data": {
      "text/html": [
       "<div>\n",
       "<style scoped>\n",
       "    .dataframe tbody tr th:only-of-type {\n",
       "        vertical-align: middle;\n",
       "    }\n",
       "\n",
       "    .dataframe tbody tr th {\n",
       "        vertical-align: top;\n",
       "    }\n",
       "\n",
       "    .dataframe thead th {\n",
       "        text-align: right;\n",
       "    }\n",
       "</style>\n",
       "<table border=\"1\" class=\"dataframe\">\n",
       "  <thead>\n",
       "    <tr style=\"text-align: right;\">\n",
       "      <th></th>\n",
       "      <th>orig</th>\n",
       "      <th>en_desc</th>\n",
       "      <th>wiki</th>\n",
       "    </tr>\n",
       "  </thead>\n",
       "  <tbody>\n",
       "    <tr>\n",
       "      <th>0</th>\n",
       "      <td>30</td>\n",
       "      <td>30</td>\n",
       "      <td>30</td>\n",
       "    </tr>\n",
       "    <tr>\n",
       "      <th>1</th>\n",
       "      <td>11</td>\n",
       "      <td>11</td>\n",
       "      <td>11</td>\n",
       "    </tr>\n",
       "    <tr>\n",
       "      <th>2</th>\n",
       "      <td>24</td>\n",
       "      <td>24</td>\n",
       "      <td>24</td>\n",
       "    </tr>\n",
       "    <tr>\n",
       "      <th>3</th>\n",
       "      <td>7</td>\n",
       "      <td>7</td>\n",
       "      <td>7</td>\n",
       "    </tr>\n",
       "    <tr>\n",
       "      <th>4</th>\n",
       "      <td>12</td>\n",
       "      <td>11</td>\n",
       "      <td>11</td>\n",
       "    </tr>\n",
       "    <tr>\n",
       "      <th>...</th>\n",
       "      <td>...</td>\n",
       "      <td>...</td>\n",
       "      <td>...</td>\n",
       "    </tr>\n",
       "    <tr>\n",
       "      <th>941</th>\n",
       "      <td>27</td>\n",
       "      <td>27</td>\n",
       "      <td>27</td>\n",
       "    </tr>\n",
       "    <tr>\n",
       "      <th>942</th>\n",
       "      <td>27</td>\n",
       "      <td>26</td>\n",
       "      <td>27</td>\n",
       "    </tr>\n",
       "    <tr>\n",
       "      <th>943</th>\n",
       "      <td>33</td>\n",
       "      <td>33</td>\n",
       "      <td>33</td>\n",
       "    </tr>\n",
       "    <tr>\n",
       "      <th>944</th>\n",
       "      <td>47</td>\n",
       "      <td>45</td>\n",
       "      <td>47</td>\n",
       "    </tr>\n",
       "    <tr>\n",
       "      <th>945</th>\n",
       "      <td>7</td>\n",
       "      <td>7</td>\n",
       "      <td>7</td>\n",
       "    </tr>\n",
       "  </tbody>\n",
       "</table>\n",
       "<p>946 rows × 3 columns</p>\n",
       "</div>"
      ],
      "text/plain": [
       "     orig  en_desc  wiki\n",
       "0      30       30    30\n",
       "1      11       11    11\n",
       "2      24       24    24\n",
       "3       7        7     7\n",
       "4      12       11    11\n",
       "..    ...      ...   ...\n",
       "941    27       27    27\n",
       "942    27       26    27\n",
       "943    33       33    33\n",
       "944    47       45    47\n",
       "945     7        7     7\n",
       "\n",
       "[946 rows x 3 columns]"
      ]
     },
     "execution_count": 109,
     "metadata": {},
     "output_type": "execute_result"
    }
   ],
   "source": [
    "comp_df = pd.DataFrame({'orig':train_orig_mentions, 'en_desc':train_en_mentions, 'wiki':train_wiki_mentions})\n",
    "comp_df"
   ]
  },
  {
   "cell_type": "code",
   "execution_count": 110,
   "metadata": {},
   "outputs": [
    {
     "data": {
      "text/html": [
       "<div>\n",
       "<style scoped>\n",
       "    .dataframe tbody tr th:only-of-type {\n",
       "        vertical-align: middle;\n",
       "    }\n",
       "\n",
       "    .dataframe tbody tr th {\n",
       "        vertical-align: top;\n",
       "    }\n",
       "\n",
       "    .dataframe thead th {\n",
       "        text-align: right;\n",
       "    }\n",
       "</style>\n",
       "<table border=\"1\" class=\"dataframe\">\n",
       "  <thead>\n",
       "    <tr style=\"text-align: right;\">\n",
       "      <th></th>\n",
       "      <th>orig</th>\n",
       "      <th>en_desc</th>\n",
       "      <th>wiki</th>\n",
       "    </tr>\n",
       "  </thead>\n",
       "  <tbody>\n",
       "    <tr>\n",
       "      <th>count</th>\n",
       "      <td>946.000000</td>\n",
       "      <td>946.000000</td>\n",
       "      <td>946.000000</td>\n",
       "    </tr>\n",
       "    <tr>\n",
       "      <th>mean</th>\n",
       "      <td>19.599366</td>\n",
       "      <td>19.079281</td>\n",
       "      <td>19.355180</td>\n",
       "    </tr>\n",
       "    <tr>\n",
       "      <th>std</th>\n",
       "      <td>21.674191</td>\n",
       "      <td>21.528843</td>\n",
       "      <td>21.558648</td>\n",
       "    </tr>\n",
       "    <tr>\n",
       "      <th>min</th>\n",
       "      <td>0.000000</td>\n",
       "      <td>0.000000</td>\n",
       "      <td>0.000000</td>\n",
       "    </tr>\n",
       "    <tr>\n",
       "      <th>25%</th>\n",
       "      <td>7.000000</td>\n",
       "      <td>7.000000</td>\n",
       "      <td>7.000000</td>\n",
       "    </tr>\n",
       "    <tr>\n",
       "      <th>50%</th>\n",
       "      <td>13.000000</td>\n",
       "      <td>13.000000</td>\n",
       "      <td>13.000000</td>\n",
       "    </tr>\n",
       "    <tr>\n",
       "      <th>75%</th>\n",
       "      <td>26.000000</td>\n",
       "      <td>25.000000</td>\n",
       "      <td>25.000000</td>\n",
       "    </tr>\n",
       "    <tr>\n",
       "      <th>max</th>\n",
       "      <td>288.000000</td>\n",
       "      <td>286.000000</td>\n",
       "      <td>286.000000</td>\n",
       "    </tr>\n",
       "  </tbody>\n",
       "</table>\n",
       "</div>"
      ],
      "text/plain": [
       "             orig     en_desc        wiki\n",
       "count  946.000000  946.000000  946.000000\n",
       "mean    19.599366   19.079281   19.355180\n",
       "std     21.674191   21.528843   21.558648\n",
       "min      0.000000    0.000000    0.000000\n",
       "25%      7.000000    7.000000    7.000000\n",
       "50%     13.000000   13.000000   13.000000\n",
       "75%     26.000000   25.000000   25.000000\n",
       "max    288.000000  286.000000  286.000000"
      ]
     },
     "execution_count": 110,
     "metadata": {},
     "output_type": "execute_result"
    }
   ],
   "source": [
    "comp_df.describe()"
   ]
  },
  {
   "cell_type": "code",
   "execution_count": 111,
   "metadata": {},
   "outputs": [
    {
     "data": {
      "text/html": [
       "<div>\n",
       "<style scoped>\n",
       "    .dataframe tbody tr th:only-of-type {\n",
       "        vertical-align: middle;\n",
       "    }\n",
       "\n",
       "    .dataframe tbody tr th {\n",
       "        vertical-align: top;\n",
       "    }\n",
       "\n",
       "    .dataframe thead th {\n",
       "        text-align: right;\n",
       "    }\n",
       "</style>\n",
       "<table border=\"1\" class=\"dataframe\">\n",
       "  <thead>\n",
       "    <tr style=\"text-align: right;\">\n",
       "      <th></th>\n",
       "      <th>orig</th>\n",
       "      <th>en_desc</th>\n",
       "      <th>wiki</th>\n",
       "      <th>en_diff</th>\n",
       "      <th>wiki_diff</th>\n",
       "    </tr>\n",
       "  </thead>\n",
       "  <tbody>\n",
       "    <tr>\n",
       "      <th>0</th>\n",
       "      <td>30</td>\n",
       "      <td>30</td>\n",
       "      <td>30</td>\n",
       "      <td>0</td>\n",
       "      <td>0</td>\n",
       "    </tr>\n",
       "    <tr>\n",
       "      <th>1</th>\n",
       "      <td>11</td>\n",
       "      <td>11</td>\n",
       "      <td>11</td>\n",
       "      <td>0</td>\n",
       "      <td>0</td>\n",
       "    </tr>\n",
       "    <tr>\n",
       "      <th>2</th>\n",
       "      <td>24</td>\n",
       "      <td>24</td>\n",
       "      <td>24</td>\n",
       "      <td>0</td>\n",
       "      <td>0</td>\n",
       "    </tr>\n",
       "    <tr>\n",
       "      <th>3</th>\n",
       "      <td>7</td>\n",
       "      <td>7</td>\n",
       "      <td>7</td>\n",
       "      <td>0</td>\n",
       "      <td>0</td>\n",
       "    </tr>\n",
       "    <tr>\n",
       "      <th>4</th>\n",
       "      <td>12</td>\n",
       "      <td>11</td>\n",
       "      <td>11</td>\n",
       "      <td>1</td>\n",
       "      <td>1</td>\n",
       "    </tr>\n",
       "    <tr>\n",
       "      <th>...</th>\n",
       "      <td>...</td>\n",
       "      <td>...</td>\n",
       "      <td>...</td>\n",
       "      <td>...</td>\n",
       "      <td>...</td>\n",
       "    </tr>\n",
       "    <tr>\n",
       "      <th>941</th>\n",
       "      <td>27</td>\n",
       "      <td>27</td>\n",
       "      <td>27</td>\n",
       "      <td>0</td>\n",
       "      <td>0</td>\n",
       "    </tr>\n",
       "    <tr>\n",
       "      <th>942</th>\n",
       "      <td>27</td>\n",
       "      <td>26</td>\n",
       "      <td>27</td>\n",
       "      <td>1</td>\n",
       "      <td>0</td>\n",
       "    </tr>\n",
       "    <tr>\n",
       "      <th>943</th>\n",
       "      <td>33</td>\n",
       "      <td>33</td>\n",
       "      <td>33</td>\n",
       "      <td>0</td>\n",
       "      <td>0</td>\n",
       "    </tr>\n",
       "    <tr>\n",
       "      <th>944</th>\n",
       "      <td>47</td>\n",
       "      <td>45</td>\n",
       "      <td>47</td>\n",
       "      <td>2</td>\n",
       "      <td>0</td>\n",
       "    </tr>\n",
       "    <tr>\n",
       "      <th>945</th>\n",
       "      <td>7</td>\n",
       "      <td>7</td>\n",
       "      <td>7</td>\n",
       "      <td>0</td>\n",
       "      <td>0</td>\n",
       "    </tr>\n",
       "  </tbody>\n",
       "</table>\n",
       "<p>946 rows × 5 columns</p>\n",
       "</div>"
      ],
      "text/plain": [
       "     orig  en_desc  wiki  en_diff  wiki_diff\n",
       "0      30       30    30        0          0\n",
       "1      11       11    11        0          0\n",
       "2      24       24    24        0          0\n",
       "3       7        7     7        0          0\n",
       "4      12       11    11        1          1\n",
       "..    ...      ...   ...      ...        ...\n",
       "941    27       27    27        0          0\n",
       "942    27       26    27        1          0\n",
       "943    33       33    33        0          0\n",
       "944    47       45    47        2          0\n",
       "945     7        7     7        0          0\n",
       "\n",
       "[946 rows x 5 columns]"
      ]
     },
     "execution_count": 111,
     "metadata": {},
     "output_type": "execute_result"
    }
   ],
   "source": [
    "comp_df['en_diff'] = comp_df['orig']-comp_df['en_desc']\n",
    "comp_df['wiki_diff'] = comp_df['orig']-comp_df['wiki']\n",
    "comp_df"
   ]
  },
  {
   "cell_type": "code",
   "execution_count": 112,
   "metadata": {},
   "outputs": [
    {
     "data": {
      "text/plain": [
       "0     711\n",
       "1     120\n",
       "2      63\n",
       "3      19\n",
       "4      16\n",
       "8       4\n",
       "5       4\n",
       "6       3\n",
       "9       2\n",
       "7       2\n",
       "12      1\n",
       "11      1\n",
       "Name: en_diff, dtype: int64"
      ]
     },
     "execution_count": 112,
     "metadata": {},
     "output_type": "execute_result"
    }
   ],
   "source": [
    "comp_df['en_diff'].value_counts()"
   ]
  },
  {
   "cell_type": "code",
   "execution_count": 114,
   "metadata": {},
   "outputs": [
    {
     "data": {
      "text/plain": [
       "0     838\n",
       "1      57\n",
       "2      29\n",
       "4       7\n",
       "3       5\n",
       "9       3\n",
       "7       2\n",
       "6       2\n",
       "5       2\n",
       "10      1\n",
       "Name: wiki_diff, dtype: int64"
      ]
     },
     "execution_count": 114,
     "metadata": {},
     "output_type": "execute_result"
    }
   ],
   "source": [
    "comp_df['wiki_diff'].value_counts()"
   ]
  },
  {
   "cell_type": "markdown",
   "metadata": {},
   "source": [
    "### Manual check"
   ]
  },
  {
   "cell_type": "code",
   "execution_count": 115,
   "metadata": {},
   "outputs": [
    {
     "data": {
      "text/plain": [
       "['doc_id',\n",
       " 'text',\n",
       " 'mentions',\n",
       " 'start_idxs',\n",
       " 'end_idxs',\n",
       " 'wiki_ids',\n",
       " 'wiki_titles',\n",
       " 'wiki_contexts',\n",
       " 'start_position',\n",
       " 'end_position',\n",
       " 'span_position']"
      ]
     },
     "execution_count": 115,
     "metadata": {},
     "output_type": "execute_result"
    }
   ],
   "source": [
    "list(train[0].keys())"
   ]
  },
  {
   "cell_type": "code",
   "execution_count": 116,
   "metadata": {},
   "outputs": [],
   "source": [
    "text = train[0]['text']\n",
    "spans = train[0]['span_position']\n",
    "mention = [text[span[0]:span[1]+1] for span in spans]\n",
    "mention = [' '.join(m) for m in mention]"
   ]
  },
  {
   "cell_type": "code",
   "execution_count": 117,
   "metadata": {},
   "outputs": [
    {
     "data": {
      "text/plain": [
       "['German',\n",
       " 'British',\n",
       " 'BRUSSELS',\n",
       " 'European Commission',\n",
       " 'German',\n",
       " 'British',\n",
       " 'Germany',\n",
       " 'European Union',\n",
       " 'Britain',\n",
       " 'Commission',\n",
       " 'European Union',\n",
       " 'Franz Fischler',\n",
       " 'Britain',\n",
       " 'France',\n",
       " 'BSE',\n",
       " 'Spanish',\n",
       " 'Loyola de Palacio',\n",
       " 'France',\n",
       " 'Britain',\n",
       " 'BSE',\n",
       " 'British',\n",
       " 'German',\n",
       " 'British',\n",
       " 'Europe',\n",
       " 'Germany',\n",
       " 'Bonn',\n",
       " 'British',\n",
       " 'Germany',\n",
       " 'Britain',\n",
       " 'British']"
      ]
     },
     "execution_count": 117,
     "metadata": {},
     "output_type": "execute_result"
    }
   ],
   "source": [
    "train[0]['mentions']"
   ]
  },
  {
   "cell_type": "code",
   "execution_count": 118,
   "metadata": {},
   "outputs": [
    {
     "data": {
      "text/plain": [
       "['German',\n",
       " 'British',\n",
       " 'BRUSSELS',\n",
       " 'European Commission',\n",
       " 'German',\n",
       " 'British',\n",
       " 'Germany',\n",
       " 'European Union',\n",
       " 'Britain',\n",
       " 'Commission',\n",
       " 'European Union',\n",
       " 'Franz Fischler',\n",
       " 'Britain',\n",
       " 'France',\n",
       " 'BSE',\n",
       " 'Spanish',\n",
       " 'Loyola de Palacio',\n",
       " 'France',\n",
       " 'Britain',\n",
       " 'BSE',\n",
       " 'British',\n",
       " 'German',\n",
       " 'British',\n",
       " 'Europe',\n",
       " 'Germany',\n",
       " 'Bonn',\n",
       " 'British',\n",
       " 'Germany',\n",
       " 'Britain',\n",
       " 'British']"
      ]
     },
     "execution_count": 118,
     "metadata": {},
     "output_type": "execute_result"
    }
   ],
   "source": [
    "mention"
   ]
  },
  {
   "cell_type": "code",
   "execution_count": 119,
   "metadata": {},
   "outputs": [
    {
     "data": {
      "text/plain": [
       "True"
      ]
     },
     "execution_count": 119,
     "metadata": {},
     "output_type": "execute_result"
    }
   ],
   "source": [
    "train[0]['mentions'] == mention"
   ]
  },
  {
   "cell_type": "code",
   "execution_count": 120,
   "metadata": {},
   "outputs": [
    {
     "data": {
      "text/plain": [
       "[[2, 2],\n",
       " [6, 6],\n",
       " [11, 11],\n",
       " [14, 15],\n",
       " [22, 22],\n",
       " [28, 28],\n",
       " [43, 43],\n",
       " [48, 49],\n",
       " [66, 66],\n",
       " [94, 94],\n",
       " [129, 130],\n",
       " [142, 143],\n",
       " [179, 179],\n",
       " [181, 181],\n",
       " [193, 193],\n",
       " [237, 237],\n",
       " [240, 242],\n",
       " [266, 266],\n",
       " [268, 268],\n",
       " [314, 314],\n",
       " [330, 330],\n",
       " [350, 350],\n",
       " [357, 357],\n",
       " [363, 363],\n",
       " [382, 382],\n",
       " [404, 404],\n",
       " [420, 420],\n",
       " [438, 438],\n",
       " [443, 443],\n",
       " [459, 459]]"
      ]
     },
     "execution_count": 120,
     "metadata": {},
     "output_type": "execute_result"
    }
   ],
   "source": [
    "train[0]['span_position']"
   ]
  },
  {
   "cell_type": "code",
   "execution_count": 123,
   "metadata": {},
   "outputs": [
    {
     "data": {
      "text/plain": [
       "['germany ( german deutschland , german pronunciation [ˈdɔʏtʃlant] ) , officially the federal republic of germany ( german bundesrepublik deutschland , listen ) , is a country at the intersection of central and western europe . it is situated between the baltic and north seas to the north , and the alps to the south . it borders denmark to the north , poland and the czech republic to the east , austria and switzerland to the south , and france , luxembourg , belgium , and the netherlands to the west , and covers an area of 357 , 022 square kilometres ( 137 , 847 sq mi ) . various germanic tribes have inhabited the northern parts of modern germany since classical antiquity . a region',\n",
       " 'the united kingdom of great britain and northern ireland , commonly known as the united kingdom ( uk or u . k . ) , or britain , is a sovereign country in north-western europe , off the north-\\xadwestern coast of the european mainland . the united kingdom includes the island of great britain , the north-\\xadeastern part of the island of ireland , and many smaller islands within the british isles . northern ireland shares a land border with the republic of ireland . otherwise , the united kingdom is surrounded by the atlantic ocean , with the north sea to the east , the english channel to the south and the celtic sea to the south-west , giving it the 12th-longest coastline in the world .',\n",
       " 'brussels ( french bruxelles [bʁysɛl] ( listen ) or [bʁyksɛl] dutch brussel [ˈbrʏsəl] ( listen ) ) , officially the brussels-capital region ( french région de bruxelles-capitale dutch brussels hoofdstedelijk gewest ) , is a region of belgium comprising 19 municipalities , including the city of brussels , which is the capital of belgium . the brussels-capital region is located in the central portion of the country and is a part of both the french community of belgium and the flemish community , but is separate from the flemish region ( within which it forms an enclave ) and the walloon region . brussels is the most densely populated and the richest region in belgium in terms of gdp per capita . it covers 162 km2 ( 63',\n",
       " 'the european commission ( ec ) is the executive branch of the european union , responsible for proposing legislation , implementing decisions , upholding the eu treaties and managing the day-to-day business of the eu . commissioners swear an oath at the european court of justice in luxembourg city , pledging to respect the treaties and to be completely independent in carrying out their duties during their mandate . the commissioners are proposed by the council of the european union , on the basis of suggestions made by the national governments , and then appointed by the european council after the approval of the european parliament . it is common , although not a formal requirement , that the commissioners have previously held senior political positions , such',\n",
       " 'germany ( german deutschland , german pronunciation [ˈdɔʏtʃlant] ) , officially the federal republic of germany ( german bundesrepublik deutschland , listen ) , is a country at the intersection of central and western europe . it is situated between the baltic and north seas to the north , and the alps to the south . it borders denmark to the north , poland and the czech republic to the east , austria and switzerland to the south , and france , luxembourg , belgium , and the netherlands to the west , and covers an area of 357 , 022 square kilometres ( 137 , 847 sq mi ) . various germanic tribes have inhabited the northern parts of modern germany since classical antiquity . a region',\n",
       " 'the united kingdom of great britain and northern ireland , commonly known as the united kingdom ( uk or u . k . ) , or britain , is a sovereign country in north-western europe , off the north-\\xadwestern coast of the european mainland . the united kingdom includes the island of great britain , the north-\\xadeastern part of the island of ireland , and many smaller islands within the british isles . northern ireland shares a land border with the republic of ireland . otherwise , the united kingdom is surrounded by the atlantic ocean , with the north sea to the east , the english channel to the south and the celtic sea to the south-west , giving it the 12th-longest coastline in the world .',\n",
       " 'germany ( german deutschland , german pronunciation [ˈdɔʏtʃlant] ) , officially the federal republic of germany ( german bundesrepublik deutschland , listen ) , is a country at the intersection of central and western europe . it is situated between the baltic and north seas to the north , and the alps to the south . it borders denmark to the north , poland and the czech republic to the east , austria and switzerland to the south , and france , luxembourg , belgium , and the netherlands to the west , and covers an area of 357 , 022 square kilometres ( 137 , 847 sq mi ) . various germanic tribes have inhabited the northern parts of modern germany since classical antiquity . a region',\n",
       " 'the european union ( eu ) is a political and economic union of 27 member states that are located primarily in europe . its members have a combined area of 4 , 233 , 255 . 3 km2 ( 1 , 634 , 469 . 0 sq mi ) and an estimated total population of about 447 million . the eu has developed an internal single market through a standardised system of laws that apply in all member states in those matters , and only those matters , where members have agreed to act as one . eu policies aim to ensure the free movement of people , goods , services and capital within the internal market enact legislation in justice and home affairs and maintain common policies',\n",
       " 'the united kingdom of great britain and northern ireland , commonly known as the united kingdom ( uk or u . k . ) , or britain , is a sovereign country in north-western europe , off the north-\\xadwestern coast of the european mainland . the united kingdom includes the island of great britain , the north-\\xadeastern part of the island of ireland , and many smaller islands within the british isles . northern ireland shares a land border with the republic of ireland . otherwise , the united kingdom is surrounded by the atlantic ocean , with the north sea to the east , the english channel to the south and the celtic sea to the south-west , giving it the 12th-longest coastline in the world .',\n",
       " 'the european commission ( ec ) is the executive branch of the european union , responsible for proposing legislation , implementing decisions , upholding the eu treaties and managing the day-to-day business of the eu . commissioners swear an oath at the european court of justice in luxembourg city , pledging to respect the treaties and to be completely independent in carrying out their duties during their mandate . the commissioners are proposed by the council of the european union , on the basis of suggestions made by the national governments , and then appointed by the european council after the approval of the european parliament . it is common , although not a formal requirement , that the commissioners have previously held senior political positions , such',\n",
       " 'the european union ( eu ) is a political and economic union of 27 member states that are located primarily in europe . its members have a combined area of 4 , 233 , 255 . 3 km2 ( 1 , 634 , 469 . 0 sq mi ) and an estimated total population of about 447 million . the eu has developed an internal single market through a standardised system of laws that apply in all member states in those matters , and only those matters , where members have agreed to act as one . eu policies aim to ensure the free movement of people , goods , services and capital within the internal market enact legislation in justice and home affairs and maintain common policies',\n",
       " \"franz fischler ( born 23 september 1946 ) is an austrian politician from the christian-conservative people ' s party ( övp ) . he was the european union ' s commissioner for agriculture , rural development and fisheries ( 1995–2004 ) . currently he is president of the european forum alpbach . == education and early career == born in absam , tyrol fischler studied agriculture at the university of natural resources and applied life sciences vienna , and finished as dr rer . nat . oec . in 1978 . he worked as university assistant from 1973 to 1979 , then for the tyrol chamber of agriculture , finally as its director from 1985 to 1989 . == political career == between 1989 and 1994 fischler was\",\n",
       " 'the united kingdom of great britain and northern ireland , commonly known as the united kingdom ( uk or u . k . ) , or britain , is a sovereign country in north-western europe , off the north-\\xadwestern coast of the european mainland . the united kingdom includes the island of great britain , the north-\\xadeastern part of the island of ireland , and many smaller islands within the british isles . northern ireland shares a land border with the republic of ireland . otherwise , the united kingdom is surrounded by the atlantic ocean , with the north sea to the east , the english channel to the south and the celtic sea to the south-west , giving it the 12th-longest coastline in the world .',\n",
       " \"france ( french [fʁɑ̃s] ) , officially the french republic ( french république française ) , is a country primarily located in western europe , consisting of metropolitan france and several overseas regions and territories . the metropolitan area of france extends from the rhine to the atlantic ocean and from the mediterranean sea to the english channel and the north sea . the overseas territories include french guiana in south america and several islands in the atlantic , pacific and indian oceans . france borders belgium , luxembourg and germany to the northeast , switzerland , monaco and italy to the east , andorra and spain to the south , as well as the netherlands , suriname and brazil in the americas . the country ' s\",\n",
       " 'bovine spongiform encephalopathy ( bse ) , commonly known as mad cow disease , is a neurodegenerative disease of cattle . symptoms include abnormal behavior , trouble walking , and weight loss . later in the course of the disease the cow becomes unable to function normally . the time between infection and onset of symptoms is generally four to five years . time from onset of symptoms to death is generally weeks to months . spread to humans is believed to result in variant creutzfeldt–jakob disease ( vcjd ) . as of 2018 , a total of 231 cases of vcjd had been reported globally . bse is thought to be due to an infection by a misfolded protein , known as a prion . cattle are',\n",
       " 'spain ( spanish españa , [esˈpaɲa] ( listen ) ) , officially the kingdom of spain ( spanish reino de españa ) , is a country in southwestern europe with some pockets of territory across the strait of gibraltar and the atlantic ocean . its continental european territory is situated on the iberian peninsula . its territory also includes two archipelagos the canary islands off the coast of north africa , and the balearic islands in the mediterranean sea . the african exclaves of ceuta , melilla , and peñón de vélez de la gomera make spain the only european country to have a physical border with an african country ( morocco ) . several small islands in the alboran sea are also part of spanish territory .',\n",
       " 'ignacia de loyola de palacio y del valle lersundi ( 16 september 1950 – 13 december 2006 ) was a spanish politician . she was among the first women to rise to political prominence in spain during the early years of reconstituted democracy . she was a minister in the spanish government from 1996 to 1998 ( ministry of agriculture , fisheries and food ) , and a member of the european commission from 1999 to 2004 . == early life and education == de palacio was born in madrid , into an aristocratic basque family , the eldest of four sisters and three brothers , the children of luis maría de palacio y de palacio , 4th marqués de matonte , and his wife luisa mariana del',\n",
       " \"france ( french [fʁɑ̃s] ) , officially the french republic ( french république française ) , is a country primarily located in western europe , consisting of metropolitan france and several overseas regions and territories . the metropolitan area of france extends from the rhine to the atlantic ocean and from the mediterranean sea to the english channel and the north sea . the overseas territories include french guiana in south america and several islands in the atlantic , pacific and indian oceans . france borders belgium , luxembourg and germany to the northeast , switzerland , monaco and italy to the east , andorra and spain to the south , as well as the netherlands , suriname and brazil in the americas . the country ' s\",\n",
       " 'the united kingdom of great britain and northern ireland , commonly known as the united kingdom ( uk or u . k . ) , or britain , is a sovereign country in north-western europe , off the north-\\xadwestern coast of the european mainland . the united kingdom includes the island of great britain , the north-\\xadeastern part of the island of ireland , and many smaller islands within the british isles . northern ireland shares a land border with the republic of ireland . otherwise , the united kingdom is surrounded by the atlantic ocean , with the north sea to the east , the english channel to the south and the celtic sea to the south-west , giving it the 12th-longest coastline in the world .',\n",
       " 'bovine spongiform encephalopathy ( bse ) , commonly known as mad cow disease , is a neurodegenerative disease of cattle . symptoms include abnormal behavior , trouble walking , and weight loss . later in the course of the disease the cow becomes unable to function normally . the time between infection and onset of symptoms is generally four to five years . time from onset of symptoms to death is generally weeks to months . spread to humans is believed to result in variant creutzfeldt–jakob disease ( vcjd ) . as of 2018 , a total of 231 cases of vcjd had been reported globally . bse is thought to be due to an infection by a misfolded protein , known as a prion . cattle are',\n",
       " 'the united kingdom of great britain and northern ireland , commonly known as the united kingdom ( uk or u . k . ) , or britain , is a sovereign country in north-western europe , off the north-\\xadwestern coast of the european mainland . the united kingdom includes the island of great britain , the north-\\xadeastern part of the island of ireland , and many smaller islands within the british isles . northern ireland shares a land border with the republic of ireland . otherwise , the united kingdom is surrounded by the atlantic ocean , with the north sea to the east , the english channel to the south and the celtic sea to the south-west , giving it the 12th-longest coastline in the world .',\n",
       " 'germany ( german deutschland , german pronunciation [ˈdɔʏtʃlant] ) , officially the federal republic of germany ( german bundesrepublik deutschland , listen ) , is a country at the intersection of central and western europe . it is situated between the baltic and north seas to the north , and the alps to the south . it borders denmark to the north , poland and the czech republic to the east , austria and switzerland to the south , and france , luxembourg , belgium , and the netherlands to the west , and covers an area of 357 , 022 square kilometres ( 137 , 847 sq mi ) . various germanic tribes have inhabited the northern parts of modern germany since classical antiquity . a region',\n",
       " 'the united kingdom of great britain and northern ireland , commonly known as the united kingdom ( uk or u . k . ) , or britain , is a sovereign country in north-western europe , off the north-\\xadwestern coast of the european mainland . the united kingdom includes the island of great britain , the north-\\xadeastern part of the island of ireland , and many smaller islands within the british isles . northern ireland shares a land border with the republic of ireland . otherwise , the united kingdom is surrounded by the atlantic ocean , with the north sea to the east , the english channel to the south and the celtic sea to the south-west , giving it the 12th-longest coastline in the world .',\n",
       " 'europe is a continent located entirely in the northern hemisphere and mostly in the eastern hemisphere . it comprises the westernmost part of eurasia and is bordered by the arctic ocean to the north , the atlantic ocean to the west , the mediterranean sea to the south , and asia to the east . europe is commonly considered to be separated from asia by the watershed of the ural mountains , the ural river , the caspian sea , the greater caucasus , the black sea , and the waterways of the turkish straits . although much of this border is over land , europe is generally accorded the status of a full continent because of its great physical size and the weight of history and tradition',\n",
       " 'germany ( german deutschland , german pronunciation [ˈdɔʏtʃlant] ) , officially the federal republic of germany ( german bundesrepublik deutschland , listen ) , is a country at the intersection of central and western europe . it is situated between the baltic and north seas to the north , and the alps to the south . it borders denmark to the north , poland and the czech republic to the east , austria and switzerland to the south , and france , luxembourg , belgium , and the netherlands to the west , and covers an area of 357 , 022 square kilometres ( 137 , 847 sq mi ) . various germanic tribes have inhabited the northern parts of modern germany since classical antiquity . a region',\n",
       " \"the federal city of bonn ( german pronunciation [bɔn] ( listen ) latin bonna ) is a city on the banks of the rhine in the german state of north rhine-westphalia , with a population of over 300 , 000 . about 24 km ( 15 mi ) south-southeast of cologne , bonn is in the southernmost part of the rhine-ruhr region , germany ' s largest metropolitan area , with over 11 million inhabitants . it is famously known as the birthplace of ludwig van beethoven in 1770 as well as the capital city of west germany until 1990 . founded in the 1st century bc as the roman settlement germania inferior , bonn is one of germany ' s oldest cities . from 1597 to 1794\",\n",
       " 'the united kingdom of great britain and northern ireland , commonly known as the united kingdom ( uk or u . k . ) , or britain , is a sovereign country in north-western europe , off the north-\\xadwestern coast of the european mainland . the united kingdom includes the island of great britain , the north-\\xadeastern part of the island of ireland , and many smaller islands within the british isles . northern ireland shares a land border with the republic of ireland . otherwise , the united kingdom is surrounded by the atlantic ocean , with the north sea to the east , the english channel to the south and the celtic sea to the south-west , giving it the 12th-longest coastline in the world .',\n",
       " 'germany ( german deutschland , german pronunciation [ˈdɔʏtʃlant] ) , officially the federal republic of germany ( german bundesrepublik deutschland , listen ) , is a country at the intersection of central and western europe . it is situated between the baltic and north seas to the north , and the alps to the south . it borders denmark to the north , poland and the czech republic to the east , austria and switzerland to the south , and france , luxembourg , belgium , and the netherlands to the west , and covers an area of 357 , 022 square kilometres ( 137 , 847 sq mi ) . various germanic tribes have inhabited the northern parts of modern germany since classical antiquity . a region',\n",
       " 'the united kingdom of great britain and northern ireland , commonly known as the united kingdom ( uk or u . k . ) , or britain , is a sovereign country in north-western europe , off the north-\\xadwestern coast of the european mainland . the united kingdom includes the island of great britain , the north-\\xadeastern part of the island of ireland , and many smaller islands within the british isles . northern ireland shares a land border with the republic of ireland . otherwise , the united kingdom is surrounded by the atlantic ocean , with the north sea to the east , the english channel to the south and the celtic sea to the south-west , giving it the 12th-longest coastline in the world .',\n",
       " 'the united kingdom of great britain and northern ireland , commonly known as the united kingdom ( uk or u . k . ) , or britain , is a sovereign country in north-western europe , off the north-\\xadwestern coast of the european mainland . the united kingdom includes the island of great britain , the north-\\xadeastern part of the island of ireland , and many smaller islands within the british isles . northern ireland shares a land border with the republic of ireland . otherwise , the united kingdom is surrounded by the atlantic ocean , with the north sea to the east , the english channel to the south and the celtic sea to the south-west , giving it the 12th-longest coastline in the world .']"
      ]
     },
     "execution_count": 123,
     "metadata": {},
     "output_type": "execute_result"
    }
   ],
   "source": [
    "train[0]['wiki_contexts']"
   ]
  },
  {
   "cell_type": "markdown",
   "metadata": {},
   "source": [
    "# Draft"
   ]
  },
  {
   "cell_type": "code",
   "execution_count": 87,
   "metadata": {},
   "outputs": [],
   "source": [
    "# store on file\n",
    "def store_data(processed_data, OUT_FILENAME):\n",
    "    with open(OUT_FILENAME, \"w+\") as fout:\n",
    "        for q in processed_data:\n",
    "            json.dump(q, fout)\n",
    "            fout.write(\"\\n\")"
   ]
  },
  {
   "cell_type": "code",
   "execution_count": 89,
   "metadata": {},
   "outputs": [],
   "source": [
    "out_train_aida_filename = \"AIDA-YAGO2_train.jsonl\"\n",
    "store_data(train, out_train_aida_filename)\n",
    "out_testa_aida_filename = \"AIDA-YAGO2_testa.jsonl\"\n",
    "store_data(testa, out_testa_aida_filename)\n",
    "out_testb_aida_filename = \"AIDA-YAGO2_testb.jsonl\"\n",
    "store_data(testb, out_testb_aida_filename)"
   ]
  },
  {
   "cell_type": "code",
   "execution_count": null,
   "metadata": {},
   "outputs": [],
   "source": []
  },
  {
   "cell_type": "code",
   "execution_count": null,
   "metadata": {},
   "outputs": [],
   "source": []
  },
  {
   "cell_type": "code",
   "execution_count": 85,
   "metadata": {},
   "outputs": [],
   "source": [
    "# check = processed_aida['51 BASEBALL']\n",
    "# check"
   ]
  },
  {
   "cell_type": "code",
   "execution_count": 52,
   "metadata": {},
   "outputs": [
    {
     "data": {
      "text/plain": [
       "57"
      ]
     },
     "execution_count": 52,
     "metadata": {},
     "output_type": "execute_result"
    }
   ],
   "source": [
    "sum(check['start_idxs'])"
   ]
  },
  {
   "cell_type": "code",
   "execution_count": 53,
   "metadata": {},
   "outputs": [
    {
     "data": {
      "text/plain": [
       "56"
      ]
     },
     "execution_count": 53,
     "metadata": {},
     "output_type": "execute_result"
    }
   ],
   "source": [
    "sum(check['end_idxs'])"
   ]
  },
  {
   "cell_type": "code",
   "execution_count": 54,
   "metadata": {},
   "outputs": [
    {
     "data": {
      "text/plain": [
       "266"
      ]
     },
     "execution_count": 54,
     "metadata": {},
     "output_type": "execute_result"
    }
   ],
   "source": [
    "len(check['text'])"
   ]
  },
  {
   "cell_type": "code",
   "execution_count": 55,
   "metadata": {},
   "outputs": [
    {
     "data": {
      "text/plain": [
       "266"
      ]
     },
     "execution_count": 55,
     "metadata": {},
     "output_type": "execute_result"
    }
   ],
   "source": [
    "len(check['end_idxs'])"
   ]
  },
  {
   "cell_type": "code",
   "execution_count": 56,
   "metadata": {},
   "outputs": [],
   "source": [
    "import numpy as np"
   ]
  },
  {
   "cell_type": "code",
   "execution_count": 57,
   "metadata": {},
   "outputs": [],
   "source": [
    "start = np.array(check['start_idxs'])\n",
    "end = np.array(check['end_idxs'])"
   ]
  },
  {
   "cell_type": "code",
   "execution_count": 79,
   "metadata": {},
   "outputs": [],
   "source": [
    "mention_ranges = []\n",
    "\n",
    "for i in range(len(start)):\n",
    "    if start[i]==1:\n",
    "        mention_ranges.append([i])\n",
    "        for j in range(i, len(end)):\n",
    "            if end[j]==1:\n",
    "                mention_ranges[-1].append(j+1)\n",
    "                break"
   ]
  },
  {
   "cell_type": "code",
   "execution_count": 80,
   "metadata": {},
   "outputs": [
    {
     "data": {
      "text/plain": [
       "[[2, 4],\n",
       " [10, 12],\n",
       " [13, 16],\n",
       " [36, 40],\n",
       " [44, 46],\n",
       " [50, 51],\n",
       " [55, 56],\n",
       " [60, 61],\n",
       " [65, 66],\n",
       " [71, 73],\n",
       " [73, 74],\n",
       " [78, 79],\n",
       " [84, 85],\n",
       " [90, 91],\n",
       " [96, 98],\n",
       " [103, 105],\n",
       " [105, 106],\n",
       " [110, 111],\n",
       " [115, 116],\n",
       " [120, 121],\n",
       " [131, 132],\n",
       " [133, 134],\n",
       " [134, 135],\n",
       " [136, 137],\n",
       " [137, 138],\n",
       " [139, 141],\n",
       " [141, 142],\n",
       " [143, 144],\n",
       " [144, 145],\n",
       " [146, 148],\n",
       " [148, 149],\n",
       " [150, 151],\n",
       " [151, 155],\n",
       " [159, 160],\n",
       " [164, 165],\n",
       " [169, 171],\n",
       " [176, 177],\n",
       " [181, 182],\n",
       " [186, 188],\n",
       " [188, 189],\n",
       " [199, 200],\n",
       " [204, 205],\n",
       " [210, 211],\n",
       " [216, 218],\n",
       " [218, 220],\n",
       " [224, 226],\n",
       " [231, 232],\n",
       " [236, 238],\n",
       " [251, 252],\n",
       " [252, 253],\n",
       " [254, 255],\n",
       " [255, 256],\n",
       " [257, 258],\n",
       " [258, 259],\n",
       " [260, 262],\n",
       " [262, 263],\n",
       " [264]]"
      ]
     },
     "execution_count": 80,
     "metadata": {},
     "output_type": "execute_result"
    }
   ],
   "source": [
    "mention_ranges"
   ]
  },
  {
   "cell_type": "code",
   "execution_count": 81,
   "metadata": {},
   "outputs": [
    {
     "name": "stdout",
     "output_type": "stream",
     "text": [
      "['MAJOR', 'LEAGUE']\n",
      "['NEW', 'YORK']\n",
      "['Major', 'League', 'Baseball']\n",
      "['AMERICAN', 'LEAGUE', 'EASTERN', 'DIVISION']\n",
      "['NEW', 'YORK']\n",
      "['BALTIMORE']\n",
      "['BOSTON']\n",
      "['TORONTO']\n",
      "['DETROIT']\n",
      "['CENTRAL', 'DIVISION']\n",
      "['CLEVELAND']\n",
      "['CHICAGO']\n",
      "['MINNESOTA']\n",
      "['MILWAUKEE']\n",
      "['KANSAS', 'CITY']\n",
      "['WESTERN', 'DIVISION']\n",
      "['TEXAS']\n",
      "['SEATTLE']\n",
      "['OAKLAND']\n",
      "['CALIFORNIA']\n",
      "['OAKLAND']\n",
      "['BOSTON']\n",
      "['SEATTLE']\n",
      "['BALTIMORE']\n",
      "['CALIFORNIA']\n",
      "['NEW', 'YORK']\n",
      "['TORONTO']\n",
      "['CHICAGO']\n",
      "['DETROIT']\n",
      "['KANSAS', 'CITY']\n",
      "['TEXAS']\n",
      "['MINNESOTA']\n",
      "['NATIONAL', 'LEAGUE', 'EASTERN', 'DIVISION']\n",
      "['ATLANTA']\n",
      "['MONTREAL']\n",
      "['NEW', 'YORK']\n",
      "['FLORIDA']\n",
      "['PHILADELPHIA']\n",
      "['CENTRAL', 'DIVISION']\n",
      "['HOUSTON']\n",
      "['CHICAGO']\n",
      "['CINCINNATI']\n",
      "['PITTSBURGH']\n",
      "['WESTERN', 'DIVISION']\n",
      "['SAN', 'DIEGO']\n",
      "['LOS', 'ANGELES']\n",
      "['COLORADO']\n",
      "['SAN', 'FRANCISCO']\n",
      "['COLORADO']\n",
      "['CINCINNATI']\n",
      "['ATLANTA']\n",
      "['PITTSBURGH']\n",
      "['HOUSTON']\n",
      "['PHILADELPHIA']\n",
      "['LOS', 'ANGELES']\n",
      "['MONTREAL']\n",
      "SAN\n"
     ]
    }
   ],
   "source": [
    "for x in mention_ranges:\n",
    "    try:\n",
    "        print(check['text'][x[0]:x[1]])\n",
    "    except:\n",
    "        print(check['text'][x[0]])"
   ]
  },
  {
   "cell_type": "code",
   "execution_count": 72,
   "metadata": {},
   "outputs": [],
   "source": [
    "#ranges = start+end"
   ]
  },
  {
   "cell_type": "code",
   "execution_count": 68,
   "metadata": {},
   "outputs": [
    {
     "data": {
      "text/plain": [
       "1"
      ]
     },
     "execution_count": 68,
     "metadata": {},
     "output_type": "execute_result"
    }
   ],
   "source": [
    "check['start_idxs'][50]"
   ]
  },
  {
   "cell_type": "code",
   "execution_count": 70,
   "metadata": {},
   "outputs": [
    {
     "data": {
      "text/plain": [
       "['W',\n",
       " 'L',\n",
       " 'PCT',\n",
       " 'GB',\n",
       " 'NEW',\n",
       " 'YORK',\n",
       " '72',\n",
       " '53',\n",
       " '.576',\n",
       " '-',\n",
       " 'BALTIMORE',\n",
       " '67',\n",
       " '58',\n",
       " '.536',\n",
       " '5']"
      ]
     },
     "execution_count": 70,
     "metadata": {},
     "output_type": "execute_result"
    }
   ],
   "source": [
    "check['text'][40:55]"
   ]
  },
  {
   "cell_type": "code",
   "execution_count": 59,
   "metadata": {},
   "outputs": [
    {
     "data": {
      "text/plain": [
       "array([0, 0, 1, 1, 0, 0, 0, 0, 0, 0, 1, 1, 0, 1, 0, 1, 0, 0, 0, 0, 0, 0,\n",
       "       0, 0, 0, 0, 0, 0, 0, 0, 0, 0, 0, 0, 0, 0, 1, 0, 0, 1, 0, 0, 0, 0,\n",
       "       1, 1, 0, 0, 0, 0, 2, 0, 0, 0, 0, 2, 0, 0, 0, 0, 2, 0, 0, 0, 0, 2,\n",
       "       0, 0, 0, 0, 0, 1, 1, 2, 0, 0, 0, 0, 2, 0, 0, 0, 0, 0, 2, 0, 0, 0,\n",
       "       0, 0, 2, 0, 0, 0, 0, 0, 1, 1, 0, 0, 0, 0, 0, 1, 1, 2, 0, 0, 0, 0,\n",
       "       2, 0, 0, 0, 0, 2, 0, 0, 0, 0, 2, 0, 0, 0, 0, 0, 0, 0, 0, 0, 0, 2,\n",
       "       0, 2, 2, 0, 2, 2, 0, 1, 1, 2, 0, 2, 2, 0, 1, 1, 2, 0, 2, 1, 0, 0,\n",
       "       1, 0, 0, 0, 0, 2, 0, 0, 0, 0, 2, 0, 0, 0, 0, 1, 1, 0, 0, 0, 0, 0,\n",
       "       2, 0, 0, 0, 0, 2, 0, 0, 0, 0, 1, 1, 2, 0, 0, 0, 0, 0, 0, 0, 0, 0,\n",
       "       0, 2, 0, 0, 0, 0, 2, 0, 0, 0, 0, 0, 2, 0, 0, 0, 0, 0, 1, 1, 1, 1,\n",
       "       0, 0, 0, 0, 1, 1, 0, 0, 0, 0, 0, 2, 0, 0, 0, 0, 1, 1, 0, 0, 0, 0,\n",
       "       0, 0, 0, 0, 0, 0, 0, 0, 0, 2, 2, 0, 2, 2, 0, 2, 2, 0, 1, 1, 2, 0,\n",
       "       1, 0])"
      ]
     },
     "execution_count": 59,
     "metadata": {},
     "output_type": "execute_result"
    }
   ],
   "source": [
    "ranges"
   ]
  },
  {
   "cell_type": "code",
   "execution_count": 40,
   "metadata": {},
   "outputs": [],
   "source": [
    "mention_ranges = []\n",
    "start=False\n",
    "\n",
    "for i in range(len(ranges)):\n",
    "    if ranges[i]==1:\n",
    "        if start==False:\n",
    "            mention_ranges.append([i])\n",
    "            start=True\n",
    "        else:\n",
    "            mention_ranges[-1].append(i)\n",
    "            start=False\n",
    "    else:\n",
    "        continue\n",
    "        \n",
    "    "
   ]
  },
  {
   "cell_type": "code",
   "execution_count": 47,
   "metadata": {},
   "outputs": [
    {
     "name": "stdout",
     "output_type": "stream",
     "text": [
      "['Israel']\n",
      "['Syria']\n",
      "['JERUSALEM']\n",
      "['Israel']\n",
      "['Syria']\n",
      "['Itamar', 'Rabinovich']\n",
      "['Israel']\n",
      "['Washington']\n",
      "['Syria']\n",
      "['Israel', 'Radio']\n",
      "['Damascus']\n",
      "['Syrian']\n",
      "['Syrians']\n",
      "['Washington']\n",
      "['Rabinovich']\n",
      "['Eliahu', 'Ben-Elissar']\n",
      "['Israeli']\n",
      "['Egypt']\n",
      "['Likud']\n",
      "['Israel']\n",
      "['Syria']\n",
      "['Washington']\n",
      "['Damascus']\n",
      "['Syria']\n",
      "['Israel']\n",
      "['Israeli']\n",
      "['Damascus']\n",
      "['Syrian']\n",
      "['Assad']\n",
      "['Israel']\n",
      "['Israeli']\n",
      "['David', 'Levy']\n",
      "['Israel', 'Radio']\n",
      "['Israeli']\n",
      "['Benjamin', 'Netanyahu']\n",
      "['Golan', 'Heights']\n",
      "['captured', 'from']\n",
      "['in', 'the', '1967']\n",
      "['war', '.', 'Israeli-Syrian', 'peace', 'talks', 'have', 'been', 'deadlocked', 'over', 'the']\n",
      "['since', '1991', 'despite', 'the', 'previous', 'government', \"'s\", 'willingness', 'to', 'make']\n",
      "['concessions', '.', 'Peace', 'talks', 'between', 'the', 'two', 'sides', 'were', 'last', 'held', 'in', 'February', '.', '\"', 'The', 'voices', 'coming', 'out', 'of']\n",
      "['are', 'bad', ',', 'not', 'good', '.', 'The', 'media', '...', 'are', 'full', 'of', 'expressions', 'and', 'declarations', 'that', 'must', 'be', 'worrying', '...', 'this', 'artificial', 'atmosphere', 'is', 'very', 'dangerous', 'because', 'those', 'who', 'spread', 'it', 'could', 'become', 'its', 'prisoners', ',', '\"', 'Levy', 'said', '.', '\"', 'We', 'expect', 'from']\n",
      "[',', 'if', 'its', 'face', 'is', 'to', 'peace', ',', 'that', 'it', 'will', 'answer']\n",
      "[\"'s\", 'message', 'to', 'enter', 'peace', 'negotiations', 'because', 'that', 'is', 'our', 'goal', ',', '\"', 'he', 'said', '.', '\"', 'We', 'do', 'not', 'want', 'a', 'war', ',']\n",
      "['forbid', '.', 'No', 'one', 'benefits', 'from', 'wars', '.', '\"']\n",
      "[\"'s\"]\n",
      "['television', 'said']\n",
      "['had', 'sent', 'a', '\"', 'calming', 'signal', '\"', 'to']\n",
      "['.', 'It', 'gave', 'no', 'source', 'for', 'the', 'report', '.']\n",
      "['and', 'Levy', \"'s\", 'spokesmen', 'said', 'they', 'could', 'not', 'confirm', 'it', '.', 'The', 'television', 'also', 'said', 'that']\n",
      "['had', 'sent', 'messages', 'to', 'reassure']\n",
      "['via', 'Cairo', ',', 'the']\n",
      "['and']\n",
      ".\n"
     ]
    }
   ],
   "source": [
    "for x in mention_ranges:\n",
    "    try:\n",
    "        print(check['text'][x[0]:x[1]])\n",
    "    except:\n",
    "        print(check['text'][x[0]])"
   ]
  },
  {
   "cell_type": "code",
   "execution_count": 41,
   "metadata": {},
   "outputs": [
    {
     "data": {
      "text/plain": [
       "[[0, 1],\n",
       " [7, 8],\n",
       " [11, 12],\n",
       " [13, 14],\n",
       " [19, 20],\n",
       " [38, 40],\n",
       " [43, 44],\n",
       " [47, 48],\n",
       " [52, 53],\n",
       " [55, 57],\n",
       " [60, 61],\n",
       " [74, 75],\n",
       " [82, 83],\n",
       " [97, 98],\n",
       " [113, 114],\n",
       " [127, 129],\n",
       " [132, 133],\n",
       " [135, 136],\n",
       " [138, 139],\n",
       " [142, 143],\n",
       " [146, 147],\n",
       " [151, 152],\n",
       " [170, 171],\n",
       " [180, 181],\n",
       " [182, 183],\n",
       " [193, 194],\n",
       " [197, 198],\n",
       " [223, 224],\n",
       " [228, 229],\n",
       " [231, 232],\n",
       " [245, 246],\n",
       " [248, 250],\n",
       " [251, 253],\n",
       " [261, 262],\n",
       " [264, 266],\n",
       " [274, 276],\n",
       " [277, 279],\n",
       " [280, 283],\n",
       " [285, 295],\n",
       " [296, 306],\n",
       " [307, 327],\n",
       " [328, 372],\n",
       " [373, 385],\n",
       " [386, 410],\n",
       " [411, 420],\n",
       " [421, 422],\n",
       " [424, 426],\n",
       " [427, 435],\n",
       " [436, 445],\n",
       " [446, 462],\n",
       " [463, 468],\n",
       " [469, 473],\n",
       " [475, 476],\n",
       " [477]]"
      ]
     },
     "execution_count": 41,
     "metadata": {},
     "output_type": "execute_result"
    }
   ],
   "source": [
    "mention_ranges"
   ]
  },
  {
   "cell_type": "code",
   "execution_count": 29,
   "metadata": {},
   "outputs": [
    {
     "data": {
      "text/plain": [
       "[1, 0, 0, 0, 0, 0, 0, 1, 0, 0, 0, 1, 0, 1, 0, 0, 0, 0, 0, 1, 0]"
      ]
     },
     "execution_count": 29,
     "metadata": {},
     "output_type": "execute_result"
    }
   ],
   "source": [
    "check['start_idxs'][:21]"
   ]
  },
  {
   "cell_type": "code",
   "execution_count": 30,
   "metadata": {},
   "outputs": [
    {
     "data": {
      "text/plain": [
       "[0, 1, 0, 0, 0, 0, 0, 0, 1, 0, 0, 0, 1, 0, 1, 0, 0, 0, 0, 0, 1]"
      ]
     },
     "execution_count": 30,
     "metadata": {},
     "output_type": "execute_result"
    }
   ],
   "source": [
    "check['end_idxs'][:21]"
   ]
  },
  {
   "cell_type": "code",
   "execution_count": 32,
   "metadata": {},
   "outputs": [
    {
     "data": {
      "text/plain": [
       "[0, 0, 0, 0, 0, 0, 0, 0, 0, 0, 0, 0, 0, 0, 0, 0, 0, 1, 0, 0, 0]"
      ]
     },
     "execution_count": 32,
     "metadata": {},
     "output_type": "execute_result"
    }
   ],
   "source": [
    "check['start_idxs'][21:42]"
   ]
  },
  {
   "cell_type": "code",
   "execution_count": 33,
   "metadata": {},
   "outputs": [
    {
     "data": {
      "text/plain": [
       "[0, 0, 0, 0, 0, 0, 0, 0, 0, 0, 0, 0, 0, 0, 0, 0, 0, 0, 0, 1, 0]"
      ]
     },
     "execution_count": 33,
     "metadata": {},
     "output_type": "execute_result"
    }
   ],
   "source": [
    "check['end_idxs'][21:42]"
   ]
  },
  {
   "cell_type": "code",
   "execution_count": 27,
   "metadata": {},
   "outputs": [
    {
     "data": {
      "text/plain": [
       "['Israel',\n",
       " 'Syria',\n",
       " 'JERUSALEM',\n",
       " 'Israel',\n",
       " 'Syria',\n",
       " 'Itamar Rabinovich',\n",
       " 'Israel',\n",
       " 'Washington',\n",
       " 'Syria',\n",
       " 'Israel Radio',\n",
       " 'Damascus',\n",
       " 'Syrian',\n",
       " 'Syrians',\n",
       " 'Washington',\n",
       " 'Rabinovich',\n",
       " 'Eliahu Ben-Elissar',\n",
       " 'Israeli',\n",
       " 'Egypt',\n",
       " 'Likud',\n",
       " 'Israel',\n",
       " 'Syria',\n",
       " 'Washington',\n",
       " 'Damascus',\n",
       " 'Syria',\n",
       " 'Israel',\n",
       " 'Israeli',\n",
       " 'Damascus',\n",
       " 'Syrian',\n",
       " 'Assad',\n",
       " 'Israel',\n",
       " 'Israeli',\n",
       " 'David Levy',\n",
       " 'Israel Radio',\n",
       " 'Israeli',\n",
       " 'Benjamin Netanyahu',\n",
       " 'Golan Heights',\n",
       " 'Israel',\n",
       " 'Syria',\n",
       " 'Middle East',\n",
       " 'Golan',\n",
       " 'Golan',\n",
       " 'Damascus',\n",
       " 'Syria',\n",
       " 'Israel',\n",
       " 'God',\n",
       " 'Israel',\n",
       " 'Channel Two',\n",
       " 'Damascus',\n",
       " 'Israel',\n",
       " 'Netanyahu',\n",
       " 'Netanyahu',\n",
       " 'Syria',\n",
       " 'United States',\n",
       " 'Moscow']"
      ]
     },
     "execution_count": 27,
     "metadata": {},
     "output_type": "execute_result"
    }
   ],
   "source": [
    "check['mentions']"
   ]
  },
  {
   "cell_type": "code",
   "execution_count": null,
   "metadata": {},
   "outputs": [],
   "source": []
  },
  {
   "cell_type": "code",
   "execution_count": 35,
   "metadata": {},
   "outputs": [],
   "source": [
    "# # note: question here means mention in documents that have linked wikipedia page\n",
    "# def extract_questions(filename):\n",
    "\n",
    "#     # all the datapoints\n",
    "#     global_questions = []\n",
    "\n",
    "#     # left context so far in the document\n",
    "#     left_context = []\n",
    "\n",
    "#     # working datapoints for the document\n",
    "#     document_questions = []\n",
    "\n",
    "#     # is the entity open\n",
    "#     open_entity = False\n",
    "\n",
    "#     # question id in the document\n",
    "#     question_i = 0\n",
    "\n",
    "#     with open(filename) as fin:\n",
    "#         lines = fin.readlines()\n",
    "\n",
    "#         for line in tqdm(lines):\n",
    "\n",
    "#             if \"-DOCSTART-\" in line:\n",
    "#                 # new document is starting\n",
    "#                 doc_id = line.split(\"(\")[-1][:-2]\n",
    "\n",
    "#                 # END DOCUMENT\n",
    "#                 # check end of entity\n",
    "#                 if open_entity:\n",
    "#                     document_questions[-1][\"input\"].append(END_ENT_TOKEN)\n",
    "#                     open_entity = False\n",
    "\n",
    "#                 \"\"\"\n",
    "#                 #DEBUG\n",
    "#                 for q in document_questions:\n",
    "#                     pp.pprint(q)\n",
    "#                     input(\"...\")\n",
    "#                 \"\"\"\n",
    "\n",
    "#                 # add sentence_questions to global_questions\n",
    "#                 global_questions.extend(document_questions)\n",
    "\n",
    "#                 # reset\n",
    "#                 left_context = []\n",
    "#                 document_questions = []\n",
    "#                 question_i = 0\n",
    "\n",
    "#             else:\n",
    "#                 split = line.split(\"\\t\")\n",
    "#                 token = split[0].strip()\n",
    "\n",
    "#                 if len(split) >= 5:\n",
    "#                     B_I = split[1]\n",
    "#                     mention = split[2]\n",
    "#                     #  YAGO2_entity = split[3]\n",
    "#                     Wikipedia_URL = split[4]\n",
    "#                     Wikipedia_ID = split[5].split('\\n')[0]\n",
    "#                     # Freee_base_id = split[6]\n",
    "\n",
    "#                     if B_I == \"I\":\n",
    "#                         pass\n",
    "#                     elif B_I == \"B\":\n",
    "\n",
    "#                         title = Wikipedia_URL.split(\"/\")[-1].replace(\"_\", \" \")\n",
    "\n",
    "#                         if Wikipedia_ID == \"000\":\n",
    "\n",
    "#                             if Wikipedia_URL in url2id_cache:\n",
    "#                                 pageid = url2id_cache[Wikipedia_URL]\n",
    "#                             else:\n",
    "\n",
    "#                                 pageid = _get_pageid_from_api(title)\n",
    "#                                 url2id_cache[Wikipedia_URL] = pageid\n",
    "#                             Wikipedia_ID = pageid\n",
    "\n",
    "#                         q = {\n",
    "#                             \"id\": \"{}:{}\".format(doc_id, question_i),\n",
    "#                             \"input\": left_context.copy() + [BEGIN_ENT_TOKEN],\n",
    "#                             \"mention\": mention,\n",
    "#                             \"Wikipedia_title\": title,\n",
    "#                             \"Wikipedia_URL\": Wikipedia_URL,\n",
    "#                             \"Wikipedia_ID\": Wikipedia_ID,\n",
    "#                             \"left_context\": left_context.copy(),\n",
    "#                             \"right_context\": [],\n",
    "#                         }\n",
    "#                         document_questions.append(q)\n",
    "#                         open_entity = True\n",
    "#                         question_i += 1\n",
    "\n",
    "#                     else:\n",
    "#                         print(\"Invalid B_I {}\", format(B_I))\n",
    "#                         sys.exit(-1)\n",
    "#                 else:\n",
    "#                     if open_entity:\n",
    "#                         document_questions[-1][\"input\"].append(END_ENT_TOKEN)\n",
    "#                         open_entity = False\n",
    "\n",
    "#                 left_context.append(token)\n",
    "#                 for q in document_questions:\n",
    "#                     q[\"input\"].append(token)\n",
    "\n",
    "#                 for q in document_questions[:-1]:\n",
    "#                     q[\"right_context\"].append(token)\n",
    "\n",
    "#                 if len(document_questions) > 0 and not open_entity:\n",
    "#                     document_questions[-1][\"right_context\"].append(token)\n",
    "\n",
    "#     # FINAL SENTENCE\n",
    "#     if open_entity:\n",
    "#         document_questions[-1][\"input\"].append(END_ENT_TOKEN)\n",
    "#         open_entity = False\n",
    "\n",
    "#     # add sentence_questions to global_questions\n",
    "#     global_questions.extend(document_questions)\n",
    "\n",
    "#     return global_questions"
   ]
  },
  {
   "cell_type": "code",
   "execution_count": 6,
   "metadata": {},
   "outputs": [],
   "source": [
    "# def convert_to_BLINK_format(questions):\n",
    "#     data = []\n",
    "#     for q in questions:\n",
    "#         datapoint = {\n",
    "#             \"context_left\": \" \".join(q[\"left_context\"]).strip(),\n",
    "#             \"mention\": q[\"mention\"],\n",
    "#             \"context_right\": \" \".join(q[\"right_context\"]).strip(),\n",
    "#             \"query_id\": q[\"id\"],\n",
    "#             \"label_id\": q[\"Wikipedia_ID\"],\n",
    "#             \"Wikipedia_ID\": q[\"Wikipedia_ID\"],\n",
    "#             \"Wikipedia_URL\": q[\"Wikipedia_URL\"],\n",
    "#             \"Wikipedia_title\": q[\"Wikipedia_title\"],\n",
    "#         }\n",
    "#         data.append(datapoint)\n",
    "#     return data"
   ]
  },
  {
   "cell_type": "code",
   "execution_count": 7,
   "metadata": {},
   "outputs": [],
   "source": [
    "# # store on file\n",
    "# def store_questions(questions, OUT_FILENAME):\n",
    "# #     if not os.path.exists(os.path.dirname(OUT_FILENAME)):\n",
    "# #         try:\n",
    "# #             os.makedirs(os.path.dirname(OUT_FILENAME))\n",
    "# #         except OSError as exc:  # Guard against race condition\n",
    "# #             if exc.errno != errno.EEXIST:\n",
    "# #                 raise\n",
    "#     with open(OUT_FILENAME, \"w+\") as fout:\n",
    "#         for q in questions:\n",
    "#             json.dump(q, fout)\n",
    "#             fout.write(\"\\n\")"
   ]
  },
  {
   "cell_type": "code",
   "execution_count": 8,
   "metadata": {},
   "outputs": [
    {
     "name": "stderr",
     "output_type": "stream",
     "text": [
      "  3%|▎         | 10191/323395 [00:00<00:03, 101852.06it/s]"
     ]
    },
    {
     "name": "stdout",
     "output_type": "stream",
     "text": [
      "AIDA-YAGO2\n"
     ]
    },
    {
     "name": "stderr",
     "output_type": "stream",
     "text": [
      "100%|██████████| 323395/323395 [00:02<00:00, 139971.91it/s]\n"
     ]
    }
   ],
   "source": [
    "# print(\"AIDA-YAGO2\")\n",
    "# in_aida_fname = 'AIDA-YAGO2-dataset.tsv'\n",
    "# aida_questions = extract_questions(in_aida_fname)"
   ]
  },
  {
   "cell_type": "code",
   "execution_count": 9,
   "metadata": {},
   "outputs": [
    {
     "name": "stdout",
     "output_type": "stream",
     "text": [
      "train: 18541\n",
      "testa: 4791\n",
      "testb: 4485\n"
     ]
    }
   ],
   "source": [
    "train = []\n",
    "testa = []\n",
    "testb = []\n",
    "for element in aida_questions:\n",
    "    if \"testa\" in element[\"id\"]:\n",
    "        testa.append(element)\n",
    "    elif \"testb\" in element[\"id\"]:\n",
    "        testb.append(element)\n",
    "    else:\n",
    "        train.append(element)\n",
    "print(\"train: {}\".format(len(train)))\n",
    "print(\"testa: {}\".format(len(testa)))\n",
    "print(\"testb: {}\".format(len(testb)))"
   ]
  },
  {
   "cell_type": "code",
   "execution_count": 10,
   "metadata": {},
   "outputs": [],
   "source": [
    "train_blink = convert_to_BLINK_format(train)\n",
    "testa_blink = convert_to_BLINK_format(testa)\n",
    "testb_blink = convert_to_BLINK_format(testb)"
   ]
  },
  {
   "cell_type": "code",
   "execution_count": 11,
   "metadata": {},
   "outputs": [],
   "source": [
    "out_train_aida_filename = \"AIDA-YAGO2_train.jsonl\"\n",
    "store_questions(train_blink, out_train_aida_filename)\n",
    "out_testa_aida_filename = \"AIDA-YAGO2_testa.jsonl\"\n",
    "store_questions(testa_blink, out_testa_aida_filename)\n",
    "out_testb_aida_filename = \"AIDA-YAGO2_testb.jsonl\"\n",
    "store_questions(testb_blink, out_testb_aida_filename)"
   ]
  },
  {
   "cell_type": "code",
   "execution_count": null,
   "metadata": {},
   "outputs": [],
   "source": []
  }
 ],
 "metadata": {
  "kernelspec": {
   "display_name": "Python 3",
   "language": "python",
   "name": "python3"
  },
  "language_info": {
   "codemirror_mode": {
    "name": "ipython",
    "version": 3
   },
   "file_extension": ".py",
   "mimetype": "text/x-python",
   "name": "python",
   "nbconvert_exporter": "python",
   "pygments_lexer": "ipython3",
   "version": "3.8.3"
  }
 },
 "nbformat": 4,
 "nbformat_minor": 2
}
