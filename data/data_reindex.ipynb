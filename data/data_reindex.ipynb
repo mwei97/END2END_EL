{
 "cells": [
  {
   "cell_type": "markdown",
   "metadata": {},
   "source": [
    "## Data Re-index\n",
    "\n",
    "Previous entity id corresponds to wikipedia page id.\n",
    "\n",
    "Convert to re-indexed indices based on 'entity.jsonl'"
   ]
  },
  {
   "cell_type": "code",
   "execution_count": 49,
   "metadata": {},
   "outputs": [],
   "source": [
    "import json\n",
    "from time import time\n",
    "import random\n",
    "from tqdm import tqdm\n",
    "import string\n",
    "import numpy as np\n",
    "import os\n",
    "import torch\n",
    "import requests"
   ]
  },
  {
   "cell_type": "code",
   "execution_count": 3,
   "metadata": {},
   "outputs": [],
   "source": [
    "all_wiki_ents = open(\"models/entity.jsonl\").readlines()"
   ]
  },
  {
   "cell_type": "code",
   "execution_count": 4,
   "metadata": {},
   "outputs": [],
   "source": [
    "all_wiki_ents = [json.loads(line) for line in all_wiki_ents]"
   ]
  },
  {
   "cell_type": "code",
   "execution_count": 5,
   "metadata": {},
   "outputs": [
    {
     "name": "stdout",
     "output_type": "stream",
     "text": [
      "5903527\n"
     ]
    },
    {
     "data": {
      "text/plain": [
       "[{'text': \" Anarchism is an anti-authoritarian political philosophy that rejects hierarchies deemed unjust and advocates their replacement with self-managed, self-governed societies based on voluntary, cooperative institutions. These institutions are often described as stateless societies, although several authors have defined them more specifically as distinct institutions based on non-hierarchical or free associations. Anarchism's central disagreement with other ideologies is that it holds the state to be undesirable, unnecessary, and harmful.  Anarchism is usually placed on the far-left of the political spectrum, and much of its economics and legal philosophy reflect anti-authoritarian interpretations of communism, collectivism, syndicalism, mutualism, or participatory economics. As anarchism does not offer a fixed body of doctrine from a single particular worldview, many anarchist types and traditions exist and varieties of anarchy diverge widely. Anarchist schools of thought can differ fundamentally, supporting anything from extreme individualism to complete collectivism. Strains of anarchism have often been divided into the categories of social and individualist anarchism, or similar dual classifications. \",\n",
       "  'idx': 'https://en.wikipedia.org/wiki?curid=12',\n",
       "  'title': 'Anarchism',\n",
       "  'entity': 'Anarchism',\n",
       "  'kb_idx': 'Q6199'},\n",
       " {'text': \" Autism is a developmental disorder characterized by difficulties with social interaction and communication, and by restricted and repetitive behavior. Parents usually notice signs during the first three years of their child's life. These signs often develop gradually, though some children with autism reach their developmental milestones at a normal pace before worsening. Autism is associated with a combination of genetic and environmental factors. Risk factors during pregnancy include certain infections, such as rubella, toxins including valproic acid, alcohol, cocaine, pesticides and air pollution, fetal growth restriction, and autoimmune diseases. Controversies surround other proposed environmental causes; for example, the vaccine hypothesis, which has been disproven. Autism affects information processing in the brain by altering connections and organization of nerve cells and their synapses. How this occurs is not well understood. In the DSM-5, autism and less severe forms of the condition, including Asperger syndrome and pervasive developmental disorder not otherwise specified (PDD-NOS), have been combined into the diagnosis of autism spectrum disorder (ASD). Early behavioral interventions or speech therapy can help children with autism gain self-care, social, and communication skills. Although there is no known cure, there have been cases of children who recovered. Not many children with autism live independently after reaching adulthood, though some are successful. An autistic culture has developed, with some individuals seeking a cure and others believing autism should be accepted as a difference and not treated as a disorder. Globally, autism is estimated to affect 24.8 million people . In the 2000s, the number of people affected was estimated at\",\n",
       "  'idx': 'https://en.wikipedia.org/wiki?curid=25',\n",
       "  'title': 'Autism',\n",
       "  'entity': 'Autism',\n",
       "  'kb_idx': 'Q38404'},\n",
       " {'text': \" Albedo () (, meaning 'whiteness') is the measure of the diffuse reflection of solar radiation out of the total solar radiation received by an astronomical body (e.g. a planet like Earth). It is dimensionless and measured on a scale from 0 (corresponding to a black body that absorbs all incident radiation) to 1 (corresponding to a body that reflects all incident radiation).  Surface albedo is defined as the ratio of radiosity to the irradiance (flux per unit area) received by a surface. The proportion reflected is not only determined by properties of the surface itself, but also by the spectral and angular distribution of solar radiation reaching the Earth's surface. These factors vary with atmospheric composition, geographic location and time (see position of the Sun). While bi-hemispherical reflectance is calculated for a single angle of incidence (i.e., for a given position of the Sun), albedo is the directional integration of reflectance over all solar angles in a given period. The temporal resolution may range from seconds (as obtained from flux measurements) to daily, monthly, or annual averages.  Unless given for a specific wavelength (spectral albedo), albedo refers to the entire spectrum of solar radiation. Due to measurement constraints, it is often given for the spectrum in which most solar energy reaches the surface (between 0.3 and 3 μm). This spectrum includes visible light (0.39–0.7 μm), which explains why surfaces with a low albedo appear dark (e.g., trees absorb most radiation), whereas surfaces with a high albedo appear bright (e.g., snow reflects most radiation).\",\n",
       "  'idx': 'https://en.wikipedia.org/wiki?curid=39',\n",
       "  'title': 'Albedo',\n",
       "  'entity': 'Albedo',\n",
       "  'kb_idx': 'Q101038'}]"
      ]
     },
     "execution_count": 5,
     "metadata": {},
     "output_type": "execute_result"
    }
   ],
   "source": [
    "print(len(all_wiki_ents))\n",
    "all_wiki_ents[:3]"
   ]
  },
  {
   "cell_type": "code",
   "execution_count": 6,
   "metadata": {},
   "outputs": [],
   "source": [
    "title2id = {line['title']: i for i, line in enumerate(all_wiki_ents)}"
   ]
  },
  {
   "cell_type": "code",
   "execution_count": 7,
   "metadata": {},
   "outputs": [],
   "source": [
    "page2id = {line['idx'].split('=')[-1]: i for i, line in enumerate(all_wiki_ents)}"
   ]
  },
  {
   "cell_type": "code",
   "execution_count": 11,
   "metadata": {},
   "outputs": [
    {
     "data": {
      "text/plain": [
       "True"
      ]
     },
     "execution_count": 11,
     "metadata": {},
     "output_type": "execute_result"
    }
   ],
   "source": [
    "# test\n",
    "# https://en.wikipedia.org/wiki?curid=993546 -> Japan national football team\n",
    "all_wiki_ents[page2id['993546']]['title'] == \"Japan national football team\""
   ]
  },
  {
   "cell_type": "markdown",
   "metadata": {},
   "source": [
    "### Re-index function"
   ]
  },
  {
   "cell_type": "code",
   "execution_count": 50,
   "metadata": {},
   "outputs": [],
   "source": [
    "url = \"https://en.wikipedia.org/w/api.php?action=query&pageids=5405&format=json\"\n",
    "r = requests.get(url)"
   ]
  },
  {
   "cell_type": "code",
   "execution_count": 51,
   "metadata": {},
   "outputs": [],
   "source": [
    "json_data = r.json()"
   ]
  },
  {
   "cell_type": "code",
   "execution_count": 58,
   "metadata": {},
   "outputs": [
    {
     "data": {
      "text/plain": [
       "{'5405': {'pageid': 5405, 'ns': 0, 'title': 'China'}}"
      ]
     },
     "execution_count": 58,
     "metadata": {},
     "output_type": "execute_result"
    }
   ],
   "source": [
    "json_data['query']['pages']"
   ]
  },
  {
   "cell_type": "code",
   "execution_count": 55,
   "metadata": {},
   "outputs": [],
   "source": [
    "def _get_title_from_api(pageid, client=None):\n",
    "    url = f\"https://en.wikipedia.org/w/api.php?action=query&pageids={pageid}&format=json\"\n",
    "\n",
    "    try:\n",
    "        # Package the request, send the request and catch the response: r\n",
    "        r = requests.get(url)\n",
    "\n",
    "        # Decode the JSON data into a dictionary: json_data\n",
    "        json_data = r.json()\n",
    "\n",
    "        if len(json_data[\"query\"][\"pages\"]) > 1:\n",
    "            print(\"WARNING: more than one result returned from wikipedia api\")\n",
    "\n",
    "        for _, v in json_data[\"query\"][\"pages\"].items():\n",
    "            title = v[\"title\"]\n",
    "    except:\n",
    "        pass\n",
    "    return title"
   ]
  },
  {
   "cell_type": "code",
   "execution_count": 84,
   "metadata": {},
   "outputs": [],
   "source": [
    "def reindex(fpath, split):\n",
    "    fname = fpath+split\n",
    "    examples = []\n",
    "    filelines = open(fname).readlines()\n",
    "    for line in filelines:\n",
    "        json_line = json.loads(line)\n",
    "        examples.append(json_line)\n",
    "    \n",
    "    for e, example in tqdm(enumerate(examples)):\n",
    "        old_label_id = example['label_id']\n",
    "        entity = example['entity']\n",
    "        \n",
    "        new_label_id = []\n",
    "        for i, old_id in enumerate(old_label_id):\n",
    "            new_id = page2id[str(old_id)]\n",
    "            new_label_id.append(new_id)\n",
    "            try:\n",
    "                assert all_wiki_ents[new_id]['title'] == entity[i]\n",
    "            except:\n",
    "                # try compare with wiki url result\n",
    "                old_id = int(old_id)\n",
    "                title = id2title.get(old_id)\n",
    "                if title is None:\n",
    "                    title = _get_title_from_api(old_id)\n",
    "                    id2title[old_id] = title\n",
    "                try:\n",
    "                    assert all_wiki_ents[new_id]['title'] == title or entity[i] == title \n",
    "                except:\n",
    "                    print(e, ' ', example['id'], ' ', old_id, ' ', new_id, ' ', entity[i], ' ', all_wiki_ents[new_id]['title'])\n",
    "#                 else:\n",
    "#                     print(e, ' ', example['id'], ' ', old_id, ' ', new_id, ' ', entity[i], ' ', all_wiki_ents[new_id]['title'])\n",
    "                entity[i] = all_wiki_ents[new_id]['title']\n",
    "        example['label_id'] = new_label_id\n",
    "        example['entity'] = entity\n",
    "    return examples"
   ]
  },
  {
   "cell_type": "code",
   "execution_count": 61,
   "metadata": {},
   "outputs": [],
   "source": [
    "#id2title = {}"
   ]
  },
  {
   "cell_type": "code",
   "execution_count": 85,
   "metadata": {},
   "outputs": [
    {
     "name": "stderr",
     "output_type": "stream",
     "text": [
      "\n",
      "\n",
      "0it [00:00, ?it/s]\u001b[A\u001b[A\n",
      "\n",
      "946it [00:00, 16240.36it/s]\u001b[A\u001b[A\n",
      "\n",
      "  0%|          | 0/946 [00:00<?, ?it/s]\u001b[A\u001b[A\n",
      "\n",
      "100%|██████████| 946/946 [00:00<00:00, 11948.50it/s]\u001b[A\u001b[A\n",
      "\n",
      "0it [00:00, ?it/s]\u001b[A\u001b[A\n",
      "\n",
      "216it [00:00, 19055.80it/s]\u001b[A\u001b[A\n",
      "\n",
      "  0%|          | 0/216 [00:00<?, ?it/s]\u001b[A\u001b[A\n",
      "\n"
     ]
    },
    {
     "name": "stdout",
     "output_type": "stream",
     "text": [
      "128   129 Viacom   24580262   2891949   Viacom (1971–2005)   Viacom (original)\n",
      "235   236 Promodes   2688005   664924   Les Échos (France)   Les Échos (newspaper)\n",
      "247   248 RUGBY   1196374   372695   Halifax RLFC   Halifax R.L.F.C.\n",
      "259   260 SOCCER   10410246   1546285   OKS 1945 Olsztyn   Stomil Olsztyn (football)\n",
      "266   267 SOCCER   1537131   443668   V.C. Eendracht Aalst 2002   SC Eendracht Aalst\n",
      "322   323 RUGBY   1196374   372695   Halifax RLFC   Halifax R.L.F.C.\n",
      "322   323 RUGBY   1196374   372695   Halifax RLFC   Halifax R.L.F.C.\n",
      "341   342 SOCCER   10410246   1546285   OKS 1945 Olsztyn   Stomil Olsztyn (football)\n",
      "341   342 SOCCER   10410246   1546285   OKS 1945 Olsztyn   Stomil Olsztyn (football)\n",
      "365   366 SOCCER   1537131   443668   V.C. Eendracht Aalst 2002   SC Eendracht Aalst\n",
      "365   366 SOCCER   1537131   443668   V.C. Eendracht Aalst 2002   SC Eendracht Aalst\n",
      "414   415 RUGBY   1196374   372695   Halifax RLFC   Halifax R.L.F.C.\n",
      "473   474 Senate   403248   171440   Sultan, Crown Prince of Saudi Arabia   Sultan bin Abdulaziz Al Saud\n",
      "545   546 CYCLING   2354465   604821   Rabobank (cycling team)   Team Jumbo–Visma\n",
      "639   640 CYCLING   2354465   604821   Rabobank (cycling team)   Team Jumbo–Visma\n",
      "640   641 CYCLING   2354465   604821   Rabobank (cycling team)   Team Jumbo–Visma\n",
      "654   655 CRICKET   3182138   746081   Dave Richardson   Dave Richardson (cricketer)\n",
      "726   727 Barrier   1873300   512081   Vale (mining company)   Vale (company)\n",
      "726   727 Barrier   1873300   512081   Vale (mining company)   Vale (company)\n",
      "726   727 Barrier   1873300   512081   Vale (mining company)   Vale (company)\n",
      "726   727 Barrier   1873300   512081   Vale (mining company)   Vale (company)\n",
      "790   791 PRESS   2286075   591510   Legal Department   Legal Department, Hong Kong\n",
      "801   802 CYCLING   2354465   604821   Rabobank (cycling team)   Team Jumbo–Visma\n",
      "801   802 CYCLING   2354465   604821   Rabobank (cycling team)   Team Jumbo–Visma\n",
      "801   802 CYCLING   2354465   604821   Rabobank (cycling team)   Team Jumbo–Visma\n",
      "801   802 CYCLING   2354465   604821   Rabobank (cycling team)   Team Jumbo–Visma\n",
      "806   807 LOMBARDI   2354465   604821   Rabobank (cycling team)   Team Jumbo–Visma\n",
      "875   876 PRESS   4665846   956613   Muslim Commercial Bank   MCB Bank Limited\n",
      "108   1055testa CYCLING   2354465   604821   Rabobank (cycling team)   Team Jumbo–Visma\n",
      "108   1055testa CYCLING   2354465   604821   Rabobank (cycling team)   Team Jumbo–Visma\n",
      "108   1055testa CYCLING   2354465   604821   Rabobank (cycling team)   Team Jumbo–Visma\n",
      "108   1055testa CYCLING   2354465   604821   Rabobank (cycling team)   Team Jumbo–Visma\n"
     ]
    },
    {
     "name": "stderr",
     "output_type": "stream",
     "text": [
      "100%|██████████| 216/216 [00:00<00:00, 10868.29it/s]\u001b[A\u001b[A\n",
      "\n",
      "0it [00:00, ?it/s]\u001b[A\u001b[A\n",
      "\n",
      "231it [00:00, 7688.64it/s]\u001b[A\u001b[A\n",
      "\n",
      "  0%|          | 0/231 [00:00<?, ?it/s]\u001b[A\u001b[A\n",
      "\n",
      "100%|██████████| 231/231 [00:00<00:00, 12061.15it/s]\u001b[A\u001b[A"
     ]
    },
    {
     "name": "stdout",
     "output_type": "stream",
     "text": [
      "10   1173testb RUGBY   5746768   1087118   Dan Crowley   Dan Crowley (rugby player)\n",
      "12   1175testb SOCCER   2384790   610490   AFC Progresul Bucureşti   AS Progresul București\n",
      "12   1175testb SOCCER   2384790   610490   AFC Progresul Bucureşti   AS Progresul București\n",
      "39   1202testb SOCCER   616593   235776   Luis Enrique Martínez García   Luis Enrique (footballer)\n",
      "75   1238testb Wall   1100754   349968   Newmont Mining Corporation   Newmont Goldcorp\n",
      "75   1238testb Wall   1100754   349968   Newmont Mining Corporation   Newmont Goldcorp\n",
      "75   1238testb Wall   1100754   349968   Newmont Mining Corporation   Newmont Goldcorp\n",
      "75   1238testb Wall   1100754   349968   Newmont Mining Corporation   Newmont Goldcorp\n",
      "75   1238testb Wall   1100754   349968   Newmont Mining Corporation   Newmont Goldcorp\n",
      "75   1238testb Wall   1100754   349968   Newmont Mining Corporation   Newmont Goldcorp\n",
      "75   1238testb Wall   1100754   349968   Newmont Mining Corporation   Newmont Goldcorp\n",
      "75   1238testb Wall   1100754   349968   Newmont Mining Corporation   Newmont Goldcorp\n",
      "75   1238testb Wall   1100754   349968   Newmont Mining Corporation   Newmont Goldcorp\n",
      "75   1238testb Wall   1100754   349968   Newmont Mining Corporation   Newmont Goldcorp\n",
      "75   1238testb Wall   1100754   349968   Newmont Mining Corporation   Newmont Goldcorp\n",
      "75   1238testb Wall   1100754   349968   Newmont Mining Corporation   Newmont Goldcorp\n",
      "75   1238testb Wall   1100754   349968   Newmont Mining Corporation   Newmont Goldcorp\n",
      "75   1238testb Wall   1100754   349968   Newmont Mining Corporation   Newmont Goldcorp\n"
     ]
    },
    {
     "name": "stderr",
     "output_type": "stream",
     "text": [
      "\n",
      "\n",
      "0it [00:00, ?it/s]\u001b[A\u001b[A\n",
      "\n",
      "946it [00:00, 15323.46it/s]\u001b[A\u001b[A\n",
      "\n",
      "  0%|          | 0/946 [00:00<?, ?it/s]\u001b[A\u001b[A\n",
      "\n",
      " 67%|██████▋   | 638/946 [00:00<00:00, 6360.96it/s]\u001b[A\u001b[A"
     ]
    },
    {
     "name": "stdout",
     "output_type": "stream",
     "text": [
      "43   44 SOCCER   828168   283259   FK Sloga Jugomagnat   FK Shkupi\n",
      "128   129 Viacom   24580262   2891949   Viacom (1971–2005)   Viacom (original)\n",
      "235   236 Promodes   2688005   664924   Les Échos (France)   Les Échos (newspaper)\n",
      "247   248 RUGBY   1196374   372695   Halifax RLFC   Halifax R.L.F.C.\n",
      "259   260 SOCCER   10410246   1546285   OKS 1945 Olsztyn   Stomil Olsztyn (football)\n",
      "266   267 SOCCER   1537131   443668   V.C. Eendracht Aalst 2002   SC Eendracht Aalst\n",
      "322   323 RUGBY   1196374   372695   Halifax RLFC   Halifax R.L.F.C.\n",
      "322   323 RUGBY   1196374   372695   Halifax RLFC   Halifax R.L.F.C.\n",
      "341   342 SOCCER   10410246   1546285   OKS 1945 Olsztyn   Stomil Olsztyn (football)\n",
      "341   342 SOCCER   10410246   1546285   OKS 1945 Olsztyn   Stomil Olsztyn (football)\n",
      "365   366 SOCCER   1537131   443668   V.C. Eendracht Aalst 2002   SC Eendracht Aalst\n",
      "365   366 SOCCER   1537131   443668   V.C. Eendracht Aalst 2002   SC Eendracht Aalst\n",
      "414   415 RUGBY   1196374   372695   Halifax RLFC   Halifax R.L.F.C.\n",
      "419   420 SOCCER   7011579   1237051   FC Torpedo Zaporizhya   FC Torpedo Zaporizhia\n",
      "473   474 Senate   403248   171440   Sultan, Crown Prince of Saudi Arabia   Sultan bin Abdulaziz Al Saud\n",
      "545   546 CYCLING   2354465   604821   Rabobank (cycling team)   Team Jumbo–Visma\n",
      "639   640 CYCLING   2354465   604821   Rabobank (cycling team)   Team Jumbo–Visma\n",
      "640   641 CYCLING   2354465   604821   Rabobank (cycling team)   Team Jumbo–Visma\n",
      "654   655 CRICKET   3182138   746081   Dave Richardson   Dave Richardson (cricketer)\n",
      "726   727 Barrier   1873300   512081   Vale (mining company)   Vale (company)\n",
      "726   727 Barrier   1873300   512081   Vale (mining company)   Vale (company)\n",
      "726   727 Barrier   1873300   512081   Vale (mining company)   Vale (company)\n",
      "726   727 Barrier   1873300   512081   Vale (mining company)   Vale (company)\n",
      "790   791 PRESS   2286075   591510   Legal Department   Legal Department, Hong Kong\n",
      "801   802 CYCLING   2354465   604821   Rabobank (cycling team)   Team Jumbo–Visma\n",
      "801   802 CYCLING   2354465   604821   Rabobank (cycling team)   Team Jumbo–Visma\n",
      "801   802 CYCLING   2354465   604821   Rabobank (cycling team)   Team Jumbo–Visma\n",
      "801   802 CYCLING   2354465   604821   Rabobank (cycling team)   Team Jumbo–Visma\n",
      "806   807 LOMBARDI   2354465   604821   Rabobank (cycling team)   Team Jumbo–Visma\n",
      "875   876 PRESS   4665846   956613   Muslim Commercial Bank   MCB Bank Limited\n"
     ]
    },
    {
     "name": "stderr",
     "output_type": "stream",
     "text": [
      "\n",
      "\n",
      "100%|██████████| 946/946 [00:00<00:00, 6644.34it/s]\u001b[A\u001b[A\n",
      "\n",
      "0it [00:00, ?it/s]\u001b[A\u001b[A\n",
      "\n",
      "216it [00:00, 18440.25it/s]\u001b[A\u001b[A\n",
      "\n",
      "  0%|          | 0/216 [00:00<?, ?it/s]\u001b[A\u001b[A\n",
      "\n",
      "100%|██████████| 216/216 [00:00<00:00, 6026.74it/s]\u001b[A\u001b[A\n",
      "\n",
      "0it [00:00, ?it/s]\u001b[A\u001b[A\n",
      "\n",
      "231it [00:00, 7139.06it/s]\u001b[A\u001b[A\n",
      "\n",
      "  0%|          | 0/231 [00:00<?, ?it/s]\u001b[A\u001b[A\n",
      "\n",
      "100%|██████████| 231/231 [00:00<00:00, 7282.65it/s]\u001b[A\u001b[A"
     ]
    },
    {
     "name": "stdout",
     "output_type": "stream",
     "text": [
      "108   1055testa CYCLING   2354465   604821   Rabobank (cycling team)   Team Jumbo–Visma\n",
      "108   1055testa CYCLING   2354465   604821   Rabobank (cycling team)   Team Jumbo–Visma\n",
      "108   1055testa CYCLING   2354465   604821   Rabobank (cycling team)   Team Jumbo–Visma\n",
      "108   1055testa CYCLING   2354465   604821   Rabobank (cycling team)   Team Jumbo–Visma\n",
      "10   1173testb RUGBY   5746768   1087118   Dan Crowley   Dan Crowley (rugby player)\n",
      "12   1175testb SOCCER   2384790   610490   AFC Progresul Bucureşti   AS Progresul București\n",
      "12   1175testb SOCCER   2384790   610490   AFC Progresul Bucureşti   AS Progresul București\n",
      "22   1185testb SOCCER   26530226   3064628   Arab Contractors (company)   El-Mokawloon El-Arab\n",
      "39   1202testb SOCCER   616593   235776   Luis Enrique Martínez García   Luis Enrique (footballer)\n",
      "75   1238testb Wall   1100754   349968   Newmont Mining Corporation   Newmont Goldcorp\n",
      "75   1238testb Wall   1100754   349968   Newmont Mining Corporation   Newmont Goldcorp\n",
      "75   1238testb Wall   1100754   349968   Newmont Mining Corporation   Newmont Goldcorp\n",
      "75   1238testb Wall   1100754   349968   Newmont Mining Corporation   Newmont Goldcorp\n",
      "75   1238testb Wall   1100754   349968   Newmont Mining Corporation   Newmont Goldcorp\n",
      "75   1238testb Wall   1100754   349968   Newmont Mining Corporation   Newmont Goldcorp\n",
      "75   1238testb Wall   1100754   349968   Newmont Mining Corporation   Newmont Goldcorp\n",
      "75   1238testb Wall   1100754   349968   Newmont Mining Corporation   Newmont Goldcorp\n",
      "75   1238testb Wall   1100754   349968   Newmont Mining Corporation   Newmont Goldcorp\n",
      "75   1238testb Wall   1100754   349968   Newmont Mining Corporation   Newmont Goldcorp\n",
      "75   1238testb Wall   1100754   349968   Newmont Mining Corporation   Newmont Goldcorp\n",
      "75   1238testb Wall   1100754   349968   Newmont Mining Corporation   Newmont Goldcorp\n",
      "75   1238testb Wall   1100754   349968   Newmont Mining Corporation   Newmont Goldcorp\n",
      "75   1238testb Wall   1100754   349968   Newmont Mining Corporation   Newmont Goldcorp\n"
     ]
    }
   ],
   "source": [
    "ds = ['en_desc', 'wiki_content']\n",
    "splits = ['train.jsonl', 'dev.jsonl', 'test.jsonl']\n",
    "\n",
    "for d in ds:\n",
    "    inpath = f'AIDA-YAGO2-{d}-ELQ/tokenized/'\n",
    "    outpath = f'AIDA-YAGO2-{d}-NEW/tokenized/'\n",
    "    for split in splits:\n",
    "        examples = reindex(inpath, split)\n",
    "        with open(outpath+split, 'w') as wf:\n",
    "            for example in tqdm(examples):\n",
    "                b = wf.write(json.dumps(example) + \"\\n\")"
   ]
  },
  {
   "cell_type": "code",
   "execution_count": 83,
   "metadata": {},
   "outputs": [],
   "source": [
    "with open('models/id2title.json', 'w') as f:\n",
    "    json.dump(id2title, f)"
   ]
  },
  {
   "cell_type": "code",
   "execution_count": null,
   "metadata": {},
   "outputs": [],
   "source": []
  }
 ],
 "metadata": {
  "kernelspec": {
   "display_name": "Python 3",
   "language": "python",
   "name": "python3"
  },
  "language_info": {
   "codemirror_mode": {
    "name": "ipython",
    "version": 3
   },
   "file_extension": ".py",
   "mimetype": "text/x-python",
   "name": "python",
   "nbconvert_exporter": "python",
   "pygments_lexer": "ipython3",
   "version": "3.7.10"
  }
 },
 "nbformat": 4,
 "nbformat_minor": 4
}
